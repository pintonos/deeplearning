{
 "cells": [
  {
   "cell_type": "markdown",
   "metadata": {},
   "source": [
    "Copyright (c) 2020, NVIDIA CORPORATION.\n",
    "Licensed under the Apache License, Version 2.0 (the \"License\");\n",
    "you may not use this file except in compliance with the License.\n",
    "You may obtain a copy of the License at\n",
    "    http://www.apache.org/licenses/LICENSE-2.0\n",
    "Unless required by applicable law or agreed to in writing, software\n",
    "distributed under the License is distributed on an \"AS IS\" BASIS,\n",
    "WITHOUT WARRANTIES OR CONDITIONS OF ANY KIND, either express or implied.\n",
    "See the License for the specific language governing permissions and\n",
    "limitations under the License."
   ]
  },
  {
   "cell_type": "code",
   "execution_count": 1,
   "metadata": {},
   "outputs": [],
   "source": [
    "import os, time"
   ]
  },
  {
   "cell_type": "code",
   "execution_count": 2,
   "metadata": {},
   "outputs": [],
   "source": [
    "import pandas as pd, numpy as np, gc\n",
    "from datetime import datetime\n",
    "import joblib\n",
    "\n",
    "import matplotlib.pyplot as plt\n",
    "pd.set_option('display.max_columns', 500)\n",
    "pd.set_option('display.max_rows', 500)"
   ]
  },
  {
   "cell_type": "code",
   "execution_count": 3,
   "metadata": {},
   "outputs": [],
   "source": [
    "def save_memory( df ):\n",
    "    features = df.columns\n",
    "    for i in range( df.shape[1] ):\n",
    "        if df.dtypes[i] == 'uint8':\n",
    "            df[features[i]] = df[features[i]].astype( np.int8 )\n",
    "            gc.collect()\n",
    "        elif df.dtypes[i] == 'bool':\n",
    "            df[features[i]] = df[features[i]].astype( np.int8 )\n",
    "            gc.collect()\n",
    "        elif df.dtypes[i] == 'uint32':\n",
    "            df[features[i]] = df[features[i]].astype( np.int32 )\n",
    "            gc.collect()\n",
    "        elif df.dtypes[i] == 'int64':\n",
    "            df[features[i]] = df[features[i]].astype( np.int32 )\n",
    "            gc.collect()\n",
    "        elif df.dtypes[i] == 'float64':\n",
    "            df[features[i]] = df[features[i]].astype( np.float32 )\n",
    "            gc.collect()\n",
    "    "
   ]
  },
  {
   "cell_type": "markdown",
   "metadata": {},
   "source": [
    "# Load Train"
   ]
  },
  {
   "cell_type": "code",
   "execution_count": 4,
   "metadata": {},
   "outputs": [
    {
     "output_type": "stream",
     "name": "stdout",
     "text": [
      "CPU times: user 53.8 s, sys: 5min 40s, total: 6min 33s\nWall time: 1min 20s\n"
     ]
    },
    {
     "output_type": "execute_result",
     "data": {
      "text/plain": [
       "((106254462, 28), (9760684, 28), (9765321, 28))"
      ]
     },
     "metadata": {},
     "execution_count": 4
    }
   ],
   "source": [
    "%%time\n",
    "train = pd.read_parquet( 'train.parquet' )\n",
    "test0 = pd.read_parquet( 'valid.parquet' )\n",
    "test1 = pd.read_parquet( 'test.parquet' )\n",
    "gc.collect()\n",
    "\n",
    "train['tr'] = 0\n",
    "test0['tr'] = 1\n",
    "test1['tr'] = 2\n",
    "\n",
    "train.shape, test0.shape, test1.shape"
   ]
  },
  {
   "cell_type": "code",
   "execution_count": 5,
   "metadata": {},
   "outputs": [
    {
     "output_type": "execute_result",
     "data": {
      "text/plain": [
       "(125780467, 28)"
      ]
     },
     "metadata": {},
     "execution_count": 5
    }
   ],
   "source": [
    "train = pd.concat( (train,test0,test1), sort=False )\n",
    "gc.collect()\n",
    "del test0, test1\n",
    "gc.collect()\n",
    "train.shape"
   ]
  },
  {
   "cell_type": "code",
   "execution_count": 6,
   "metadata": {},
   "outputs": [
    {
     "output_type": "stream",
     "name": "stdout",
     "text": [
      "CPU times: user 23.5 s, sys: 24.8 s, total: 48.3 s\nWall time: 48.2 s\n"
     ]
    },
    {
     "output_type": "execute_result",
     "data": {
      "text/plain": [
       "0"
      ]
     },
     "metadata": {},
     "execution_count": 6
    }
   ],
   "source": [
    "%%time\n",
    "train = train.sort_values('id').reset_index(drop=True) \n",
    "gc.collect()"
   ]
  },
  {
   "cell_type": "code",
   "execution_count": 7,
   "metadata": {},
   "outputs": [
    {
     "output_type": "execute_result",
     "data": {
      "text/plain": [
       "0"
      ]
     },
     "metadata": {},
     "execution_count": 7
    }
   ],
   "source": [
    "train.loc[ train.reply>0, 'reply' ] = 1\n",
    "train.loc[ train.retweet>0, 'retweet' ] = 1\n",
    "train.loc[ train.retweet_comment>0, 'retweet_comment' ] = 1\n",
    "train.loc[ train.like>0, 'like' ] = 1\n",
    "gc.collect()"
   ]
  },
  {
   "cell_type": "code",
   "execution_count": 8,
   "metadata": {},
   "outputs": [
    {
     "output_type": "execute_result",
     "data": {
      "text/plain": [
       "   hashtags  tweet_id  media  links  domains  tweet_type  language  \\\n",
       "0         1         0      5      0        0           2        11   \n",
       "1         0         1      0      0        0           0        59   \n",
       "2         0         2      0      0        0           2        38   \n",
       "3         0         3      0      0        0           2        11   \n",
       "4         0         4      0      0        0           1        54   \n",
       "5         0         5      7      0        0           2        59   \n",
       "6         3         6      0      0        0           1        54   \n",
       "7         0         7      0      0        0           2        54   \n",
       "8         5         8      9      0        0           2        59   \n",
       "9         0         9      0      0        0           2        47   \n",
       "\n",
       "    timestamp  a_user_id  a_follower_count  a_following_count  a_is_verified  \\\n",
       "0  1581472519          0             11005              10795          False   \n",
       "1  1581124265          1               425                260          False   \n",
       "2  1581166895          2            298336                  8          False   \n",
       "3  1581375781          3              1115               1210          False   \n",
       "4  1580996019          4             63473               5424          False   \n",
       "5  1581004518          5             29358              18528          False   \n",
       "6  1581209689          6               562                568          False   \n",
       "7  1581511341          7            529009                221           True   \n",
       "8  1581193484          8             26730               1840          False   \n",
       "9  1581433245          9              2664                303          False   \n",
       "\n",
       "   a_account_creation  b_user_id  b_follower_count  b_following_count  \\\n",
       "0          1437797708   12074272                 4                  6   \n",
       "1          1496802112    2019671               225                185   \n",
       "2          1327933644   12074273                 4                 72   \n",
       "3          1266471640     485172               780                440   \n",
       "4          1340804123   12074274               180                 32   \n",
       "5          1539180042    1257240               929                928   \n",
       "6          1497201827    1257240               929                928   \n",
       "7          1311451697   10926470               139                952   \n",
       "8          1237321687   12074275               286                522   \n",
       "9          1452867918   10674902                48                140   \n",
       "\n",
       "   b_is_verified  b_account_creation  b_follows_a  reply  retweet  \\\n",
       "0          False          1568940527         True      0        0   \n",
       "1          False          1541013180         True      0        0   \n",
       "2          False          1573996260        False      0        0   \n",
       "3          False          1432084055         True      0        0   \n",
       "4          False          1490688761        False      0        0   \n",
       "5          False          1577292324         True      1        0   \n",
       "6          False          1577292324         True      0        0   \n",
       "7          False          1335110299        False      0        0   \n",
       "8          False          1439811227        False      0        0   \n",
       "9          False          1568691506        False      0        0   \n",
       "\n",
       "   retweet_comment  like  id  tr  len_hashtags  len_domains  len_links  \n",
       "0                0     0   0   0             2            0          0  \n",
       "1                0     1   1   0             0            0          0  \n",
       "2                0     1   2   0             0            0          0  \n",
       "3                0     1   3   0             0            0          0  \n",
       "4                0     0   4   0             0            0          0  \n",
       "5                0     0   5   0             0            0          0  \n",
       "6                0     1   6   0             2            0          0  \n",
       "7                0     1   7   0             0            0          0  \n",
       "8                0     0   8   0             1            0          0  \n",
       "9                0     0   9   0             0            0          0  "
      ],
      "text/html": "<div>\n<style scoped>\n    .dataframe tbody tr th:only-of-type {\n        vertical-align: middle;\n    }\n\n    .dataframe tbody tr th {\n        vertical-align: top;\n    }\n\n    .dataframe thead th {\n        text-align: right;\n    }\n</style>\n<table border=\"1\" class=\"dataframe\">\n  <thead>\n    <tr style=\"text-align: right;\">\n      <th></th>\n      <th>hashtags</th>\n      <th>tweet_id</th>\n      <th>media</th>\n      <th>links</th>\n      <th>domains</th>\n      <th>tweet_type</th>\n      <th>language</th>\n      <th>timestamp</th>\n      <th>a_user_id</th>\n      <th>a_follower_count</th>\n      <th>a_following_count</th>\n      <th>a_is_verified</th>\n      <th>a_account_creation</th>\n      <th>b_user_id</th>\n      <th>b_follower_count</th>\n      <th>b_following_count</th>\n      <th>b_is_verified</th>\n      <th>b_account_creation</th>\n      <th>b_follows_a</th>\n      <th>reply</th>\n      <th>retweet</th>\n      <th>retweet_comment</th>\n      <th>like</th>\n      <th>id</th>\n      <th>tr</th>\n      <th>len_hashtags</th>\n      <th>len_domains</th>\n      <th>len_links</th>\n    </tr>\n  </thead>\n  <tbody>\n    <tr>\n      <th>0</th>\n      <td>1</td>\n      <td>0</td>\n      <td>5</td>\n      <td>0</td>\n      <td>0</td>\n      <td>2</td>\n      <td>11</td>\n      <td>1581472519</td>\n      <td>0</td>\n      <td>11005</td>\n      <td>10795</td>\n      <td>False</td>\n      <td>1437797708</td>\n      <td>12074272</td>\n      <td>4</td>\n      <td>6</td>\n      <td>False</td>\n      <td>1568940527</td>\n      <td>True</td>\n      <td>0</td>\n      <td>0</td>\n      <td>0</td>\n      <td>0</td>\n      <td>0</td>\n      <td>0</td>\n      <td>2</td>\n      <td>0</td>\n      <td>0</td>\n    </tr>\n    <tr>\n      <th>1</th>\n      <td>0</td>\n      <td>1</td>\n      <td>0</td>\n      <td>0</td>\n      <td>0</td>\n      <td>0</td>\n      <td>59</td>\n      <td>1581124265</td>\n      <td>1</td>\n      <td>425</td>\n      <td>260</td>\n      <td>False</td>\n      <td>1496802112</td>\n      <td>2019671</td>\n      <td>225</td>\n      <td>185</td>\n      <td>False</td>\n      <td>1541013180</td>\n      <td>True</td>\n      <td>0</td>\n      <td>0</td>\n      <td>0</td>\n      <td>1</td>\n      <td>1</td>\n      <td>0</td>\n      <td>0</td>\n      <td>0</td>\n      <td>0</td>\n    </tr>\n    <tr>\n      <th>2</th>\n      <td>0</td>\n      <td>2</td>\n      <td>0</td>\n      <td>0</td>\n      <td>0</td>\n      <td>2</td>\n      <td>38</td>\n      <td>1581166895</td>\n      <td>2</td>\n      <td>298336</td>\n      <td>8</td>\n      <td>False</td>\n      <td>1327933644</td>\n      <td>12074273</td>\n      <td>4</td>\n      <td>72</td>\n      <td>False</td>\n      <td>1573996260</td>\n      <td>False</td>\n      <td>0</td>\n      <td>0</td>\n      <td>0</td>\n      <td>1</td>\n      <td>2</td>\n      <td>0</td>\n      <td>0</td>\n      <td>0</td>\n      <td>0</td>\n    </tr>\n    <tr>\n      <th>3</th>\n      <td>0</td>\n      <td>3</td>\n      <td>0</td>\n      <td>0</td>\n      <td>0</td>\n      <td>2</td>\n      <td>11</td>\n      <td>1581375781</td>\n      <td>3</td>\n      <td>1115</td>\n      <td>1210</td>\n      <td>False</td>\n      <td>1266471640</td>\n      <td>485172</td>\n      <td>780</td>\n      <td>440</td>\n      <td>False</td>\n      <td>1432084055</td>\n      <td>True</td>\n      <td>0</td>\n      <td>0</td>\n      <td>0</td>\n      <td>1</td>\n      <td>3</td>\n      <td>0</td>\n      <td>0</td>\n      <td>0</td>\n      <td>0</td>\n    </tr>\n    <tr>\n      <th>4</th>\n      <td>0</td>\n      <td>4</td>\n      <td>0</td>\n      <td>0</td>\n      <td>0</td>\n      <td>1</td>\n      <td>54</td>\n      <td>1580996019</td>\n      <td>4</td>\n      <td>63473</td>\n      <td>5424</td>\n      <td>False</td>\n      <td>1340804123</td>\n      <td>12074274</td>\n      <td>180</td>\n      <td>32</td>\n      <td>False</td>\n      <td>1490688761</td>\n      <td>False</td>\n      <td>0</td>\n      <td>0</td>\n      <td>0</td>\n      <td>0</td>\n      <td>4</td>\n      <td>0</td>\n      <td>0</td>\n      <td>0</td>\n      <td>0</td>\n    </tr>\n    <tr>\n      <th>5</th>\n      <td>0</td>\n      <td>5</td>\n      <td>7</td>\n      <td>0</td>\n      <td>0</td>\n      <td>2</td>\n      <td>59</td>\n      <td>1581004518</td>\n      <td>5</td>\n      <td>29358</td>\n      <td>18528</td>\n      <td>False</td>\n      <td>1539180042</td>\n      <td>1257240</td>\n      <td>929</td>\n      <td>928</td>\n      <td>False</td>\n      <td>1577292324</td>\n      <td>True</td>\n      <td>1</td>\n      <td>0</td>\n      <td>0</td>\n      <td>0</td>\n      <td>5</td>\n      <td>0</td>\n      <td>0</td>\n      <td>0</td>\n      <td>0</td>\n    </tr>\n    <tr>\n      <th>6</th>\n      <td>3</td>\n      <td>6</td>\n      <td>0</td>\n      <td>0</td>\n      <td>0</td>\n      <td>1</td>\n      <td>54</td>\n      <td>1581209689</td>\n      <td>6</td>\n      <td>562</td>\n      <td>568</td>\n      <td>False</td>\n      <td>1497201827</td>\n      <td>1257240</td>\n      <td>929</td>\n      <td>928</td>\n      <td>False</td>\n      <td>1577292324</td>\n      <td>True</td>\n      <td>0</td>\n      <td>0</td>\n      <td>0</td>\n      <td>1</td>\n      <td>6</td>\n      <td>0</td>\n      <td>2</td>\n      <td>0</td>\n      <td>0</td>\n    </tr>\n    <tr>\n      <th>7</th>\n      <td>0</td>\n      <td>7</td>\n      <td>0</td>\n      <td>0</td>\n      <td>0</td>\n      <td>2</td>\n      <td>54</td>\n      <td>1581511341</td>\n      <td>7</td>\n      <td>529009</td>\n      <td>221</td>\n      <td>True</td>\n      <td>1311451697</td>\n      <td>10926470</td>\n      <td>139</td>\n      <td>952</td>\n      <td>False</td>\n      <td>1335110299</td>\n      <td>False</td>\n      <td>0</td>\n      <td>0</td>\n      <td>0</td>\n      <td>1</td>\n      <td>7</td>\n      <td>0</td>\n      <td>0</td>\n      <td>0</td>\n      <td>0</td>\n    </tr>\n    <tr>\n      <th>8</th>\n      <td>5</td>\n      <td>8</td>\n      <td>9</td>\n      <td>0</td>\n      <td>0</td>\n      <td>2</td>\n      <td>59</td>\n      <td>1581193484</td>\n      <td>8</td>\n      <td>26730</td>\n      <td>1840</td>\n      <td>False</td>\n      <td>1237321687</td>\n      <td>12074275</td>\n      <td>286</td>\n      <td>522</td>\n      <td>False</td>\n      <td>1439811227</td>\n      <td>False</td>\n      <td>0</td>\n      <td>0</td>\n      <td>0</td>\n      <td>0</td>\n      <td>8</td>\n      <td>0</td>\n      <td>1</td>\n      <td>0</td>\n      <td>0</td>\n    </tr>\n    <tr>\n      <th>9</th>\n      <td>0</td>\n      <td>9</td>\n      <td>0</td>\n      <td>0</td>\n      <td>0</td>\n      <td>2</td>\n      <td>47</td>\n      <td>1581433245</td>\n      <td>9</td>\n      <td>2664</td>\n      <td>303</td>\n      <td>False</td>\n      <td>1452867918</td>\n      <td>10674902</td>\n      <td>48</td>\n      <td>140</td>\n      <td>False</td>\n      <td>1568691506</td>\n      <td>False</td>\n      <td>0</td>\n      <td>0</td>\n      <td>0</td>\n      <td>0</td>\n      <td>9</td>\n      <td>0</td>\n      <td>0</td>\n      <td>0</td>\n      <td>0</td>\n    </tr>\n  </tbody>\n</table>\n</div>"
     },
     "metadata": {},
     "execution_count": 8
    }
   ],
   "source": [
    "train.head(10)"
   ]
  },
  {
   "cell_type": "code",
   "execution_count": 9,
   "metadata": {},
   "outputs": [
    {
     "output_type": "execute_result",
     "data": {
      "text/plain": [
       "0"
      ]
     },
     "metadata": {},
     "execution_count": 9
    }
   ],
   "source": [
    "save_memory(train)\n",
    "gc.collect()"
   ]
  },
  {
   "cell_type": "code",
   "execution_count": 10,
   "metadata": {},
   "outputs": [
    {
     "output_type": "execute_result",
     "data": {
      "text/plain": [
       "hashtags              int32\n",
       "tweet_id              int32\n",
       "media                  int8\n",
       "links                 int32\n",
       "domains               int32\n",
       "tweet_type             int8\n",
       "language               int8\n",
       "timestamp             int32\n",
       "a_user_id             int32\n",
       "a_follower_count      int32\n",
       "a_following_count     int32\n",
       "a_is_verified          int8\n",
       "a_account_creation    int32\n",
       "b_user_id             int32\n",
       "b_follower_count      int32\n",
       "b_following_count     int32\n",
       "b_is_verified          int8\n",
       "b_account_creation    int32\n",
       "b_follows_a            int8\n",
       "reply                 int32\n",
       "retweet               int32\n",
       "retweet_comment       int32\n",
       "like                  int32\n",
       "id                    int32\n",
       "tr                    int32\n",
       "len_hashtags          int32\n",
       "len_domains           int32\n",
       "len_links             int32\n",
       "dtype: object"
      ]
     },
     "metadata": {},
     "execution_count": 10
    }
   ],
   "source": [
    "train.dtypes"
   ]
  },
  {
   "cell_type": "code",
   "execution_count": 11,
   "metadata": {},
   "outputs": [
    {
     "output_type": "execute_result",
     "data": {
      "text/plain": [
       "dt_day\n",
       "6     14568832\n",
       "7     15437848\n",
       "8     15922044\n",
       "9     15411437\n",
       "10    15555316\n",
       "11    15248999\n",
       "12    14109986\n",
       "13     2794759\n",
       "14     2684842\n",
       "15     2889749\n",
       "16     2806908\n",
       "17     3016117\n",
       "18     2799282\n",
       "19     2534348\n",
       "Name: id, dtype: int64"
      ]
     },
     "metadata": {},
     "execution_count": 11
    }
   ],
   "source": [
    "train['dt_day']  = pd.to_datetime( train['timestamp'] , unit='s' ).dt.day.values.astype( np.int8 )\n",
    "train['dt_dow']  = pd.to_datetime( train['timestamp'] , unit='s' ).dt.dayofweek.values.astype( np.int8 )\n",
    "train['dt_hour'] = pd.to_datetime( train['timestamp'] , unit='s' ).dt.hour.values.astype( np.int8 )\n",
    "_=gc.collect()\n",
    "train.groupby('dt_day')['id'].agg('count')"
   ]
  },
  {
   "cell_type": "code",
   "execution_count": 12,
   "metadata": {},
   "outputs": [
    {
     "output_type": "execute_result",
     "data": {
      "text/plain": [
       "   id  a_count_combined  a_user_fer_count_delta_time  \\\n",
       "0   0                 4                            1   \n",
       "1   1                 4                            1   \n",
       "2   2                 4                            1   \n",
       "3   3                 4                            1   \n",
       "4   4                 3                            0   \n",
       "\n",
       "   a_user_fing_count_delta_time  a_user_fering_count_delta_time  \\\n",
       "0                             1                               1   \n",
       "1                             1                               1   \n",
       "2                             1                               1   \n",
       "3                             1                               1   \n",
       "4                             0                               0   \n",
       "\n",
       "   a_user_fing_count_mode  a_user_fer_count_mode  a_user_fering_count_mode  \n",
       "0                       1                      1                         1  \n",
       "1                       1                      1                         1  \n",
       "2                       1                      1                         1  \n",
       "3                       1                      1                         1  \n",
       "4                       0                      0                         0  "
      ],
      "text/html": "<div>\n<style scoped>\n    .dataframe tbody tr th:only-of-type {\n        vertical-align: middle;\n    }\n\n    .dataframe tbody tr th {\n        vertical-align: top;\n    }\n\n    .dataframe thead th {\n        text-align: right;\n    }\n</style>\n<table border=\"1\" class=\"dataframe\">\n  <thead>\n    <tr style=\"text-align: right;\">\n      <th></th>\n      <th>id</th>\n      <th>a_count_combined</th>\n      <th>a_user_fer_count_delta_time</th>\n      <th>a_user_fing_count_delta_time</th>\n      <th>a_user_fering_count_delta_time</th>\n      <th>a_user_fing_count_mode</th>\n      <th>a_user_fer_count_mode</th>\n      <th>a_user_fering_count_mode</th>\n    </tr>\n  </thead>\n  <tbody>\n    <tr>\n      <th>0</th>\n      <td>0</td>\n      <td>4</td>\n      <td>1</td>\n      <td>1</td>\n      <td>1</td>\n      <td>1</td>\n      <td>1</td>\n      <td>1</td>\n    </tr>\n    <tr>\n      <th>1</th>\n      <td>1</td>\n      <td>4</td>\n      <td>1</td>\n      <td>1</td>\n      <td>1</td>\n      <td>1</td>\n      <td>1</td>\n      <td>1</td>\n    </tr>\n    <tr>\n      <th>2</th>\n      <td>2</td>\n      <td>4</td>\n      <td>1</td>\n      <td>1</td>\n      <td>1</td>\n      <td>1</td>\n      <td>1</td>\n      <td>1</td>\n    </tr>\n    <tr>\n      <th>3</th>\n      <td>3</td>\n      <td>4</td>\n      <td>1</td>\n      <td>1</td>\n      <td>1</td>\n      <td>1</td>\n      <td>1</td>\n      <td>1</td>\n    </tr>\n    <tr>\n      <th>4</th>\n      <td>4</td>\n      <td>3</td>\n      <td>0</td>\n      <td>0</td>\n      <td>0</td>\n      <td>0</td>\n      <td>0</td>\n      <td>0</td>\n    </tr>\n  </tbody>\n</table>\n</div>"
     },
     "metadata": {},
     "execution_count": 12
    }
   ],
   "source": [
    "dt = pd.read_parquet( 'a_count_combined-final.parquet' )\n",
    "dt.head()"
   ]
  },
  {
   "cell_type": "code",
   "execution_count": 13,
   "metadata": {},
   "outputs": [
    {
     "output_type": "execute_result",
     "data": {
      "text/plain": [
       "   hashtags  tweet_id  media  links  domains  tweet_type  language  \\\n",
       "0         1         0      5      0        0           2        11   \n",
       "1         0         1      0      0        0           0        59   \n",
       "2         0         2      0      0        0           2        38   \n",
       "3         0         3      0      0        0           2        11   \n",
       "4         0         4      0      0        0           1        54   \n",
       "\n",
       "    timestamp  a_user_id  a_follower_count  a_following_count  a_is_verified  \\\n",
       "0  1581472519          0             11005              10795              0   \n",
       "1  1581124265          1               425                260              0   \n",
       "2  1581166895          2            298336                  8              0   \n",
       "3  1581375781          3              1115               1210              0   \n",
       "4  1580996019          4             63473               5424              0   \n",
       "\n",
       "   a_account_creation  b_user_id  b_follower_count  b_following_count  \\\n",
       "0          1437797708   12074272                 4                  6   \n",
       "1          1496802112    2019671               225                185   \n",
       "2          1327933644   12074273                 4                 72   \n",
       "3          1266471640     485172               780                440   \n",
       "4          1340804123   12074274               180                 32   \n",
       "\n",
       "   b_is_verified  b_account_creation  b_follows_a  reply  retweet  \\\n",
       "0              0          1568940527            1      0        0   \n",
       "1              0          1541013180            1      0        0   \n",
       "2              0          1573996260            0      0        0   \n",
       "3              0          1432084055            1      0        0   \n",
       "4              0          1490688761            0      0        0   \n",
       "\n",
       "   retweet_comment  like  id  tr  len_hashtags  len_domains  len_links  \\\n",
       "0                0     0   0   0             2            0          0   \n",
       "1                0     1   1   0             0            0          0   \n",
       "2                0     1   2   0             0            0          0   \n",
       "3                0     1   3   0             0            0          0   \n",
       "4                0     0   4   0             0            0          0   \n",
       "\n",
       "   dt_day  dt_dow  dt_hour  a_count_combined  a_user_fer_count_delta_time  \\\n",
       "0      12       2        1                -9                           -9   \n",
       "1       8       5        1                 4                            1   \n",
       "2       8       5       13                 4                            1   \n",
       "3      10       0       23                 4                            1   \n",
       "4       6       3       13                 3                            0   \n",
       "\n",
       "   a_user_fing_count_delta_time  a_user_fering_count_delta_time  \\\n",
       "0                            -9                              -9   \n",
       "1                             1                               1   \n",
       "2                             1                               1   \n",
       "3                             1                               1   \n",
       "4                             0                               0   \n",
       "\n",
       "   a_user_fing_count_mode  a_user_fer_count_mode  a_user_fering_count_mode  \n",
       "0                      -9                     -9                        -9  \n",
       "1                       1                      1                         1  \n",
       "2                       1                      1                         1  \n",
       "3                       1                      1                         1  \n",
       "4                       0                      0                         0  "
      ],
      "text/html": "<div>\n<style scoped>\n    .dataframe tbody tr th:only-of-type {\n        vertical-align: middle;\n    }\n\n    .dataframe tbody tr th {\n        vertical-align: top;\n    }\n\n    .dataframe thead th {\n        text-align: right;\n    }\n</style>\n<table border=\"1\" class=\"dataframe\">\n  <thead>\n    <tr style=\"text-align: right;\">\n      <th></th>\n      <th>hashtags</th>\n      <th>tweet_id</th>\n      <th>media</th>\n      <th>links</th>\n      <th>domains</th>\n      <th>tweet_type</th>\n      <th>language</th>\n      <th>timestamp</th>\n      <th>a_user_id</th>\n      <th>a_follower_count</th>\n      <th>a_following_count</th>\n      <th>a_is_verified</th>\n      <th>a_account_creation</th>\n      <th>b_user_id</th>\n      <th>b_follower_count</th>\n      <th>b_following_count</th>\n      <th>b_is_verified</th>\n      <th>b_account_creation</th>\n      <th>b_follows_a</th>\n      <th>reply</th>\n      <th>retweet</th>\n      <th>retweet_comment</th>\n      <th>like</th>\n      <th>id</th>\n      <th>tr</th>\n      <th>len_hashtags</th>\n      <th>len_domains</th>\n      <th>len_links</th>\n      <th>dt_day</th>\n      <th>dt_dow</th>\n      <th>dt_hour</th>\n      <th>a_count_combined</th>\n      <th>a_user_fer_count_delta_time</th>\n      <th>a_user_fing_count_delta_time</th>\n      <th>a_user_fering_count_delta_time</th>\n      <th>a_user_fing_count_mode</th>\n      <th>a_user_fer_count_mode</th>\n      <th>a_user_fering_count_mode</th>\n    </tr>\n  </thead>\n  <tbody>\n    <tr>\n      <th>0</th>\n      <td>1</td>\n      <td>0</td>\n      <td>5</td>\n      <td>0</td>\n      <td>0</td>\n      <td>2</td>\n      <td>11</td>\n      <td>1581472519</td>\n      <td>0</td>\n      <td>11005</td>\n      <td>10795</td>\n      <td>0</td>\n      <td>1437797708</td>\n      <td>12074272</td>\n      <td>4</td>\n      <td>6</td>\n      <td>0</td>\n      <td>1568940527</td>\n      <td>1</td>\n      <td>0</td>\n      <td>0</td>\n      <td>0</td>\n      <td>0</td>\n      <td>0</td>\n      <td>0</td>\n      <td>2</td>\n      <td>0</td>\n      <td>0</td>\n      <td>12</td>\n      <td>2</td>\n      <td>1</td>\n      <td>-9</td>\n      <td>-9</td>\n      <td>-9</td>\n      <td>-9</td>\n      <td>-9</td>\n      <td>-9</td>\n      <td>-9</td>\n    </tr>\n    <tr>\n      <th>1</th>\n      <td>0</td>\n      <td>1</td>\n      <td>0</td>\n      <td>0</td>\n      <td>0</td>\n      <td>0</td>\n      <td>59</td>\n      <td>1581124265</td>\n      <td>1</td>\n      <td>425</td>\n      <td>260</td>\n      <td>0</td>\n      <td>1496802112</td>\n      <td>2019671</td>\n      <td>225</td>\n      <td>185</td>\n      <td>0</td>\n      <td>1541013180</td>\n      <td>1</td>\n      <td>0</td>\n      <td>0</td>\n      <td>0</td>\n      <td>1</td>\n      <td>1</td>\n      <td>0</td>\n      <td>0</td>\n      <td>0</td>\n      <td>0</td>\n      <td>8</td>\n      <td>5</td>\n      <td>1</td>\n      <td>4</td>\n      <td>1</td>\n      <td>1</td>\n      <td>1</td>\n      <td>1</td>\n      <td>1</td>\n      <td>1</td>\n    </tr>\n    <tr>\n      <th>2</th>\n      <td>0</td>\n      <td>2</td>\n      <td>0</td>\n      <td>0</td>\n      <td>0</td>\n      <td>2</td>\n      <td>38</td>\n      <td>1581166895</td>\n      <td>2</td>\n      <td>298336</td>\n      <td>8</td>\n      <td>0</td>\n      <td>1327933644</td>\n      <td>12074273</td>\n      <td>4</td>\n      <td>72</td>\n      <td>0</td>\n      <td>1573996260</td>\n      <td>0</td>\n      <td>0</td>\n      <td>0</td>\n      <td>0</td>\n      <td>1</td>\n      <td>2</td>\n      <td>0</td>\n      <td>0</td>\n      <td>0</td>\n      <td>0</td>\n      <td>8</td>\n      <td>5</td>\n      <td>13</td>\n      <td>4</td>\n      <td>1</td>\n      <td>1</td>\n      <td>1</td>\n      <td>1</td>\n      <td>1</td>\n      <td>1</td>\n    </tr>\n    <tr>\n      <th>3</th>\n      <td>0</td>\n      <td>3</td>\n      <td>0</td>\n      <td>0</td>\n      <td>0</td>\n      <td>2</td>\n      <td>11</td>\n      <td>1581375781</td>\n      <td>3</td>\n      <td>1115</td>\n      <td>1210</td>\n      <td>0</td>\n      <td>1266471640</td>\n      <td>485172</td>\n      <td>780</td>\n      <td>440</td>\n      <td>0</td>\n      <td>1432084055</td>\n      <td>1</td>\n      <td>0</td>\n      <td>0</td>\n      <td>0</td>\n      <td>1</td>\n      <td>3</td>\n      <td>0</td>\n      <td>0</td>\n      <td>0</td>\n      <td>0</td>\n      <td>10</td>\n      <td>0</td>\n      <td>23</td>\n      <td>4</td>\n      <td>1</td>\n      <td>1</td>\n      <td>1</td>\n      <td>1</td>\n      <td>1</td>\n      <td>1</td>\n    </tr>\n    <tr>\n      <th>4</th>\n      <td>0</td>\n      <td>4</td>\n      <td>0</td>\n      <td>0</td>\n      <td>0</td>\n      <td>1</td>\n      <td>54</td>\n      <td>1580996019</td>\n      <td>4</td>\n      <td>63473</td>\n      <td>5424</td>\n      <td>0</td>\n      <td>1340804123</td>\n      <td>12074274</td>\n      <td>180</td>\n      <td>32</td>\n      <td>0</td>\n      <td>1490688761</td>\n      <td>0</td>\n      <td>0</td>\n      <td>0</td>\n      <td>0</td>\n      <td>0</td>\n      <td>4</td>\n      <td>0</td>\n      <td>0</td>\n      <td>0</td>\n      <td>0</td>\n      <td>6</td>\n      <td>3</td>\n      <td>13</td>\n      <td>3</td>\n      <td>0</td>\n      <td>0</td>\n      <td>0</td>\n      <td>0</td>\n      <td>0</td>\n      <td>0</td>\n    </tr>\n  </tbody>\n</table>\n</div>"
     },
     "metadata": {},
     "execution_count": 13
    }
   ],
   "source": [
    "train['a_count_combined']             = dt['a_count_combined']\n",
    "train['a_user_fer_count_delta_time']  = dt['a_user_fer_count_delta_time']\n",
    "train['a_user_fing_count_delta_time'] = dt['a_user_fing_count_delta_time']\n",
    "train['a_user_fering_count_delta_time']=dt['a_user_fering_count_delta_time']\n",
    "train['a_user_fing_count_mode']       = dt['a_user_fing_count_mode']\n",
    "train['a_user_fer_count_mode']        = dt['a_user_fer_count_mode']\n",
    "train['a_user_fering_count_mode']     = dt['a_user_fering_count_mode']\n",
    "\n",
    "train.loc[ (train.dt_day==12)|(train.dt_day==18) ,['a_count_combined','a_user_fer_count_delta_time','a_user_fing_count_delta_time','a_user_fering_count_delta_time','a_user_fing_count_mode','a_user_fer_count_mode','a_user_fering_count_mode']] = -9\n",
    "\n",
    "del dt; _=gc.collect()\n",
    "train.head()"
   ]
  },
  {
   "cell_type": "code",
   "execution_count": 14,
   "metadata": {},
   "outputs": [
    {
     "output_type": "execute_result",
     "data": {
      "text/plain": [
       "hashtags                          int32\n",
       "tweet_id                          int32\n",
       "media                              int8\n",
       "links                             int32\n",
       "domains                           int32\n",
       "tweet_type                         int8\n",
       "language                           int8\n",
       "timestamp                         int32\n",
       "a_user_id                         int32\n",
       "a_follower_count                  int32\n",
       "a_following_count                 int32\n",
       "a_is_verified                      int8\n",
       "a_account_creation                int32\n",
       "b_user_id                         int32\n",
       "b_follower_count                  int32\n",
       "b_following_count                 int32\n",
       "b_is_verified                      int8\n",
       "b_account_creation                int32\n",
       "b_follows_a                        int8\n",
       "reply                             int32\n",
       "retweet                           int32\n",
       "retweet_comment                   int32\n",
       "like                              int32\n",
       "id                                int32\n",
       "tr                                int32\n",
       "len_hashtags                      int32\n",
       "len_domains                       int32\n",
       "len_links                         int32\n",
       "dt_day                             int8\n",
       "dt_dow                             int8\n",
       "dt_hour                            int8\n",
       "a_count_combined                  int32\n",
       "a_user_fer_count_delta_time       int32\n",
       "a_user_fing_count_delta_time      int32\n",
       "a_user_fering_count_delta_time    int32\n",
       "a_user_fing_count_mode            int32\n",
       "a_user_fer_count_mode             int32\n",
       "a_user_fering_count_mode          int32\n",
       "dtype: object"
      ]
     },
     "metadata": {},
     "execution_count": 14
    }
   ],
   "source": [
    "train.dtypes"
   ]
  },
  {
   "cell_type": "code",
   "execution_count": 15,
   "metadata": {},
   "outputs": [
    {
     "output_type": "execute_result",
     "data": {
      "text/plain": [
       "   id  count_ats  count_char  count_words  tw_hash  tw_freq_hash  \\\n",
       "0   0          0         196           39        0             0   \n",
       "1   1          0          51            8        1             1   \n",
       "2   2          0          79           10        2             2   \n",
       "3   3          0         186           47        3             3   \n",
       "4   4          0         158           24        4             4   \n",
       "\n",
       "   tw_first_word  tw_second_word  tw_last_word  tw_llast_word  tw_len  \\\n",
       "0              0               0             0              0      23   \n",
       "1              1               1             1              1       5   \n",
       "2              2               2             2              2       8   \n",
       "3              3               3             3              3      18   \n",
       "4              4               4             4              4      13   \n",
       "\n",
       "   tw_hash0  tw_hash1  tw_rt_uhash  \n",
       "0         0         0            0  \n",
       "1         0         0            0  \n",
       "2         0         0            0  \n",
       "3         0         0            0  \n",
       "4         0         0         1870  "
      ],
      "text/html": "<div>\n<style scoped>\n    .dataframe tbody tr th:only-of-type {\n        vertical-align: middle;\n    }\n\n    .dataframe tbody tr th {\n        vertical-align: top;\n    }\n\n    .dataframe thead th {\n        text-align: right;\n    }\n</style>\n<table border=\"1\" class=\"dataframe\">\n  <thead>\n    <tr style=\"text-align: right;\">\n      <th></th>\n      <th>id</th>\n      <th>count_ats</th>\n      <th>count_char</th>\n      <th>count_words</th>\n      <th>tw_hash</th>\n      <th>tw_freq_hash</th>\n      <th>tw_first_word</th>\n      <th>tw_second_word</th>\n      <th>tw_last_word</th>\n      <th>tw_llast_word</th>\n      <th>tw_len</th>\n      <th>tw_hash0</th>\n      <th>tw_hash1</th>\n      <th>tw_rt_uhash</th>\n    </tr>\n  </thead>\n  <tbody>\n    <tr>\n      <th>0</th>\n      <td>0</td>\n      <td>0</td>\n      <td>196</td>\n      <td>39</td>\n      <td>0</td>\n      <td>0</td>\n      <td>0</td>\n      <td>0</td>\n      <td>0</td>\n      <td>0</td>\n      <td>23</td>\n      <td>0</td>\n      <td>0</td>\n      <td>0</td>\n    </tr>\n    <tr>\n      <th>1</th>\n      <td>1</td>\n      <td>0</td>\n      <td>51</td>\n      <td>8</td>\n      <td>1</td>\n      <td>1</td>\n      <td>1</td>\n      <td>1</td>\n      <td>1</td>\n      <td>1</td>\n      <td>5</td>\n      <td>0</td>\n      <td>0</td>\n      <td>0</td>\n    </tr>\n    <tr>\n      <th>2</th>\n      <td>2</td>\n      <td>0</td>\n      <td>79</td>\n      <td>10</td>\n      <td>2</td>\n      <td>2</td>\n      <td>2</td>\n      <td>2</td>\n      <td>2</td>\n      <td>2</td>\n      <td>8</td>\n      <td>0</td>\n      <td>0</td>\n      <td>0</td>\n    </tr>\n    <tr>\n      <th>3</th>\n      <td>3</td>\n      <td>0</td>\n      <td>186</td>\n      <td>47</td>\n      <td>3</td>\n      <td>3</td>\n      <td>3</td>\n      <td>3</td>\n      <td>3</td>\n      <td>3</td>\n      <td>18</td>\n      <td>0</td>\n      <td>0</td>\n      <td>0</td>\n    </tr>\n    <tr>\n      <th>4</th>\n      <td>4</td>\n      <td>0</td>\n      <td>158</td>\n      <td>24</td>\n      <td>4</td>\n      <td>4</td>\n      <td>4</td>\n      <td>4</td>\n      <td>4</td>\n      <td>4</td>\n      <td>13</td>\n      <td>0</td>\n      <td>0</td>\n      <td>1870</td>\n    </tr>\n  </tbody>\n</table>\n</div>"
     },
     "metadata": {},
     "execution_count": 15
    }
   ],
   "source": [
    "dt = pd.read_parquet( 'text-processings-1.parquet' )\n",
    "dt.sort_values('id', inplace=True)\n",
    "dt.head()"
   ]
  },
  {
   "cell_type": "code",
   "execution_count": 16,
   "metadata": {},
   "outputs": [
    {
     "output_type": "execute_result",
     "data": {
      "text/plain": [
       "0"
      ]
     },
     "metadata": {},
     "execution_count": 16
    }
   ],
   "source": [
    "train['count_ats']     = dt['count_ats']\n",
    "train['count_char']    = dt['count_char']\n",
    "train['count_words']   = dt['count_words']\n",
    "train['tw_hash']       = dt['tw_hash']\n",
    "train['tw_freq_hash']  = dt['tw_freq_hash']\n",
    "train['tw_first_word'] = dt['tw_first_word']\n",
    "train['tw_second_word']= dt['tw_second_word']\n",
    "train['tw_last_word']  = dt['tw_last_word']\n",
    "train['tw_llast_word'] = dt['tw_llast_word']\n",
    "train['tw_len']        = dt['tw_len']\n",
    "train['tw_hash0']      = dt['tw_hash0']\n",
    "train['tw_hash1']      = dt['tw_hash1']\n",
    "train['tw_rt_uhash']   = dt['tw_rt_uhash']\n",
    "del dt\n",
    "gc.collect()"
   ]
  },
  {
   "cell_type": "code",
   "execution_count": 17,
   "metadata": {},
   "outputs": [
    {
     "output_type": "execute_result",
     "data": {
      "text/plain": [
       "           hashtags  tweet_id  media  links  domains  tweet_type  language  \\\n",
       "125780462     10450  61226760      5      0        0           2        11   \n",
       "125780463    530272  61226761      0      0        0           2        11   \n",
       "125780464         0  61226762      0      0        0           2        11   \n",
       "125780465     14428  61226763      0      0        0           2        11   \n",
       "125780466         0  61226764      0      0        0           2        11   \n",
       "\n",
       "            timestamp  a_user_id  a_follower_count  a_following_count  \\\n",
       "125780462  1581719195    1007938              1472               2681   \n",
       "125780463  1581665518     582771              4236               4119   \n",
       "125780464  1581602829    7112774              1943               2881   \n",
       "125780465  1581722172     188957              4884               4428   \n",
       "125780466  1581813247     914057               309                285   \n",
       "\n",
       "           a_is_verified  a_account_creation  b_user_id  b_follower_count  \\\n",
       "125780462              0          1295918678    6943825               717   \n",
       "125780463              0          1524226898    6943825               717   \n",
       "125780464              0          1468355247    6943825               717   \n",
       "125780465              0          1373131817    6943825               717   \n",
       "125780466              0          1575377853    6943825               717   \n",
       "\n",
       "           b_following_count  b_is_verified  b_account_creation  b_follows_a  \\\n",
       "125780462                464              0          1501554925            1   \n",
       "125780463                464              0          1501554925            1   \n",
       "125780464                464              0          1501554925            1   \n",
       "125780465                464              0          1501554925            1   \n",
       "125780466                464              0          1501554925            1   \n",
       "\n",
       "           reply  retweet  retweet_comment  like         id  tr  len_hashtags  \\\n",
       "125780462      0        0                0     1  125780462   2             6   \n",
       "125780463      0        0                0     1  125780463   2             1   \n",
       "125780464      0        0                0     1  125780464   2             0   \n",
       "125780465      0        0                0     1  125780465   2             4   \n",
       "125780466      0        0                0     1  125780466   2             0   \n",
       "\n",
       "           len_domains  len_links  dt_day  dt_dow  dt_hour  a_count_combined  \\\n",
       "125780462            0          0      14       4       22                 4   \n",
       "125780463            0          0      14       4        7                 4   \n",
       "125780464            0          0      13       3       14                 7   \n",
       "125780465            0          0      14       4       23                 4   \n",
       "125780466            0          0      16       6        0                 4   \n",
       "\n",
       "           a_user_fer_count_delta_time  a_user_fing_count_delta_time  \\\n",
       "125780462                            1                             1   \n",
       "125780463                            1                             1   \n",
       "125780464                           -1                            -1   \n",
       "125780465                            1                             1   \n",
       "125780466                            1                             1   \n",
       "\n",
       "           a_user_fering_count_delta_time  a_user_fing_count_mode  \\\n",
       "125780462                               1                       1   \n",
       "125780463                               1                       1   \n",
       "125780464                              -1                      -1   \n",
       "125780465                               1                       1   \n",
       "125780466                               1                       1   \n",
       "\n",
       "           a_user_fer_count_mode  a_user_fering_count_mode  count_ats  \\\n",
       "125780462                      1                         1          0   \n",
       "125780463                      1                         1          0   \n",
       "125780464                     -1                        -1          0   \n",
       "125780465                      1                         1          0   \n",
       "125780466                      1                         1          1   \n",
       "\n",
       "           count_char  count_words   tw_hash  tw_freq_hash  tw_first_word  \\\n",
       "125780462         300           95  42948009      38527677        3043671   \n",
       "125780463         161           42  42948010      38527678        6896228   \n",
       "125780464         189           52  42948011      38527679        5001556   \n",
       "125780465          84           28  42948012      38527680        3464427   \n",
       "125780466          28            3  42948013            54             54   \n",
       "\n",
       "           tw_second_word  tw_last_word  tw_llast_word  tw_len  tw_hash0  \\\n",
       "125780462         1958989           557            339      32         0   \n",
       "125780463         1040991           655           1633      15         0   \n",
       "125780464         1866905           648           3596      23         0   \n",
       "125780465         1103839            23           2032      16         0   \n",
       "125780466               9            51              9       1   2401528   \n",
       "\n",
       "           tw_hash1  tw_rt_uhash  \n",
       "125780462         0            0  \n",
       "125780463         0            0  \n",
       "125780464         0            0  \n",
       "125780465         0            0  \n",
       "125780466         0      2401528  "
      ],
      "text/html": "<div>\n<style scoped>\n    .dataframe tbody tr th:only-of-type {\n        vertical-align: middle;\n    }\n\n    .dataframe tbody tr th {\n        vertical-align: top;\n    }\n\n    .dataframe thead th {\n        text-align: right;\n    }\n</style>\n<table border=\"1\" class=\"dataframe\">\n  <thead>\n    <tr style=\"text-align: right;\">\n      <th></th>\n      <th>hashtags</th>\n      <th>tweet_id</th>\n      <th>media</th>\n      <th>links</th>\n      <th>domains</th>\n      <th>tweet_type</th>\n      <th>language</th>\n      <th>timestamp</th>\n      <th>a_user_id</th>\n      <th>a_follower_count</th>\n      <th>a_following_count</th>\n      <th>a_is_verified</th>\n      <th>a_account_creation</th>\n      <th>b_user_id</th>\n      <th>b_follower_count</th>\n      <th>b_following_count</th>\n      <th>b_is_verified</th>\n      <th>b_account_creation</th>\n      <th>b_follows_a</th>\n      <th>reply</th>\n      <th>retweet</th>\n      <th>retweet_comment</th>\n      <th>like</th>\n      <th>id</th>\n      <th>tr</th>\n      <th>len_hashtags</th>\n      <th>len_domains</th>\n      <th>len_links</th>\n      <th>dt_day</th>\n      <th>dt_dow</th>\n      <th>dt_hour</th>\n      <th>a_count_combined</th>\n      <th>a_user_fer_count_delta_time</th>\n      <th>a_user_fing_count_delta_time</th>\n      <th>a_user_fering_count_delta_time</th>\n      <th>a_user_fing_count_mode</th>\n      <th>a_user_fer_count_mode</th>\n      <th>a_user_fering_count_mode</th>\n      <th>count_ats</th>\n      <th>count_char</th>\n      <th>count_words</th>\n      <th>tw_hash</th>\n      <th>tw_freq_hash</th>\n      <th>tw_first_word</th>\n      <th>tw_second_word</th>\n      <th>tw_last_word</th>\n      <th>tw_llast_word</th>\n      <th>tw_len</th>\n      <th>tw_hash0</th>\n      <th>tw_hash1</th>\n      <th>tw_rt_uhash</th>\n    </tr>\n  </thead>\n  <tbody>\n    <tr>\n      <th>125780462</th>\n      <td>10450</td>\n      <td>61226760</td>\n      <td>5</td>\n      <td>0</td>\n      <td>0</td>\n      <td>2</td>\n      <td>11</td>\n      <td>1581719195</td>\n      <td>1007938</td>\n      <td>1472</td>\n      <td>2681</td>\n      <td>0</td>\n      <td>1295918678</td>\n      <td>6943825</td>\n      <td>717</td>\n      <td>464</td>\n      <td>0</td>\n      <td>1501554925</td>\n      <td>1</td>\n      <td>0</td>\n      <td>0</td>\n      <td>0</td>\n      <td>1</td>\n      <td>125780462</td>\n      <td>2</td>\n      <td>6</td>\n      <td>0</td>\n      <td>0</td>\n      <td>14</td>\n      <td>4</td>\n      <td>22</td>\n      <td>4</td>\n      <td>1</td>\n      <td>1</td>\n      <td>1</td>\n      <td>1</td>\n      <td>1</td>\n      <td>1</td>\n      <td>0</td>\n      <td>300</td>\n      <td>95</td>\n      <td>42948009</td>\n      <td>38527677</td>\n      <td>3043671</td>\n      <td>1958989</td>\n      <td>557</td>\n      <td>339</td>\n      <td>32</td>\n      <td>0</td>\n      <td>0</td>\n      <td>0</td>\n    </tr>\n    <tr>\n      <th>125780463</th>\n      <td>530272</td>\n      <td>61226761</td>\n      <td>0</td>\n      <td>0</td>\n      <td>0</td>\n      <td>2</td>\n      <td>11</td>\n      <td>1581665518</td>\n      <td>582771</td>\n      <td>4236</td>\n      <td>4119</td>\n      <td>0</td>\n      <td>1524226898</td>\n      <td>6943825</td>\n      <td>717</td>\n      <td>464</td>\n      <td>0</td>\n      <td>1501554925</td>\n      <td>1</td>\n      <td>0</td>\n      <td>0</td>\n      <td>0</td>\n      <td>1</td>\n      <td>125780463</td>\n      <td>2</td>\n      <td>1</td>\n      <td>0</td>\n      <td>0</td>\n      <td>14</td>\n      <td>4</td>\n      <td>7</td>\n      <td>4</td>\n      <td>1</td>\n      <td>1</td>\n      <td>1</td>\n      <td>1</td>\n      <td>1</td>\n      <td>1</td>\n      <td>0</td>\n      <td>161</td>\n      <td>42</td>\n      <td>42948010</td>\n      <td>38527678</td>\n      <td>6896228</td>\n      <td>1040991</td>\n      <td>655</td>\n      <td>1633</td>\n      <td>15</td>\n      <td>0</td>\n      <td>0</td>\n      <td>0</td>\n    </tr>\n    <tr>\n      <th>125780464</th>\n      <td>0</td>\n      <td>61226762</td>\n      <td>0</td>\n      <td>0</td>\n      <td>0</td>\n      <td>2</td>\n      <td>11</td>\n      <td>1581602829</td>\n      <td>7112774</td>\n      <td>1943</td>\n      <td>2881</td>\n      <td>0</td>\n      <td>1468355247</td>\n      <td>6943825</td>\n      <td>717</td>\n      <td>464</td>\n      <td>0</td>\n      <td>1501554925</td>\n      <td>1</td>\n      <td>0</td>\n      <td>0</td>\n      <td>0</td>\n      <td>1</td>\n      <td>125780464</td>\n      <td>2</td>\n      <td>0</td>\n      <td>0</td>\n      <td>0</td>\n      <td>13</td>\n      <td>3</td>\n      <td>14</td>\n      <td>7</td>\n      <td>-1</td>\n      <td>-1</td>\n      <td>-1</td>\n      <td>-1</td>\n      <td>-1</td>\n      <td>-1</td>\n      <td>0</td>\n      <td>189</td>\n      <td>52</td>\n      <td>42948011</td>\n      <td>38527679</td>\n      <td>5001556</td>\n      <td>1866905</td>\n      <td>648</td>\n      <td>3596</td>\n      <td>23</td>\n      <td>0</td>\n      <td>0</td>\n      <td>0</td>\n    </tr>\n    <tr>\n      <th>125780465</th>\n      <td>14428</td>\n      <td>61226763</td>\n      <td>0</td>\n      <td>0</td>\n      <td>0</td>\n      <td>2</td>\n      <td>11</td>\n      <td>1581722172</td>\n      <td>188957</td>\n      <td>4884</td>\n      <td>4428</td>\n      <td>0</td>\n      <td>1373131817</td>\n      <td>6943825</td>\n      <td>717</td>\n      <td>464</td>\n      <td>0</td>\n      <td>1501554925</td>\n      <td>1</td>\n      <td>0</td>\n      <td>0</td>\n      <td>0</td>\n      <td>1</td>\n      <td>125780465</td>\n      <td>2</td>\n      <td>4</td>\n      <td>0</td>\n      <td>0</td>\n      <td>14</td>\n      <td>4</td>\n      <td>23</td>\n      <td>4</td>\n      <td>1</td>\n      <td>1</td>\n      <td>1</td>\n      <td>1</td>\n      <td>1</td>\n      <td>1</td>\n      <td>0</td>\n      <td>84</td>\n      <td>28</td>\n      <td>42948012</td>\n      <td>38527680</td>\n      <td>3464427</td>\n      <td>1103839</td>\n      <td>23</td>\n      <td>2032</td>\n      <td>16</td>\n      <td>0</td>\n      <td>0</td>\n      <td>0</td>\n    </tr>\n    <tr>\n      <th>125780466</th>\n      <td>0</td>\n      <td>61226764</td>\n      <td>0</td>\n      <td>0</td>\n      <td>0</td>\n      <td>2</td>\n      <td>11</td>\n      <td>1581813247</td>\n      <td>914057</td>\n      <td>309</td>\n      <td>285</td>\n      <td>0</td>\n      <td>1575377853</td>\n      <td>6943825</td>\n      <td>717</td>\n      <td>464</td>\n      <td>0</td>\n      <td>1501554925</td>\n      <td>1</td>\n      <td>0</td>\n      <td>0</td>\n      <td>0</td>\n      <td>1</td>\n      <td>125780466</td>\n      <td>2</td>\n      <td>0</td>\n      <td>0</td>\n      <td>0</td>\n      <td>16</td>\n      <td>6</td>\n      <td>0</td>\n      <td>4</td>\n      <td>1</td>\n      <td>1</td>\n      <td>1</td>\n      <td>1</td>\n      <td>1</td>\n      <td>1</td>\n      <td>1</td>\n      <td>28</td>\n      <td>3</td>\n      <td>42948013</td>\n      <td>54</td>\n      <td>54</td>\n      <td>9</td>\n      <td>51</td>\n      <td>9</td>\n      <td>1</td>\n      <td>2401528</td>\n      <td>0</td>\n      <td>2401528</td>\n    </tr>\n  </tbody>\n</table>\n</div>"
     },
     "metadata": {},
     "execution_count": 17
    }
   ],
   "source": [
    "train.tail()"
   ]
  },
  {
   "cell_type": "code",
   "execution_count": 18,
   "metadata": {},
   "outputs": [
    {
     "output_type": "execute_result",
     "data": {
      "text/plain": [
       "tr\n",
       "0    106254462\n",
       "1      9760684\n",
       "2      9765321\n",
       "Name: id, dtype: int64"
      ]
     },
     "metadata": {},
     "execution_count": 18
    }
   ],
   "source": [
    "train.groupby('tr')['id'].agg('count')"
   ]
  },
  {
   "cell_type": "code",
   "execution_count": 19,
   "metadata": {},
   "outputs": [],
   "source": [
    "data = train\n",
    "train = data.loc[(data.tr == 0)]\n",
    "valid = data.loc[(data.tr == 1)]\n",
    "test = data.loc[(data.tr == 2)]"
   ]
  },
  {
   "cell_type": "code",
   "execution_count": 20,
   "metadata": {},
   "outputs": [],
   "source": [
    "train[:1000000].to_parquet( 'train_final_s.parquet' )\n",
    "valid[:100000].to_parquet( 'valid_final_s.parquet' )\n",
    "test[:100000].to_parquet( 'test_final_s.parquet' )"
   ]
  },
  {
   "cell_type": "code",
   "execution_count": 21,
   "metadata": {},
   "outputs": [],
   "source": [
    "train.to_parquet( 'train_final.parquet' )\n",
    "valid.to_parquet( 'valid_final.parquet' )\n",
    "test.to_parquet( 'test_final.parquet' )\n"
   ]
  }
 ],
 "metadata": {
  "kernelspec": {
   "display_name": "Python 3",
   "language": "python",
   "name": "python3"
  },
  "language_info": {
   "codemirror_mode": {
    "name": "ipython",
    "version": 3
   },
   "file_extension": ".py",
   "mimetype": "text/x-python",
   "name": "python",
   "nbconvert_exporter": "python",
   "pygments_lexer": "ipython3",
   "version": "3.6.3-final"
  }
 },
 "nbformat": 4,
 "nbformat_minor": 4
}