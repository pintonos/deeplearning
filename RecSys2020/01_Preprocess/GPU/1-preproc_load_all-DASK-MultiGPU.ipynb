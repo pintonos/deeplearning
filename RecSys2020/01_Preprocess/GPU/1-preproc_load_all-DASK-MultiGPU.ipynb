{
 "cells": [
  {
   "cell_type": "markdown",
   "metadata": {},
   "source": [
    "Copyright (c) 2020, NVIDIA CORPORATION.\n",
    "Licensed under the Apache License, Version 2.0 (the \"License\");\n",
    "you may not use this file except in compliance with the License.\n",
    "You may obtain a copy of the License at\n",
    "    http://www.apache.org/licenses/LICENSE-2.0\n",
    "Unless required by applicable law or agreed to in writing, software\n",
    "distributed under the License is distributed on an \"AS IS\" BASIS,\n",
    "WITHOUT WARRANTIES OR CONDITIONS OF ANY KIND, either express or implied.\n",
    "See the License for the specific language governing permissions and\n",
    "limitations under the License."
   ]
  },
  {
   "cell_type": "markdown",
   "metadata": {},
   "source": [
    "#### ~~Tweet_id is encoded using approximate hashing which caused hashing collisions. Exact encoding of tweet_id is blocked by a bug in cudf. All other columns are using exact encoding.~~ \n",
    "Fixed"
   ]
  },
  {
   "cell_type": "code",
   "execution_count": 1,
   "metadata": {},
   "outputs": [],
   "source": [
    "import os, time\n",
    "os.environ[\"CUDA_VISIBLE_DEVICES\"]=\"0\"\n",
    "start = time.time()\n",
    "very_start = time.time()"
   ]
  },
  {
   "cell_type": "code",
   "execution_count": 2,
   "metadata": {},
   "outputs": [
    {
     "output_type": "execute_result",
     "data": {
      "text/plain": [
       "'0.16.0'"
      ]
     },
     "metadata": {},
     "execution_count": 2
    }
   ],
   "source": [
    "#import pandas as pd, \n",
    "import numpy as np\n",
    "from datetime import datetime\n",
    "import matplotlib.pyplot as plt\n",
    "#pd.set_option('display.max_columns', 500)\n",
    "#pd.set_option('display.max_rows', 500)\n",
    "import cudf, cupy, time, rmm\n",
    "cudf.__version__"
   ]
  },
  {
   "cell_type": "code",
   "execution_count": 3,
   "metadata": {},
   "outputs": [],
   "source": [
    "import dask as dask, dask_cudf\n",
    "from dask.distributed import Client, wait\n",
    "from dask_cuda import LocalCUDACluster\n",
    "import subprocess"
   ]
  },
  {
   "cell_type": "code",
   "execution_count": 4,
   "metadata": {},
   "outputs": [
    {
     "output_type": "execute_result",
     "data": {
      "text/plain": [
       "<Client: 'tcp://127.0.0.1:35007' processes=1 threads=1, memory=109.84 GB>"
      ],
      "text/html": "<table style=\"border: 2px solid white;\">\n<tr>\n<td style=\"vertical-align: top; border: 0px solid white\">\n<h3 style=\"text-align: left;\">Client</h3>\n<ul style=\"text-align: left; list-style: none; margin: 0; padding: 0;\">\n  <li><b>Scheduler: </b>tcp://127.0.0.1:35007</li>\n  <li><b>Dashboard: </b><a href='http://127.0.0.1:8787/status' target='_blank'>http://127.0.0.1:8787/status</a></li>\n</ul>\n</td>\n<td style=\"vertical-align: top; border: 0px solid white\">\n<h3 style=\"text-align: left;\">Cluster</h3>\n<ul style=\"text-align: left; list-style:none; margin: 0; padding: 0;\">\n  <li><b>Workers: </b>1</li>\n  <li><b>Cores: </b>1</li>\n  <li><b>Memory: </b>109.84 GB</li>\n</ul>\n</td>\n</tr>\n</table>"
     },
     "metadata": {},
     "execution_count": 4
    }
   ],
   "source": [
    "'''cluster = LocalCUDACluster(ip='10.2.61.36',protocol=\"ucx\", \n",
    "                           rmm_pool_size=\"14GB\",\n",
    "                           enable_tcp_over_ucx=True, enable_nvlink=True)'''\n",
    "cluster = LocalCUDACluster()\n",
    "client = Client(cluster)\n",
    "client.run(cudf.set_allocator, \"managed\")\n",
    "client"
   ]
  },
  {
   "cell_type": "code",
   "execution_count": 5,
   "metadata": {},
   "outputs": [
    {
     "output_type": "stream",
     "name": "stdout",
     "text": [
      "number of rows: 106254462\nCPU times: user 12.4 s, sys: 2.34 s, total: 14.8 s\nWall time: 10min 57s\n"
     ]
    }
   ],
   "source": [
    "%%time\n",
    "\n",
    "NP = 16\n",
    "#path = './'#'/home/pinto/rapid_data/recsys'\n",
    "\n",
    "df = dask_cudf.read_csv('/home/pinto/training.tsv', sep='\\x01', header=None)#, dtype=DTYPES)\n",
    "df = df.repartition(npartitions=NP)\n",
    "df, = dask.persist(df)\n",
    "_ = wait(df)\n",
    "print('number of rows:',len(df))"
   ]
  },
  {
   "cell_type": "code",
   "execution_count": 6,
   "metadata": {},
   "outputs": [
    {
     "output_type": "stream",
     "name": "stdout",
     "text": [
      "CPU times: user 6 s, sys: 624 ms, total: 6.62 s\nWall time: 6min 41s\n"
     ]
    },
    {
     "output_type": "execute_result",
     "data": {
      "text/plain": [
       "                                            hashtags  \\\n",
       "0  A3D61C03DBCE2F920350379414E0048B\\t867E9AB76EFF...   \n",
       "1                                               <NA>   \n",
       "2                                               <NA>   \n",
       "3                                               <NA>   \n",
       "4                                               <NA>   \n",
       "\n",
       "                           tweet_id  media links domains tweet_type  \\\n",
       "0  29083D10151BD72E2459635EA38AC8B3  Photo  <NA>    <NA>   TopLevel   \n",
       "1  D717A0A251D46C3382D55CA36DDC7F33   <NA>  <NA>    <NA>      Quote   \n",
       "2  2B880E288129B67CF644D6123C923EBF   <NA>  <NA>    <NA>   TopLevel   \n",
       "3  AE9DD310CF14AFD4F1A95902521FF132   <NA>  <NA>    <NA>   TopLevel   \n",
       "4  E5A28F213A16FF06D0CEE628F9A01E16   <NA>  <NA>    <NA>    Retweet   \n",
       "\n",
       "                           language   timestamp  \\\n",
       "0  22C448FF81263D4BAF2A176145EE9EAD  1581472519   \n",
       "1  ECED8A16BE2A5E8871FD55F4842F16B1  1581124265   \n",
       "2  9BF3403E0EB7EA8A256DA9019C0B0716  1581166895   \n",
       "3  22C448FF81263D4BAF2A176145EE9EAD  1581375781   \n",
       "4  D3164C7FBCF2565DDF915B1B3AEFB1DC  1580996019   \n",
       "\n",
       "                          a_user_id  a_follower_count  ...  \\\n",
       "0  DA64544DF9826E9F284F4FF6CE624F7A             11005  ...   \n",
       "1  2D17D33032F1DFFAA740384DFE68C7BB               425  ...   \n",
       "2  092FBF2F7989B4B817428B4AD44DCD37            298336  ...   \n",
       "3  054BA689B31AEFD429EE2DED113F92DA              1115  ...   \n",
       "4  B28168B03223509298F983523265035C             63473  ...   \n",
       "\n",
       "                          b_user_id b_follower_count  b_following_count  \\\n",
       "0  00000523D726C61D483CC9AF99C69FF7                4                  6   \n",
       "1  00000860E80C67D8C46CE57C64DE9444              225                185   \n",
       "2  00000DEF82BE9EB5CFD07FB7DB94317B                4                 72   \n",
       "3  00000E0C9B364891CDE89ECFC54771DE              780                440   \n",
       "4  00000FAA76D55EEF9C4693D28473437B              180                 32   \n",
       "\n",
       "   b_is_verified  b_account_creation  b_follows_a  reply retweet  \\\n",
       "0          False          1568940527         True   <NA>    <NA>   \n",
       "1          False          1541013180         True   <NA>    <NA>   \n",
       "2          False          1573996260        False   <NA>    <NA>   \n",
       "3          False          1432084055         True   <NA>    <NA>   \n",
       "4          False          1490688761        False   <NA>    <NA>   \n",
       "\n",
       "  retweet_comment             like  \n",
       "0            <NA>             <NA>  \n",
       "1            <NA>  1.581174423e+09  \n",
       "2            <NA>  1.581201675e+09  \n",
       "3            <NA>  1.581437254e+09  \n",
       "4            <NA>             <NA>  \n",
       "\n",
       "[5 rows x 23 columns]"
      ],
      "text/html": "<div>\n<style scoped>\n    .dataframe tbody tr th:only-of-type {\n        vertical-align: middle;\n    }\n\n    .dataframe tbody tr th {\n        vertical-align: top;\n    }\n\n    .dataframe thead th {\n        text-align: right;\n    }\n</style>\n<table border=\"1\" class=\"dataframe\">\n  <thead>\n    <tr style=\"text-align: right;\">\n      <th></th>\n      <th>hashtags</th>\n      <th>tweet_id</th>\n      <th>media</th>\n      <th>links</th>\n      <th>domains</th>\n      <th>tweet_type</th>\n      <th>language</th>\n      <th>timestamp</th>\n      <th>a_user_id</th>\n      <th>a_follower_count</th>\n      <th>...</th>\n      <th>b_user_id</th>\n      <th>b_follower_count</th>\n      <th>b_following_count</th>\n      <th>b_is_verified</th>\n      <th>b_account_creation</th>\n      <th>b_follows_a</th>\n      <th>reply</th>\n      <th>retweet</th>\n      <th>retweet_comment</th>\n      <th>like</th>\n    </tr>\n  </thead>\n  <tbody>\n    <tr>\n      <th>0</th>\n      <td>A3D61C03DBCE2F920350379414E0048B\\t867E9AB76EFF...</td>\n      <td>29083D10151BD72E2459635EA38AC8B3</td>\n      <td>Photo</td>\n      <td>&lt;NA&gt;</td>\n      <td>&lt;NA&gt;</td>\n      <td>TopLevel</td>\n      <td>22C448FF81263D4BAF2A176145EE9EAD</td>\n      <td>1581472519</td>\n      <td>DA64544DF9826E9F284F4FF6CE624F7A</td>\n      <td>11005</td>\n      <td>...</td>\n      <td>00000523D726C61D483CC9AF99C69FF7</td>\n      <td>4</td>\n      <td>6</td>\n      <td>False</td>\n      <td>1568940527</td>\n      <td>True</td>\n      <td>&lt;NA&gt;</td>\n      <td>&lt;NA&gt;</td>\n      <td>&lt;NA&gt;</td>\n      <td>&lt;NA&gt;</td>\n    </tr>\n    <tr>\n      <th>1</th>\n      <td>&lt;NA&gt;</td>\n      <td>D717A0A251D46C3382D55CA36DDC7F33</td>\n      <td>&lt;NA&gt;</td>\n      <td>&lt;NA&gt;</td>\n      <td>&lt;NA&gt;</td>\n      <td>Quote</td>\n      <td>ECED8A16BE2A5E8871FD55F4842F16B1</td>\n      <td>1581124265</td>\n      <td>2D17D33032F1DFFAA740384DFE68C7BB</td>\n      <td>425</td>\n      <td>...</td>\n      <td>00000860E80C67D8C46CE57C64DE9444</td>\n      <td>225</td>\n      <td>185</td>\n      <td>False</td>\n      <td>1541013180</td>\n      <td>True</td>\n      <td>&lt;NA&gt;</td>\n      <td>&lt;NA&gt;</td>\n      <td>&lt;NA&gt;</td>\n      <td>1.581174423e+09</td>\n    </tr>\n    <tr>\n      <th>2</th>\n      <td>&lt;NA&gt;</td>\n      <td>2B880E288129B67CF644D6123C923EBF</td>\n      <td>&lt;NA&gt;</td>\n      <td>&lt;NA&gt;</td>\n      <td>&lt;NA&gt;</td>\n      <td>TopLevel</td>\n      <td>9BF3403E0EB7EA8A256DA9019C0B0716</td>\n      <td>1581166895</td>\n      <td>092FBF2F7989B4B817428B4AD44DCD37</td>\n      <td>298336</td>\n      <td>...</td>\n      <td>00000DEF82BE9EB5CFD07FB7DB94317B</td>\n      <td>4</td>\n      <td>72</td>\n      <td>False</td>\n      <td>1573996260</td>\n      <td>False</td>\n      <td>&lt;NA&gt;</td>\n      <td>&lt;NA&gt;</td>\n      <td>&lt;NA&gt;</td>\n      <td>1.581201675e+09</td>\n    </tr>\n    <tr>\n      <th>3</th>\n      <td>&lt;NA&gt;</td>\n      <td>AE9DD310CF14AFD4F1A95902521FF132</td>\n      <td>&lt;NA&gt;</td>\n      <td>&lt;NA&gt;</td>\n      <td>&lt;NA&gt;</td>\n      <td>TopLevel</td>\n      <td>22C448FF81263D4BAF2A176145EE9EAD</td>\n      <td>1581375781</td>\n      <td>054BA689B31AEFD429EE2DED113F92DA</td>\n      <td>1115</td>\n      <td>...</td>\n      <td>00000E0C9B364891CDE89ECFC54771DE</td>\n      <td>780</td>\n      <td>440</td>\n      <td>False</td>\n      <td>1432084055</td>\n      <td>True</td>\n      <td>&lt;NA&gt;</td>\n      <td>&lt;NA&gt;</td>\n      <td>&lt;NA&gt;</td>\n      <td>1.581437254e+09</td>\n    </tr>\n    <tr>\n      <th>4</th>\n      <td>&lt;NA&gt;</td>\n      <td>E5A28F213A16FF06D0CEE628F9A01E16</td>\n      <td>&lt;NA&gt;</td>\n      <td>&lt;NA&gt;</td>\n      <td>&lt;NA&gt;</td>\n      <td>Retweet</td>\n      <td>D3164C7FBCF2565DDF915B1B3AEFB1DC</td>\n      <td>1580996019</td>\n      <td>B28168B03223509298F983523265035C</td>\n      <td>63473</td>\n      <td>...</td>\n      <td>00000FAA76D55EEF9C4693D28473437B</td>\n      <td>180</td>\n      <td>32</td>\n      <td>False</td>\n      <td>1490688761</td>\n      <td>False</td>\n      <td>&lt;NA&gt;</td>\n      <td>&lt;NA&gt;</td>\n      <td>&lt;NA&gt;</td>\n      <td>&lt;NA&gt;</td>\n    </tr>\n  </tbody>\n</table>\n<p>5 rows × 23 columns</p>\n</div>"
     },
     "metadata": {},
     "execution_count": 6
    }
   ],
   "source": [
    "%%time\n",
    "features = [\n",
    "    'text_tokens',    ###############\n",
    "    'hashtags',       #Tweet Features\n",
    "    'tweet_id',       #\n",
    "    'media',          #\n",
    "    'links',          #\n",
    "    'domains',        #\n",
    "    'tweet_type',     #\n",
    "    'language',       #\n",
    "    'timestamp',      ###############\n",
    "    'a_user_id',              ###########################\n",
    "    'a_follower_count',       #Engaged With User Features\n",
    "    'a_following_count',      #\n",
    "    'a_is_verified',          #\n",
    "    'a_account_creation',     ###########################\n",
    "    'b_user_id',              #######################\n",
    "    'b_follower_count',       #Engaging User Features\n",
    "    'b_following_count',      #\n",
    "    'b_is_verified',          #\n",
    "    'b_account_creation',     #######################\n",
    "    'b_follows_a',    #################### Engagement Features\n",
    "    'reply',          #Target Reply\n",
    "    'retweet',        #Target Retweet    \n",
    "    'retweet_comment',#Target Retweet with comment\n",
    "    'like',           #Target Like\n",
    "                      ####################\n",
    "]\n",
    "df.columns = features\n",
    "\n",
    "df = df.drop('text_tokens', axis=1)\n",
    "df, = dask.persist(df)\n",
    "_ = wait(df)\n",
    "df.head()"
   ]
  },
  {
   "cell_type": "code",
   "execution_count": 7,
   "metadata": {},
   "outputs": [
    {
     "output_type": "execute_result",
     "data": {
      "text/plain": [
       "hashtags               object\n",
       "tweet_id               object\n",
       "media                  object\n",
       "links                  object\n",
       "domains                object\n",
       "tweet_type             object\n",
       "language               object\n",
       "timestamp               int64\n",
       "a_user_id              object\n",
       "a_follower_count        int64\n",
       "a_following_count       int64\n",
       "a_is_verified            bool\n",
       "a_account_creation      int64\n",
       "b_user_id              object\n",
       "b_follower_count        int64\n",
       "b_following_count       int64\n",
       "b_is_verified            bool\n",
       "b_account_creation      int64\n",
       "b_follows_a              bool\n",
       "reply                 float64\n",
       "retweet               float64\n",
       "retweet_comment       float64\n",
       "like                  float64\n",
       "dtype: object"
      ]
     },
     "metadata": {},
     "execution_count": 7
    }
   ],
   "source": [
    "df.dtypes"
   ]
  },
  {
   "cell_type": "code",
   "execution_count": 8,
   "metadata": {
    "scrolled": true
   },
   "outputs": [
    {
     "output_type": "stream",
     "name": "stdout",
     "text": [
      "CPU times: user 2.83 s, sys: 280 ms, total: 3.11 s\nWall time: 1min 46s\n"
     ]
    }
   ],
   "source": [
    "%%time\n",
    "df['id']   = 1\n",
    "df['id']   = df['id'].cumsum()\n",
    "df['id'] = df['id'].astype('int32')\n",
    "\n",
    "df['reply']   = df['reply'].fillna(0)\n",
    "df['retweet'] = df['retweet'].fillna(0)\n",
    "df['retweet_comment'] = df['retweet_comment'].fillna(0)\n",
    "df['like']    = df['like'].fillna(0)\n",
    "\n",
    "df['reply']   = df['reply'].astype('int32')\n",
    "df['retweet'] = df['retweet'].astype('int32')\n",
    "df['retweet_comment'] = df['retweet_comment'].astype('int32')\n",
    "df['like']    = df['like'].astype('int32')\n",
    "df, = dask.persist(df)\n",
    "_ = wait(df)"
   ]
  },
  {
   "cell_type": "code",
   "execution_count": 9,
   "metadata": {},
   "outputs": [
    {
     "output_type": "stream",
     "name": "stdout",
     "text": [
      "CPU times: user 2.11 s, sys: 360 ms, total: 2.47 s\nWall time: 1min 38s\n"
     ]
    },
    {
     "output_type": "execute_result",
     "data": {
      "text/plain": [
       "                                            hashtags  \\\n",
       "0  A3D61C03DBCE2F920350379414E0048B\\t867E9AB76EFF...   \n",
       "1                                               <NA>   \n",
       "2                                               <NA>   \n",
       "3                                               <NA>   \n",
       "4                                               <NA>   \n",
       "\n",
       "                           tweet_id  media links domains tweet_type  \\\n",
       "0  29083D10151BD72E2459635EA38AC8B3  Photo  <NA>    <NA>   TopLevel   \n",
       "1  D717A0A251D46C3382D55CA36DDC7F33   <NA>  <NA>    <NA>      Quote   \n",
       "2  2B880E288129B67CF644D6123C923EBF   <NA>  <NA>    <NA>   TopLevel   \n",
       "3  AE9DD310CF14AFD4F1A95902521FF132   <NA>  <NA>    <NA>   TopLevel   \n",
       "4  E5A28F213A16FF06D0CEE628F9A01E16   <NA>  <NA>    <NA>    Retweet   \n",
       "\n",
       "                           language   timestamp  \\\n",
       "0  22C448FF81263D4BAF2A176145EE9EAD  1581472519   \n",
       "1  ECED8A16BE2A5E8871FD55F4842F16B1  1581124265   \n",
       "2  9BF3403E0EB7EA8A256DA9019C0B0716  1581166895   \n",
       "3  22C448FF81263D4BAF2A176145EE9EAD  1581375781   \n",
       "4  D3164C7FBCF2565DDF915B1B3AEFB1DC  1580996019   \n",
       "\n",
       "                          a_user_id  a_follower_count  ...  b_follower_count  \\\n",
       "0  DA64544DF9826E9F284F4FF6CE624F7A             11005  ...                 4   \n",
       "1  2D17D33032F1DFFAA740384DFE68C7BB               425  ...               225   \n",
       "2  092FBF2F7989B4B817428B4AD44DCD37            298336  ...                 4   \n",
       "3  054BA689B31AEFD429EE2DED113F92DA              1115  ...               780   \n",
       "4  B28168B03223509298F983523265035C             63473  ...               180   \n",
       "\n",
       "   b_following_count  b_is_verified  b_account_creation  b_follows_a  reply  \\\n",
       "0                  6          False          1568940527         True      0   \n",
       "1                185          False          1541013180         True      0   \n",
       "2                 72          False          1573996260        False      0   \n",
       "3                440          False          1432084055         True      0   \n",
       "4                 32          False          1490688761        False      0   \n",
       "\n",
       "   retweet  retweet_comment        like  id  \n",
       "0        0                0           0   1  \n",
       "1        0                0  1581174423   2  \n",
       "2        0                0  1581201675   3  \n",
       "3        0                0  1581437254   4  \n",
       "4        0                0           0   5  \n",
       "\n",
       "[5 rows x 24 columns]"
      ],
      "text/html": "<div>\n<style scoped>\n    .dataframe tbody tr th:only-of-type {\n        vertical-align: middle;\n    }\n\n    .dataframe tbody tr th {\n        vertical-align: top;\n    }\n\n    .dataframe thead th {\n        text-align: right;\n    }\n</style>\n<table border=\"1\" class=\"dataframe\">\n  <thead>\n    <tr style=\"text-align: right;\">\n      <th></th>\n      <th>hashtags</th>\n      <th>tweet_id</th>\n      <th>media</th>\n      <th>links</th>\n      <th>domains</th>\n      <th>tweet_type</th>\n      <th>language</th>\n      <th>timestamp</th>\n      <th>a_user_id</th>\n      <th>a_follower_count</th>\n      <th>...</th>\n      <th>b_follower_count</th>\n      <th>b_following_count</th>\n      <th>b_is_verified</th>\n      <th>b_account_creation</th>\n      <th>b_follows_a</th>\n      <th>reply</th>\n      <th>retweet</th>\n      <th>retweet_comment</th>\n      <th>like</th>\n      <th>id</th>\n    </tr>\n  </thead>\n  <tbody>\n    <tr>\n      <th>0</th>\n      <td>A3D61C03DBCE2F920350379414E0048B\\t867E9AB76EFF...</td>\n      <td>29083D10151BD72E2459635EA38AC8B3</td>\n      <td>Photo</td>\n      <td>&lt;NA&gt;</td>\n      <td>&lt;NA&gt;</td>\n      <td>TopLevel</td>\n      <td>22C448FF81263D4BAF2A176145EE9EAD</td>\n      <td>1581472519</td>\n      <td>DA64544DF9826E9F284F4FF6CE624F7A</td>\n      <td>11005</td>\n      <td>...</td>\n      <td>4</td>\n      <td>6</td>\n      <td>False</td>\n      <td>1568940527</td>\n      <td>True</td>\n      <td>0</td>\n      <td>0</td>\n      <td>0</td>\n      <td>0</td>\n      <td>1</td>\n    </tr>\n    <tr>\n      <th>1</th>\n      <td>&lt;NA&gt;</td>\n      <td>D717A0A251D46C3382D55CA36DDC7F33</td>\n      <td>&lt;NA&gt;</td>\n      <td>&lt;NA&gt;</td>\n      <td>&lt;NA&gt;</td>\n      <td>Quote</td>\n      <td>ECED8A16BE2A5E8871FD55F4842F16B1</td>\n      <td>1581124265</td>\n      <td>2D17D33032F1DFFAA740384DFE68C7BB</td>\n      <td>425</td>\n      <td>...</td>\n      <td>225</td>\n      <td>185</td>\n      <td>False</td>\n      <td>1541013180</td>\n      <td>True</td>\n      <td>0</td>\n      <td>0</td>\n      <td>0</td>\n      <td>1581174423</td>\n      <td>2</td>\n    </tr>\n    <tr>\n      <th>2</th>\n      <td>&lt;NA&gt;</td>\n      <td>2B880E288129B67CF644D6123C923EBF</td>\n      <td>&lt;NA&gt;</td>\n      <td>&lt;NA&gt;</td>\n      <td>&lt;NA&gt;</td>\n      <td>TopLevel</td>\n      <td>9BF3403E0EB7EA8A256DA9019C0B0716</td>\n      <td>1581166895</td>\n      <td>092FBF2F7989B4B817428B4AD44DCD37</td>\n      <td>298336</td>\n      <td>...</td>\n      <td>4</td>\n      <td>72</td>\n      <td>False</td>\n      <td>1573996260</td>\n      <td>False</td>\n      <td>0</td>\n      <td>0</td>\n      <td>0</td>\n      <td>1581201675</td>\n      <td>3</td>\n    </tr>\n    <tr>\n      <th>3</th>\n      <td>&lt;NA&gt;</td>\n      <td>AE9DD310CF14AFD4F1A95902521FF132</td>\n      <td>&lt;NA&gt;</td>\n      <td>&lt;NA&gt;</td>\n      <td>&lt;NA&gt;</td>\n      <td>TopLevel</td>\n      <td>22C448FF81263D4BAF2A176145EE9EAD</td>\n      <td>1581375781</td>\n      <td>054BA689B31AEFD429EE2DED113F92DA</td>\n      <td>1115</td>\n      <td>...</td>\n      <td>780</td>\n      <td>440</td>\n      <td>False</td>\n      <td>1432084055</td>\n      <td>True</td>\n      <td>0</td>\n      <td>0</td>\n      <td>0</td>\n      <td>1581437254</td>\n      <td>4</td>\n    </tr>\n    <tr>\n      <th>4</th>\n      <td>&lt;NA&gt;</td>\n      <td>E5A28F213A16FF06D0CEE628F9A01E16</td>\n      <td>&lt;NA&gt;</td>\n      <td>&lt;NA&gt;</td>\n      <td>&lt;NA&gt;</td>\n      <td>Retweet</td>\n      <td>D3164C7FBCF2565DDF915B1B3AEFB1DC</td>\n      <td>1580996019</td>\n      <td>B28168B03223509298F983523265035C</td>\n      <td>63473</td>\n      <td>...</td>\n      <td>180</td>\n      <td>32</td>\n      <td>False</td>\n      <td>1490688761</td>\n      <td>False</td>\n      <td>0</td>\n      <td>0</td>\n      <td>0</td>\n      <td>0</td>\n      <td>5</td>\n    </tr>\n  </tbody>\n</table>\n<p>5 rows × 24 columns</p>\n</div>"
     },
     "metadata": {},
     "execution_count": 9
    }
   ],
   "source": [
    "%%time\n",
    "\n",
    "df['timestamp']         = df['timestamp'].astype( np.int32 )\n",
    "df['a_follower_count']  = df['a_follower_count'].astype( np.int32 )\n",
    "df['a_following_count'] = df['a_following_count'].astype( np.int32 )\n",
    "df['a_account_creation']= df['a_account_creation'].astype( np.int32 )\n",
    "df['b_follower_count']  = df['b_follower_count'].astype( np.int32 )\n",
    "df['b_following_count'] = df['b_following_count'].astype( np.int32 )\n",
    "df['b_account_creation']= df['b_account_creation'].astype( np.int32 )\n",
    "\n",
    "df, = dask.persist(df)\n",
    "_ = wait(df)\n",
    "df.head()"
   ]
  },
  {
   "cell_type": "code",
   "execution_count": 10,
   "metadata": {},
   "outputs": [
    {
     "output_type": "execute_result",
     "data": {
      "text/plain": [
       "hashtags              object\n",
       "tweet_id              object\n",
       "media                 object\n",
       "links                 object\n",
       "domains               object\n",
       "tweet_type            object\n",
       "language              object\n",
       "timestamp              int32\n",
       "a_user_id             object\n",
       "a_follower_count       int32\n",
       "a_following_count      int32\n",
       "a_is_verified           bool\n",
       "a_account_creation     int32\n",
       "b_user_id             object\n",
       "b_follower_count       int32\n",
       "b_following_count      int32\n",
       "b_is_verified           bool\n",
       "b_account_creation     int32\n",
       "b_follows_a             bool\n",
       "reply                  int32\n",
       "retweet                int32\n",
       "retweet_comment        int32\n",
       "like                   int32\n",
       "id                     int32\n",
       "dtype: object"
      ]
     },
     "metadata": {},
     "execution_count": 10
    }
   ],
   "source": [
    "df.dtypes"
   ]
  },
  {
   "cell_type": "code",
   "execution_count": 11,
   "metadata": {},
   "outputs": [
    {
     "output_type": "stream",
     "name": "stdout",
     "text": [
      "number of rows: 9760684\nCPU times: user 1 s, sys: 140 ms, total: 1.14 s\nWall time: 49.5 s\n"
     ]
    }
   ],
   "source": [
    "%%time\n",
    "dv = dask_cudf.read_csv('/home/pinto/val.tsv', sep='\\x01', header=None)\n",
    "dv = dv.repartition(npartitions=NP)\n",
    "dv, = dask.persist(dv)\n",
    "_ = wait(dv)\n",
    "print('number of rows:',len(dv))"
   ]
  },
  {
   "cell_type": "code",
   "execution_count": 12,
   "metadata": {
    "scrolled": true
   },
   "outputs": [
    {
     "output_type": "stream",
     "name": "stdout",
     "text": [
      "                                                   0     1  \\\n",
      "0  101\\t10117\\t140\\t119\\t142\\t119\\t152\\t119\\t1010...  <NA>   \n",
      "1  101\\t10105\\t10817\\t10124\\t59232\\t18121\\t15629\\...  <NA>   \n",
      "2  101\\t48561\\t10116\\t67737\\t18554\\t36371\\t10989\\...  <NA>   \n",
      "3  101\\t100055\\t69940\\t10414\\t159\\t11305\\t11166\\t...  <NA>   \n",
      "4  101\\t62154\\t32221\\t71843\\t10143\\t10237\\t15507\\...  <NA>   \n",
      "\n",
      "                                  2      3                                 4  \\\n",
      "0  373C0F43762B7CEC1D75728BE8A33891   <NA>  A2CE3A1941BA410A1C31496C355EFCD7   \n",
      "1  773A92D9E4824D06105C02BD044BB20A   <NA>                              <NA>   \n",
      "2  218A6C27871801759F7380D7C41694A6   <NA>  5C683B5A29B308CADD0D7EFA7C9C32D3   \n",
      "3  AB817EBA68064A0C8CBF4A6C059D92DC  Photo  E925556EE312213AD98C4D9F131D7A8D   \n",
      "4  349120C1E2801857530393F16D4653A5   <NA>                              <NA>   \n",
      "\n",
      "                                  5         6  \\\n",
      "0  E14AF8A8D257BB47587843FE7D08382B  TopLevel   \n",
      "1                              <NA>     Quote   \n",
      "2  6717B03E03DEE1D7ACAE37649ACA7BD6  TopLevel   \n",
      "3  D722330FEBEAAE68B4F4339CE8BD7C70  TopLevel   \n",
      "4                              <NA>  TopLevel   \n",
      "\n",
      "                                  7           8  \\\n",
      "0  D3164C7FBCF2565DDF915B1B3AEFB1DC  1582126349   \n",
      "1  D3164C7FBCF2565DDF915B1B3AEFB1DC  1581971193   \n",
      "2  9BF3403E0EB7EA8A256DA9019C0B0716  1582047119   \n",
      "3  691890251F2B9FF922BE6D3699ABEFD2  1581554925   \n",
      "4  9BF3403E0EB7EA8A256DA9019C0B0716  1581568955   \n",
      "\n",
      "                                  9  ...                                14  \\\n",
      "0  2A8B6AD2B9D55F535C2441AB673133D2  ...  00000865A1538142CDA5936B07FE4311   \n",
      "1  950A95B81407F33C412E520BE55A1450  ...  000009A057792FF118B9E3F2578B8407   \n",
      "2  ABB2F7F22C34057BC7B30D627B0C137A  ...  00000DEF82BE9EB5CFD07FB7DB94317B   \n",
      "3  03F96C3B7CE2179B6347AA395880C963  ...  0000109A57AFA64758EE4AAE2A01BFC7   \n",
      "4  E035DCB47CB3DF98C5CD7CFEEC3BC704  ...  000012366528B5FEE179A9606DBC9826   \n",
      "\n",
      "     15    16     17          18     19               20    21    22    23  \n",
      "0    65   166  False  1452599043  False             <NA>  <NA>  <NA>  <NA>  \n",
      "1  1814  1314  False  1322868747   True  1.581979318e+09  <NA>  <NA>  <NA>  \n",
      "2     4    73  False  1573996260  False             <NA>  <NA>  <NA>  <NA>  \n",
      "3    15   124  False  1385502405   True             <NA>  <NA>  <NA>  <NA>  \n",
      "4  1226   655  False  1268639592   True  1.581570171e+09  <NA>  <NA>  <NA>  \n",
      "\n",
      "[5 rows x 24 columns]\n",
      "CPU times: user 168 ms, sys: 8 ms, total: 176 ms\n",
      "Wall time: 1.18 s\n"
     ]
    }
   ],
   "source": [
    "%%time\n",
    "print(dv.head())\n",
    "features = [\n",
    "    'text_tokens',    ###############\n",
    "    'hashtags',       #Tweet Features\n",
    "    'tweet_id',       #\n",
    "    'media',          #\n",
    "    'links',          #\n",
    "    'domains',        #\n",
    "    'tweet_type',     #\n",
    "    'language',       #\n",
    "    'timestamp',      ###############\n",
    "    'a_user_id',              ###########################\n",
    "    'a_follower_count',       #Engaged With User Features\n",
    "    'a_following_count',      #\n",
    "    'a_is_verified',          #\n",
    "    'a_account_creation',     ###########################\n",
    "    'b_user_id',              #######################\n",
    "    'b_follower_count',       #Engaging User Features\n",
    "    'b_following_count',      #\n",
    "    'b_is_verified',          #\n",
    "    'b_account_creation',     #######################\n",
    "    'b_follows_a',    #################### Engagement Features\n",
    "    'reply',          #Target Reply\n",
    "    'retweet',        #Target Retweet    \n",
    "    'retweet_comment',#Target Retweet with comment\n",
    "    'like',           #Target Like\n",
    "                      ####################\n",
    "]\n",
    "dv.columns = features\n",
    "dv = dv.drop('text_tokens', axis=1)\n",
    "dv, = dask.persist(dv)\n",
    "_ = wait(dv)"
   ]
  },
  {
   "cell_type": "code",
   "execution_count": 13,
   "metadata": {},
   "outputs": [
    {
     "output_type": "stream",
     "name": "stdout",
     "text": [
      "CPU times: user 1.5 s, sys: 112 ms, total: 1.62 s\nWall time: 42 s\n"
     ]
    }
   ],
   "source": [
    "%%time\n",
    "\n",
    "dv['reply']           = 0\n",
    "dv['retweet']         = 0\n",
    "dv['retweet_comment'] = 0\n",
    "dv['like']            = 0\n",
    "\n",
    "dv['id']   = 1\n",
    "dv['id']   = dv['id'].cumsum()\n",
    "dv['id'] = dv['id'] + len(df)\n",
    "dv['id'] = dv['id'].astype('int32')\n",
    "\n",
    "dv['reply']           = dv['reply'].astype( np.int32 )\n",
    "dv['retweet']         = dv['retweet'].astype( np.int32 )\n",
    "dv['retweet_comment'] = dv['retweet_comment'].astype( np.int32 )\n",
    "dv['like']            = dv['like'].astype( np.int32 )\n",
    "\n",
    "dv['timestamp']         = dv['timestamp'].astype( np.int32 )\n",
    "dv['a_follower_count']  = dv['a_follower_count'].astype( np.int32 )\n",
    "dv['a_following_count'] = dv['a_following_count'].astype( np.int32 )\n",
    "dv['a_account_creation']= dv['a_account_creation'].astype( np.int32 )\n",
    "dv['b_follower_count']  = dv['b_follower_count'].astype( np.int32 )\n",
    "dv['b_following_count'] = dv['b_following_count'].astype( np.int32 )\n",
    "dv['b_account_creation']= dv['b_account_creation'].astype( np.int32 )\n",
    "dv, = dask.persist(dv)\n",
    "_ = wait(dv)"
   ]
  },
  {
   "cell_type": "code",
   "execution_count": 14,
   "metadata": {},
   "outputs": [
    {
     "output_type": "stream",
     "name": "stdout",
     "text": [
      "CPU times: user 940 ms, sys: 160 ms, total: 1.1 s\nWall time: 49.9 s\n"
     ]
    }
   ],
   "source": [
    "%%time\n",
    "dt = dask_cudf.read_csv(f'/home/pinto/test.tsv', sep='\\x01', header=None)\n",
    "dt = dt.repartition(npartitions=NP)\n",
    "dt, = dask.persist(dt)\n",
    "_ = wait(dt)"
   ]
  },
  {
   "cell_type": "code",
   "execution_count": 15,
   "metadata": {},
   "outputs": [
    {
     "output_type": "stream",
     "name": "stdout",
     "text": [
      "                                                   0  \\\n",
      "0  101\\t3100\\t5477\\t3028\\t4348\\t1924\\t111806\\t186...   \n",
      "1  101\\t56898\\t137\\t36110\\t10400\\t168\\t64062\\t131...   \n",
      "2  101\\t10117\\t23672\\t12610\\t86532\\t11205\\t90138\\...   \n",
      "3  101\\t13690\\t14372\\t119\\t119\\t19281\\t25444\\t984...   \n",
      "4  101\\t56898\\t137\\t171\\t64791\\t168\\t11499\\t10330...   \n",
      "\n",
      "                                                   1  \\\n",
      "0                                               <NA>   \n",
      "1  024FE90EC2C01B3CDC46A5A90D66B020\\t1B78BDD9C7FF...   \n",
      "2                                               <NA>   \n",
      "3                                               <NA>   \n",
      "4  9533703A3BB1CBA49AC0547C4A9F8043\\t4C57C1D9063D...   \n",
      "\n",
      "                                  2      3     4     5         6  \\\n",
      "0  04746004AA1F5498834CE7A4C6343D1A   <NA>  <NA>  <NA>  TopLevel   \n",
      "1  B5C4CBE185831F3E5A58A4D81118D4C7   <NA>  <NA>  <NA>   Retweet   \n",
      "2  8747BA89E3245FE4097C9E4E0AE40862  Video  <NA>  <NA>  TopLevel   \n",
      "3  1CD2139E249349CBD5A0576D163C5EF8  Photo  <NA>  <NA>  TopLevel   \n",
      "4  BDFA89609AC3EDDE250DCECD964B5890  Photo  <NA>  <NA>   Retweet   \n",
      "\n",
      "                                  7           8  \\\n",
      "0  22C448FF81263D4BAF2A176145EE9EAD  1581759640   \n",
      "1  22C448FF81263D4BAF2A176145EE9EAD  1581668217   \n",
      "2  D3164C7FBCF2565DDF915B1B3AEFB1DC  1581876000   \n",
      "3  D3164C7FBCF2565DDF915B1B3AEFB1DC  1581646803   \n",
      "4  22C448FF81263D4BAF2A176145EE9EAD  1581623428   \n",
      "\n",
      "                                  9  ...                                14  \\\n",
      "0  6720CC7830F94CB7465CA283300DB010  ...  00000776B07587ECA9717BFC301F2D6E   \n",
      "1  7DDC67265CFB6E0B4820E0BD0E33A8D3  ...  00000776B07587ECA9717BFC301F2D6E   \n",
      "2  1C0B9850DE2A34BA8B8DF413F5C13233  ...  0000109A57AFA64758EE4AAE2A01BFC7   \n",
      "3  94FBB99CE36D7A152DABA57CEF62F75E  ...  000013315386492275CCBF7AEF293EF0   \n",
      "4  311BB1E051070C2639BC632ECDE69C43  ...  000013315386492275CCBF7AEF293EF0   \n",
      "\n",
      "    15   16     17          18     19    20    21    22               23  \n",
      "0  111  673  False  1478011810   True  <NA>  <NA>  <NA>  1.581774852e+09  \n",
      "1  111  673  False  1478011810   True  <NA>  <NA>  <NA>   1.58168445e+09  \n",
      "2   15  123  False  1385502405  False  <NA>  <NA>  <NA>             <NA>  \n",
      "3  141  955  False  1335110299  False  <NA>  <NA>  <NA>             <NA>  \n",
      "4  139  953  False  1335110299  False  <NA>  <NA>  <NA>             <NA>  \n",
      "\n",
      "[5 rows x 24 columns]\n",
      "number of rows: 9765321\n",
      "CPU times: user 220 ms, sys: 24 ms, total: 244 ms\n",
      "Wall time: 2.62 s\n"
     ]
    }
   ],
   "source": [
    "%%time\n",
    "print(dt.head())\n",
    "features = [\n",
    "    'text_tokens',    ###############\n",
    "    'hashtags',       #Tweet Features\n",
    "    'tweet_id',       #\n",
    "    'media',          #\n",
    "    'links',          #\n",
    "    'domains',        #\n",
    "    'tweet_type',     #\n",
    "    'language',       #\n",
    "    'timestamp',      ###############\n",
    "    'a_user_id',              ###########################\n",
    "    'a_follower_count',       #Engaged With User Features\n",
    "    'a_following_count',      #\n",
    "    'a_is_verified',          #\n",
    "    'a_account_creation',     ###########################\n",
    "    'b_user_id',              #######################\n",
    "    'b_follower_count',       #Engaging User Features\n",
    "    'b_following_count',      #\n",
    "    'b_is_verified',          #\n",
    "    'b_account_creation',     #######################\n",
    "    'b_follows_a',    #################### Engagement Features\n",
    "    'reply',          #Target Reply\n",
    "    'retweet',        #Target Retweet    \n",
    "    'retweet_comment',#Target Retweet with comment\n",
    "    'like',           #Target Like\n",
    "                      ####################\n",
    "]\n",
    "dt.columns = features\n",
    "dt = dt.drop('text_tokens', axis=1)\n",
    "dt, = dask.persist(dt)\n",
    "_ = wait(dt)\n",
    "print('number of rows:',len(dt))"
   ]
  },
  {
   "cell_type": "code",
   "execution_count": 16,
   "metadata": {},
   "outputs": [
    {
     "output_type": "stream",
     "name": "stdout",
     "text": [
      "(Delayed('int-9ddd6ef8-7e76-497c-9621-832987bac313'), 24) (Delayed('int-9fb6bc9d-dcf4-4064-b52d-4eba96857a8c'), 24) (Delayed('int-8130f1bb-0c8c-40ea-b182-bd835ac37f37'), 24)\nCPU times: user 1.7 s, sys: 200 ms, total: 1.9 s\nWall time: 46.3 s\n"
     ]
    },
    {
     "output_type": "execute_result",
     "data": {
      "text/plain": [
       "                                            hashtags  \\\n",
       "0                                               <NA>   \n",
       "1  024FE90EC2C01B3CDC46A5A90D66B020\\t1B78BDD9C7FF...   \n",
       "2                                               <NA>   \n",
       "3                                               <NA>   \n",
       "4  9533703A3BB1CBA49AC0547C4A9F8043\\t4C57C1D9063D...   \n",
       "\n",
       "                           tweet_id  media links domains tweet_type  \\\n",
       "0  04746004AA1F5498834CE7A4C6343D1A   <NA>  <NA>    <NA>   TopLevel   \n",
       "1  B5C4CBE185831F3E5A58A4D81118D4C7   <NA>  <NA>    <NA>    Retweet   \n",
       "2  8747BA89E3245FE4097C9E4E0AE40862  Video  <NA>    <NA>   TopLevel   \n",
       "3  1CD2139E249349CBD5A0576D163C5EF8  Photo  <NA>    <NA>   TopLevel   \n",
       "4  BDFA89609AC3EDDE250DCECD964B5890  Photo  <NA>    <NA>    Retweet   \n",
       "\n",
       "                           language   timestamp  \\\n",
       "0  22C448FF81263D4BAF2A176145EE9EAD  1581759640   \n",
       "1  22C448FF81263D4BAF2A176145EE9EAD  1581668217   \n",
       "2  D3164C7FBCF2565DDF915B1B3AEFB1DC  1581876000   \n",
       "3  D3164C7FBCF2565DDF915B1B3AEFB1DC  1581646803   \n",
       "4  22C448FF81263D4BAF2A176145EE9EAD  1581623428   \n",
       "\n",
       "                          a_user_id  a_follower_count  ...  b_follower_count  \\\n",
       "0  6720CC7830F94CB7465CA283300DB010               119  ...               111   \n",
       "1  7DDC67265CFB6E0B4820E0BD0E33A8D3               189  ...               111   \n",
       "2  1C0B9850DE2A34BA8B8DF413F5C13233            405907  ...                15   \n",
       "3  94FBB99CE36D7A152DABA57CEF62F75E            111841  ...               141   \n",
       "4  311BB1E051070C2639BC632ECDE69C43              3577  ...               139   \n",
       "\n",
       "   b_following_count  b_is_verified  b_account_creation  b_follows_a  reply  \\\n",
       "0                673          False          1478011810         True      0   \n",
       "1                673          False          1478011810         True      0   \n",
       "2                123          False          1385502405        False      0   \n",
       "3                955          False          1335110299        False      0   \n",
       "4                953          False          1335110299        False      0   \n",
       "\n",
       "   retweet  retweet_comment  like         id  \n",
       "0        0                0     0  116015147  \n",
       "1        0                0     0  116015148  \n",
       "2        0                0     0  116015149  \n",
       "3        0                0     0  116015150  \n",
       "4        0                0     0  116015151  \n",
       "\n",
       "[5 rows x 24 columns]"
      ],
      "text/html": "<div>\n<style scoped>\n    .dataframe tbody tr th:only-of-type {\n        vertical-align: middle;\n    }\n\n    .dataframe tbody tr th {\n        vertical-align: top;\n    }\n\n    .dataframe thead th {\n        text-align: right;\n    }\n</style>\n<table border=\"1\" class=\"dataframe\">\n  <thead>\n    <tr style=\"text-align: right;\">\n      <th></th>\n      <th>hashtags</th>\n      <th>tweet_id</th>\n      <th>media</th>\n      <th>links</th>\n      <th>domains</th>\n      <th>tweet_type</th>\n      <th>language</th>\n      <th>timestamp</th>\n      <th>a_user_id</th>\n      <th>a_follower_count</th>\n      <th>...</th>\n      <th>b_follower_count</th>\n      <th>b_following_count</th>\n      <th>b_is_verified</th>\n      <th>b_account_creation</th>\n      <th>b_follows_a</th>\n      <th>reply</th>\n      <th>retweet</th>\n      <th>retweet_comment</th>\n      <th>like</th>\n      <th>id</th>\n    </tr>\n  </thead>\n  <tbody>\n    <tr>\n      <th>0</th>\n      <td>&lt;NA&gt;</td>\n      <td>04746004AA1F5498834CE7A4C6343D1A</td>\n      <td>&lt;NA&gt;</td>\n      <td>&lt;NA&gt;</td>\n      <td>&lt;NA&gt;</td>\n      <td>TopLevel</td>\n      <td>22C448FF81263D4BAF2A176145EE9EAD</td>\n      <td>1581759640</td>\n      <td>6720CC7830F94CB7465CA283300DB010</td>\n      <td>119</td>\n      <td>...</td>\n      <td>111</td>\n      <td>673</td>\n      <td>False</td>\n      <td>1478011810</td>\n      <td>True</td>\n      <td>0</td>\n      <td>0</td>\n      <td>0</td>\n      <td>0</td>\n      <td>116015147</td>\n    </tr>\n    <tr>\n      <th>1</th>\n      <td>024FE90EC2C01B3CDC46A5A90D66B020\\t1B78BDD9C7FF...</td>\n      <td>B5C4CBE185831F3E5A58A4D81118D4C7</td>\n      <td>&lt;NA&gt;</td>\n      <td>&lt;NA&gt;</td>\n      <td>&lt;NA&gt;</td>\n      <td>Retweet</td>\n      <td>22C448FF81263D4BAF2A176145EE9EAD</td>\n      <td>1581668217</td>\n      <td>7DDC67265CFB6E0B4820E0BD0E33A8D3</td>\n      <td>189</td>\n      <td>...</td>\n      <td>111</td>\n      <td>673</td>\n      <td>False</td>\n      <td>1478011810</td>\n      <td>True</td>\n      <td>0</td>\n      <td>0</td>\n      <td>0</td>\n      <td>0</td>\n      <td>116015148</td>\n    </tr>\n    <tr>\n      <th>2</th>\n      <td>&lt;NA&gt;</td>\n      <td>8747BA89E3245FE4097C9E4E0AE40862</td>\n      <td>Video</td>\n      <td>&lt;NA&gt;</td>\n      <td>&lt;NA&gt;</td>\n      <td>TopLevel</td>\n      <td>D3164C7FBCF2565DDF915B1B3AEFB1DC</td>\n      <td>1581876000</td>\n      <td>1C0B9850DE2A34BA8B8DF413F5C13233</td>\n      <td>405907</td>\n      <td>...</td>\n      <td>15</td>\n      <td>123</td>\n      <td>False</td>\n      <td>1385502405</td>\n      <td>False</td>\n      <td>0</td>\n      <td>0</td>\n      <td>0</td>\n      <td>0</td>\n      <td>116015149</td>\n    </tr>\n    <tr>\n      <th>3</th>\n      <td>&lt;NA&gt;</td>\n      <td>1CD2139E249349CBD5A0576D163C5EF8</td>\n      <td>Photo</td>\n      <td>&lt;NA&gt;</td>\n      <td>&lt;NA&gt;</td>\n      <td>TopLevel</td>\n      <td>D3164C7FBCF2565DDF915B1B3AEFB1DC</td>\n      <td>1581646803</td>\n      <td>94FBB99CE36D7A152DABA57CEF62F75E</td>\n      <td>111841</td>\n      <td>...</td>\n      <td>141</td>\n      <td>955</td>\n      <td>False</td>\n      <td>1335110299</td>\n      <td>False</td>\n      <td>0</td>\n      <td>0</td>\n      <td>0</td>\n      <td>0</td>\n      <td>116015150</td>\n    </tr>\n    <tr>\n      <th>4</th>\n      <td>9533703A3BB1CBA49AC0547C4A9F8043\\t4C57C1D9063D...</td>\n      <td>BDFA89609AC3EDDE250DCECD964B5890</td>\n      <td>Photo</td>\n      <td>&lt;NA&gt;</td>\n      <td>&lt;NA&gt;</td>\n      <td>Retweet</td>\n      <td>22C448FF81263D4BAF2A176145EE9EAD</td>\n      <td>1581623428</td>\n      <td>311BB1E051070C2639BC632ECDE69C43</td>\n      <td>3577</td>\n      <td>...</td>\n      <td>139</td>\n      <td>953</td>\n      <td>False</td>\n      <td>1335110299</td>\n      <td>False</td>\n      <td>0</td>\n      <td>0</td>\n      <td>0</td>\n      <td>0</td>\n      <td>116015151</td>\n    </tr>\n  </tbody>\n</table>\n<p>5 rows × 24 columns</p>\n</div>"
     },
     "metadata": {},
     "execution_count": 16
    }
   ],
   "source": [
    "%%time\n",
    "dt['reply']           = 0\n",
    "dt['retweet']         = 0\n",
    "dt['retweet_comment'] = 0\n",
    "dt['like']            = 0\n",
    "\n",
    "dt['id']   = 1\n",
    "dt['id']   = dt['id'].cumsum()\n",
    "dt['id']   = dt['id']+len(df)+len(dv)\n",
    "dt['id']   = dt['id'].astype('int32')\n",
    "\n",
    "dt['reply']           = dt['reply'].astype( np.int32 )\n",
    "dt['retweet']         = dt['retweet'].astype( np.int32 )\n",
    "dt['retweet_comment'] = dt['retweet_comment'].astype( np.int32 )\n",
    "dt['like']            = dt['like'].astype( np.int32 )\n",
    "\n",
    "dt['timestamp']         = dt['timestamp'].astype( np.int32 )\n",
    "dt['a_follower_count']  = dt['a_follower_count'].astype( np.int32 )\n",
    "dt['a_following_count'] = dt['a_following_count'].astype( np.int32 )\n",
    "dt['a_account_creation']= dt['a_account_creation'].astype( np.int32 )\n",
    "dt['b_follower_count']  = dt['b_follower_count'].astype( np.int32 )\n",
    "dt['b_following_count'] = dt['b_following_count'].astype( np.int32 )\n",
    "dt['b_account_creation']= dt['b_account_creation'].astype( np.int32 )\n",
    "\n",
    "dt, = dask.persist(dt)\n",
    "_ = wait(dt)\n",
    "print(df.shape,dv.shape,dt.shape)\n",
    "dt.head()"
   ]
  },
  {
   "cell_type": "code",
   "execution_count": 17,
   "metadata": {},
   "outputs": [
    {
     "output_type": "stream",
     "name": "stdout",
     "text": [
      "106254462 9760684 9765321\n"
     ]
    }
   ],
   "source": [
    "train_size = len(df)#.shape[0]\n",
    "test0_size = len(dv)#.shape[0]\n",
    "test1_size = len(dt)#.shape[0]\n",
    "print(train_size,test0_size,test1_size)"
   ]
  },
  {
   "cell_type": "code",
   "execution_count": 18,
   "metadata": {},
   "outputs": [
    {
     "output_type": "stream",
     "name": "stdout",
     "text": [
      "CPU times: user 836 ms, sys: 48 ms, total: 884 ms\nWall time: 34.4 s\n"
     ]
    }
   ],
   "source": [
    "%%time\n",
    "df = dask_cudf.concat( [df,dv,dt] )\n",
    "df, = dask.persist(df)\n",
    "wait(df)\n",
    "del dv, dt"
   ]
  },
  {
   "cell_type": "code",
   "execution_count": 19,
   "metadata": {},
   "outputs": [
    {
     "output_type": "execute_result",
     "data": {
      "text/plain": [
       "0    22C448FF81263D4BAF2A176145EE9EAD\n",
       "1    ECED8A16BE2A5E8871FD55F4842F16B1\n",
       "2    9BF3403E0EB7EA8A256DA9019C0B0716\n",
       "3    22C448FF81263D4BAF2A176145EE9EAD\n",
       "4    D3164C7FBCF2565DDF915B1B3AEFB1DC\n",
       "Name: language, dtype: object"
      ]
     },
     "metadata": {},
     "execution_count": 19
    }
   ],
   "source": [
    "df.head()['language']"
   ]
  },
  {
   "cell_type": "code",
   "execution_count": 20,
   "metadata": {},
   "outputs": [
    {
     "output_type": "stream",
     "name": "stdout",
     "text": [
      "<class 'dask_cudf.core.DataFrame'>\nColumns: 24 entries, hashtags to id\ndtypes: object(9), bool(3), int32(12)"
     ]
    }
   ],
   "source": [
    "df.info()"
   ]
  },
  {
   "cell_type": "code",
   "execution_count": 21,
   "metadata": {},
   "outputs": [
    {
     "output_type": "stream",
     "name": "stdout",
     "text": [
      "48 125780467\n"
     ]
    }
   ],
   "source": [
    "print(df.npartitions,len(df))"
   ]
  },
  {
   "cell_type": "code",
   "execution_count": 22,
   "metadata": {},
   "outputs": [
    {
     "output_type": "execute_result",
     "data": {
      "text/plain": [
       "\"\\n%%time\\ndf['tweet_id'] = df['tweet_id'].map_partitions(lambda cudf:cudf.hash_encode(stop=1_000_000_000))\\ndf['tweet_id'] = df['tweet_id'].astype( np.int32 )\\n#df['tweet_id'] = df['tweet_id'].map_partitions(lambda cudf:cudf.hash_values()%1_000_000_000)\\ndf, = dask.persist(df)\\n_ = wait(df)\\ndf.head()\\n\""
      ]
     },
     "metadata": {},
     "execution_count": 22
    }
   ],
   "source": [
    "\"\"\"\n",
    "%%time\n",
    "df['tweet_id'] = df['tweet_id'].map_partitions(lambda cudf:cudf.hash_encode(stop=1_000_000_000))\n",
    "df['tweet_id'] = df['tweet_id'].astype( np.int32 )\n",
    "#df['tweet_id'] = df['tweet_id'].map_partitions(lambda cudf:cudf.hash_values()%1_000_000_000)\n",
    "df, = dask.persist(df)\n",
    "_ = wait(df)\n",
    "df.head()\n",
    "\"\"\""
   ]
  },
  {
   "cell_type": "code",
   "execution_count": 23,
   "metadata": {},
   "outputs": [
    {
     "output_type": "stream",
     "name": "stdout",
     "text": [
      "CPU times: user 1.2 s, sys: 124 ms, total: 1.33 s\nWall time: 50.8 s\n"
     ]
    }
   ],
   "source": [
    "%%time\n",
    "df['media'] = df['media'].fillna( '' )\n",
    "def split_join(ds,sep):\n",
    "    df = ds.str.split(sep)\n",
    "    df[0] = df[0].fillna('')\n",
    "    df[1] = df[1].fillna('')\n",
    "    res = df[0]+'_'+df[1]\n",
    "    del df\n",
    "    return res\n",
    "\n",
    "df['media'] = df['media'].map_partitions( lambda x:  split_join(x,'\\t'), meta=('O'))\n",
    "\n",
    "df, = dask.persist(df)\n",
    "_ = wait(df)"
   ]
  },
  {
   "cell_type": "code",
   "execution_count": 24,
   "metadata": {},
   "outputs": [],
   "source": [
    "def factorize_small_cardinality(df,col):\n",
    "    tmp_col = f'{col}_encode'\n",
    "    tmp = df[col].unique().compute()\n",
    "    tmp = tmp.to_frame().reset_index()\n",
    "    tmp = tmp.rename(columns={'index':tmp_col})\n",
    "    df = df.merge(tmp,on=col,how='left')\n",
    "    df, = dask.persist(df)\n",
    "    wait(df)\n",
    "    head=df.head()\n",
    "    del tmp\n",
    "    df = df.drop(col,axis=1)\n",
    "    df, = dask.persist(df)\n",
    "    wait(df)\n",
    "    df.columns = [i if i!=tmp_col else col for i in df.columns ]\n",
    "    return df,head"
   ]
  },
  {
   "cell_type": "code",
   "execution_count": 25,
   "metadata": {},
   "outputs": [
    {
     "output_type": "stream",
     "name": "stdout",
     "text": [
      "CPU times: user 8.59 s, sys: 1.36 s, total: 9.95 s\nWall time: 6min 32s\n"
     ]
    }
   ],
   "source": [
    "%%time\n",
    "for col in ['language','tweet_type','media']:\n",
    "    df,_ = factorize_small_cardinality(df,col)\n",
    "    df[col] = df[col].astype('int8')"
   ]
  },
  {
   "cell_type": "code",
   "execution_count": 26,
   "metadata": {},
   "outputs": [
    {
     "output_type": "execute_result",
     "data": {
      "text/plain": [
       "                                            hashtags  \\\n",
       "0                   37B3F45323C0CCD6B6CE796F9A68E124   \n",
       "1  E78674D323461112D0DCF8010AF5AED3\\t90737D9DA900...   \n",
       "2  18F6AC96A6EA62716A47DE9FE6241534\\t7CFE679B7755...   \n",
       "3                                               <NA>   \n",
       "4                                               <NA>   \n",
       "\n",
       "                           tweet_id                             links  \\\n",
       "0  CA6AA78C0AC04D479474B710C312D036  86FEFBC0AC1A08E6C3BEA98E848A97CE   \n",
       "1  D3C01D1AD3E6C932A6D08983893EB76C  11F5E00A38937E0E24BE7201F76851EC   \n",
       "2  4C4DABE2920149B9D9CB34DB50159026                              <NA>   \n",
       "3  7C4F1639637486BA1D7B36C10244789C                              <NA>   \n",
       "4  85E58F119D7FE02C9FF795537E1821FC  CC06F03EAF56559C2F8093C37169EDA0   \n",
       "\n",
       "                            domains   timestamp  \\\n",
       "0  509137044637B3E19DF7A4EC7A119BBA  1581167076   \n",
       "1  C0F5328C1D36CD4B34D1808012E18D46  1580989938   \n",
       "2                              <NA>  1581038292   \n",
       "3                              <NA>  1581084791   \n",
       "4  D7BDB227039444E6FA817EB72C26CD30  1581466892   \n",
       "\n",
       "                          a_user_id  a_follower_count  a_following_count  \\\n",
       "0  80479D9D1E0E28C6215157C6D5C2C20B             96739                297   \n",
       "1  B0495577F2754B0D221ADE4D67F3B684               382                411   \n",
       "2  93BF527AA88D3CD3743457108C622B82             13996                388   \n",
       "3  FF5A24BD9886D71DDD7919946A882C63             66737               2087   \n",
       "4  E4FE7F4D0DA8EA3C6DD49C685B7EA030            408628                660   \n",
       "\n",
       "   a_is_verified  a_account_creation  ... b_account_creation  b_follows_a  \\\n",
       "0          False          1355952612  ...         1422964994        False   \n",
       "1          False          1537091895  ...         1555698595         True   \n",
       "2          False          1513796755  ...         1574558351        False   \n",
       "3          False          1299341178  ...         1551442966        False   \n",
       "4          False          1451278401  ...         1426944244        False   \n",
       "\n",
       "   reply     retweet  retweet_comment        like     id  language  \\\n",
       "0      0           0                0           0  10081        54   \n",
       "1      0           0                0           0  10082        11   \n",
       "2      0           0                0           0  10083        59   \n",
       "3      0           0                0           0  10084        11   \n",
       "4      0  1581505553                0  1581505553  10085        54   \n",
       "\n",
       "   tweet_type  media  \n",
       "0           2     12  \n",
       "1           2     12  \n",
       "2           2     12  \n",
       "3           2     12  \n",
       "4           2      8  \n",
       "\n",
       "[5 rows x 24 columns]"
      ],
      "text/html": "<div>\n<style scoped>\n    .dataframe tbody tr th:only-of-type {\n        vertical-align: middle;\n    }\n\n    .dataframe tbody tr th {\n        vertical-align: top;\n    }\n\n    .dataframe thead th {\n        text-align: right;\n    }\n</style>\n<table border=\"1\" class=\"dataframe\">\n  <thead>\n    <tr style=\"text-align: right;\">\n      <th></th>\n      <th>hashtags</th>\n      <th>tweet_id</th>\n      <th>links</th>\n      <th>domains</th>\n      <th>timestamp</th>\n      <th>a_user_id</th>\n      <th>a_follower_count</th>\n      <th>a_following_count</th>\n      <th>a_is_verified</th>\n      <th>a_account_creation</th>\n      <th>...</th>\n      <th>b_account_creation</th>\n      <th>b_follows_a</th>\n      <th>reply</th>\n      <th>retweet</th>\n      <th>retweet_comment</th>\n      <th>like</th>\n      <th>id</th>\n      <th>language</th>\n      <th>tweet_type</th>\n      <th>media</th>\n    </tr>\n  </thead>\n  <tbody>\n    <tr>\n      <th>0</th>\n      <td>37B3F45323C0CCD6B6CE796F9A68E124</td>\n      <td>CA6AA78C0AC04D479474B710C312D036</td>\n      <td>86FEFBC0AC1A08E6C3BEA98E848A97CE</td>\n      <td>509137044637B3E19DF7A4EC7A119BBA</td>\n      <td>1581167076</td>\n      <td>80479D9D1E0E28C6215157C6D5C2C20B</td>\n      <td>96739</td>\n      <td>297</td>\n      <td>False</td>\n      <td>1355952612</td>\n      <td>...</td>\n      <td>1422964994</td>\n      <td>False</td>\n      <td>0</td>\n      <td>0</td>\n      <td>0</td>\n      <td>0</td>\n      <td>10081</td>\n      <td>54</td>\n      <td>2</td>\n      <td>12</td>\n    </tr>\n    <tr>\n      <th>1</th>\n      <td>E78674D323461112D0DCF8010AF5AED3\\t90737D9DA900...</td>\n      <td>D3C01D1AD3E6C932A6D08983893EB76C</td>\n      <td>11F5E00A38937E0E24BE7201F76851EC</td>\n      <td>C0F5328C1D36CD4B34D1808012E18D46</td>\n      <td>1580989938</td>\n      <td>B0495577F2754B0D221ADE4D67F3B684</td>\n      <td>382</td>\n      <td>411</td>\n      <td>False</td>\n      <td>1537091895</td>\n      <td>...</td>\n      <td>1555698595</td>\n      <td>True</td>\n      <td>0</td>\n      <td>0</td>\n      <td>0</td>\n      <td>0</td>\n      <td>10082</td>\n      <td>11</td>\n      <td>2</td>\n      <td>12</td>\n    </tr>\n    <tr>\n      <th>2</th>\n      <td>18F6AC96A6EA62716A47DE9FE6241534\\t7CFE679B7755...</td>\n      <td>4C4DABE2920149B9D9CB34DB50159026</td>\n      <td>&lt;NA&gt;</td>\n      <td>&lt;NA&gt;</td>\n      <td>1581038292</td>\n      <td>93BF527AA88D3CD3743457108C622B82</td>\n      <td>13996</td>\n      <td>388</td>\n      <td>False</td>\n      <td>1513796755</td>\n      <td>...</td>\n      <td>1574558351</td>\n      <td>False</td>\n      <td>0</td>\n      <td>0</td>\n      <td>0</td>\n      <td>0</td>\n      <td>10083</td>\n      <td>59</td>\n      <td>2</td>\n      <td>12</td>\n    </tr>\n    <tr>\n      <th>3</th>\n      <td>&lt;NA&gt;</td>\n      <td>7C4F1639637486BA1D7B36C10244789C</td>\n      <td>&lt;NA&gt;</td>\n      <td>&lt;NA&gt;</td>\n      <td>1581084791</td>\n      <td>FF5A24BD9886D71DDD7919946A882C63</td>\n      <td>66737</td>\n      <td>2087</td>\n      <td>False</td>\n      <td>1299341178</td>\n      <td>...</td>\n      <td>1551442966</td>\n      <td>False</td>\n      <td>0</td>\n      <td>0</td>\n      <td>0</td>\n      <td>0</td>\n      <td>10084</td>\n      <td>11</td>\n      <td>2</td>\n      <td>12</td>\n    </tr>\n    <tr>\n      <th>4</th>\n      <td>&lt;NA&gt;</td>\n      <td>85E58F119D7FE02C9FF795537E1821FC</td>\n      <td>CC06F03EAF56559C2F8093C37169EDA0</td>\n      <td>D7BDB227039444E6FA817EB72C26CD30</td>\n      <td>1581466892</td>\n      <td>E4FE7F4D0DA8EA3C6DD49C685B7EA030</td>\n      <td>408628</td>\n      <td>660</td>\n      <td>False</td>\n      <td>1451278401</td>\n      <td>...</td>\n      <td>1426944244</td>\n      <td>False</td>\n      <td>0</td>\n      <td>1581505553</td>\n      <td>0</td>\n      <td>1581505553</td>\n      <td>10085</td>\n      <td>54</td>\n      <td>2</td>\n      <td>8</td>\n    </tr>\n  </tbody>\n</table>\n<p>5 rows × 24 columns</p>\n</div>"
     },
     "metadata": {},
     "execution_count": 26
    }
   ],
   "source": [
    "df.head()"
   ]
  },
  {
   "cell_type": "code",
   "execution_count": 27,
   "metadata": {},
   "outputs": [
    {
     "output_type": "stream",
     "name": "stdout",
     "text": [
      "CPU times: user 1.92 s, sys: 196 ms, total: 2.11 s\nWall time: 52.8 s\n"
     ]
    },
    {
     "output_type": "execute_result",
     "data": {
      "text/plain": [
       "                                 tweet_id  tweet_encode\n",
       "975391   0000012429A02D1B5C871FBA53A0C4DD             1\n",
       "4511485  0000043B5500353E778A6B78498EE7CD             2\n",
       "5773967  000004B4208284C156C06BCFAB500ACC             3\n",
       "5075595  00000BF2119CD5F74998D3D407F15DB8             4\n",
       "6259239  000016B0820BCC23039DCFD5A02EBA61             5"
      ],
      "text/html": "<div>\n<style scoped>\n    .dataframe tbody tr th:only-of-type {\n        vertical-align: middle;\n    }\n\n    .dataframe tbody tr th {\n        vertical-align: top;\n    }\n\n    .dataframe thead th {\n        text-align: right;\n    }\n</style>\n<table border=\"1\" class=\"dataframe\">\n  <thead>\n    <tr style=\"text-align: right;\">\n      <th></th>\n      <th>tweet_id</th>\n      <th>tweet_encode</th>\n    </tr>\n  </thead>\n  <tbody>\n    <tr>\n      <th>975391</th>\n      <td>0000012429A02D1B5C871FBA53A0C4DD</td>\n      <td>1</td>\n    </tr>\n    <tr>\n      <th>4511485</th>\n      <td>0000043B5500353E778A6B78498EE7CD</td>\n      <td>2</td>\n    </tr>\n    <tr>\n      <th>5773967</th>\n      <td>000004B4208284C156C06BCFAB500ACC</td>\n      <td>3</td>\n    </tr>\n    <tr>\n      <th>5075595</th>\n      <td>00000BF2119CD5F74998D3D407F15DB8</td>\n      <td>4</td>\n    </tr>\n    <tr>\n      <th>6259239</th>\n      <td>000016B0820BCC23039DCFD5A02EBA61</td>\n      <td>5</td>\n    </tr>\n  </tbody>\n</table>\n</div>"
     },
     "metadata": {},
     "execution_count": 27
    }
   ],
   "source": [
    "%%time\n",
    "tweet = df[['tweet_id']]\n",
    "tweet = tweet.drop_duplicates(split_out=16)\n",
    "tweet['tweet_encode'] = 1\n",
    "tweet['tweet_encode'] = tweet['tweet_encode'].cumsum()\n",
    "tweet, = dask.persist(tweet)\n",
    "_ = wait(tweet)\n",
    "tweet.head()"
   ]
  },
  {
   "cell_type": "code",
   "execution_count": 28,
   "metadata": {},
   "outputs": [
    {
     "output_type": "stream",
     "name": "stdout",
     "text": [
      "CPU times: user 8.36 s, sys: 1.05 s, total: 9.41 s\nWall time: 6min 2s\n"
     ]
    },
    {
     "output_type": "execute_result",
     "data": {
      "text/plain": [
       "                                            hashtags  \\\n",
       "0                   B592E67CFDD7B3CA93EBDA75BF793889   \n",
       "1                   91589A956DCCB3FD9BB8EC120D3A59B4   \n",
       "2                                               <NA>   \n",
       "3                                               <NA>   \n",
       "4  70A6CF176129B0FB258ABD68A0146048\\tE053DD16CE35...   \n",
       "\n",
       "                              links                           domains  \\\n",
       "0                              <NA>                              <NA>   \n",
       "1  A1CD0D75F875FDC59CF559613F6D7DD9  55DE40D8922065020FA388C82283797F   \n",
       "2                              <NA>                              <NA>   \n",
       "3                              <NA>                              <NA>   \n",
       "4                              <NA>                              <NA>   \n",
       "\n",
       "    timestamp                         a_user_id  a_follower_count  \\\n",
       "0  1581492458  3D46BE75D48CD0D549AC23351E1AAC9F               437   \n",
       "1  1581358453  06F5FE82DD3C1415761756636BEAD4AC            216517   \n",
       "2  1581238990  0E6693445A986F0121C72C5110216449               776   \n",
       "3  1581245796  A65B63E1480392A8ED89A9BB9146D856            538480   \n",
       "4  1581029785  8CC882EA51AAC05E586EC06C4A4EED09               617   \n",
       "\n",
       "   a_following_count  a_is_verified  a_account_creation  \\\n",
       "0                359          False          1517054466   \n",
       "1                 58           True          1237147176   \n",
       "2                967          False          1359794025   \n",
       "3                161          False          1316441204   \n",
       "4                508          False          1390451780   \n",
       "\n",
       "                          b_user_id  ...  b_follows_a  reply  retweet  \\\n",
       "0  134AFF5444E4578F1095D420EC733AB5  ...         True      0        0   \n",
       "1  06DA9A4574AAEEF352E2B3255E4E8414  ...        False      0        0   \n",
       "2  019322461D2EFF54F08A0951D4FC50C1  ...         True      0        0   \n",
       "3  0A795B0F00E2AED79F420D0997EB2BF6  ...        False      0        0   \n",
       "4  1CC51F1B465A6F3A07B68A1D56518711  ...        False      0        0   \n",
       "\n",
       "   retweet_comment        like      id  language  tweet_type  media  tweet_id  \n",
       "0                0  1581523161  381496        11           2      4   1816422  \n",
       "1                0           0  135195        59           2     12   1586775  \n",
       "2                0           0   31037        22           2     12    477892  \n",
       "3                0  1581248985  206522        38           2     12   1927568  \n",
       "4                0           0  568919        54           1      4    121397  \n",
       "\n",
       "[5 rows x 24 columns]"
      ],
      "text/html": "<div>\n<style scoped>\n    .dataframe tbody tr th:only-of-type {\n        vertical-align: middle;\n    }\n\n    .dataframe tbody tr th {\n        vertical-align: top;\n    }\n\n    .dataframe thead th {\n        text-align: right;\n    }\n</style>\n<table border=\"1\" class=\"dataframe\">\n  <thead>\n    <tr style=\"text-align: right;\">\n      <th></th>\n      <th>hashtags</th>\n      <th>links</th>\n      <th>domains</th>\n      <th>timestamp</th>\n      <th>a_user_id</th>\n      <th>a_follower_count</th>\n      <th>a_following_count</th>\n      <th>a_is_verified</th>\n      <th>a_account_creation</th>\n      <th>b_user_id</th>\n      <th>...</th>\n      <th>b_follows_a</th>\n      <th>reply</th>\n      <th>retweet</th>\n      <th>retweet_comment</th>\n      <th>like</th>\n      <th>id</th>\n      <th>language</th>\n      <th>tweet_type</th>\n      <th>media</th>\n      <th>tweet_id</th>\n    </tr>\n  </thead>\n  <tbody>\n    <tr>\n      <th>0</th>\n      <td>B592E67CFDD7B3CA93EBDA75BF793889</td>\n      <td>&lt;NA&gt;</td>\n      <td>&lt;NA&gt;</td>\n      <td>1581492458</td>\n      <td>3D46BE75D48CD0D549AC23351E1AAC9F</td>\n      <td>437</td>\n      <td>359</td>\n      <td>False</td>\n      <td>1517054466</td>\n      <td>134AFF5444E4578F1095D420EC733AB5</td>\n      <td>...</td>\n      <td>True</td>\n      <td>0</td>\n      <td>0</td>\n      <td>0</td>\n      <td>1581523161</td>\n      <td>381496</td>\n      <td>11</td>\n      <td>2</td>\n      <td>4</td>\n      <td>1816422</td>\n    </tr>\n    <tr>\n      <th>1</th>\n      <td>91589A956DCCB3FD9BB8EC120D3A59B4</td>\n      <td>A1CD0D75F875FDC59CF559613F6D7DD9</td>\n      <td>55DE40D8922065020FA388C82283797F</td>\n      <td>1581358453</td>\n      <td>06F5FE82DD3C1415761756636BEAD4AC</td>\n      <td>216517</td>\n      <td>58</td>\n      <td>True</td>\n      <td>1237147176</td>\n      <td>06DA9A4574AAEEF352E2B3255E4E8414</td>\n      <td>...</td>\n      <td>False</td>\n      <td>0</td>\n      <td>0</td>\n      <td>0</td>\n      <td>0</td>\n      <td>135195</td>\n      <td>59</td>\n      <td>2</td>\n      <td>12</td>\n      <td>1586775</td>\n    </tr>\n    <tr>\n      <th>2</th>\n      <td>&lt;NA&gt;</td>\n      <td>&lt;NA&gt;</td>\n      <td>&lt;NA&gt;</td>\n      <td>1581238990</td>\n      <td>0E6693445A986F0121C72C5110216449</td>\n      <td>776</td>\n      <td>967</td>\n      <td>False</td>\n      <td>1359794025</td>\n      <td>019322461D2EFF54F08A0951D4FC50C1</td>\n      <td>...</td>\n      <td>True</td>\n      <td>0</td>\n      <td>0</td>\n      <td>0</td>\n      <td>0</td>\n      <td>31037</td>\n      <td>22</td>\n      <td>2</td>\n      <td>12</td>\n      <td>477892</td>\n    </tr>\n    <tr>\n      <th>3</th>\n      <td>&lt;NA&gt;</td>\n      <td>&lt;NA&gt;</td>\n      <td>&lt;NA&gt;</td>\n      <td>1581245796</td>\n      <td>A65B63E1480392A8ED89A9BB9146D856</td>\n      <td>538480</td>\n      <td>161</td>\n      <td>False</td>\n      <td>1316441204</td>\n      <td>0A795B0F00E2AED79F420D0997EB2BF6</td>\n      <td>...</td>\n      <td>False</td>\n      <td>0</td>\n      <td>0</td>\n      <td>0</td>\n      <td>1581248985</td>\n      <td>206522</td>\n      <td>38</td>\n      <td>2</td>\n      <td>12</td>\n      <td>1927568</td>\n    </tr>\n    <tr>\n      <th>4</th>\n      <td>70A6CF176129B0FB258ABD68A0146048\\tE053DD16CE35...</td>\n      <td>&lt;NA&gt;</td>\n      <td>&lt;NA&gt;</td>\n      <td>1581029785</td>\n      <td>8CC882EA51AAC05E586EC06C4A4EED09</td>\n      <td>617</td>\n      <td>508</td>\n      <td>False</td>\n      <td>1390451780</td>\n      <td>1CC51F1B465A6F3A07B68A1D56518711</td>\n      <td>...</td>\n      <td>False</td>\n      <td>0</td>\n      <td>0</td>\n      <td>0</td>\n      <td>0</td>\n      <td>568919</td>\n      <td>54</td>\n      <td>1</td>\n      <td>4</td>\n      <td>121397</td>\n    </tr>\n  </tbody>\n</table>\n<p>5 rows × 24 columns</p>\n</div>"
     },
     "metadata": {},
     "execution_count": 28
    }
   ],
   "source": [
    "%%time\n",
    "df = df.merge(tweet,on='tweet_id',how='left')\n",
    "df = df.drop('tweet_id',axis=1)\n",
    "df.columns = [i if i!='tweet_encode' else 'tweet_id' for i in df.columns]\n",
    "df, = dask.persist(df)\n",
    "wait(df)\n",
    "del tweet\n",
    "df.head()"
   ]
  },
  {
   "cell_type": "code",
   "execution_count": 29,
   "metadata": {},
   "outputs": [],
   "source": [
    "#%%time\n",
    "#df = df.repartition(npartitions=1024)\n",
    "#df, = dask.persist(df)\n",
    "#_ = wait(df)"
   ]
  },
  {
   "cell_type": "code",
   "execution_count": 30,
   "metadata": {},
   "outputs": [
    {
     "output_type": "stream",
     "name": "stdout",
     "text": [
      "12074272 23311202 125780467\n",
      "28332400 23311202 125780467\n",
      "CPU times: user 3.62 s, sys: 388 ms, total: 4.01 s\n",
      "Wall time: 1min 50s\n"
     ]
    }
   ],
   "source": [
    "%%time\n",
    "user_a = df[['a_user_id']].drop_duplicates(split_out=16)\n",
    "user_a, = dask.persist(user_a)\n",
    "_ = wait(user_a)\n",
    "user_b = df[['b_user_id']].drop_duplicates(split_out=16)\n",
    "user_b, = dask.persist(user_b)\n",
    "wait(user_b)\n",
    "print(len(user_a),len(user_b),len(df))\n",
    "\n",
    "user_a.columns = ['user_id']\n",
    "user_b.columns = ['user_id']\n",
    "user_b['dummy'] = 1\n",
    "user_a = user_a.merge(user_b,on='user_id',how='outer')\n",
    "user_a = user_a.drop('dummy',axis=1)\n",
    "user_a, = dask.persist(user_a)\n",
    "wait(user_a)\n",
    "print(len(user_a),len(user_b),len(df))\n",
    "del user_b\n",
    "\n",
    "user_a['user_encode'] = 1\n",
    "user_a['user_encode'] = user_a['user_encode'].cumsum()\n",
    "user_a, = dask.persist(user_a)\n",
    "_ = wait(user_a)"
   ]
  },
  {
   "cell_type": "code",
   "execution_count": 31,
   "metadata": {},
   "outputs": [
    {
     "output_type": "stream",
     "name": "stdout",
     "text": [
      "CPU times: user 4.82 s, sys: 600 ms, total: 5.42 s\nWall time: 3min 29s\n"
     ]
    }
   ],
   "source": [
    "%%time\n",
    "df = df.merge(user_a,left_on='a_user_id',right_on='user_id',how='left')\n",
    "df = df.drop(['a_user_id','user_id'],axis=1)\n",
    "df.columns = [i if i!='user_encode' else 'a_user_id' for i in df.columns]\n",
    "df, = dask.persist(df)\n",
    "_ = wait(df)"
   ]
  },
  {
   "cell_type": "code",
   "execution_count": 32,
   "metadata": {},
   "outputs": [
    {
     "output_type": "stream",
     "name": "stdout",
     "text": [
      "CPU times: user 4.44 s, sys: 624 ms, total: 5.07 s\nWall time: 2min 58s\n"
     ]
    },
    {
     "output_type": "execute_result",
     "data": {
      "text/plain": [
       "  hashtags                             links  \\\n",
       "0     <NA>  8957DD51710FC1C3DE81C337B459C1C9   \n",
       "1     <NA>                              <NA>   \n",
       "2     <NA>                              <NA>   \n",
       "3     <NA>                              <NA>   \n",
       "4     <NA>                              <NA>   \n",
       "\n",
       "                            domains   timestamp  a_follower_count  \\\n",
       "0  E0EEE18B1940D8AE41CEA5B15DC421D3  1581192974           3214807   \n",
       "1                              <NA>  1581508730            108597   \n",
       "2                              <NA>  1581201226               603   \n",
       "3                              <NA>  1581464495             69236   \n",
       "4                              <NA>  1581195600           1911234   \n",
       "\n",
       "   a_following_count  a_is_verified  a_account_creation  b_follower_count  \\\n",
       "0                  0           True          1272597682               510   \n",
       "1                551           True          1379713973                60   \n",
       "2               1340          False          1373559819                34   \n",
       "3                882          False          1394066296                23   \n",
       "4               4327           True          1372717142               176   \n",
       "\n",
       "   b_following_count  ...  retweet  retweet_comment        like        id  \\\n",
       "0                393  ...        0                0           0  28448498   \n",
       "1                275  ...        0                0  1581520847  64296468   \n",
       "2                 79  ...        0                0           0  65627264   \n",
       "3                143  ...        0                0  1581473414  66579081   \n",
       "4                594  ...        0                0           0  45322295   \n",
       "\n",
       "   language  tweet_type  media  tweet_id  a_user_id  b_user_id  \n",
       "0         3           2     12  34312466    1717222     615098  \n",
       "1        54           2     12  38483937    1220979     709874  \n",
       "2        59           0     12  34241830    1284185     995240  \n",
       "3        54           2     12  28207885    1337565     147284  \n",
       "4        54           2      8  11378919    1486122     984386  \n",
       "\n",
       "[5 rows x 24 columns]"
      ],
      "text/html": "<div>\n<style scoped>\n    .dataframe tbody tr th:only-of-type {\n        vertical-align: middle;\n    }\n\n    .dataframe tbody tr th {\n        vertical-align: top;\n    }\n\n    .dataframe thead th {\n        text-align: right;\n    }\n</style>\n<table border=\"1\" class=\"dataframe\">\n  <thead>\n    <tr style=\"text-align: right;\">\n      <th></th>\n      <th>hashtags</th>\n      <th>links</th>\n      <th>domains</th>\n      <th>timestamp</th>\n      <th>a_follower_count</th>\n      <th>a_following_count</th>\n      <th>a_is_verified</th>\n      <th>a_account_creation</th>\n      <th>b_follower_count</th>\n      <th>b_following_count</th>\n      <th>...</th>\n      <th>retweet</th>\n      <th>retweet_comment</th>\n      <th>like</th>\n      <th>id</th>\n      <th>language</th>\n      <th>tweet_type</th>\n      <th>media</th>\n      <th>tweet_id</th>\n      <th>a_user_id</th>\n      <th>b_user_id</th>\n    </tr>\n  </thead>\n  <tbody>\n    <tr>\n      <th>0</th>\n      <td>&lt;NA&gt;</td>\n      <td>8957DD51710FC1C3DE81C337B459C1C9</td>\n      <td>E0EEE18B1940D8AE41CEA5B15DC421D3</td>\n      <td>1581192974</td>\n      <td>3214807</td>\n      <td>0</td>\n      <td>True</td>\n      <td>1272597682</td>\n      <td>510</td>\n      <td>393</td>\n      <td>...</td>\n      <td>0</td>\n      <td>0</td>\n      <td>0</td>\n      <td>28448498</td>\n      <td>3</td>\n      <td>2</td>\n      <td>12</td>\n      <td>34312466</td>\n      <td>1717222</td>\n      <td>615098</td>\n    </tr>\n    <tr>\n      <th>1</th>\n      <td>&lt;NA&gt;</td>\n      <td>&lt;NA&gt;</td>\n      <td>&lt;NA&gt;</td>\n      <td>1581508730</td>\n      <td>108597</td>\n      <td>551</td>\n      <td>True</td>\n      <td>1379713973</td>\n      <td>60</td>\n      <td>275</td>\n      <td>...</td>\n      <td>0</td>\n      <td>0</td>\n      <td>1581520847</td>\n      <td>64296468</td>\n      <td>54</td>\n      <td>2</td>\n      <td>12</td>\n      <td>38483937</td>\n      <td>1220979</td>\n      <td>709874</td>\n    </tr>\n    <tr>\n      <th>2</th>\n      <td>&lt;NA&gt;</td>\n      <td>&lt;NA&gt;</td>\n      <td>&lt;NA&gt;</td>\n      <td>1581201226</td>\n      <td>603</td>\n      <td>1340</td>\n      <td>False</td>\n      <td>1373559819</td>\n      <td>34</td>\n      <td>79</td>\n      <td>...</td>\n      <td>0</td>\n      <td>0</td>\n      <td>0</td>\n      <td>65627264</td>\n      <td>59</td>\n      <td>0</td>\n      <td>12</td>\n      <td>34241830</td>\n      <td>1284185</td>\n      <td>995240</td>\n    </tr>\n    <tr>\n      <th>3</th>\n      <td>&lt;NA&gt;</td>\n      <td>&lt;NA&gt;</td>\n      <td>&lt;NA&gt;</td>\n      <td>1581464495</td>\n      <td>69236</td>\n      <td>882</td>\n      <td>False</td>\n      <td>1394066296</td>\n      <td>23</td>\n      <td>143</td>\n      <td>...</td>\n      <td>0</td>\n      <td>0</td>\n      <td>1581473414</td>\n      <td>66579081</td>\n      <td>54</td>\n      <td>2</td>\n      <td>12</td>\n      <td>28207885</td>\n      <td>1337565</td>\n      <td>147284</td>\n    </tr>\n    <tr>\n      <th>4</th>\n      <td>&lt;NA&gt;</td>\n      <td>&lt;NA&gt;</td>\n      <td>&lt;NA&gt;</td>\n      <td>1581195600</td>\n      <td>1911234</td>\n      <td>4327</td>\n      <td>True</td>\n      <td>1372717142</td>\n      <td>176</td>\n      <td>594</td>\n      <td>...</td>\n      <td>0</td>\n      <td>0</td>\n      <td>0</td>\n      <td>45322295</td>\n      <td>54</td>\n      <td>2</td>\n      <td>8</td>\n      <td>11378919</td>\n      <td>1486122</td>\n      <td>984386</td>\n    </tr>\n  </tbody>\n</table>\n<p>5 rows × 24 columns</p>\n</div>"
     },
     "metadata": {},
     "execution_count": 32
    }
   ],
   "source": [
    "%%time\n",
    "df = df.merge(user_a,left_on='b_user_id',right_on='user_id',how='left')\n",
    "df = df.drop(['b_user_id','user_id'],axis=1)\n",
    "df.columns = [i if i!='user_encode' else 'b_user_id' for i in df.columns]\n",
    "df, = dask.persist(df)\n",
    "wait(df)\n",
    "del user_a\n",
    "df.head()"
   ]
  },
  {
   "cell_type": "code",
   "execution_count": 33,
   "metadata": {},
   "outputs": [
    {
     "output_type": "stream",
     "name": "stdout",
     "text": [
      "CPU times: user 148 ms, sys: 32 ms, total: 180 ms\nWall time: 6.76 s\n"
     ]
    }
   ],
   "source": [
    "%%time\n",
    "df = df.repartition(npartitions=NP)\n",
    "df, = dask.persist(df)\n",
    "_ = wait(df)"
   ]
  },
  {
   "cell_type": "code",
   "execution_count": 34,
   "metadata": {},
   "outputs": [
    {
     "output_type": "stream",
     "name": "stdout",
     "text": [
      "CPU times: user 1.05 s, sys: 204 ms, total: 1.25 s\nWall time: 57.3 s\n"
     ]
    }
   ],
   "source": [
    "%%time\n",
    "df.to_parquet('./dask_input/step1_output',write_index=False)"
   ]
  },
  {
   "cell_type": "code",
   "execution_count": 35,
   "metadata": {},
   "outputs": [
    {
     "output_type": "stream",
     "name": "stdout",
     "text": [
      "This notebook took 49.8 minutes\n"
     ]
    }
   ],
   "source": [
    "print('This notebook took %.1f minutes'%((time.time()-very_start)/60.))"
   ]
  }
 ],
 "metadata": {
  "kernelspec": {
   "name": "rapids-0.16",
   "display_name": "rapids-0.16"
  },
  "language_info": {
   "codemirror_mode": {
    "name": "ipython",
    "version": 3
   },
   "file_extension": ".py",
   "mimetype": "text/x-python",
   "name": "python",
   "nbconvert_exporter": "python",
   "pygments_lexer": "ipython3",
   "version": "3.7.8-final"
  }
 },
 "nbformat": 4,
 "nbformat_minor": 4
}