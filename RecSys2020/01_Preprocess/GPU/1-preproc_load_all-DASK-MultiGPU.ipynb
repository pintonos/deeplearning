{
 "cells": [
  {
   "cell_type": "markdown",
   "metadata": {},
   "source": [
    "Copyright (c) 2020, NVIDIA CORPORATION.\n",
    "Licensed under the Apache License, Version 2.0 (the \"License\");\n",
    "you may not use this file except in compliance with the License.\n",
    "You may obtain a copy of the License at\n",
    "    http://www.apache.org/licenses/LICENSE-2.0\n",
    "Unless required by applicable law or agreed to in writing, software\n",
    "distributed under the License is distributed on an \"AS IS\" BASIS,\n",
    "WITHOUT WARRANTIES OR CONDITIONS OF ANY KIND, either express or implied.\n",
    "See the License for the specific language governing permissions and\n",
    "limitations under the License."
   ]
  },
  {
   "cell_type": "markdown",
   "metadata": {},
   "source": [
    "#### ~~Tweet_id is encoded using approximate hashing which caused hashing collisions. Exact encoding of tweet_id is blocked by a bug in cudf. All other columns are using exact encoding.~~ \n",
    "Fixed"
   ]
  },
  {
   "cell_type": "code",
   "execution_count": 1,
   "metadata": {},
   "outputs": [],
   "source": [
    "import os, time\n",
    "os.environ[\"CUDA_VISIBLE_DEVICES\"]=\"0\"\n",
    "start = time.time()\n",
    "very_start = time.time()"
   ]
  },
  {
   "cell_type": "code",
   "execution_count": 2,
   "metadata": {},
   "outputs": [
    {
     "output_type": "execute_result",
     "data": {
      "text/plain": [
       "'0.16.0'"
      ]
     },
     "metadata": {},
     "execution_count": 2
    }
   ],
   "source": [
    "#import pandas as pd, \n",
    "import numpy as np\n",
    "from datetime import datetime\n",
    "import matplotlib.pyplot as plt\n",
    "#pd.set_option('display.max_columns', 500)\n",
    "#pd.set_option('display.max_rows', 500)\n",
    "import cudf, cupy, time, rmm\n",
    "cudf.__version__"
   ]
  },
  {
   "cell_type": "code",
   "execution_count": 3,
   "metadata": {},
   "outputs": [],
   "source": [
    "import dask as dask, dask_cudf\n",
    "from dask.distributed import Client, wait\n",
    "from dask_cuda import LocalCUDACluster\n",
    "import subprocess"
   ]
  },
  {
   "cell_type": "code",
   "execution_count": 4,
   "metadata": {},
   "outputs": [
    {
     "output_type": "execute_result",
     "data": {
      "text/plain": [
       "'cluster = LocalCUDACluster(ip=\\'10.2.61.36\\',protocol=\"ucx\", \\n                           rmm_pool_size=\"31GB\",\\n                           enable_tcp_over_ucx=True, enable_nvlink=True)\\n#cluster = LocalCUDACluster()\\nclient = Client(cluster)\\nclient'"
      ]
     },
     "metadata": {},
     "execution_count": 4
    }
   ],
   "source": [
    "'''cluster = LocalCUDACluster(ip='10.2.61.36',protocol=\"ucx\", \n",
    "                           rmm_pool_size=\"31GB\",\n",
    "                           enable_tcp_over_ucx=True, enable_nvlink=True)\n",
    "#cluster = LocalCUDACluster()\n",
    "client = Client(cluster)\n",
    "client'''"
   ]
  },
  {
   "cell_type": "code",
   "execution_count": 5,
   "metadata": {},
   "outputs": [
    {
     "output_type": "stream",
     "name": "stdout",
     "text": [
      "number of rows: 1346935\nCPU times: user 2.64 s, sys: 940 ms, total: 3.58 s\nWall time: 3.58 s\n"
     ]
    }
   ],
   "source": [
    "%%time\n",
    "\n",
    "NP = 4 #16\n",
    "#path = './'#'/home/pinto/rapid_data/recsys'\n",
    "\n",
    "df = dask_cudf.read_csv('/home/pinto/training_s.tsv', sep='\\x01', header=None)#, dtype=DTYPES)\n",
    "df = df.repartition(npartitions=NP)\n",
    "df, = dask.persist(df)\n",
    "#_ = wait(df)\n",
    "print('number of rows:',len(df))"
   ]
  },
  {
   "cell_type": "code",
   "execution_count": 6,
   "metadata": {},
   "outputs": [
    {
     "output_type": "stream",
     "name": "stdout",
     "text": [
      "CPU times: user 160 ms, sys: 16 ms, total: 176 ms\nWall time: 172 ms\n"
     ]
    },
    {
     "output_type": "execute_result",
     "data": {
      "text/plain": [
       "                                            hashtags  \\\n",
       "0                                               <NA>   \n",
       "1                                               <NA>   \n",
       "2                                               <NA>   \n",
       "3  F0F2FBE57F08E7C4326682B5EDA63E3E\\tE78674D32346...   \n",
       "4                                               <NA>   \n",
       "\n",
       "                           tweet_id  media                             links  \\\n",
       "0  D4D1EBDE74F74C5DA529959AF979625C   <NA>                              <NA>   \n",
       "1  BFB529DAB6D384EB83E899A72AB3830D  Photo                              <NA>   \n",
       "2  519078C7834E9642508F72A6C2D0F3B7   <NA>  788ABAA22F1C4A9D186510C1E3E81F58   \n",
       "3  52AAE9E33EFAC8C478C57B31A9E31ED1   <NA>  C06B84A10A75AE4BF4A102AB45CC2ABF   \n",
       "4  89C1298C55EB3D68E2784F0BFB69E6F8   <NA>                              <NA>   \n",
       "\n",
       "                            domains tweet_type  \\\n",
       "0                              <NA>   TopLevel   \n",
       "1                              <NA>   TopLevel   \n",
       "2  892B6E0BC037800B59112CFCB95E3301   TopLevel   \n",
       "3  C0F5328C1D36CD4B34D1808012E18D46   TopLevel   \n",
       "4                              <NA>   TopLevel   \n",
       "\n",
       "                           language   timestamp  \\\n",
       "0  22C448FF81263D4BAF2A176145EE9EAD  1581258144   \n",
       "1  B9175601E87101A984A50F8A62A1C374  1581018910   \n",
       "2  22C448FF81263D4BAF2A176145EE9EAD  1581244866   \n",
       "3  22C448FF81263D4BAF2A176145EE9EAD  1581250124   \n",
       "4  22C448FF81263D4BAF2A176145EE9EAD  1580958805   \n",
       "\n",
       "                          a_user_id  a_follower_count  ...  \\\n",
       "0  D7EFC6D19CFB09B9A1CE4C4B0E0091F6              3517  ...   \n",
       "1  1F30A85E612A24B426013978ADB7AE46             39786  ...   \n",
       "2  9E1FD934C376903895DEEBCC0F6AB920            141726  ...   \n",
       "3  BEB3C337B266E2C4769065AD64724329              3044  ...   \n",
       "4  9E1FD934C376903895DEEBCC0F6AB920            141370  ...   \n",
       "\n",
       "                          b_user_id b_follower_count  b_following_count  \\\n",
       "0  0000006C3074607050F1339DDCB890BB            27428                600   \n",
       "1  000005C520010F8917EEAB6F5B6EC1C4               17                 77   \n",
       "2  000006829BEADA9EEA695CF0C334B426                2                 29   \n",
       "3  000006829BEADA9EEA695CF0C334B426                3                 30   \n",
       "4  000006829BEADA9EEA695CF0C334B426                3                 30   \n",
       "\n",
       "   b_is_verified  b_account_creation  b_follows_a  reply retweet  \\\n",
       "0          False          1520948869        False   <NA>    <NA>   \n",
       "1          False          1569692352         True   <NA>    <NA>   \n",
       "2          False          1568107028        False   <NA>    <NA>   \n",
       "3          False          1568107028        False   <NA>    <NA>   \n",
       "4          False          1568107028        False   <NA>    <NA>   \n",
       "\n",
       "  retweet_comment             like  \n",
       "0            <NA>             <NA>  \n",
       "1            <NA>             <NA>  \n",
       "2            <NA>  1.581247087e+09  \n",
       "3            <NA>             <NA>  \n",
       "4            <NA>             <NA>  \n",
       "\n",
       "[5 rows x 23 columns]"
      ],
      "text/html": "<div>\n<style scoped>\n    .dataframe tbody tr th:only-of-type {\n        vertical-align: middle;\n    }\n\n    .dataframe tbody tr th {\n        vertical-align: top;\n    }\n\n    .dataframe thead th {\n        text-align: right;\n    }\n</style>\n<table border=\"1\" class=\"dataframe\">\n  <thead>\n    <tr style=\"text-align: right;\">\n      <th></th>\n      <th>hashtags</th>\n      <th>tweet_id</th>\n      <th>media</th>\n      <th>links</th>\n      <th>domains</th>\n      <th>tweet_type</th>\n      <th>language</th>\n      <th>timestamp</th>\n      <th>a_user_id</th>\n      <th>a_follower_count</th>\n      <th>...</th>\n      <th>b_user_id</th>\n      <th>b_follower_count</th>\n      <th>b_following_count</th>\n      <th>b_is_verified</th>\n      <th>b_account_creation</th>\n      <th>b_follows_a</th>\n      <th>reply</th>\n      <th>retweet</th>\n      <th>retweet_comment</th>\n      <th>like</th>\n    </tr>\n  </thead>\n  <tbody>\n    <tr>\n      <th>0</th>\n      <td>&lt;NA&gt;</td>\n      <td>D4D1EBDE74F74C5DA529959AF979625C</td>\n      <td>&lt;NA&gt;</td>\n      <td>&lt;NA&gt;</td>\n      <td>&lt;NA&gt;</td>\n      <td>TopLevel</td>\n      <td>22C448FF81263D4BAF2A176145EE9EAD</td>\n      <td>1581258144</td>\n      <td>D7EFC6D19CFB09B9A1CE4C4B0E0091F6</td>\n      <td>3517</td>\n      <td>...</td>\n      <td>0000006C3074607050F1339DDCB890BB</td>\n      <td>27428</td>\n      <td>600</td>\n      <td>False</td>\n      <td>1520948869</td>\n      <td>False</td>\n      <td>&lt;NA&gt;</td>\n      <td>&lt;NA&gt;</td>\n      <td>&lt;NA&gt;</td>\n      <td>&lt;NA&gt;</td>\n    </tr>\n    <tr>\n      <th>1</th>\n      <td>&lt;NA&gt;</td>\n      <td>BFB529DAB6D384EB83E899A72AB3830D</td>\n      <td>Photo</td>\n      <td>&lt;NA&gt;</td>\n      <td>&lt;NA&gt;</td>\n      <td>TopLevel</td>\n      <td>B9175601E87101A984A50F8A62A1C374</td>\n      <td>1581018910</td>\n      <td>1F30A85E612A24B426013978ADB7AE46</td>\n      <td>39786</td>\n      <td>...</td>\n      <td>000005C520010F8917EEAB6F5B6EC1C4</td>\n      <td>17</td>\n      <td>77</td>\n      <td>False</td>\n      <td>1569692352</td>\n      <td>True</td>\n      <td>&lt;NA&gt;</td>\n      <td>&lt;NA&gt;</td>\n      <td>&lt;NA&gt;</td>\n      <td>&lt;NA&gt;</td>\n    </tr>\n    <tr>\n      <th>2</th>\n      <td>&lt;NA&gt;</td>\n      <td>519078C7834E9642508F72A6C2D0F3B7</td>\n      <td>&lt;NA&gt;</td>\n      <td>788ABAA22F1C4A9D186510C1E3E81F58</td>\n      <td>892B6E0BC037800B59112CFCB95E3301</td>\n      <td>TopLevel</td>\n      <td>22C448FF81263D4BAF2A176145EE9EAD</td>\n      <td>1581244866</td>\n      <td>9E1FD934C376903895DEEBCC0F6AB920</td>\n      <td>141726</td>\n      <td>...</td>\n      <td>000006829BEADA9EEA695CF0C334B426</td>\n      <td>2</td>\n      <td>29</td>\n      <td>False</td>\n      <td>1568107028</td>\n      <td>False</td>\n      <td>&lt;NA&gt;</td>\n      <td>&lt;NA&gt;</td>\n      <td>&lt;NA&gt;</td>\n      <td>1.581247087e+09</td>\n    </tr>\n    <tr>\n      <th>3</th>\n      <td>F0F2FBE57F08E7C4326682B5EDA63E3E\\tE78674D32346...</td>\n      <td>52AAE9E33EFAC8C478C57B31A9E31ED1</td>\n      <td>&lt;NA&gt;</td>\n      <td>C06B84A10A75AE4BF4A102AB45CC2ABF</td>\n      <td>C0F5328C1D36CD4B34D1808012E18D46</td>\n      <td>TopLevel</td>\n      <td>22C448FF81263D4BAF2A176145EE9EAD</td>\n      <td>1581250124</td>\n      <td>BEB3C337B266E2C4769065AD64724329</td>\n      <td>3044</td>\n      <td>...</td>\n      <td>000006829BEADA9EEA695CF0C334B426</td>\n      <td>3</td>\n      <td>30</td>\n      <td>False</td>\n      <td>1568107028</td>\n      <td>False</td>\n      <td>&lt;NA&gt;</td>\n      <td>&lt;NA&gt;</td>\n      <td>&lt;NA&gt;</td>\n      <td>&lt;NA&gt;</td>\n    </tr>\n    <tr>\n      <th>4</th>\n      <td>&lt;NA&gt;</td>\n      <td>89C1298C55EB3D68E2784F0BFB69E6F8</td>\n      <td>&lt;NA&gt;</td>\n      <td>&lt;NA&gt;</td>\n      <td>&lt;NA&gt;</td>\n      <td>TopLevel</td>\n      <td>22C448FF81263D4BAF2A176145EE9EAD</td>\n      <td>1580958805</td>\n      <td>9E1FD934C376903895DEEBCC0F6AB920</td>\n      <td>141370</td>\n      <td>...</td>\n      <td>000006829BEADA9EEA695CF0C334B426</td>\n      <td>3</td>\n      <td>30</td>\n      <td>False</td>\n      <td>1568107028</td>\n      <td>False</td>\n      <td>&lt;NA&gt;</td>\n      <td>&lt;NA&gt;</td>\n      <td>&lt;NA&gt;</td>\n      <td>&lt;NA&gt;</td>\n    </tr>\n  </tbody>\n</table>\n<p>5 rows × 23 columns</p>\n</div>"
     },
     "metadata": {},
     "execution_count": 6
    }
   ],
   "source": [
    "%%time\n",
    "features = [\n",
    "    'text_tokens',    ###############\n",
    "    'hashtags',       #Tweet Features\n",
    "    'tweet_id',       #\n",
    "    'media',          #\n",
    "    'links',          #\n",
    "    'domains',        #\n",
    "    'tweet_type',     #\n",
    "    'language',       #\n",
    "    'timestamp',      ###############\n",
    "    'a_user_id',              ###########################\n",
    "    'a_follower_count',       #Engaged With User Features\n",
    "    'a_following_count',      #\n",
    "    'a_is_verified',          #\n",
    "    'a_account_creation',     ###########################\n",
    "    'b_user_id',              #######################\n",
    "    'b_follower_count',       #Engaging User Features\n",
    "    'b_following_count',      #\n",
    "    'b_is_verified',          #\n",
    "    'b_account_creation',     #######################\n",
    "    'b_follows_a',    #################### Engagement Features\n",
    "    'reply',          #Target Reply\n",
    "    'retweet',        #Target Retweet    \n",
    "    'retweet_comment',#Target Retweet with comment\n",
    "    'like',           #Target Like\n",
    "                      ####################\n",
    "]\n",
    "df.columns = features\n",
    "\n",
    "df = df.drop('text_tokens', axis=1)\n",
    "df, = dask.persist(df)\n",
    "#_ = wait(df)\n",
    "df.head()"
   ]
  },
  {
   "cell_type": "code",
   "execution_count": 7,
   "metadata": {},
   "outputs": [
    {
     "output_type": "execute_result",
     "data": {
      "text/plain": [
       "hashtags               object\n",
       "tweet_id               object\n",
       "media                  object\n",
       "links                  object\n",
       "domains                object\n",
       "tweet_type             object\n",
       "language               object\n",
       "timestamp               int64\n",
       "a_user_id              object\n",
       "a_follower_count        int64\n",
       "a_following_count       int64\n",
       "a_is_verified            bool\n",
       "a_account_creation      int64\n",
       "b_user_id              object\n",
       "b_follower_count        int64\n",
       "b_following_count       int64\n",
       "b_is_verified            bool\n",
       "b_account_creation      int64\n",
       "b_follows_a              bool\n",
       "reply                 float64\n",
       "retweet               float64\n",
       "retweet_comment       float64\n",
       "like                  float64\n",
       "dtype: object"
      ]
     },
     "metadata": {},
     "execution_count": 7
    }
   ],
   "source": [
    "df.dtypes"
   ]
  },
  {
   "cell_type": "code",
   "execution_count": 8,
   "metadata": {
    "scrolled": true
   },
   "outputs": [
    {
     "output_type": "stream",
     "name": "stdout",
     "text": [
      "CPU times: user 976 ms, sys: 300 ms, total: 1.28 s\nWall time: 1.27 s\n"
     ]
    }
   ],
   "source": [
    "%%time\n",
    "df['id']   = 1\n",
    "df['id']   = df['id'].cumsum()\n",
    "df['id'] = df['id'].astype('int32')\n",
    "\n",
    "df['reply']   = df['reply'].fillna(0)\n",
    "df['retweet'] = df['retweet'].fillna(0)\n",
    "df['retweet_comment'] = df['retweet_comment'].fillna(0)\n",
    "df['like']    = df['like'].fillna(0)\n",
    "\n",
    "df['reply']   = df['reply'].astype('int32')\n",
    "df['retweet'] = df['retweet'].astype('int32')\n",
    "df['retweet_comment'] = df['retweet_comment'].astype('int32')\n",
    "df['like']    = df['like'].astype('int32')\n",
    "df, = dask.persist(df)\n",
    "#_ = wait(df)"
   ]
  },
  {
   "cell_type": "code",
   "execution_count": 9,
   "metadata": {},
   "outputs": [
    {
     "output_type": "stream",
     "name": "stdout",
     "text": [
      "CPU times: user 332 ms, sys: 216 ms, total: 548 ms\nWall time: 545 ms\n"
     ]
    },
    {
     "output_type": "execute_result",
     "data": {
      "text/plain": [
       "                                            hashtags  \\\n",
       "0                                               <NA>   \n",
       "1                                               <NA>   \n",
       "2                                               <NA>   \n",
       "3  F0F2FBE57F08E7C4326682B5EDA63E3E\\tE78674D32346...   \n",
       "4                                               <NA>   \n",
       "\n",
       "                           tweet_id  media                             links  \\\n",
       "0  D4D1EBDE74F74C5DA529959AF979625C   <NA>                              <NA>   \n",
       "1  BFB529DAB6D384EB83E899A72AB3830D  Photo                              <NA>   \n",
       "2  519078C7834E9642508F72A6C2D0F3B7   <NA>  788ABAA22F1C4A9D186510C1E3E81F58   \n",
       "3  52AAE9E33EFAC8C478C57B31A9E31ED1   <NA>  C06B84A10A75AE4BF4A102AB45CC2ABF   \n",
       "4  89C1298C55EB3D68E2784F0BFB69E6F8   <NA>                              <NA>   \n",
       "\n",
       "                            domains tweet_type  \\\n",
       "0                              <NA>   TopLevel   \n",
       "1                              <NA>   TopLevel   \n",
       "2  892B6E0BC037800B59112CFCB95E3301   TopLevel   \n",
       "3  C0F5328C1D36CD4B34D1808012E18D46   TopLevel   \n",
       "4                              <NA>   TopLevel   \n",
       "\n",
       "                           language   timestamp  \\\n",
       "0  22C448FF81263D4BAF2A176145EE9EAD  1581258144   \n",
       "1  B9175601E87101A984A50F8A62A1C374  1581018910   \n",
       "2  22C448FF81263D4BAF2A176145EE9EAD  1581244866   \n",
       "3  22C448FF81263D4BAF2A176145EE9EAD  1581250124   \n",
       "4  22C448FF81263D4BAF2A176145EE9EAD  1580958805   \n",
       "\n",
       "                          a_user_id  a_follower_count  ...  b_follower_count  \\\n",
       "0  D7EFC6D19CFB09B9A1CE4C4B0E0091F6              3517  ...             27428   \n",
       "1  1F30A85E612A24B426013978ADB7AE46             39786  ...                17   \n",
       "2  9E1FD934C376903895DEEBCC0F6AB920            141726  ...                 2   \n",
       "3  BEB3C337B266E2C4769065AD64724329              3044  ...                 3   \n",
       "4  9E1FD934C376903895DEEBCC0F6AB920            141370  ...                 3   \n",
       "\n",
       "   b_following_count  b_is_verified  b_account_creation  b_follows_a  reply  \\\n",
       "0                600          False          1520948869        False      0   \n",
       "1                 77          False          1569692352         True      0   \n",
       "2                 29          False          1568107028        False      0   \n",
       "3                 30          False          1568107028        False      0   \n",
       "4                 30          False          1568107028        False      0   \n",
       "\n",
       "   retweet  retweet_comment        like  id  \n",
       "0        0                0           0   1  \n",
       "1        0                0           0   2  \n",
       "2        0                0  1581247087   3  \n",
       "3        0                0           0   4  \n",
       "4        0                0           0   5  \n",
       "\n",
       "[5 rows x 24 columns]"
      ],
      "text/html": "<div>\n<style scoped>\n    .dataframe tbody tr th:only-of-type {\n        vertical-align: middle;\n    }\n\n    .dataframe tbody tr th {\n        vertical-align: top;\n    }\n\n    .dataframe thead th {\n        text-align: right;\n    }\n</style>\n<table border=\"1\" class=\"dataframe\">\n  <thead>\n    <tr style=\"text-align: right;\">\n      <th></th>\n      <th>hashtags</th>\n      <th>tweet_id</th>\n      <th>media</th>\n      <th>links</th>\n      <th>domains</th>\n      <th>tweet_type</th>\n      <th>language</th>\n      <th>timestamp</th>\n      <th>a_user_id</th>\n      <th>a_follower_count</th>\n      <th>...</th>\n      <th>b_follower_count</th>\n      <th>b_following_count</th>\n      <th>b_is_verified</th>\n      <th>b_account_creation</th>\n      <th>b_follows_a</th>\n      <th>reply</th>\n      <th>retweet</th>\n      <th>retweet_comment</th>\n      <th>like</th>\n      <th>id</th>\n    </tr>\n  </thead>\n  <tbody>\n    <tr>\n      <th>0</th>\n      <td>&lt;NA&gt;</td>\n      <td>D4D1EBDE74F74C5DA529959AF979625C</td>\n      <td>&lt;NA&gt;</td>\n      <td>&lt;NA&gt;</td>\n      <td>&lt;NA&gt;</td>\n      <td>TopLevel</td>\n      <td>22C448FF81263D4BAF2A176145EE9EAD</td>\n      <td>1581258144</td>\n      <td>D7EFC6D19CFB09B9A1CE4C4B0E0091F6</td>\n      <td>3517</td>\n      <td>...</td>\n      <td>27428</td>\n      <td>600</td>\n      <td>False</td>\n      <td>1520948869</td>\n      <td>False</td>\n      <td>0</td>\n      <td>0</td>\n      <td>0</td>\n      <td>0</td>\n      <td>1</td>\n    </tr>\n    <tr>\n      <th>1</th>\n      <td>&lt;NA&gt;</td>\n      <td>BFB529DAB6D384EB83E899A72AB3830D</td>\n      <td>Photo</td>\n      <td>&lt;NA&gt;</td>\n      <td>&lt;NA&gt;</td>\n      <td>TopLevel</td>\n      <td>B9175601E87101A984A50F8A62A1C374</td>\n      <td>1581018910</td>\n      <td>1F30A85E612A24B426013978ADB7AE46</td>\n      <td>39786</td>\n      <td>...</td>\n      <td>17</td>\n      <td>77</td>\n      <td>False</td>\n      <td>1569692352</td>\n      <td>True</td>\n      <td>0</td>\n      <td>0</td>\n      <td>0</td>\n      <td>0</td>\n      <td>2</td>\n    </tr>\n    <tr>\n      <th>2</th>\n      <td>&lt;NA&gt;</td>\n      <td>519078C7834E9642508F72A6C2D0F3B7</td>\n      <td>&lt;NA&gt;</td>\n      <td>788ABAA22F1C4A9D186510C1E3E81F58</td>\n      <td>892B6E0BC037800B59112CFCB95E3301</td>\n      <td>TopLevel</td>\n      <td>22C448FF81263D4BAF2A176145EE9EAD</td>\n      <td>1581244866</td>\n      <td>9E1FD934C376903895DEEBCC0F6AB920</td>\n      <td>141726</td>\n      <td>...</td>\n      <td>2</td>\n      <td>29</td>\n      <td>False</td>\n      <td>1568107028</td>\n      <td>False</td>\n      <td>0</td>\n      <td>0</td>\n      <td>0</td>\n      <td>1581247087</td>\n      <td>3</td>\n    </tr>\n    <tr>\n      <th>3</th>\n      <td>F0F2FBE57F08E7C4326682B5EDA63E3E\\tE78674D32346...</td>\n      <td>52AAE9E33EFAC8C478C57B31A9E31ED1</td>\n      <td>&lt;NA&gt;</td>\n      <td>C06B84A10A75AE4BF4A102AB45CC2ABF</td>\n      <td>C0F5328C1D36CD4B34D1808012E18D46</td>\n      <td>TopLevel</td>\n      <td>22C448FF81263D4BAF2A176145EE9EAD</td>\n      <td>1581250124</td>\n      <td>BEB3C337B266E2C4769065AD64724329</td>\n      <td>3044</td>\n      <td>...</td>\n      <td>3</td>\n      <td>30</td>\n      <td>False</td>\n      <td>1568107028</td>\n      <td>False</td>\n      <td>0</td>\n      <td>0</td>\n      <td>0</td>\n      <td>0</td>\n      <td>4</td>\n    </tr>\n    <tr>\n      <th>4</th>\n      <td>&lt;NA&gt;</td>\n      <td>89C1298C55EB3D68E2784F0BFB69E6F8</td>\n      <td>&lt;NA&gt;</td>\n      <td>&lt;NA&gt;</td>\n      <td>&lt;NA&gt;</td>\n      <td>TopLevel</td>\n      <td>22C448FF81263D4BAF2A176145EE9EAD</td>\n      <td>1580958805</td>\n      <td>9E1FD934C376903895DEEBCC0F6AB920</td>\n      <td>141370</td>\n      <td>...</td>\n      <td>3</td>\n      <td>30</td>\n      <td>False</td>\n      <td>1568107028</td>\n      <td>False</td>\n      <td>0</td>\n      <td>0</td>\n      <td>0</td>\n      <td>0</td>\n      <td>5</td>\n    </tr>\n  </tbody>\n</table>\n<p>5 rows × 24 columns</p>\n</div>"
     },
     "metadata": {},
     "execution_count": 9
    }
   ],
   "source": [
    "%%time\n",
    "\n",
    "df['timestamp']         = df['timestamp'].astype( np.int32 )\n",
    "df['a_follower_count']  = df['a_follower_count'].astype( np.int32 )\n",
    "df['a_following_count'] = df['a_following_count'].astype( np.int32 )\n",
    "df['a_account_creation']= df['a_account_creation'].astype( np.int32 )\n",
    "df['b_follower_count']  = df['b_follower_count'].astype( np.int32 )\n",
    "df['b_following_count'] = df['b_following_count'].astype( np.int32 )\n",
    "df['b_account_creation']= df['b_account_creation'].astype( np.int32 )\n",
    "\n",
    "df, = dask.persist(df)\n",
    "#_ = wait(df)\n",
    "df.head()"
   ]
  },
  {
   "cell_type": "code",
   "execution_count": 10,
   "metadata": {},
   "outputs": [
    {
     "output_type": "execute_result",
     "data": {
      "text/plain": [
       "hashtags              object\n",
       "tweet_id              object\n",
       "media                 object\n",
       "links                 object\n",
       "domains               object\n",
       "tweet_type            object\n",
       "language              object\n",
       "timestamp              int32\n",
       "a_user_id             object\n",
       "a_follower_count       int32\n",
       "a_following_count      int32\n",
       "a_is_verified           bool\n",
       "a_account_creation     int32\n",
       "b_user_id             object\n",
       "b_follower_count       int32\n",
       "b_following_count      int32\n",
       "b_is_verified           bool\n",
       "b_account_creation     int32\n",
       "b_follows_a             bool\n",
       "reply                  int32\n",
       "retweet                int32\n",
       "retweet_comment        int32\n",
       "like                   int32\n",
       "id                     int32\n",
       "dtype: object"
      ]
     },
     "metadata": {},
     "execution_count": 10
    }
   ],
   "source": [
    "df.dtypes"
   ]
  },
  {
   "cell_type": "code",
   "execution_count": 11,
   "metadata": {},
   "outputs": [
    {
     "output_type": "stream",
     "name": "stdout",
     "text": [
      "number of rows: 9760684\nCPU times: user 3.84 s, sys: 1.75 s, total: 5.59 s\nWall time: 5.59 s\n"
     ]
    }
   ],
   "source": [
    "%%time\n",
    "dv = dask_cudf.read_csv('/home/pinto/val.tsv', sep='\\x01', header=None)\n",
    "dv = dv.repartition(npartitions=NP)\n",
    "dv, = dask.persist(dv)\n",
    "#_ = wait(dv)\n",
    "print('number of rows:',len(dv))"
   ]
  },
  {
   "cell_type": "code",
   "execution_count": 12,
   "metadata": {
    "scrolled": true
   },
   "outputs": [
    {
     "output_type": "stream",
     "name": "stdout",
     "text": [
      "                                                   0     1  \\\n0  101\\t10117\\t140\\t119\\t142\\t119\\t152\\t119\\t1010...  <NA>   \n1  101\\t10105\\t10817\\t10124\\t59232\\t18121\\t15629\\...  <NA>   \n2  101\\t48561\\t10116\\t67737\\t18554\\t36371\\t10989\\...  <NA>   \n3  101\\t100055\\t69940\\t10414\\t159\\t11305\\t11166\\t...  <NA>   \n4  101\\t62154\\t32221\\t71843\\t10143\\t10237\\t15507\\...  <NA>   \n\n                                  2      3                                 4  \\\n0  373C0F43762B7CEC1D75728BE8A33891   <NA>  A2CE3A1941BA410A1C31496C355EFCD7   \n1  773A92D9E4824D06105C02BD044BB20A   <NA>                              <NA>   \n2  218A6C27871801759F7380D7C41694A6   <NA>  5C683B5A29B308CADD0D7EFA7C9C32D3   \n3  AB817EBA68064A0C8CBF4A6C059D92DC  Photo  E925556EE312213AD98C4D9F131D7A8D   \n4  349120C1E2801857530393F16D4653A5   <NA>                              <NA>   \n\n                                  5         6  \\\n0  E14AF8A8D257BB47587843FE7D08382B  TopLevel   \n1                              <NA>     Quote   \n2  6717B03E03DEE1D7ACAE37649ACA7BD6  TopLevel   \n3  D722330FEBEAAE68B4F4339CE8BD7C70  TopLevel   \n4                              <NA>  TopLevel   \n\n                                  7           8  \\\n0  D3164C7FBCF2565DDF915B1B3AEFB1DC  1582126349   \n1  D3164C7FBCF2565DDF915B1B3AEFB1DC  1581971193   \n2  9BF3403E0EB7EA8A256DA9019C0B0716  1582047119   \n3  691890251F2B9FF922BE6D3699ABEFD2  1581554925   \n4  9BF3403E0EB7EA8A256DA9019C0B0716  1581568955   \n\n                                  9  ...                                14  \\\n0  2A8B6AD2B9D55F535C2441AB673133D2  ...  00000865A1538142CDA5936B07FE4311   \n1  950A95B81407F33C412E520BE55A1450  ...  000009A057792FF118B9E3F2578B8407   \n2  ABB2F7F22C34057BC7B30D627B0C137A  ...  00000DEF82BE9EB5CFD07FB7DB94317B   \n3  03F96C3B7CE2179B6347AA395880C963  ...  0000109A57AFA64758EE4AAE2A01BFC7   \n4  E035DCB47CB3DF98C5CD7CFEEC3BC704  ...  000012366528B5FEE179A9606DBC9826   \n\n     15    16     17          18     19               20    21    22    23  \n0    65   166  False  1452599043  False             <NA>  <NA>  <NA>  <NA>  \n1  1814  1314  False  1322868747   True  1.581979318e+09  <NA>  <NA>  <NA>  \n2     4    73  False  1573996260  False             <NA>  <NA>  <NA>  <NA>  \n3    15   124  False  1385502405   True             <NA>  <NA>  <NA>  <NA>  \n4  1226   655  False  1268639592   True  1.581570171e+09  <NA>  <NA>  <NA>  \n\n[5 rows x 24 columns]\nCPU times: user 100 ms, sys: 0 ns, total: 100 ms\nWall time: 95.6 ms\n"
     ]
    }
   ],
   "source": [
    "%%time\n",
    "print(dv.head())\n",
    "features = [\n",
    "    'text_tokens',    ###############\n",
    "    'hashtags',       #Tweet Features\n",
    "    'tweet_id',       #\n",
    "    'media',          #\n",
    "    'links',          #\n",
    "    'domains',        #\n",
    "    'tweet_type',     #\n",
    "    'language',       #\n",
    "    'timestamp',      ###############\n",
    "    'a_user_id',              ###########################\n",
    "    'a_follower_count',       #Engaged With User Features\n",
    "    'a_following_count',      #\n",
    "    'a_is_verified',          #\n",
    "    'a_account_creation',     ###########################\n",
    "    'b_user_id',              #######################\n",
    "    'b_follower_count',       #Engaging User Features\n",
    "    'b_following_count',      #\n",
    "    'b_is_verified',          #\n",
    "    'b_account_creation',     #######################\n",
    "    'b_follows_a',    #################### Engagement Features\n",
    "    'reply',          #Target Reply\n",
    "    'retweet',        #Target Retweet    \n",
    "    'retweet_comment',#Target Retweet with comment\n",
    "    'like',           #Target Like\n",
    "                      ####################\n",
    "]\n",
    "dv.columns = features\n",
    "dv = dv.drop('text_tokens', axis=1)\n",
    "dv, = dask.persist(dv)\n",
    "#_ = wait(dv)"
   ]
  },
  {
   "cell_type": "code",
   "execution_count": 13,
   "metadata": {},
   "outputs": [
    {
     "output_type": "stream",
     "name": "stdout",
     "text": [
      "CPU times: user 1.95 s, sys: 2.27 s, total: 4.22 s\nWall time: 4.22 s\n"
     ]
    }
   ],
   "source": [
    "%%time\n",
    "\n",
    "dv['reply']           = 0\n",
    "dv['retweet']         = 0\n",
    "dv['retweet_comment'] = 0\n",
    "dv['like']            = 0\n",
    "\n",
    "dv['id']   = 1\n",
    "dv['id']   = dv['id'].cumsum()\n",
    "dv['id'] = dv['id'] + len(df)\n",
    "dv['id'] = dv['id'].astype('int32')\n",
    "\n",
    "dv['reply']           = dv['reply'].astype( np.int32 )\n",
    "dv['retweet']         = dv['retweet'].astype( np.int32 )\n",
    "dv['retweet_comment'] = dv['retweet_comment'].astype( np.int32 )\n",
    "dv['like']            = dv['like'].astype( np.int32 )\n",
    "\n",
    "dv['timestamp']         = dv['timestamp'].astype( np.int32 )\n",
    "dv['a_follower_count']  = dv['a_follower_count'].astype( np.int32 )\n",
    "dv['a_following_count'] = dv['a_following_count'].astype( np.int32 )\n",
    "dv['a_account_creation']= dv['a_account_creation'].astype( np.int32 )\n",
    "dv['b_follower_count']  = dv['b_follower_count'].astype( np.int32 )\n",
    "dv['b_following_count'] = dv['b_following_count'].astype( np.int32 )\n",
    "dv['b_account_creation']= dv['b_account_creation'].astype( np.int32 )\n",
    "dv, = dask.persist(dv)\n",
    "#_ = wait(dv)"
   ]
  },
  {
   "cell_type": "code",
   "execution_count": 14,
   "metadata": {},
   "outputs": [
    {
     "output_type": "stream",
     "name": "stdout",
     "text": [
      "CPU times: user 3.84 s, sys: 1.76 s, total: 5.6 s\nWall time: 5.61 s\n"
     ]
    }
   ],
   "source": [
    "%%time\n",
    "dt = dask_cudf.read_csv(f'/home/pinto/test.tsv', sep='\\x01', header=None)\n",
    "dt = dt.repartition(npartitions=NP)\n",
    "dt, = dask.persist(dt)\n",
    "#_ = wait(dt)"
   ]
  },
  {
   "cell_type": "code",
   "execution_count": 15,
   "metadata": {},
   "outputs": [
    {
     "output_type": "stream",
     "name": "stdout",
     "text": [
      "                                                   0  \\\n0  101\\t3100\\t5477\\t3028\\t4348\\t1924\\t111806\\t186...   \n1  101\\t56898\\t137\\t36110\\t10400\\t168\\t64062\\t131...   \n2  101\\t10117\\t23672\\t12610\\t86532\\t11205\\t90138\\...   \n3  101\\t13690\\t14372\\t119\\t119\\t19281\\t25444\\t984...   \n4  101\\t56898\\t137\\t171\\t64791\\t168\\t11499\\t10330...   \n\n                                                   1  \\\n0                                               <NA>   \n1  024FE90EC2C01B3CDC46A5A90D66B020\\t1B78BDD9C7FF...   \n2                                               <NA>   \n3                                               <NA>   \n4  9533703A3BB1CBA49AC0547C4A9F8043\\t4C57C1D9063D...   \n\n                                  2      3     4     5         6  \\\n0  04746004AA1F5498834CE7A4C6343D1A   <NA>  <NA>  <NA>  TopLevel   \n1  B5C4CBE185831F3E5A58A4D81118D4C7   <NA>  <NA>  <NA>   Retweet   \n2  8747BA89E3245FE4097C9E4E0AE40862  Video  <NA>  <NA>  TopLevel   \n3  1CD2139E249349CBD5A0576D163C5EF8  Photo  <NA>  <NA>  TopLevel   \n4  BDFA89609AC3EDDE250DCECD964B5890  Photo  <NA>  <NA>   Retweet   \n\n                                  7           8  \\\n0  22C448FF81263D4BAF2A176145EE9EAD  1581759640   \n1  22C448FF81263D4BAF2A176145EE9EAD  1581668217   \n2  D3164C7FBCF2565DDF915B1B3AEFB1DC  1581876000   \n3  D3164C7FBCF2565DDF915B1B3AEFB1DC  1581646803   \n4  22C448FF81263D4BAF2A176145EE9EAD  1581623428   \n\n                                  9  ...                                14  \\\n0  6720CC7830F94CB7465CA283300DB010  ...  00000776B07587ECA9717BFC301F2D6E   \n1  7DDC67265CFB6E0B4820E0BD0E33A8D3  ...  00000776B07587ECA9717BFC301F2D6E   \n2  1C0B9850DE2A34BA8B8DF413F5C13233  ...  0000109A57AFA64758EE4AAE2A01BFC7   \n3  94FBB99CE36D7A152DABA57CEF62F75E  ...  000013315386492275CCBF7AEF293EF0   \n4  311BB1E051070C2639BC632ECDE69C43  ...  000013315386492275CCBF7AEF293EF0   \n\n    15   16     17          18     19    20    21    22               23  \n0  111  673  False  1478011810   True  <NA>  <NA>  <NA>  1.581774852e+09  \n1  111  673  False  1478011810   True  <NA>  <NA>  <NA>   1.58168445e+09  \n2   15  123  False  1385502405  False  <NA>  <NA>  <NA>             <NA>  \n3  141  955  False  1335110299  False  <NA>  <NA>  <NA>             <NA>  \n4  139  953  False  1335110299  False  <NA>  <NA>  <NA>             <NA>  \n\n[5 rows x 24 columns]\nnumber of rows: 9765321\nCPU times: user 104 ms, sys: 0 ns, total: 104 ms\nWall time: 99.8 ms\n"
     ]
    }
   ],
   "source": [
    "%%time\n",
    "print(dt.head())\n",
    "features = [\n",
    "    'text_tokens',    ###############\n",
    "    'hashtags',       #Tweet Features\n",
    "    'tweet_id',       #\n",
    "    'media',          #\n",
    "    'links',          #\n",
    "    'domains',        #\n",
    "    'tweet_type',     #\n",
    "    'language',       #\n",
    "    'timestamp',      ###############\n",
    "    'a_user_id',              ###########################\n",
    "    'a_follower_count',       #Engaged With User Features\n",
    "    'a_following_count',      #\n",
    "    'a_is_verified',          #\n",
    "    'a_account_creation',     ###########################\n",
    "    'b_user_id',              #######################\n",
    "    'b_follower_count',       #Engaging User Features\n",
    "    'b_following_count',      #\n",
    "    'b_is_verified',          #\n",
    "    'b_account_creation',     #######################\n",
    "    'b_follows_a',    #################### Engagement Features\n",
    "    'reply',          #Target Reply\n",
    "    'retweet',        #Target Retweet    \n",
    "    'retweet_comment',#Target Retweet with comment\n",
    "    'like',           #Target Like\n",
    "                      ####################\n",
    "]\n",
    "dt.columns = features\n",
    "dt = dt.drop('text_tokens', axis=1)\n",
    "dt, = dask.persist(dt)\n",
    "#_ = wait(dt)\n",
    "print('number of rows:',len(dt))"
   ]
  },
  {
   "cell_type": "code",
   "execution_count": 16,
   "metadata": {},
   "outputs": [
    {
     "output_type": "stream",
     "name": "stdout",
     "text": [
      "(Delayed('int-bbe2c33e-1fa5-4961-b03d-7fe02f30d81e'), 24) (Delayed('int-0e26b3ba-2380-4dfb-bace-87f3ce12ed31'), 24) (Delayed('int-5def1a2f-5d8e-4d1c-a203-0a802aae85e7'), 24)\nCPU times: user 2.02 s, sys: 2.3 s, total: 4.32 s\nWall time: 4.32 s\n"
     ]
    },
    {
     "output_type": "execute_result",
     "data": {
      "text/plain": [
       "                                            hashtags  \\\n",
       "0                                               <NA>   \n",
       "1  024FE90EC2C01B3CDC46A5A90D66B020\\t1B78BDD9C7FF...   \n",
       "2                                               <NA>   \n",
       "3                                               <NA>   \n",
       "4  9533703A3BB1CBA49AC0547C4A9F8043\\t4C57C1D9063D...   \n",
       "\n",
       "                           tweet_id  media links domains tweet_type  \\\n",
       "0  04746004AA1F5498834CE7A4C6343D1A   <NA>  <NA>    <NA>   TopLevel   \n",
       "1  B5C4CBE185831F3E5A58A4D81118D4C7   <NA>  <NA>    <NA>    Retweet   \n",
       "2  8747BA89E3245FE4097C9E4E0AE40862  Video  <NA>    <NA>   TopLevel   \n",
       "3  1CD2139E249349CBD5A0576D163C5EF8  Photo  <NA>    <NA>   TopLevel   \n",
       "4  BDFA89609AC3EDDE250DCECD964B5890  Photo  <NA>    <NA>    Retweet   \n",
       "\n",
       "                           language   timestamp  \\\n",
       "0  22C448FF81263D4BAF2A176145EE9EAD  1581759640   \n",
       "1  22C448FF81263D4BAF2A176145EE9EAD  1581668217   \n",
       "2  D3164C7FBCF2565DDF915B1B3AEFB1DC  1581876000   \n",
       "3  D3164C7FBCF2565DDF915B1B3AEFB1DC  1581646803   \n",
       "4  22C448FF81263D4BAF2A176145EE9EAD  1581623428   \n",
       "\n",
       "                          a_user_id  a_follower_count  ...  b_follower_count  \\\n",
       "0  6720CC7830F94CB7465CA283300DB010               119  ...               111   \n",
       "1  7DDC67265CFB6E0B4820E0BD0E33A8D3               189  ...               111   \n",
       "2  1C0B9850DE2A34BA8B8DF413F5C13233            405907  ...                15   \n",
       "3  94FBB99CE36D7A152DABA57CEF62F75E            111841  ...               141   \n",
       "4  311BB1E051070C2639BC632ECDE69C43              3577  ...               139   \n",
       "\n",
       "   b_following_count  b_is_verified  b_account_creation  b_follows_a  reply  \\\n",
       "0                673          False          1478011810         True      0   \n",
       "1                673          False          1478011810         True      0   \n",
       "2                123          False          1385502405        False      0   \n",
       "3                955          False          1335110299        False      0   \n",
       "4                953          False          1335110299        False      0   \n",
       "\n",
       "   retweet  retweet_comment  like        id  \n",
       "0        0                0     0  11107620  \n",
       "1        0                0     0  11107621  \n",
       "2        0                0     0  11107622  \n",
       "3        0                0     0  11107623  \n",
       "4        0                0     0  11107624  \n",
       "\n",
       "[5 rows x 24 columns]"
      ],
      "text/html": "<div>\n<style scoped>\n    .dataframe tbody tr th:only-of-type {\n        vertical-align: middle;\n    }\n\n    .dataframe tbody tr th {\n        vertical-align: top;\n    }\n\n    .dataframe thead th {\n        text-align: right;\n    }\n</style>\n<table border=\"1\" class=\"dataframe\">\n  <thead>\n    <tr style=\"text-align: right;\">\n      <th></th>\n      <th>hashtags</th>\n      <th>tweet_id</th>\n      <th>media</th>\n      <th>links</th>\n      <th>domains</th>\n      <th>tweet_type</th>\n      <th>language</th>\n      <th>timestamp</th>\n      <th>a_user_id</th>\n      <th>a_follower_count</th>\n      <th>...</th>\n      <th>b_follower_count</th>\n      <th>b_following_count</th>\n      <th>b_is_verified</th>\n      <th>b_account_creation</th>\n      <th>b_follows_a</th>\n      <th>reply</th>\n      <th>retweet</th>\n      <th>retweet_comment</th>\n      <th>like</th>\n      <th>id</th>\n    </tr>\n  </thead>\n  <tbody>\n    <tr>\n      <th>0</th>\n      <td>&lt;NA&gt;</td>\n      <td>04746004AA1F5498834CE7A4C6343D1A</td>\n      <td>&lt;NA&gt;</td>\n      <td>&lt;NA&gt;</td>\n      <td>&lt;NA&gt;</td>\n      <td>TopLevel</td>\n      <td>22C448FF81263D4BAF2A176145EE9EAD</td>\n      <td>1581759640</td>\n      <td>6720CC7830F94CB7465CA283300DB010</td>\n      <td>119</td>\n      <td>...</td>\n      <td>111</td>\n      <td>673</td>\n      <td>False</td>\n      <td>1478011810</td>\n      <td>True</td>\n      <td>0</td>\n      <td>0</td>\n      <td>0</td>\n      <td>0</td>\n      <td>11107620</td>\n    </tr>\n    <tr>\n      <th>1</th>\n      <td>024FE90EC2C01B3CDC46A5A90D66B020\\t1B78BDD9C7FF...</td>\n      <td>B5C4CBE185831F3E5A58A4D81118D4C7</td>\n      <td>&lt;NA&gt;</td>\n      <td>&lt;NA&gt;</td>\n      <td>&lt;NA&gt;</td>\n      <td>Retweet</td>\n      <td>22C448FF81263D4BAF2A176145EE9EAD</td>\n      <td>1581668217</td>\n      <td>7DDC67265CFB6E0B4820E0BD0E33A8D3</td>\n      <td>189</td>\n      <td>...</td>\n      <td>111</td>\n      <td>673</td>\n      <td>False</td>\n      <td>1478011810</td>\n      <td>True</td>\n      <td>0</td>\n      <td>0</td>\n      <td>0</td>\n      <td>0</td>\n      <td>11107621</td>\n    </tr>\n    <tr>\n      <th>2</th>\n      <td>&lt;NA&gt;</td>\n      <td>8747BA89E3245FE4097C9E4E0AE40862</td>\n      <td>Video</td>\n      <td>&lt;NA&gt;</td>\n      <td>&lt;NA&gt;</td>\n      <td>TopLevel</td>\n      <td>D3164C7FBCF2565DDF915B1B3AEFB1DC</td>\n      <td>1581876000</td>\n      <td>1C0B9850DE2A34BA8B8DF413F5C13233</td>\n      <td>405907</td>\n      <td>...</td>\n      <td>15</td>\n      <td>123</td>\n      <td>False</td>\n      <td>1385502405</td>\n      <td>False</td>\n      <td>0</td>\n      <td>0</td>\n      <td>0</td>\n      <td>0</td>\n      <td>11107622</td>\n    </tr>\n    <tr>\n      <th>3</th>\n      <td>&lt;NA&gt;</td>\n      <td>1CD2139E249349CBD5A0576D163C5EF8</td>\n      <td>Photo</td>\n      <td>&lt;NA&gt;</td>\n      <td>&lt;NA&gt;</td>\n      <td>TopLevel</td>\n      <td>D3164C7FBCF2565DDF915B1B3AEFB1DC</td>\n      <td>1581646803</td>\n      <td>94FBB99CE36D7A152DABA57CEF62F75E</td>\n      <td>111841</td>\n      <td>...</td>\n      <td>141</td>\n      <td>955</td>\n      <td>False</td>\n      <td>1335110299</td>\n      <td>False</td>\n      <td>0</td>\n      <td>0</td>\n      <td>0</td>\n      <td>0</td>\n      <td>11107623</td>\n    </tr>\n    <tr>\n      <th>4</th>\n      <td>9533703A3BB1CBA49AC0547C4A9F8043\\t4C57C1D9063D...</td>\n      <td>BDFA89609AC3EDDE250DCECD964B5890</td>\n      <td>Photo</td>\n      <td>&lt;NA&gt;</td>\n      <td>&lt;NA&gt;</td>\n      <td>Retweet</td>\n      <td>22C448FF81263D4BAF2A176145EE9EAD</td>\n      <td>1581623428</td>\n      <td>311BB1E051070C2639BC632ECDE69C43</td>\n      <td>3577</td>\n      <td>...</td>\n      <td>139</td>\n      <td>953</td>\n      <td>False</td>\n      <td>1335110299</td>\n      <td>False</td>\n      <td>0</td>\n      <td>0</td>\n      <td>0</td>\n      <td>0</td>\n      <td>11107624</td>\n    </tr>\n  </tbody>\n</table>\n<p>5 rows × 24 columns</p>\n</div>"
     },
     "metadata": {},
     "execution_count": 16
    }
   ],
   "source": [
    "%%time\n",
    "dt['reply']           = 0\n",
    "dt['retweet']         = 0\n",
    "dt['retweet_comment'] = 0\n",
    "dt['like']            = 0\n",
    "\n",
    "dt['id']   = 1\n",
    "dt['id']   = dt['id'].cumsum()\n",
    "dt['id']   = dt['id']+len(df)+len(dv)\n",
    "dt['id']   = dt['id'].astype('int32')\n",
    "\n",
    "dt['reply']           = dt['reply'].astype( np.int32 )\n",
    "dt['retweet']         = dt['retweet'].astype( np.int32 )\n",
    "dt['retweet_comment'] = dt['retweet_comment'].astype( np.int32 )\n",
    "dt['like']            = dt['like'].astype( np.int32 )\n",
    "\n",
    "dt['timestamp']         = dt['timestamp'].astype( np.int32 )\n",
    "dt['a_follower_count']  = dt['a_follower_count'].astype( np.int32 )\n",
    "dt['a_following_count'] = dt['a_following_count'].astype( np.int32 )\n",
    "dt['a_account_creation']= dt['a_account_creation'].astype( np.int32 )\n",
    "dt['b_follower_count']  = dt['b_follower_count'].astype( np.int32 )\n",
    "dt['b_following_count'] = dt['b_following_count'].astype( np.int32 )\n",
    "dt['b_account_creation']= dt['b_account_creation'].astype( np.int32 )\n",
    "\n",
    "dt, = dask.persist(dt)\n",
    "#_ = wait(dt)\n",
    "print(df.shape,dv.shape,dt.shape)\n",
    "dt.head()"
   ]
  },
  {
   "cell_type": "code",
   "execution_count": 17,
   "metadata": {},
   "outputs": [
    {
     "output_type": "stream",
     "name": "stdout",
     "text": [
      "1346935 9760684 9765321\n"
     ]
    }
   ],
   "source": [
    "train_size = len(df)#.shape[0]\n",
    "test0_size = len(dv)#.shape[0]\n",
    "test1_size = len(dt)#.shape[0]\n",
    "print(train_size,test0_size,test1_size)"
   ]
  },
  {
   "cell_type": "code",
   "execution_count": 18,
   "metadata": {},
   "outputs": [
    {
     "output_type": "stream",
     "name": "stdout",
     "text": [
      "CPU times: user 104 ms, sys: 4 ms, total: 108 ms\nWall time: 106 ms\n"
     ]
    }
   ],
   "source": [
    "%%time\n",
    "df = dask_cudf.concat( [df,dv,dt] )\n",
    "df, = dask.persist(df)\n",
    "#wait(df)\n",
    "del dv, dt"
   ]
  },
  {
   "cell_type": "code",
   "execution_count": 19,
   "metadata": {},
   "outputs": [
    {
     "output_type": "execute_result",
     "data": {
      "text/plain": [
       "0    22C448FF81263D4BAF2A176145EE9EAD\n",
       "1    B9175601E87101A984A50F8A62A1C374\n",
       "2    22C448FF81263D4BAF2A176145EE9EAD\n",
       "3    22C448FF81263D4BAF2A176145EE9EAD\n",
       "4    22C448FF81263D4BAF2A176145EE9EAD\n",
       "Name: language, dtype: object"
      ]
     },
     "metadata": {},
     "execution_count": 19
    }
   ],
   "source": [
    "df.head()['language']"
   ]
  },
  {
   "cell_type": "code",
   "execution_count": 20,
   "metadata": {},
   "outputs": [
    {
     "output_type": "stream",
     "name": "stdout",
     "text": [
      "<class 'dask_cudf.core.DataFrame'>\nColumns: 24 entries, hashtags to id\ndtypes: object(9), bool(3), int32(12)"
     ]
    }
   ],
   "source": [
    "df.info()"
   ]
  },
  {
   "cell_type": "code",
   "execution_count": 21,
   "metadata": {},
   "outputs": [
    {
     "output_type": "stream",
     "name": "stdout",
     "text": [
      "12 20872940\n"
     ]
    }
   ],
   "source": [
    "print(df.npartitions,len(df))"
   ]
  },
  {
   "cell_type": "code",
   "execution_count": 22,
   "metadata": {},
   "outputs": [
    {
     "output_type": "execute_result",
     "data": {
      "text/plain": [
       "\"\\n%%time\\ndf['tweet_id'] = df['tweet_id'].map_partitions(lambda cudf:cudf.hash_encode(stop=1_000_000_000))\\ndf['tweet_id'] = df['tweet_id'].astype( np.int32 )\\n#df['tweet_id'] = df['tweet_id'].map_partitions(lambda cudf:cudf.hash_values()%1_000_000_000)\\ndf, = dask.persist(df)\\n_ = wait(df)\\ndf.head()\\n\""
      ]
     },
     "metadata": {},
     "execution_count": 22
    }
   ],
   "source": [
    "\"\"\"\n",
    "%%time\n",
    "df['tweet_id'] = df['tweet_id'].map_partitions(lambda cudf:cudf.hash_encode(stop=1_000_000_000))\n",
    "df['tweet_id'] = df['tweet_id'].astype( np.int32 )\n",
    "#df['tweet_id'] = df['tweet_id'].map_partitions(lambda cudf:cudf.hash_values()%1_000_000_000)\n",
    "df, = dask.persist(df)\n",
    "_ = wait(df)\n",
    "df.head()\n",
    "\"\"\""
   ]
  },
  {
   "cell_type": "code",
   "execution_count": 23,
   "metadata": {},
   "outputs": [
    {
     "output_type": "stream",
     "name": "stdout",
     "text": [
      "CPU times: user 720 ms, sys: 640 ms, total: 1.36 s\nWall time: 1.36 s\n"
     ]
    }
   ],
   "source": [
    "%%time\n",
    "df['media'] = df['media'].fillna( '' )\n",
    "def split_join(ds,sep):\n",
    "    df = ds.str.split(sep)\n",
    "    df[0] = df[0].fillna('')\n",
    "    df[1] = df[1].fillna('')\n",
    "    res = df[0]+'_'+df[1]\n",
    "    del df\n",
    "    return res\n",
    "\n",
    "df['media'] = df['media'].map_partitions( lambda x:  split_join(x,'\\t'), meta=('O'))\n",
    "\n",
    "df, = dask.persist(df)\n",
    "#_ = wait(df)"
   ]
  },
  {
   "cell_type": "code",
   "execution_count": 24,
   "metadata": {},
   "outputs": [],
   "source": [
    "def factorize_small_cardinality(df,col):\n",
    "    tmp_col = f'{col}_encode'\n",
    "    tmp = df[col].unique().compute()\n",
    "    tmp = tmp.to_frame().reset_index()\n",
    "    tmp = tmp.rename(columns={'index':tmp_col})\n",
    "    df = df.merge(tmp,on=col,how='left')\n",
    "    df, = dask.persist(df)\n",
    "    #wait(df)\n",
    "    head=df.head()\n",
    "    del tmp\n",
    "    df = df.drop(col,axis=1)\n",
    "    df, = dask.persist(df)\n",
    "    #wait(df)\n",
    "    df.columns = [i if i!=tmp_col else col for i in df.columns ]\n",
    "    return df,head"
   ]
  },
  {
   "cell_type": "code",
   "execution_count": 25,
   "metadata": {},
   "outputs": [
    {
     "output_type": "stream",
     "name": "stdout",
     "text": [
      "CPU times: user 3.15 s, sys: 2.36 s, total: 5.51 s\nWall time: 5.52 s\n"
     ]
    }
   ],
   "source": [
    "%%time\n",
    "for col in ['language','tweet_type','media']:\n",
    "    df,_ = factorize_small_cardinality(df,col)\n",
    "    df[col] = df[col].astype('int8')"
   ]
  },
  {
   "cell_type": "code",
   "execution_count": 26,
   "metadata": {},
   "outputs": [
    {
     "output_type": "execute_result",
     "data": {
      "text/plain": [
       "                           hashtags                          tweet_id links  \\\n",
       "0                              <NA>  CD330B5F269D018305E932FB850C344E  <NA>   \n",
       "1                              <NA>  F731F6E9867E0A6027C98B918DF97AAC  <NA>   \n",
       "2  AB2A66C6CED66073399114767974ECED  46B37C1036C68BB82694620BF270D474  <NA>   \n",
       "3  145A79B89065771A2D791917E793B2FE  1163132E718D8BEBE5B14B8E73AFC4E9  <NA>   \n",
       "4                              <NA>  16E38DDAAD820D2EDC097B1B656534D7  <NA>   \n",
       "\n",
       "  domains   timestamp                         a_user_id  a_follower_count  \\\n",
       "0    <NA>  1580954223  C406A6A841810BE02BC2111EED1DC1A4             31520   \n",
       "1    <NA>  1580971774  B6779812B89BD1CFD199E8AEAD0B54D5               603   \n",
       "2    <NA>  1581112817  C0E2578644FF152C4B55C34DC3E38420            220957   \n",
       "3    <NA>  1581436665  9170F5E5DF35DFE54C14BE568F8591A7             63052   \n",
       "4    <NA>  1581434663  F8D56C50A02A399D8DDAA87B69BD35B8            172719   \n",
       "\n",
       "   a_following_count  a_is_verified  a_account_creation  ...  \\\n",
       "0              14265          False          1464697339  ...   \n",
       "1                992          False          1420151666  ...   \n",
       "2               1067          False          1296698336  ...   \n",
       "3                  2           True          1495465681  ...   \n",
       "4                 75           True          1506859455  ...   \n",
       "\n",
       "  b_account_creation  b_follows_a  reply  retweet  retweet_comment  \\\n",
       "0         1418858585         True      0        0                0   \n",
       "1         1545552854         True      0        0                0   \n",
       "2         1490827297        False      0        0                0   \n",
       "3         1421321918        False      0        0                0   \n",
       "4         1421321918        False      0        0                0   \n",
       "\n",
       "         like     id  language  tweet_type  media  \n",
       "0  1580962767  17441        11           2      4  \n",
       "1           0  17442         3           1     12  \n",
       "2           0  17443         3           2      4  \n",
       "3  1581504659  17444        54           2      4  \n",
       "4  1581487190  17445        63           2      4  \n",
       "\n",
       "[5 rows x 24 columns]"
      ],
      "text/html": "<div>\n<style scoped>\n    .dataframe tbody tr th:only-of-type {\n        vertical-align: middle;\n    }\n\n    .dataframe tbody tr th {\n        vertical-align: top;\n    }\n\n    .dataframe thead th {\n        text-align: right;\n    }\n</style>\n<table border=\"1\" class=\"dataframe\">\n  <thead>\n    <tr style=\"text-align: right;\">\n      <th></th>\n      <th>hashtags</th>\n      <th>tweet_id</th>\n      <th>links</th>\n      <th>domains</th>\n      <th>timestamp</th>\n      <th>a_user_id</th>\n      <th>a_follower_count</th>\n      <th>a_following_count</th>\n      <th>a_is_verified</th>\n      <th>a_account_creation</th>\n      <th>...</th>\n      <th>b_account_creation</th>\n      <th>b_follows_a</th>\n      <th>reply</th>\n      <th>retweet</th>\n      <th>retweet_comment</th>\n      <th>like</th>\n      <th>id</th>\n      <th>language</th>\n      <th>tweet_type</th>\n      <th>media</th>\n    </tr>\n  </thead>\n  <tbody>\n    <tr>\n      <th>0</th>\n      <td>&lt;NA&gt;</td>\n      <td>CD330B5F269D018305E932FB850C344E</td>\n      <td>&lt;NA&gt;</td>\n      <td>&lt;NA&gt;</td>\n      <td>1580954223</td>\n      <td>C406A6A841810BE02BC2111EED1DC1A4</td>\n      <td>31520</td>\n      <td>14265</td>\n      <td>False</td>\n      <td>1464697339</td>\n      <td>...</td>\n      <td>1418858585</td>\n      <td>True</td>\n      <td>0</td>\n      <td>0</td>\n      <td>0</td>\n      <td>1580962767</td>\n      <td>17441</td>\n      <td>11</td>\n      <td>2</td>\n      <td>4</td>\n    </tr>\n    <tr>\n      <th>1</th>\n      <td>&lt;NA&gt;</td>\n      <td>F731F6E9867E0A6027C98B918DF97AAC</td>\n      <td>&lt;NA&gt;</td>\n      <td>&lt;NA&gt;</td>\n      <td>1580971774</td>\n      <td>B6779812B89BD1CFD199E8AEAD0B54D5</td>\n      <td>603</td>\n      <td>992</td>\n      <td>False</td>\n      <td>1420151666</td>\n      <td>...</td>\n      <td>1545552854</td>\n      <td>True</td>\n      <td>0</td>\n      <td>0</td>\n      <td>0</td>\n      <td>0</td>\n      <td>17442</td>\n      <td>3</td>\n      <td>1</td>\n      <td>12</td>\n    </tr>\n    <tr>\n      <th>2</th>\n      <td>AB2A66C6CED66073399114767974ECED</td>\n      <td>46B37C1036C68BB82694620BF270D474</td>\n      <td>&lt;NA&gt;</td>\n      <td>&lt;NA&gt;</td>\n      <td>1581112817</td>\n      <td>C0E2578644FF152C4B55C34DC3E38420</td>\n      <td>220957</td>\n      <td>1067</td>\n      <td>False</td>\n      <td>1296698336</td>\n      <td>...</td>\n      <td>1490827297</td>\n      <td>False</td>\n      <td>0</td>\n      <td>0</td>\n      <td>0</td>\n      <td>0</td>\n      <td>17443</td>\n      <td>3</td>\n      <td>2</td>\n      <td>4</td>\n    </tr>\n    <tr>\n      <th>3</th>\n      <td>145A79B89065771A2D791917E793B2FE</td>\n      <td>1163132E718D8BEBE5B14B8E73AFC4E9</td>\n      <td>&lt;NA&gt;</td>\n      <td>&lt;NA&gt;</td>\n      <td>1581436665</td>\n      <td>9170F5E5DF35DFE54C14BE568F8591A7</td>\n      <td>63052</td>\n      <td>2</td>\n      <td>True</td>\n      <td>1495465681</td>\n      <td>...</td>\n      <td>1421321918</td>\n      <td>False</td>\n      <td>0</td>\n      <td>0</td>\n      <td>0</td>\n      <td>1581504659</td>\n      <td>17444</td>\n      <td>54</td>\n      <td>2</td>\n      <td>4</td>\n    </tr>\n    <tr>\n      <th>4</th>\n      <td>&lt;NA&gt;</td>\n      <td>16E38DDAAD820D2EDC097B1B656534D7</td>\n      <td>&lt;NA&gt;</td>\n      <td>&lt;NA&gt;</td>\n      <td>1581434663</td>\n      <td>F8D56C50A02A399D8DDAA87B69BD35B8</td>\n      <td>172719</td>\n      <td>75</td>\n      <td>True</td>\n      <td>1506859455</td>\n      <td>...</td>\n      <td>1421321918</td>\n      <td>False</td>\n      <td>0</td>\n      <td>0</td>\n      <td>0</td>\n      <td>1581487190</td>\n      <td>17445</td>\n      <td>63</td>\n      <td>2</td>\n      <td>4</td>\n    </tr>\n  </tbody>\n</table>\n<p>5 rows × 24 columns</p>\n</div>"
     },
     "metadata": {},
     "execution_count": 26
    }
   ],
   "source": [
    "df.head()"
   ]
  },
  {
   "cell_type": "code",
   "execution_count": 27,
   "metadata": {},
   "outputs": [
    {
     "output_type": "stream",
     "name": "stdout",
     "text": [
      "CPU times: user 2.36 s, sys: 1.26 s, total: 3.62 s\nWall time: 3.63 s\n"
     ]
    },
    {
     "output_type": "execute_result",
     "data": {
      "text/plain": [
       "                                 tweet_id  tweet_encode\n",
       "1570047  00001F0134EBC75A77354B68CA735691             1\n",
       "1389577  00001FFF863F5454B282601E5065B13D             2\n",
       "307361   00004198C6D86783B29ED850192BCE1A             3\n",
       "28401    00004564C2B60DB475C5B8E3F4EBD692             4\n",
       "1393737  00005084E7058BA1496FA276088C24E0             5"
      ],
      "text/html": "<div>\n<style scoped>\n    .dataframe tbody tr th:only-of-type {\n        vertical-align: middle;\n    }\n\n    .dataframe tbody tr th {\n        vertical-align: top;\n    }\n\n    .dataframe thead th {\n        text-align: right;\n    }\n</style>\n<table border=\"1\" class=\"dataframe\">\n  <thead>\n    <tr style=\"text-align: right;\">\n      <th></th>\n      <th>tweet_id</th>\n      <th>tweet_encode</th>\n    </tr>\n  </thead>\n  <tbody>\n    <tr>\n      <th>1570047</th>\n      <td>00001F0134EBC75A77354B68CA735691</td>\n      <td>1</td>\n    </tr>\n    <tr>\n      <th>1389577</th>\n      <td>00001FFF863F5454B282601E5065B13D</td>\n      <td>2</td>\n    </tr>\n    <tr>\n      <th>307361</th>\n      <td>00004198C6D86783B29ED850192BCE1A</td>\n      <td>3</td>\n    </tr>\n    <tr>\n      <th>28401</th>\n      <td>00004564C2B60DB475C5B8E3F4EBD692</td>\n      <td>4</td>\n    </tr>\n    <tr>\n      <th>1393737</th>\n      <td>00005084E7058BA1496FA276088C24E0</td>\n      <td>5</td>\n    </tr>\n  </tbody>\n</table>\n</div>"
     },
     "metadata": {},
     "execution_count": 27
    }
   ],
   "source": [
    "%%time\n",
    "tweet = df[['tweet_id']]\n",
    "tweet = tweet.drop_duplicates(split_out=16)\n",
    "tweet['tweet_encode'] = 1\n",
    "tweet['tweet_encode'] = tweet['tweet_encode'].cumsum()\n",
    "tweet, = dask.persist(tweet)\n",
    "#_ = wait(tweet)\n",
    "tweet.head()"
   ]
  },
  {
   "cell_type": "code",
   "execution_count": 28,
   "metadata": {},
   "outputs": [
    {
     "output_type": "stream",
     "name": "stdout",
     "text": [
      "CPU times: user 2.55 s, sys: 1.56 s, total: 4.1 s\nWall time: 4.11 s\n"
     ]
    },
    {
     "output_type": "execute_result",
     "data": {
      "text/plain": [
       "                           hashtags                             links  \\\n",
       "0  5F2EB9FF00146CA53D8A774B6221D7B7                              <NA>   \n",
       "1  B26810959DE7C1207F8819E456F07959                              <NA>   \n",
       "2                              <NA>                              <NA>   \n",
       "3                              <NA>  0B50B15EA016F6BCDA59AE3A5E62AD6D   \n",
       "4                              <NA>                              <NA>   \n",
       "\n",
       "                            domains   timestamp  \\\n",
       "0                              <NA>  1581251156   \n",
       "1                              <NA>  1581211034   \n",
       "2                              <NA>  1581012891   \n",
       "3  3AB8559C033305E17797F557488967C3  1580999813   \n",
       "4                              <NA>  1581006647   \n",
       "\n",
       "                          a_user_id  a_follower_count  a_following_count  \\\n",
       "0  4C2E8E24D98EF6FC978B2BD2900228FD            912322                574   \n",
       "1  19A1E782CEB1923C73F1BCD7EF0B8F09            286087               1080   \n",
       "2  D53FAF16AD2B05892B15112D138F6C87            140753                343   \n",
       "3  AAC58C42CD47D9E188D5396768A42EE7             87727               2999   \n",
       "4  3F73042B6A3069E99AB67A79586042AA            250354                272   \n",
       "\n",
       "   a_is_verified  a_account_creation                         b_user_id  ...  \\\n",
       "0          False          1277893699  0133CCC28155810BA550CB9C658C91CF  ...   \n",
       "1           True          1229127674  01E8029AAF5B2F9353CF6F83668CF3B4  ...   \n",
       "2          False          1315622198  018C49A4E371B922131A2C7DE5E4F400  ...   \n",
       "3           True          1258441967  0147D476C81B8C498920B97052738177  ...   \n",
       "4           True          1438657976  01AF75E88D5A6356E6E7A012AFA10A9D  ...   \n",
       "\n",
       "   b_follows_a  reply  retweet  retweet_comment        like      id  language  \\\n",
       "0        False      0        0                0           0   86980        11   \n",
       "1        False      0        0                0           0  137161        54   \n",
       "2        False      0        0                0  1581105743  111619         3   \n",
       "3        False      0        0                0  1581027706   92473        11   \n",
       "4        False      0        0                0           0  121578        11   \n",
       "\n",
       "   tweet_type  media  tweet_id  \n",
       "0           1     12    198424  \n",
       "1           1     12    369094  \n",
       "2           2     12    337707  \n",
       "3           2     12    235223  \n",
       "4           2      4    715906  \n",
       "\n",
       "[5 rows x 24 columns]"
      ],
      "text/html": "<div>\n<style scoped>\n    .dataframe tbody tr th:only-of-type {\n        vertical-align: middle;\n    }\n\n    .dataframe tbody tr th {\n        vertical-align: top;\n    }\n\n    .dataframe thead th {\n        text-align: right;\n    }\n</style>\n<table border=\"1\" class=\"dataframe\">\n  <thead>\n    <tr style=\"text-align: right;\">\n      <th></th>\n      <th>hashtags</th>\n      <th>links</th>\n      <th>domains</th>\n      <th>timestamp</th>\n      <th>a_user_id</th>\n      <th>a_follower_count</th>\n      <th>a_following_count</th>\n      <th>a_is_verified</th>\n      <th>a_account_creation</th>\n      <th>b_user_id</th>\n      <th>...</th>\n      <th>b_follows_a</th>\n      <th>reply</th>\n      <th>retweet</th>\n      <th>retweet_comment</th>\n      <th>like</th>\n      <th>id</th>\n      <th>language</th>\n      <th>tweet_type</th>\n      <th>media</th>\n      <th>tweet_id</th>\n    </tr>\n  </thead>\n  <tbody>\n    <tr>\n      <th>0</th>\n      <td>5F2EB9FF00146CA53D8A774B6221D7B7</td>\n      <td>&lt;NA&gt;</td>\n      <td>&lt;NA&gt;</td>\n      <td>1581251156</td>\n      <td>4C2E8E24D98EF6FC978B2BD2900228FD</td>\n      <td>912322</td>\n      <td>574</td>\n      <td>False</td>\n      <td>1277893699</td>\n      <td>0133CCC28155810BA550CB9C658C91CF</td>\n      <td>...</td>\n      <td>False</td>\n      <td>0</td>\n      <td>0</td>\n      <td>0</td>\n      <td>0</td>\n      <td>86980</td>\n      <td>11</td>\n      <td>1</td>\n      <td>12</td>\n      <td>198424</td>\n    </tr>\n    <tr>\n      <th>1</th>\n      <td>B26810959DE7C1207F8819E456F07959</td>\n      <td>&lt;NA&gt;</td>\n      <td>&lt;NA&gt;</td>\n      <td>1581211034</td>\n      <td>19A1E782CEB1923C73F1BCD7EF0B8F09</td>\n      <td>286087</td>\n      <td>1080</td>\n      <td>True</td>\n      <td>1229127674</td>\n      <td>01E8029AAF5B2F9353CF6F83668CF3B4</td>\n      <td>...</td>\n      <td>False</td>\n      <td>0</td>\n      <td>0</td>\n      <td>0</td>\n      <td>0</td>\n      <td>137161</td>\n      <td>54</td>\n      <td>1</td>\n      <td>12</td>\n      <td>369094</td>\n    </tr>\n    <tr>\n      <th>2</th>\n      <td>&lt;NA&gt;</td>\n      <td>&lt;NA&gt;</td>\n      <td>&lt;NA&gt;</td>\n      <td>1581012891</td>\n      <td>D53FAF16AD2B05892B15112D138F6C87</td>\n      <td>140753</td>\n      <td>343</td>\n      <td>False</td>\n      <td>1315622198</td>\n      <td>018C49A4E371B922131A2C7DE5E4F400</td>\n      <td>...</td>\n      <td>False</td>\n      <td>0</td>\n      <td>0</td>\n      <td>0</td>\n      <td>1581105743</td>\n      <td>111619</td>\n      <td>3</td>\n      <td>2</td>\n      <td>12</td>\n      <td>337707</td>\n    </tr>\n    <tr>\n      <th>3</th>\n      <td>&lt;NA&gt;</td>\n      <td>0B50B15EA016F6BCDA59AE3A5E62AD6D</td>\n      <td>3AB8559C033305E17797F557488967C3</td>\n      <td>1580999813</td>\n      <td>AAC58C42CD47D9E188D5396768A42EE7</td>\n      <td>87727</td>\n      <td>2999</td>\n      <td>True</td>\n      <td>1258441967</td>\n      <td>0147D476C81B8C498920B97052738177</td>\n      <td>...</td>\n      <td>False</td>\n      <td>0</td>\n      <td>0</td>\n      <td>0</td>\n      <td>1581027706</td>\n      <td>92473</td>\n      <td>11</td>\n      <td>2</td>\n      <td>12</td>\n      <td>235223</td>\n    </tr>\n    <tr>\n      <th>4</th>\n      <td>&lt;NA&gt;</td>\n      <td>&lt;NA&gt;</td>\n      <td>&lt;NA&gt;</td>\n      <td>1581006647</td>\n      <td>3F73042B6A3069E99AB67A79586042AA</td>\n      <td>250354</td>\n      <td>272</td>\n      <td>True</td>\n      <td>1438657976</td>\n      <td>01AF75E88D5A6356E6E7A012AFA10A9D</td>\n      <td>...</td>\n      <td>False</td>\n      <td>0</td>\n      <td>0</td>\n      <td>0</td>\n      <td>0</td>\n      <td>121578</td>\n      <td>11</td>\n      <td>2</td>\n      <td>4</td>\n      <td>715906</td>\n    </tr>\n  </tbody>\n</table>\n<p>5 rows × 24 columns</p>\n</div>"
     },
     "metadata": {},
     "execution_count": 28
    }
   ],
   "source": [
    "%%time\n",
    "df = df.merge(tweet,on='tweet_id',how='left')\n",
    "df = df.drop('tweet_id',axis=1)\n",
    "df.columns = [i if i!='tweet_encode' else 'tweet_id' for i in df.columns]\n",
    "df, = dask.persist(df)\n",
    "#wait(df)\n",
    "del tweet\n",
    "df.head()"
   ]
  },
  {
   "cell_type": "code",
   "execution_count": 29,
   "metadata": {},
   "outputs": [],
   "source": [
    "#%%time\n",
    "#df = df.repartition(npartitions=1024)\n",
    "#df, = dask.persist(df)\n",
    "#_ = wait(df)"
   ]
  },
  {
   "cell_type": "code",
   "execution_count": 30,
   "metadata": {},
   "outputs": [
    {
     "output_type": "stream",
     "name": "stdout",
     "text": [
      "4434442 7708358 20872940\n",
      "10806243 7708358 20872940\n",
      "CPU times: user 4.14 s, sys: 1.84 s, total: 5.98 s\n",
      "Wall time: 5.97 s\n"
     ]
    }
   ],
   "source": [
    "%%time\n",
    "user_a = df[['a_user_id']].drop_duplicates(split_out=16)\n",
    "user_a, = dask.persist(user_a)\n",
    "#_ = wait(user_a)\n",
    "user_b = df[['b_user_id']].drop_duplicates(split_out=16)\n",
    "user_b, = dask.persist(user_b)\n",
    "#wait(user_b)\n",
    "print(len(user_a),len(user_b),len(df))\n",
    "\n",
    "user_a.columns = ['user_id']\n",
    "user_b.columns = ['user_id']\n",
    "user_b['dummy'] = 1\n",
    "user_a = user_a.merge(user_b,on='user_id',how='outer')\n",
    "user_a = user_a.drop('dummy',axis=1)\n",
    "user_a, = dask.persist(user_a)\n",
    "#wait(user_a)\n",
    "print(len(user_a),len(user_b),len(df))\n",
    "del user_b\n",
    "\n",
    "user_a['user_encode'] = 1\n",
    "user_a['user_encode'] = user_a['user_encode'].cumsum()\n",
    "user_a, = dask.persist(user_a)\n",
    "#_ = wait(user_a)"
   ]
  },
  {
   "cell_type": "code",
   "execution_count": 31,
   "metadata": {},
   "outputs": [
    {
     "output_type": "stream",
     "name": "stdout",
     "text": [
      "CPU times: user 1.97 s, sys: 1.21 s, total: 3.18 s\nWall time: 3.19 s\n"
     ]
    }
   ],
   "source": [
    "%%time\n",
    "df = df.merge(user_a,left_on='a_user_id',right_on='user_id',how='left')\n",
    "df = df.drop(['a_user_id','user_id'],axis=1)\n",
    "df.columns = [i if i!='user_encode' else 'a_user_id' for i in df.columns]\n",
    "df, = dask.persist(df)\n",
    "#_ = wait(df)"
   ]
  },
  {
   "cell_type": "code",
   "execution_count": 32,
   "metadata": {},
   "outputs": [
    {
     "output_type": "stream",
     "name": "stdout",
     "text": [
      "CPU times: user 2.01 s, sys: 1.1 s, total: 3.1 s\nWall time: 3.11 s\n"
     ]
    },
    {
     "output_type": "execute_result",
     "data": {
      "text/plain": [
       "                                            hashtags  \\\n",
       "0                   5F5E25FDD0B767C4BB6DE6473DC6AE33   \n",
       "1                   E6D1192E7880DEE2E18C3D4489970918   \n",
       "2                                               <NA>   \n",
       "3  3E73FEBD954B9E5A5C85F2AFFD5ED49D\\tA62335257DDD...   \n",
       "4                                               <NA>   \n",
       "\n",
       "                              links                           domains  \\\n",
       "0                              <NA>                              <NA>   \n",
       "1                              <NA>                              <NA>   \n",
       "2  D1749EC58B796AA39D94DBE4153C1F62  7471C2E3375040BA50F8044E5D52B083   \n",
       "3                              <NA>                              <NA>   \n",
       "4                              <NA>                              <NA>   \n",
       "\n",
       "    timestamp  a_follower_count  a_following_count  a_is_verified  \\\n",
       "0  1582018502           3388192                  0           True   \n",
       "1  1581798652               916                891          False   \n",
       "2  1581764307            171597                423           True   \n",
       "3  1581869312              3190                 24          False   \n",
       "4  1581904827           1760209                  1          False   \n",
       "\n",
       "   a_account_creation  b_follower_count  b_following_count  ...  retweet  \\\n",
       "0          1312003421                 4                206  ...        0   \n",
       "1          1496942442               504                938  ...        0   \n",
       "2          1462544521                76                 69  ...        0   \n",
       "3          1510154461               632                 18  ...        0   \n",
       "4          1416406065               255                113  ...        0   \n",
       "\n",
       "   retweet_comment  like        id  language  tweet_type  media  tweet_id  \\\n",
       "0                0     0  13801804        54           2      8   1302828   \n",
       "1                0     0   8752519        54           2      4   1056460   \n",
       "2                0     0   8180770        54           2     12   1495267   \n",
       "3                0     0   3728019        31           1     12   1321218   \n",
       "4                0     0  11920974        47           2      4    986636   \n",
       "\n",
       "   a_user_id  b_user_id  \n",
       "0     553866     228624  \n",
       "1     430744     356802  \n",
       "2     645271     273905  \n",
       "3     452570     550597  \n",
       "4     647160     122918  \n",
       "\n",
       "[5 rows x 24 columns]"
      ],
      "text/html": "<div>\n<style scoped>\n    .dataframe tbody tr th:only-of-type {\n        vertical-align: middle;\n    }\n\n    .dataframe tbody tr th {\n        vertical-align: top;\n    }\n\n    .dataframe thead th {\n        text-align: right;\n    }\n</style>\n<table border=\"1\" class=\"dataframe\">\n  <thead>\n    <tr style=\"text-align: right;\">\n      <th></th>\n      <th>hashtags</th>\n      <th>links</th>\n      <th>domains</th>\n      <th>timestamp</th>\n      <th>a_follower_count</th>\n      <th>a_following_count</th>\n      <th>a_is_verified</th>\n      <th>a_account_creation</th>\n      <th>b_follower_count</th>\n      <th>b_following_count</th>\n      <th>...</th>\n      <th>retweet</th>\n      <th>retweet_comment</th>\n      <th>like</th>\n      <th>id</th>\n      <th>language</th>\n      <th>tweet_type</th>\n      <th>media</th>\n      <th>tweet_id</th>\n      <th>a_user_id</th>\n      <th>b_user_id</th>\n    </tr>\n  </thead>\n  <tbody>\n    <tr>\n      <th>0</th>\n      <td>5F5E25FDD0B767C4BB6DE6473DC6AE33</td>\n      <td>&lt;NA&gt;</td>\n      <td>&lt;NA&gt;</td>\n      <td>1582018502</td>\n      <td>3388192</td>\n      <td>0</td>\n      <td>True</td>\n      <td>1312003421</td>\n      <td>4</td>\n      <td>206</td>\n      <td>...</td>\n      <td>0</td>\n      <td>0</td>\n      <td>0</td>\n      <td>13801804</td>\n      <td>54</td>\n      <td>2</td>\n      <td>8</td>\n      <td>1302828</td>\n      <td>553866</td>\n      <td>228624</td>\n    </tr>\n    <tr>\n      <th>1</th>\n      <td>E6D1192E7880DEE2E18C3D4489970918</td>\n      <td>&lt;NA&gt;</td>\n      <td>&lt;NA&gt;</td>\n      <td>1581798652</td>\n      <td>916</td>\n      <td>891</td>\n      <td>False</td>\n      <td>1496942442</td>\n      <td>504</td>\n      <td>938</td>\n      <td>...</td>\n      <td>0</td>\n      <td>0</td>\n      <td>0</td>\n      <td>8752519</td>\n      <td>54</td>\n      <td>2</td>\n      <td>4</td>\n      <td>1056460</td>\n      <td>430744</td>\n      <td>356802</td>\n    </tr>\n    <tr>\n      <th>2</th>\n      <td>&lt;NA&gt;</td>\n      <td>D1749EC58B796AA39D94DBE4153C1F62</td>\n      <td>7471C2E3375040BA50F8044E5D52B083</td>\n      <td>1581764307</td>\n      <td>171597</td>\n      <td>423</td>\n      <td>True</td>\n      <td>1462544521</td>\n      <td>76</td>\n      <td>69</td>\n      <td>...</td>\n      <td>0</td>\n      <td>0</td>\n      <td>0</td>\n      <td>8180770</td>\n      <td>54</td>\n      <td>2</td>\n      <td>12</td>\n      <td>1495267</td>\n      <td>645271</td>\n      <td>273905</td>\n    </tr>\n    <tr>\n      <th>3</th>\n      <td>3E73FEBD954B9E5A5C85F2AFFD5ED49D\\tA62335257DDD...</td>\n      <td>&lt;NA&gt;</td>\n      <td>&lt;NA&gt;</td>\n      <td>1581869312</td>\n      <td>3190</td>\n      <td>24</td>\n      <td>False</td>\n      <td>1510154461</td>\n      <td>632</td>\n      <td>18</td>\n      <td>...</td>\n      <td>0</td>\n      <td>0</td>\n      <td>0</td>\n      <td>3728019</td>\n      <td>31</td>\n      <td>1</td>\n      <td>12</td>\n      <td>1321218</td>\n      <td>452570</td>\n      <td>550597</td>\n    </tr>\n    <tr>\n      <th>4</th>\n      <td>&lt;NA&gt;</td>\n      <td>&lt;NA&gt;</td>\n      <td>&lt;NA&gt;</td>\n      <td>1581904827</td>\n      <td>1760209</td>\n      <td>1</td>\n      <td>False</td>\n      <td>1416406065</td>\n      <td>255</td>\n      <td>113</td>\n      <td>...</td>\n      <td>0</td>\n      <td>0</td>\n      <td>0</td>\n      <td>11920974</td>\n      <td>47</td>\n      <td>2</td>\n      <td>4</td>\n      <td>986636</td>\n      <td>647160</td>\n      <td>122918</td>\n    </tr>\n  </tbody>\n</table>\n<p>5 rows × 24 columns</p>\n</div>"
     },
     "metadata": {},
     "execution_count": 32
    }
   ],
   "source": [
    "%%time\n",
    "df = df.merge(user_a,left_on='b_user_id',right_on='user_id',how='left')\n",
    "df = df.drop(['b_user_id','user_id'],axis=1)\n",
    "df.columns = [i if i!='user_encode' else 'b_user_id' for i in df.columns]\n",
    "df, = dask.persist(df)\n",
    "#wait(df)\n",
    "del user_a\n",
    "df.head()"
   ]
  },
  {
   "cell_type": "code",
   "execution_count": 33,
   "metadata": {},
   "outputs": [
    {
     "output_type": "stream",
     "name": "stdout",
     "text": [
      "CPU times: user 76 ms, sys: 108 ms, total: 184 ms\nWall time: 180 ms\n"
     ]
    }
   ],
   "source": [
    "%%time\n",
    "df = df.repartition(npartitions=NP)\n",
    "df, = dask.persist(df)\n",
    "#_ = wait(df)"
   ]
  },
  {
   "cell_type": "code",
   "execution_count": 34,
   "metadata": {},
   "outputs": [
    {
     "output_type": "stream",
     "name": "stdout",
     "text": [
      "CPU times: user 936 ms, sys: 2.13 s, total: 3.07 s\nWall time: 1.07 s\n"
     ]
    }
   ],
   "source": [
    "%%time\n",
    "df.to_parquet('./dask_input/step1_output',write_index=False)"
   ]
  },
  {
   "cell_type": "code",
   "execution_count": 35,
   "metadata": {},
   "outputs": [
    {
     "output_type": "stream",
     "name": "stdout",
     "text": [
      "This notebook took 1.0 minutes\n"
     ]
    }
   ],
   "source": [
    "print('This notebook took %.1f minutes'%((time.time()-very_start)/60.))"
   ]
  }
 ],
 "metadata": {
  "kernelspec": {
   "name": "rapids-0.16",
   "display_name": "rapids-0.16"
  },
  "language_info": {
   "codemirror_mode": {
    "name": "ipython",
    "version": 3
   },
   "file_extension": ".py",
   "mimetype": "text/x-python",
   "name": "python",
   "nbconvert_exporter": "python",
   "pygments_lexer": "ipython3",
   "version": "3.7.8-final"
  }
 },
 "nbformat": 4,
 "nbformat_minor": 4
}