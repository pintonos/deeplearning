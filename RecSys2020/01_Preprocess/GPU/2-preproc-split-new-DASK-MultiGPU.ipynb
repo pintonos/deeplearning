{
 "cells": [
  {
   "cell_type": "markdown",
   "metadata": {},
   "source": [
    "Copyright (c) 2020, NVIDIA CORPORATION.\n",
    "Licensed under the Apache License, Version 2.0 (the \"License\");\n",
    "you may not use this file except in compliance with the License.\n",
    "You may obtain a copy of the License at\n",
    "    http://www.apache.org/licenses/LICENSE-2.0\n",
    "Unless required by applicable law or agreed to in writing, software\n",
    "distributed under the License is distributed on an \"AS IS\" BASIS,\n",
    "WITHOUT WARRANTIES OR CONDITIONS OF ANY KIND, either express or implied.\n",
    "See the License for the specific language governing permissions and\n",
    "limitations under the License."
   ]
  },
  {
   "cell_type": "code",
   "execution_count": 14,
   "metadata": {},
   "outputs": [],
   "source": [
    "import os, time\n",
    "os.environ[\"CUDA_VISIBLE_DEVICES\"]=\"0\"\n",
    "start = time.time()\n",
    "very_start = time.time()"
   ]
  },
  {
   "cell_type": "code",
   "execution_count": 15,
   "metadata": {},
   "outputs": [
    {
     "output_type": "execute_result",
     "data": {
      "text/plain": [
       "'0.16.0'"
      ]
     },
     "metadata": {},
     "execution_count": 15
    }
   ],
   "source": [
    "#import pandas as pd, \n",
    "import numpy as np\n",
    "from datetime import datetime\n",
    "import matplotlib.pyplot as plt\n",
    "#pd.set_option('display.max_columns', 500)\n",
    "#pd.set_option('display.max_rows', 500)\n",
    "import cudf, cupy, time, rmm\n",
    "cudf.__version__"
   ]
  },
  {
   "cell_type": "code",
   "execution_count": 16,
   "metadata": {},
   "outputs": [],
   "source": [
    "import dask as dask, dask_cudf\n",
    "from dask.distributed import Client, wait\n",
    "from dask_cuda import LocalCUDACluster\n",
    "import subprocess"
   ]
  },
  {
   "cell_type": "code",
   "execution_count": 17,
   "metadata": {},
   "outputs": [
    {
     "output_type": "execute_result",
     "data": {
      "text/plain": [
       "<Client: 'tcp://127.0.0.1:45791' processes=1 threads=1, memory=109.84 GB>"
      ],
      "text/html": "<table style=\"border: 2px solid white;\">\n<tr>\n<td style=\"vertical-align: top; border: 0px solid white\">\n<h3 style=\"text-align: left;\">Client</h3>\n<ul style=\"text-align: left; list-style: none; margin: 0; padding: 0;\">\n  <li><b>Scheduler: </b>tcp://127.0.0.1:45791</li>\n  <li><b>Dashboard: </b><a href='http://127.0.0.1:42341/status' target='_blank'>http://127.0.0.1:42341/status</a></li>\n</ul>\n</td>\n<td style=\"vertical-align: top; border: 0px solid white\">\n<h3 style=\"text-align: left;\">Cluster</h3>\n<ul style=\"text-align: left; list-style:none; margin: 0; padding: 0;\">\n  <li><b>Workers: </b>1</li>\n  <li><b>Cores: </b>1</li>\n  <li><b>Memory: </b>109.84 GB</li>\n</ul>\n</td>\n</tr>\n</table>"
     },
     "metadata": {},
     "execution_count": 17
    }
   ],
   "source": [
    "'''cluster = LocalCUDACluster(ip='10.2.61.36')#,protocol=\"ucx\", \n",
    "                           #rmm_pool_size=\"26GB\",\n",
    "                           #enable_tcp_over_ucx=True, enable_nvlink=True)\n",
    "#cluster = LocalCUDACluster()\n",
    "client = Client(cluster)\n",
    "client'''\n",
    "cluster = LocalCUDACluster()\n",
    "client = Client(cluster)\n",
    "client.run(cudf.set_allocator, \"managed\")\n",
    "client"
   ]
  },
  {
   "cell_type": "code",
   "execution_count": 18,
   "metadata": {},
   "outputs": [
    {
     "output_type": "stream",
     "name": "stdout",
     "text": [
      "CPU times: user 516 ms, sys: 128 ms, total: 644 ms\nWall time: 14.6 s\n"
     ]
    },
    {
     "output_type": "execute_result",
     "data": {
      "text/plain": [
       "  hashtags                             links  \\\n",
       "0     <NA>  8957DD51710FC1C3DE81C337B459C1C9   \n",
       "1     <NA>                              <NA>   \n",
       "2     <NA>                              <NA>   \n",
       "3     <NA>                              <NA>   \n",
       "4     <NA>                              <NA>   \n",
       "\n",
       "                            domains   timestamp  a_follower_count  \\\n",
       "0  E0EEE18B1940D8AE41CEA5B15DC421D3  1581192974           3214807   \n",
       "1                              <NA>  1581508730            108597   \n",
       "2                              <NA>  1581201226               603   \n",
       "3                              <NA>  1581464495             69236   \n",
       "4                              <NA>  1581195600           1911234   \n",
       "\n",
       "   a_following_count  a_is_verified  a_account_creation  b_follower_count  \\\n",
       "0                  0           True          1272597682               510   \n",
       "1                551           True          1379713973                60   \n",
       "2               1340          False          1373559819                34   \n",
       "3                882          False          1394066296                23   \n",
       "4               4327           True          1372717142               176   \n",
       "\n",
       "   b_following_count  ...  retweet  retweet_comment        like        id  \\\n",
       "0                393  ...        0                0           0  28448498   \n",
       "1                275  ...        0                0  1581520847  64296468   \n",
       "2                 79  ...        0                0           0  65627264   \n",
       "3                143  ...        0                0  1581473414  66579081   \n",
       "4                594  ...        0                0           0  45322295   \n",
       "\n",
       "   language  tweet_type  media  tweet_id  a_user_id  b_user_id  \n",
       "0         3           2     12  34312466    1717222     615098  \n",
       "1        54           2     12  38483937    1220979     709874  \n",
       "2        59           0     12  34241830    1284185     995240  \n",
       "3        54           2     12  28207885    1337565     147284  \n",
       "4        54           2      8  11378919    1486122     984386  \n",
       "\n",
       "[5 rows x 24 columns]"
      ],
      "text/html": "<div>\n<style scoped>\n    .dataframe tbody tr th:only-of-type {\n        vertical-align: middle;\n    }\n\n    .dataframe tbody tr th {\n        vertical-align: top;\n    }\n\n    .dataframe thead th {\n        text-align: right;\n    }\n</style>\n<table border=\"1\" class=\"dataframe\">\n  <thead>\n    <tr style=\"text-align: right;\">\n      <th></th>\n      <th>hashtags</th>\n      <th>links</th>\n      <th>domains</th>\n      <th>timestamp</th>\n      <th>a_follower_count</th>\n      <th>a_following_count</th>\n      <th>a_is_verified</th>\n      <th>a_account_creation</th>\n      <th>b_follower_count</th>\n      <th>b_following_count</th>\n      <th>...</th>\n      <th>retweet</th>\n      <th>retweet_comment</th>\n      <th>like</th>\n      <th>id</th>\n      <th>language</th>\n      <th>tweet_type</th>\n      <th>media</th>\n      <th>tweet_id</th>\n      <th>a_user_id</th>\n      <th>b_user_id</th>\n    </tr>\n  </thead>\n  <tbody>\n    <tr>\n      <th>0</th>\n      <td>&lt;NA&gt;</td>\n      <td>8957DD51710FC1C3DE81C337B459C1C9</td>\n      <td>E0EEE18B1940D8AE41CEA5B15DC421D3</td>\n      <td>1581192974</td>\n      <td>3214807</td>\n      <td>0</td>\n      <td>True</td>\n      <td>1272597682</td>\n      <td>510</td>\n      <td>393</td>\n      <td>...</td>\n      <td>0</td>\n      <td>0</td>\n      <td>0</td>\n      <td>28448498</td>\n      <td>3</td>\n      <td>2</td>\n      <td>12</td>\n      <td>34312466</td>\n      <td>1717222</td>\n      <td>615098</td>\n    </tr>\n    <tr>\n      <th>1</th>\n      <td>&lt;NA&gt;</td>\n      <td>&lt;NA&gt;</td>\n      <td>&lt;NA&gt;</td>\n      <td>1581508730</td>\n      <td>108597</td>\n      <td>551</td>\n      <td>True</td>\n      <td>1379713973</td>\n      <td>60</td>\n      <td>275</td>\n      <td>...</td>\n      <td>0</td>\n      <td>0</td>\n      <td>1581520847</td>\n      <td>64296468</td>\n      <td>54</td>\n      <td>2</td>\n      <td>12</td>\n      <td>38483937</td>\n      <td>1220979</td>\n      <td>709874</td>\n    </tr>\n    <tr>\n      <th>2</th>\n      <td>&lt;NA&gt;</td>\n      <td>&lt;NA&gt;</td>\n      <td>&lt;NA&gt;</td>\n      <td>1581201226</td>\n      <td>603</td>\n      <td>1340</td>\n      <td>False</td>\n      <td>1373559819</td>\n      <td>34</td>\n      <td>79</td>\n      <td>...</td>\n      <td>0</td>\n      <td>0</td>\n      <td>0</td>\n      <td>65627264</td>\n      <td>59</td>\n      <td>0</td>\n      <td>12</td>\n      <td>34241830</td>\n      <td>1284185</td>\n      <td>995240</td>\n    </tr>\n    <tr>\n      <th>3</th>\n      <td>&lt;NA&gt;</td>\n      <td>&lt;NA&gt;</td>\n      <td>&lt;NA&gt;</td>\n      <td>1581464495</td>\n      <td>69236</td>\n      <td>882</td>\n      <td>False</td>\n      <td>1394066296</td>\n      <td>23</td>\n      <td>143</td>\n      <td>...</td>\n      <td>0</td>\n      <td>0</td>\n      <td>1581473414</td>\n      <td>66579081</td>\n      <td>54</td>\n      <td>2</td>\n      <td>12</td>\n      <td>28207885</td>\n      <td>1337565</td>\n      <td>147284</td>\n    </tr>\n    <tr>\n      <th>4</th>\n      <td>&lt;NA&gt;</td>\n      <td>&lt;NA&gt;</td>\n      <td>&lt;NA&gt;</td>\n      <td>1581195600</td>\n      <td>1911234</td>\n      <td>4327</td>\n      <td>True</td>\n      <td>1372717142</td>\n      <td>176</td>\n      <td>594</td>\n      <td>...</td>\n      <td>0</td>\n      <td>0</td>\n      <td>0</td>\n      <td>45322295</td>\n      <td>54</td>\n      <td>2</td>\n      <td>8</td>\n      <td>11378919</td>\n      <td>1486122</td>\n      <td>984386</td>\n    </tr>\n  </tbody>\n</table>\n<p>5 rows × 24 columns</p>\n</div>"
     },
     "metadata": {},
     "execution_count": 18
    }
   ],
   "source": [
    "%%time\n",
    "path = './dask_input/step1_output'\n",
    "df = dask_cudf.read_parquet(f'{path}/*.parquet')\n",
    "df, = dask.persist(df)\n",
    "_ = wait(df)\n",
    "df.head()"
   ]
  },
  {
   "cell_type": "code",
   "execution_count": 19,
   "metadata": {},
   "outputs": [
    {
     "output_type": "stream",
     "name": "stdout",
     "text": [
      "CPU times: user 904 ms, sys: 216 ms, total: 1.12 s\nWall time: 24.1 s\n"
     ]
    },
    {
     "output_type": "execute_result",
     "data": {
      "text/plain": [
       "  hashtags                             links  \\\n",
       "0     <NA>  8957DD51710FC1C3DE81C337B459C1C9   \n",
       "1     <NA>                              <NA>   \n",
       "2     <NA>                              <NA>   \n",
       "3     <NA>                              <NA>   \n",
       "4     <NA>                              <NA>   \n",
       "\n",
       "                            domains   timestamp  a_follower_count  \\\n",
       "0  E0EEE18B1940D8AE41CEA5B15DC421D3  1581192974           3214807   \n",
       "1                              <NA>  1581508730            108597   \n",
       "2                              <NA>  1581201226               603   \n",
       "3                              <NA>  1581464495             69236   \n",
       "4                              <NA>  1581195600           1911234   \n",
       "\n",
       "   a_following_count  a_is_verified  a_account_creation  b_follower_count  \\\n",
       "0                  0           True          1272597682               510   \n",
       "1                551           True          1379713973                60   \n",
       "2               1340          False          1373559819                34   \n",
       "3                882          False          1394066296                23   \n",
       "4               4327           True          1372717142               176   \n",
       "\n",
       "   b_following_count  ...        id  language  tweet_type  media  tweet_id  \\\n",
       "0                393  ...  28448498         3           2     12  34312466   \n",
       "1                275  ...  64296468        54           2     12  38483937   \n",
       "2                 79  ...  65627264        59           0     12  34241830   \n",
       "3                143  ...  66579081        54           2     12  28207885   \n",
       "4                594  ...  45322295        54           2      8  11378919   \n",
       "\n",
       "   a_user_id  b_user_id  len_hashtags  len_domains  len_links  \n",
       "0    1717222     615098             0            1          1  \n",
       "1    1220979     709874             0            0          0  \n",
       "2    1284185     995240             0            0          0  \n",
       "3    1337565     147284             0            0          0  \n",
       "4    1486122     984386             0            0          0  \n",
       "\n",
       "[5 rows x 27 columns]"
      ],
      "text/html": "<div>\n<style scoped>\n    .dataframe tbody tr th:only-of-type {\n        vertical-align: middle;\n    }\n\n    .dataframe tbody tr th {\n        vertical-align: top;\n    }\n\n    .dataframe thead th {\n        text-align: right;\n    }\n</style>\n<table border=\"1\" class=\"dataframe\">\n  <thead>\n    <tr style=\"text-align: right;\">\n      <th></th>\n      <th>hashtags</th>\n      <th>links</th>\n      <th>domains</th>\n      <th>timestamp</th>\n      <th>a_follower_count</th>\n      <th>a_following_count</th>\n      <th>a_is_verified</th>\n      <th>a_account_creation</th>\n      <th>b_follower_count</th>\n      <th>b_following_count</th>\n      <th>...</th>\n      <th>id</th>\n      <th>language</th>\n      <th>tweet_type</th>\n      <th>media</th>\n      <th>tweet_id</th>\n      <th>a_user_id</th>\n      <th>b_user_id</th>\n      <th>len_hashtags</th>\n      <th>len_domains</th>\n      <th>len_links</th>\n    </tr>\n  </thead>\n  <tbody>\n    <tr>\n      <th>0</th>\n      <td>&lt;NA&gt;</td>\n      <td>8957DD51710FC1C3DE81C337B459C1C9</td>\n      <td>E0EEE18B1940D8AE41CEA5B15DC421D3</td>\n      <td>1581192974</td>\n      <td>3214807</td>\n      <td>0</td>\n      <td>True</td>\n      <td>1272597682</td>\n      <td>510</td>\n      <td>393</td>\n      <td>...</td>\n      <td>28448498</td>\n      <td>3</td>\n      <td>2</td>\n      <td>12</td>\n      <td>34312466</td>\n      <td>1717222</td>\n      <td>615098</td>\n      <td>0</td>\n      <td>1</td>\n      <td>1</td>\n    </tr>\n    <tr>\n      <th>1</th>\n      <td>&lt;NA&gt;</td>\n      <td>&lt;NA&gt;</td>\n      <td>&lt;NA&gt;</td>\n      <td>1581508730</td>\n      <td>108597</td>\n      <td>551</td>\n      <td>True</td>\n      <td>1379713973</td>\n      <td>60</td>\n      <td>275</td>\n      <td>...</td>\n      <td>64296468</td>\n      <td>54</td>\n      <td>2</td>\n      <td>12</td>\n      <td>38483937</td>\n      <td>1220979</td>\n      <td>709874</td>\n      <td>0</td>\n      <td>0</td>\n      <td>0</td>\n    </tr>\n    <tr>\n      <th>2</th>\n      <td>&lt;NA&gt;</td>\n      <td>&lt;NA&gt;</td>\n      <td>&lt;NA&gt;</td>\n      <td>1581201226</td>\n      <td>603</td>\n      <td>1340</td>\n      <td>False</td>\n      <td>1373559819</td>\n      <td>34</td>\n      <td>79</td>\n      <td>...</td>\n      <td>65627264</td>\n      <td>59</td>\n      <td>0</td>\n      <td>12</td>\n      <td>34241830</td>\n      <td>1284185</td>\n      <td>995240</td>\n      <td>0</td>\n      <td>0</td>\n      <td>0</td>\n    </tr>\n    <tr>\n      <th>3</th>\n      <td>&lt;NA&gt;</td>\n      <td>&lt;NA&gt;</td>\n      <td>&lt;NA&gt;</td>\n      <td>1581464495</td>\n      <td>69236</td>\n      <td>882</td>\n      <td>False</td>\n      <td>1394066296</td>\n      <td>23</td>\n      <td>143</td>\n      <td>...</td>\n      <td>66579081</td>\n      <td>54</td>\n      <td>2</td>\n      <td>12</td>\n      <td>28207885</td>\n      <td>1337565</td>\n      <td>147284</td>\n      <td>0</td>\n      <td>0</td>\n      <td>0</td>\n    </tr>\n    <tr>\n      <th>4</th>\n      <td>&lt;NA&gt;</td>\n      <td>&lt;NA&gt;</td>\n      <td>&lt;NA&gt;</td>\n      <td>1581195600</td>\n      <td>1911234</td>\n      <td>4327</td>\n      <td>True</td>\n      <td>1372717142</td>\n      <td>176</td>\n      <td>594</td>\n      <td>...</td>\n      <td>45322295</td>\n      <td>54</td>\n      <td>2</td>\n      <td>8</td>\n      <td>11378919</td>\n      <td>1486122</td>\n      <td>984386</td>\n      <td>0</td>\n      <td>0</td>\n      <td>0</td>\n    </tr>\n  </tbody>\n</table>\n<p>5 rows × 27 columns</p>\n</div>"
     },
     "metadata": {},
     "execution_count": 19
    }
   ],
   "source": [
    "%%time\n",
    "def count_token(ds,token):\n",
    "    not_null = ds.isnull()==0\n",
    "    return ((ds.str.count(token)+1)*not_null).fillna(0)\n",
    "df['len_hashtags'] = df['hashtags'].map_partitions(lambda ds: count_token(ds,'\\t'))\n",
    "df['len_domains']  = df['domains'].map_partitions(lambda ds: count_token(ds,'\\t'))\n",
    "df['len_links']    = df['links'].map_partitions(lambda ds: count_token(ds,'\\t'))\n",
    "\n",
    "df, = dask.persist(df)\n",
    "_ = wait(df)\n",
    "df.head()"
   ]
  },
  {
   "cell_type": "code",
   "execution_count": 20,
   "metadata": {},
   "outputs": [],
   "source": [
    "def most_frequent_token(df, col, idcol, outcol, sep='\\t'):\n",
    "    ds = df[[idcol,col]].compute()\n",
    "    tokens = ds[col].str.tokenize(sep)\n",
    "    \n",
    "    token_counts = ds[col].str.token_count('\\t').to_frame()\n",
    "    token_counts[idcol] = ds[idcol]\n",
    "    del ds\n",
    "    token_rows = reconstruct_token_rows(token_counts,col,idcol)\n",
    "    del token_counts\n",
    "    \n",
    "    tokens = tokens.to_frame()\n",
    "    tokens.columns = ['token']\n",
    "    tokens['token'],_ = tokens['token'].factorize()\n",
    "    tokens['token'] = tokens['token']+1\n",
    "    tokens[idcol] = token_rows\n",
    "    \n",
    "    global_token_counts = tokens['token'].value_counts().reset_index()\n",
    "    global_token_counts.columns = ['token','count']\n",
    "    \n",
    "    tokens = tokens.merge(global_token_counts,on='token',how='left')\n",
    "    del global_token_counts\n",
    "    \n",
    "    token_counts = tokens.groupby(idcol).agg({'count':'max'}).reset_index()\n",
    "    tokens = tokens.merge(token_counts,on=idcol,how='left')\n",
    "    del token_counts\n",
    "    mask = tokens.count_x == tokens.count_y\n",
    "    tokens = tokens[mask]\n",
    "    tokens = tokens.drop(['count_x','count_y'],axis=1)\n",
    "    tokens = tokens.drop_duplicates(subset=['token',idcol])\n",
    "    tokens = tokens.rename(columns={'token':outcol})\n",
    "    \n",
    "    if outcol == col:\n",
    "        df = df.drop(col,axis=1)\n",
    "    df = df.merge(tokens,on=idcol,how='left')\n",
    "    df[outcol] = df[outcol].fillna(0)\n",
    "    del tokens\n",
    "    return df\n",
    "\n",
    "def reconstruct_token_rows(token_counts,col,idcol):\n",
    "    ids = cupy.asnumpy(token_counts[idcol].values)\n",
    "    rep = cupy.asnumpy(token_counts[col].values)\n",
    "    token_rows = np.repeat(ids,rep)\n",
    "    token_rows = cupy.asarray(token_rows)\n",
    "    return token_rows\n"
   ]
  },
  {
   "cell_type": "code",
   "execution_count": 21,
   "metadata": {},
   "outputs": [
    {
     "output_type": "stream",
     "name": "stdout",
     "text": [
      "CPU times: user 27.4 s, sys: 23.2 s, total: 50.5 s\nWall time: 2min 51s\n"
     ]
    },
    {
     "output_type": "execute_result",
     "data": {
      "text/plain": [
       "    timestamp  a_follower_count  a_following_count  a_is_verified  \\\n",
       "0  1581481769            274293                352           True   \n",
       "1  1581461223           2945126                 32           True   \n",
       "2  1581258001           1191496                453           True   \n",
       "3  1581095057            220580                527           True   \n",
       "4  1581482104             59465                506           True   \n",
       "\n",
       "   a_account_creation  b_follower_count  b_following_count  b_is_verified  \\\n",
       "0          1473357345              1784               4145          False   \n",
       "1          1379329448                17                 56          False   \n",
       "2          1264844645               263                371          False   \n",
       "3          1220626166               667               1185          False   \n",
       "4          1284373697                 2                  9          False   \n",
       "\n",
       "   b_account_creation  b_follows_a  ...  media  tweet_id  a_user_id  \\\n",
       "0          1417718205        False  ...     12  52992145    1506727   \n",
       "1          1443757928        False  ...      4  44659405    1371914   \n",
       "2          1278926864        False  ...      4  26672542    1086695   \n",
       "3          1273487714        False  ...      6  46348282    1565749   \n",
       "4          1508134710        False  ...     12  46204094    1220300   \n",
       "\n",
       "   b_user_id  len_hashtags  len_domains  len_links  domains    links  hashtags  \n",
       "0    1269436             2            1          1   218447  1424330    755803  \n",
       "1     783075             1            3          3   335707  2593260    977303  \n",
       "2    1185313             1            0          0        0        0   2685843  \n",
       "3    1445016             1            0          0        0        0   2535399  \n",
       "4     504633             0            1          1   379333  3455526         0  \n",
       "\n",
       "[5 rows x 27 columns]"
      ],
      "text/html": "<div>\n<style scoped>\n    .dataframe tbody tr th:only-of-type {\n        vertical-align: middle;\n    }\n\n    .dataframe tbody tr th {\n        vertical-align: top;\n    }\n\n    .dataframe thead th {\n        text-align: right;\n    }\n</style>\n<table border=\"1\" class=\"dataframe\">\n  <thead>\n    <tr style=\"text-align: right;\">\n      <th></th>\n      <th>timestamp</th>\n      <th>a_follower_count</th>\n      <th>a_following_count</th>\n      <th>a_is_verified</th>\n      <th>a_account_creation</th>\n      <th>b_follower_count</th>\n      <th>b_following_count</th>\n      <th>b_is_verified</th>\n      <th>b_account_creation</th>\n      <th>b_follows_a</th>\n      <th>...</th>\n      <th>media</th>\n      <th>tweet_id</th>\n      <th>a_user_id</th>\n      <th>b_user_id</th>\n      <th>len_hashtags</th>\n      <th>len_domains</th>\n      <th>len_links</th>\n      <th>domains</th>\n      <th>links</th>\n      <th>hashtags</th>\n    </tr>\n  </thead>\n  <tbody>\n    <tr>\n      <th>0</th>\n      <td>1581481769</td>\n      <td>274293</td>\n      <td>352</td>\n      <td>True</td>\n      <td>1473357345</td>\n      <td>1784</td>\n      <td>4145</td>\n      <td>False</td>\n      <td>1417718205</td>\n      <td>False</td>\n      <td>...</td>\n      <td>12</td>\n      <td>52992145</td>\n      <td>1506727</td>\n      <td>1269436</td>\n      <td>2</td>\n      <td>1</td>\n      <td>1</td>\n      <td>218447</td>\n      <td>1424330</td>\n      <td>755803</td>\n    </tr>\n    <tr>\n      <th>1</th>\n      <td>1581461223</td>\n      <td>2945126</td>\n      <td>32</td>\n      <td>True</td>\n      <td>1379329448</td>\n      <td>17</td>\n      <td>56</td>\n      <td>False</td>\n      <td>1443757928</td>\n      <td>False</td>\n      <td>...</td>\n      <td>4</td>\n      <td>44659405</td>\n      <td>1371914</td>\n      <td>783075</td>\n      <td>1</td>\n      <td>3</td>\n      <td>3</td>\n      <td>335707</td>\n      <td>2593260</td>\n      <td>977303</td>\n    </tr>\n    <tr>\n      <th>2</th>\n      <td>1581258001</td>\n      <td>1191496</td>\n      <td>453</td>\n      <td>True</td>\n      <td>1264844645</td>\n      <td>263</td>\n      <td>371</td>\n      <td>False</td>\n      <td>1278926864</td>\n      <td>False</td>\n      <td>...</td>\n      <td>4</td>\n      <td>26672542</td>\n      <td>1086695</td>\n      <td>1185313</td>\n      <td>1</td>\n      <td>0</td>\n      <td>0</td>\n      <td>0</td>\n      <td>0</td>\n      <td>2685843</td>\n    </tr>\n    <tr>\n      <th>3</th>\n      <td>1581095057</td>\n      <td>220580</td>\n      <td>527</td>\n      <td>True</td>\n      <td>1220626166</td>\n      <td>667</td>\n      <td>1185</td>\n      <td>False</td>\n      <td>1273487714</td>\n      <td>False</td>\n      <td>...</td>\n      <td>6</td>\n      <td>46348282</td>\n      <td>1565749</td>\n      <td>1445016</td>\n      <td>1</td>\n      <td>0</td>\n      <td>0</td>\n      <td>0</td>\n      <td>0</td>\n      <td>2535399</td>\n    </tr>\n    <tr>\n      <th>4</th>\n      <td>1581482104</td>\n      <td>59465</td>\n      <td>506</td>\n      <td>True</td>\n      <td>1284373697</td>\n      <td>2</td>\n      <td>9</td>\n      <td>False</td>\n      <td>1508134710</td>\n      <td>False</td>\n      <td>...</td>\n      <td>12</td>\n      <td>46204094</td>\n      <td>1220300</td>\n      <td>504633</td>\n      <td>0</td>\n      <td>1</td>\n      <td>1</td>\n      <td>379333</td>\n      <td>3455526</td>\n      <td>0</td>\n    </tr>\n  </tbody>\n</table>\n<p>5 rows × 27 columns</p>\n</div>"
     },
     "metadata": {},
     "execution_count": 21
    }
   ],
   "source": [
    "%%time\n",
    "for col in ['domains','links','hashtags']:\n",
    "    df = most_frequent_token(df, col=col, idcol='id', outcol=col, sep='\\t')\n",
    "    df, = dask.persist(df)\n",
    "    _ = wait(df)\n",
    "df.head()"
   ]
  },
  {
   "cell_type": "code",
   "execution_count": 22,
   "metadata": {},
   "outputs": [
    {
     "output_type": "stream",
     "name": "stdout",
     "text": [
      "106723416 9811488 9815713\nCPU times: user 224 ms, sys: 92 ms, total: 316 ms\nWall time: 4.03 s\n"
     ]
    }
   ],
   "source": [
    "%%time\n",
    "\n",
    "TRAIN_SIZE = 106254462 # TODO correct?\n",
    "VALID_SIZE = 9760684\n",
    "\n",
    "train = df[df['id']<=TRAIN_SIZE] # df['id'].min() = 1\n",
    "test0 = df[(df['id']>TRAIN_SIZE)&(df['id']<=TRAIN_SIZE+VALID_SIZE)]\n",
    "test1 = df[df['id']>TRAIN_SIZE+VALID_SIZE]\n",
    "\n",
    "print(len(train),len(test0),len(test1))"
   ]
  },
  {
   "cell_type": "code",
   "execution_count": 23,
   "metadata": {},
   "outputs": [
    {
     "output_type": "stream",
     "name": "stdout",
     "text": [
      "CPU times: user 0 ns, sys: 0 ns, total: 0 ns\nWall time: 7.15 µs\n"
     ]
    }
   ],
   "source": [
    "%%time\n",
    "path = './dask_input/step2_output'"
   ]
  },
  {
   "cell_type": "code",
   "execution_count": 24,
   "metadata": {},
   "outputs": [
    {
     "output_type": "stream",
     "name": "stdout",
     "text": [
      "CPU times: user 2.43 s, sys: 520 ms, total: 2.95 s\nWall time: 1min 10s\n"
     ]
    }
   ],
   "source": [
    "%%time\n",
    "train.to_parquet(f'{path}/train.parquet', write_index=False)\n",
    "test0.to_parquet(f'{path}/valid.parquet', write_index=False)\n",
    "test1.to_parquet(f'{path}/test.parquet', write_index=False)"
   ]
  },
  {
   "cell_type": "code",
   "execution_count": 25,
   "metadata": {},
   "outputs": [
    {
     "output_type": "stream",
     "name": "stdout",
     "text": [
      "This notebook took 4.8 minutes\n"
     ]
    }
   ],
   "source": [
    "print('This notebook took %.1f minutes'%((time.time()-very_start)/60.))"
   ]
  }
 ],
 "metadata": {
  "kernelspec": {
   "name": "rapids-0.16",
   "display_name": "rapids-0.16"
  },
  "language_info": {
   "codemirror_mode": {
    "name": "ipython",
    "version": 3
   },
   "file_extension": ".py",
   "mimetype": "text/x-python",
   "name": "python",
   "nbconvert_exporter": "python",
   "pygments_lexer": "ipython3",
   "version": "3.7.8-final"
  }
 },
 "nbformat": 4,
 "nbformat_minor": 4
}