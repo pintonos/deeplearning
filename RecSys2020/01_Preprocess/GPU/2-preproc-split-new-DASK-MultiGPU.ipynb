{
 "cells": [
  {
   "cell_type": "markdown",
   "metadata": {},
   "source": [
    "Copyright (c) 2020, NVIDIA CORPORATION.\n",
    "Licensed under the Apache License, Version 2.0 (the \"License\");\n",
    "you may not use this file except in compliance with the License.\n",
    "You may obtain a copy of the License at\n",
    "    http://www.apache.org/licenses/LICENSE-2.0\n",
    "Unless required by applicable law or agreed to in writing, software\n",
    "distributed under the License is distributed on an \"AS IS\" BASIS,\n",
    "WITHOUT WARRANTIES OR CONDITIONS OF ANY KIND, either express or implied.\n",
    "See the License for the specific language governing permissions and\n",
    "limitations under the License."
   ]
  },
  {
   "cell_type": "code",
   "execution_count": 3,
   "metadata": {},
   "outputs": [],
   "source": [
    "import os, time\n",
    "os.environ[\"CUDA_VISIBLE_DEVICES\"]=\"0\"\n",
    "start = time.time()\n",
    "very_start = time.time()"
   ]
  },
  {
   "cell_type": "code",
   "execution_count": 4,
   "metadata": {},
   "outputs": [
    {
     "output_type": "execute_result",
     "data": {
      "text/plain": [
       "'0.16.0'"
      ]
     },
     "metadata": {},
     "execution_count": 4
    }
   ],
   "source": [
    "#import pandas as pd, \n",
    "import numpy as np\n",
    "from datetime import datetime\n",
    "import matplotlib.pyplot as plt\n",
    "#pd.set_option('display.max_columns', 500)\n",
    "#pd.set_option('display.max_rows', 500)\n",
    "import cudf, cupy, time, rmm\n",
    "cudf.__version__"
   ]
  },
  {
   "cell_type": "code",
   "execution_count": 5,
   "metadata": {},
   "outputs": [],
   "source": [
    "import dask as dask, dask_cudf\n",
    "from dask.distributed import Client, wait\n",
    "from dask_cuda import LocalCUDACluster\n",
    "import subprocess"
   ]
  },
  {
   "cell_type": "code",
   "execution_count": 6,
   "metadata": {},
   "outputs": [
    {
     "output_type": "execute_result",
     "data": {
      "text/plain": [
       "'cluster = LocalCUDACluster(ip=\\'10.2.61.36\\')#,protocol=\"ucx\", \\n                           #rmm_pool_size=\"26GB\",\\n                           #enable_tcp_over_ucx=True, enable_nvlink=True)\\n#cluster = LocalCUDACluster()\\nclient = Client(cluster)\\nclient'"
      ]
     },
     "metadata": {},
     "execution_count": 6
    }
   ],
   "source": [
    "'''cluster = LocalCUDACluster(ip='10.2.61.36')#,protocol=\"ucx\", \n",
    "                           #rmm_pool_size=\"26GB\",\n",
    "                           #enable_tcp_over_ucx=True, enable_nvlink=True)\n",
    "#cluster = LocalCUDACluster()\n",
    "client = Client(cluster)\n",
    "client'''"
   ]
  },
  {
   "cell_type": "code",
   "execution_count": 7,
   "metadata": {},
   "outputs": [
    {
     "output_type": "stream",
     "name": "stdout",
     "text": [
      "CPU times: user 2.79 s, sys: 920 ms, total: 3.71 s\nWall time: 3.72 s\n"
     ]
    },
    {
     "output_type": "execute_result",
     "data": {
      "text/plain": [
       "                                            hashtags  \\\n",
       "0                   5F5E25FDD0B767C4BB6DE6473DC6AE33   \n",
       "1                   E6D1192E7880DEE2E18C3D4489970918   \n",
       "2                                               <NA>   \n",
       "3  3E73FEBD954B9E5A5C85F2AFFD5ED49D\\tA62335257DDD...   \n",
       "4                                               <NA>   \n",
       "\n",
       "                              links                           domains  \\\n",
       "0                              <NA>                              <NA>   \n",
       "1                              <NA>                              <NA>   \n",
       "2  D1749EC58B796AA39D94DBE4153C1F62  7471C2E3375040BA50F8044E5D52B083   \n",
       "3                              <NA>                              <NA>   \n",
       "4                              <NA>                              <NA>   \n",
       "\n",
       "    timestamp  a_follower_count  a_following_count  a_is_verified  \\\n",
       "0  1582018502           3388192                  0           True   \n",
       "1  1581798652               916                891          False   \n",
       "2  1581764307            171597                423           True   \n",
       "3  1581869312              3190                 24          False   \n",
       "4  1581904827           1760209                  1          False   \n",
       "\n",
       "   a_account_creation  b_follower_count  b_following_count  ...  retweet  \\\n",
       "0          1312003421                 4                206  ...        0   \n",
       "1          1496942442               504                938  ...        0   \n",
       "2          1462544521                76                 69  ...        0   \n",
       "3          1510154461               632                 18  ...        0   \n",
       "4          1416406065               255                113  ...        0   \n",
       "\n",
       "   retweet_comment  like        id  language  tweet_type  media  tweet_id  \\\n",
       "0                0     0  13801804        54           2      8   1302828   \n",
       "1                0     0   8752519        54           2      4   1056460   \n",
       "2                0     0   8180770        54           2     12   1495267   \n",
       "3                0     0   3728019        31           1     12   1321218   \n",
       "4                0     0  11920974        47           2      4    986636   \n",
       "\n",
       "   a_user_id  b_user_id  \n",
       "0     553866     228624  \n",
       "1     430744     356802  \n",
       "2     645271     273905  \n",
       "3     452570     550597  \n",
       "4     647160     122918  \n",
       "\n",
       "[5 rows x 24 columns]"
      ],
      "text/html": "<div>\n<style scoped>\n    .dataframe tbody tr th:only-of-type {\n        vertical-align: middle;\n    }\n\n    .dataframe tbody tr th {\n        vertical-align: top;\n    }\n\n    .dataframe thead th {\n        text-align: right;\n    }\n</style>\n<table border=\"1\" class=\"dataframe\">\n  <thead>\n    <tr style=\"text-align: right;\">\n      <th></th>\n      <th>hashtags</th>\n      <th>links</th>\n      <th>domains</th>\n      <th>timestamp</th>\n      <th>a_follower_count</th>\n      <th>a_following_count</th>\n      <th>a_is_verified</th>\n      <th>a_account_creation</th>\n      <th>b_follower_count</th>\n      <th>b_following_count</th>\n      <th>...</th>\n      <th>retweet</th>\n      <th>retweet_comment</th>\n      <th>like</th>\n      <th>id</th>\n      <th>language</th>\n      <th>tweet_type</th>\n      <th>media</th>\n      <th>tweet_id</th>\n      <th>a_user_id</th>\n      <th>b_user_id</th>\n    </tr>\n  </thead>\n  <tbody>\n    <tr>\n      <th>0</th>\n      <td>5F5E25FDD0B767C4BB6DE6473DC6AE33</td>\n      <td>&lt;NA&gt;</td>\n      <td>&lt;NA&gt;</td>\n      <td>1582018502</td>\n      <td>3388192</td>\n      <td>0</td>\n      <td>True</td>\n      <td>1312003421</td>\n      <td>4</td>\n      <td>206</td>\n      <td>...</td>\n      <td>0</td>\n      <td>0</td>\n      <td>0</td>\n      <td>13801804</td>\n      <td>54</td>\n      <td>2</td>\n      <td>8</td>\n      <td>1302828</td>\n      <td>553866</td>\n      <td>228624</td>\n    </tr>\n    <tr>\n      <th>1</th>\n      <td>E6D1192E7880DEE2E18C3D4489970918</td>\n      <td>&lt;NA&gt;</td>\n      <td>&lt;NA&gt;</td>\n      <td>1581798652</td>\n      <td>916</td>\n      <td>891</td>\n      <td>False</td>\n      <td>1496942442</td>\n      <td>504</td>\n      <td>938</td>\n      <td>...</td>\n      <td>0</td>\n      <td>0</td>\n      <td>0</td>\n      <td>8752519</td>\n      <td>54</td>\n      <td>2</td>\n      <td>4</td>\n      <td>1056460</td>\n      <td>430744</td>\n      <td>356802</td>\n    </tr>\n    <tr>\n      <th>2</th>\n      <td>&lt;NA&gt;</td>\n      <td>D1749EC58B796AA39D94DBE4153C1F62</td>\n      <td>7471C2E3375040BA50F8044E5D52B083</td>\n      <td>1581764307</td>\n      <td>171597</td>\n      <td>423</td>\n      <td>True</td>\n      <td>1462544521</td>\n      <td>76</td>\n      <td>69</td>\n      <td>...</td>\n      <td>0</td>\n      <td>0</td>\n      <td>0</td>\n      <td>8180770</td>\n      <td>54</td>\n      <td>2</td>\n      <td>12</td>\n      <td>1495267</td>\n      <td>645271</td>\n      <td>273905</td>\n    </tr>\n    <tr>\n      <th>3</th>\n      <td>3E73FEBD954B9E5A5C85F2AFFD5ED49D\\tA62335257DDD...</td>\n      <td>&lt;NA&gt;</td>\n      <td>&lt;NA&gt;</td>\n      <td>1581869312</td>\n      <td>3190</td>\n      <td>24</td>\n      <td>False</td>\n      <td>1510154461</td>\n      <td>632</td>\n      <td>18</td>\n      <td>...</td>\n      <td>0</td>\n      <td>0</td>\n      <td>0</td>\n      <td>3728019</td>\n      <td>31</td>\n      <td>1</td>\n      <td>12</td>\n      <td>1321218</td>\n      <td>452570</td>\n      <td>550597</td>\n    </tr>\n    <tr>\n      <th>4</th>\n      <td>&lt;NA&gt;</td>\n      <td>&lt;NA&gt;</td>\n      <td>&lt;NA&gt;</td>\n      <td>1581904827</td>\n      <td>1760209</td>\n      <td>1</td>\n      <td>False</td>\n      <td>1416406065</td>\n      <td>255</td>\n      <td>113</td>\n      <td>...</td>\n      <td>0</td>\n      <td>0</td>\n      <td>0</td>\n      <td>11920974</td>\n      <td>47</td>\n      <td>2</td>\n      <td>4</td>\n      <td>986636</td>\n      <td>647160</td>\n      <td>122918</td>\n    </tr>\n  </tbody>\n</table>\n<p>5 rows × 24 columns</p>\n</div>"
     },
     "metadata": {},
     "execution_count": 7
    }
   ],
   "source": [
    "%%time\n",
    "path = './dask_input/step1_output'\n",
    "df = dask_cudf.read_parquet(f'{path}/*.parquet')\n",
    "df, = dask.persist(df)\n",
    "#_ = wait(df)\n",
    "df.head()"
   ]
  },
  {
   "cell_type": "code",
   "execution_count": 8,
   "metadata": {},
   "outputs": [
    {
     "output_type": "stream",
     "name": "stdout",
     "text": [
      "CPU times: user 332 ms, sys: 84 ms, total: 416 ms\nWall time: 414 ms\n"
     ]
    },
    {
     "output_type": "execute_result",
     "data": {
      "text/plain": [
       "                                            hashtags  \\\n",
       "0                   5F5E25FDD0B767C4BB6DE6473DC6AE33   \n",
       "1                   E6D1192E7880DEE2E18C3D4489970918   \n",
       "2                                               <NA>   \n",
       "3  3E73FEBD954B9E5A5C85F2AFFD5ED49D\\tA62335257DDD...   \n",
       "4                                               <NA>   \n",
       "\n",
       "                              links                           domains  \\\n",
       "0                              <NA>                              <NA>   \n",
       "1                              <NA>                              <NA>   \n",
       "2  D1749EC58B796AA39D94DBE4153C1F62  7471C2E3375040BA50F8044E5D52B083   \n",
       "3                              <NA>                              <NA>   \n",
       "4                              <NA>                              <NA>   \n",
       "\n",
       "    timestamp  a_follower_count  a_following_count  a_is_verified  \\\n",
       "0  1582018502           3388192                  0           True   \n",
       "1  1581798652               916                891          False   \n",
       "2  1581764307            171597                423           True   \n",
       "3  1581869312              3190                 24          False   \n",
       "4  1581904827           1760209                  1          False   \n",
       "\n",
       "   a_account_creation  b_follower_count  b_following_count  ...        id  \\\n",
       "0          1312003421                 4                206  ...  13801804   \n",
       "1          1496942442               504                938  ...   8752519   \n",
       "2          1462544521                76                 69  ...   8180770   \n",
       "3          1510154461               632                 18  ...   3728019   \n",
       "4          1416406065               255                113  ...  11920974   \n",
       "\n",
       "   language  tweet_type  media  tweet_id  a_user_id  b_user_id  len_hashtags  \\\n",
       "0        54           2      8   1302828     553866     228624             1   \n",
       "1        54           2      4   1056460     430744     356802             1   \n",
       "2        54           2     12   1495267     645271     273905             0   \n",
       "3        31           1     12   1321218     452570     550597             2   \n",
       "4        47           2      4    986636     647160     122918             0   \n",
       "\n",
       "   len_domains  len_links  \n",
       "0            0          0  \n",
       "1            0          0  \n",
       "2            1          1  \n",
       "3            0          0  \n",
       "4            0          0  \n",
       "\n",
       "[5 rows x 27 columns]"
      ],
      "text/html": "<div>\n<style scoped>\n    .dataframe tbody tr th:only-of-type {\n        vertical-align: middle;\n    }\n\n    .dataframe tbody tr th {\n        vertical-align: top;\n    }\n\n    .dataframe thead th {\n        text-align: right;\n    }\n</style>\n<table border=\"1\" class=\"dataframe\">\n  <thead>\n    <tr style=\"text-align: right;\">\n      <th></th>\n      <th>hashtags</th>\n      <th>links</th>\n      <th>domains</th>\n      <th>timestamp</th>\n      <th>a_follower_count</th>\n      <th>a_following_count</th>\n      <th>a_is_verified</th>\n      <th>a_account_creation</th>\n      <th>b_follower_count</th>\n      <th>b_following_count</th>\n      <th>...</th>\n      <th>id</th>\n      <th>language</th>\n      <th>tweet_type</th>\n      <th>media</th>\n      <th>tweet_id</th>\n      <th>a_user_id</th>\n      <th>b_user_id</th>\n      <th>len_hashtags</th>\n      <th>len_domains</th>\n      <th>len_links</th>\n    </tr>\n  </thead>\n  <tbody>\n    <tr>\n      <th>0</th>\n      <td>5F5E25FDD0B767C4BB6DE6473DC6AE33</td>\n      <td>&lt;NA&gt;</td>\n      <td>&lt;NA&gt;</td>\n      <td>1582018502</td>\n      <td>3388192</td>\n      <td>0</td>\n      <td>True</td>\n      <td>1312003421</td>\n      <td>4</td>\n      <td>206</td>\n      <td>...</td>\n      <td>13801804</td>\n      <td>54</td>\n      <td>2</td>\n      <td>8</td>\n      <td>1302828</td>\n      <td>553866</td>\n      <td>228624</td>\n      <td>1</td>\n      <td>0</td>\n      <td>0</td>\n    </tr>\n    <tr>\n      <th>1</th>\n      <td>E6D1192E7880DEE2E18C3D4489970918</td>\n      <td>&lt;NA&gt;</td>\n      <td>&lt;NA&gt;</td>\n      <td>1581798652</td>\n      <td>916</td>\n      <td>891</td>\n      <td>False</td>\n      <td>1496942442</td>\n      <td>504</td>\n      <td>938</td>\n      <td>...</td>\n      <td>8752519</td>\n      <td>54</td>\n      <td>2</td>\n      <td>4</td>\n      <td>1056460</td>\n      <td>430744</td>\n      <td>356802</td>\n      <td>1</td>\n      <td>0</td>\n      <td>0</td>\n    </tr>\n    <tr>\n      <th>2</th>\n      <td>&lt;NA&gt;</td>\n      <td>D1749EC58B796AA39D94DBE4153C1F62</td>\n      <td>7471C2E3375040BA50F8044E5D52B083</td>\n      <td>1581764307</td>\n      <td>171597</td>\n      <td>423</td>\n      <td>True</td>\n      <td>1462544521</td>\n      <td>76</td>\n      <td>69</td>\n      <td>...</td>\n      <td>8180770</td>\n      <td>54</td>\n      <td>2</td>\n      <td>12</td>\n      <td>1495267</td>\n      <td>645271</td>\n      <td>273905</td>\n      <td>0</td>\n      <td>1</td>\n      <td>1</td>\n    </tr>\n    <tr>\n      <th>3</th>\n      <td>3E73FEBD954B9E5A5C85F2AFFD5ED49D\\tA62335257DDD...</td>\n      <td>&lt;NA&gt;</td>\n      <td>&lt;NA&gt;</td>\n      <td>1581869312</td>\n      <td>3190</td>\n      <td>24</td>\n      <td>False</td>\n      <td>1510154461</td>\n      <td>632</td>\n      <td>18</td>\n      <td>...</td>\n      <td>3728019</td>\n      <td>31</td>\n      <td>1</td>\n      <td>12</td>\n      <td>1321218</td>\n      <td>452570</td>\n      <td>550597</td>\n      <td>2</td>\n      <td>0</td>\n      <td>0</td>\n    </tr>\n    <tr>\n      <th>4</th>\n      <td>&lt;NA&gt;</td>\n      <td>&lt;NA&gt;</td>\n      <td>&lt;NA&gt;</td>\n      <td>1581904827</td>\n      <td>1760209</td>\n      <td>1</td>\n      <td>False</td>\n      <td>1416406065</td>\n      <td>255</td>\n      <td>113</td>\n      <td>...</td>\n      <td>11920974</td>\n      <td>47</td>\n      <td>2</td>\n      <td>4</td>\n      <td>986636</td>\n      <td>647160</td>\n      <td>122918</td>\n      <td>0</td>\n      <td>0</td>\n      <td>0</td>\n    </tr>\n  </tbody>\n</table>\n<p>5 rows × 27 columns</p>\n</div>"
     },
     "metadata": {},
     "execution_count": 8
    }
   ],
   "source": [
    "%%time\n",
    "def count_token(ds,token):\n",
    "    not_null = ds.isnull()==0\n",
    "    return ((ds.str.count(token)+1)*not_null).fillna(0)\n",
    "df['len_hashtags'] = df['hashtags'].map_partitions(lambda ds: count_token(ds,'\\t'))\n",
    "df['len_domains']  = df['domains'].map_partitions(lambda ds: count_token(ds,'\\t'))\n",
    "df['len_links']    = df['links'].map_partitions(lambda ds: count_token(ds,'\\t'))\n",
    "\n",
    "df, = dask.persist(df)\n",
    "#_ = wait(df)\n",
    "df.head()"
   ]
  },
  {
   "cell_type": "code",
   "execution_count": 9,
   "metadata": {},
   "outputs": [],
   "source": [
    "def most_frequent_token(df, col, idcol, outcol, sep='\\t'):\n",
    "    ds = df[[idcol,col]].compute()\n",
    "    tokens = ds[col].str.tokenize(sep)\n",
    "    \n",
    "    token_counts = ds[col].str.token_count('\\t').to_frame()\n",
    "    token_counts[idcol] = ds[idcol]\n",
    "    del ds\n",
    "    token_rows = reconstruct_token_rows(token_counts,col,idcol)\n",
    "    del token_counts\n",
    "    \n",
    "    tokens = tokens.to_frame()\n",
    "    tokens.columns = ['token']\n",
    "    tokens['token'],_ = tokens['token'].factorize()\n",
    "    tokens['token'] = tokens['token']+1\n",
    "    tokens[idcol] = token_rows\n",
    "    \n",
    "    global_token_counts = tokens['token'].value_counts().reset_index()\n",
    "    global_token_counts.columns = ['token','count']\n",
    "    \n",
    "    tokens = tokens.merge(global_token_counts,on='token',how='left')\n",
    "    del global_token_counts\n",
    "    \n",
    "    token_counts = tokens.groupby(idcol).agg({'count':'max'}).reset_index()\n",
    "    tokens = tokens.merge(token_counts,on=idcol,how='left')\n",
    "    del token_counts\n",
    "    mask = tokens.count_x == tokens.count_y\n",
    "    tokens = tokens[mask]\n",
    "    tokens = tokens.drop(['count_x','count_y'],axis=1)\n",
    "    tokens = tokens.drop_duplicates(subset=['token',idcol])\n",
    "    tokens = tokens.rename(columns={'token':outcol})\n",
    "    \n",
    "    if outcol == col:\n",
    "        df = df.drop(col,axis=1)\n",
    "    df = df.merge(tokens,on=idcol,how='left')\n",
    "    df[outcol] = df[outcol].fillna(0)\n",
    "    del tokens\n",
    "    return df\n",
    "\n",
    "def reconstruct_token_rows(token_counts,col,idcol):\n",
    "    ids = cupy.asnumpy(token_counts[idcol].values)\n",
    "    rep = cupy.asnumpy(token_counts[col].values)\n",
    "    token_rows = np.repeat(ids,rep)\n",
    "    token_rows = cupy.asarray(token_rows)\n",
    "    return token_rows\n"
   ]
  },
  {
   "cell_type": "code",
   "execution_count": 10,
   "metadata": {},
   "outputs": [
    {
     "output_type": "stream",
     "name": "stdout",
     "text": [
      "CPU times: user 3.18 s, sys: 1.92 s, total: 5.09 s\nWall time: 5.1 s\n"
     ]
    },
    {
     "output_type": "execute_result",
     "data": {
      "text/plain": [
       "    timestamp  a_follower_count  a_following_count  a_is_verified  \\\n",
       "0  1581561262            413541              41702           True   \n",
       "1  1581605897            798363                  3           True   \n",
       "2  1581854175              1969               1523          False   \n",
       "3  1582026603               337                 12          False   \n",
       "4  1581930519            194314               2140          False   \n",
       "\n",
       "   a_account_creation  b_follower_count  b_following_count  b_is_verified  \\\n",
       "0          1350796987               631                639          False   \n",
       "1          1507525603                68                296          False   \n",
       "2          1350039207              2742               1550          False   \n",
       "3          1340883424               685               1102          False   \n",
       "4          1436790503               508                874          False   \n",
       "\n",
       "   b_account_creation  b_follows_a  ...  media  tweet_id  a_user_id  \\\n",
       "0          1341899529        False  ...     12   3930251     645511   \n",
       "1          1439433727        False  ...      6   3933361     477469   \n",
       "2          1270234613         True  ...      6   4411215     625348   \n",
       "3          1405816969        False  ...      4   4863306     496434   \n",
       "4          1348926123        False  ...     12   3993866     415686   \n",
       "\n",
       "   b_user_id  len_hashtags  len_domains  len_links  domains  links  hashtags  \n",
       "0     260794             2            0          0        0      0    141479  \n",
       "1     274216             3            0          0        0      0    970046  \n",
       "2     667622             1            0          0        0      0    148692  \n",
       "3      86549             0            0          0        0      0         0  \n",
       "4     546378             0            0          0        0      0         0  \n",
       "\n",
       "[5 rows x 27 columns]"
      ],
      "text/html": "<div>\n<style scoped>\n    .dataframe tbody tr th:only-of-type {\n        vertical-align: middle;\n    }\n\n    .dataframe tbody tr th {\n        vertical-align: top;\n    }\n\n    .dataframe thead th {\n        text-align: right;\n    }\n</style>\n<table border=\"1\" class=\"dataframe\">\n  <thead>\n    <tr style=\"text-align: right;\">\n      <th></th>\n      <th>timestamp</th>\n      <th>a_follower_count</th>\n      <th>a_following_count</th>\n      <th>a_is_verified</th>\n      <th>a_account_creation</th>\n      <th>b_follower_count</th>\n      <th>b_following_count</th>\n      <th>b_is_verified</th>\n      <th>b_account_creation</th>\n      <th>b_follows_a</th>\n      <th>...</th>\n      <th>media</th>\n      <th>tweet_id</th>\n      <th>a_user_id</th>\n      <th>b_user_id</th>\n      <th>len_hashtags</th>\n      <th>len_domains</th>\n      <th>len_links</th>\n      <th>domains</th>\n      <th>links</th>\n      <th>hashtags</th>\n    </tr>\n  </thead>\n  <tbody>\n    <tr>\n      <th>0</th>\n      <td>1581561262</td>\n      <td>413541</td>\n      <td>41702</td>\n      <td>True</td>\n      <td>1350796987</td>\n      <td>631</td>\n      <td>639</td>\n      <td>False</td>\n      <td>1341899529</td>\n      <td>False</td>\n      <td>...</td>\n      <td>12</td>\n      <td>3930251</td>\n      <td>645511</td>\n      <td>260794</td>\n      <td>2</td>\n      <td>0</td>\n      <td>0</td>\n      <td>0</td>\n      <td>0</td>\n      <td>141479</td>\n    </tr>\n    <tr>\n      <th>1</th>\n      <td>1581605897</td>\n      <td>798363</td>\n      <td>3</td>\n      <td>True</td>\n      <td>1507525603</td>\n      <td>68</td>\n      <td>296</td>\n      <td>False</td>\n      <td>1439433727</td>\n      <td>False</td>\n      <td>...</td>\n      <td>6</td>\n      <td>3933361</td>\n      <td>477469</td>\n      <td>274216</td>\n      <td>3</td>\n      <td>0</td>\n      <td>0</td>\n      <td>0</td>\n      <td>0</td>\n      <td>970046</td>\n    </tr>\n    <tr>\n      <th>2</th>\n      <td>1581854175</td>\n      <td>1969</td>\n      <td>1523</td>\n      <td>False</td>\n      <td>1350039207</td>\n      <td>2742</td>\n      <td>1550</td>\n      <td>False</td>\n      <td>1270234613</td>\n      <td>True</td>\n      <td>...</td>\n      <td>6</td>\n      <td>4411215</td>\n      <td>625348</td>\n      <td>667622</td>\n      <td>1</td>\n      <td>0</td>\n      <td>0</td>\n      <td>0</td>\n      <td>0</td>\n      <td>148692</td>\n    </tr>\n    <tr>\n      <th>3</th>\n      <td>1582026603</td>\n      <td>337</td>\n      <td>12</td>\n      <td>False</td>\n      <td>1340883424</td>\n      <td>685</td>\n      <td>1102</td>\n      <td>False</td>\n      <td>1405816969</td>\n      <td>False</td>\n      <td>...</td>\n      <td>4</td>\n      <td>4863306</td>\n      <td>496434</td>\n      <td>86549</td>\n      <td>0</td>\n      <td>0</td>\n      <td>0</td>\n      <td>0</td>\n      <td>0</td>\n      <td>0</td>\n    </tr>\n    <tr>\n      <th>4</th>\n      <td>1581930519</td>\n      <td>194314</td>\n      <td>2140</td>\n      <td>False</td>\n      <td>1436790503</td>\n      <td>508</td>\n      <td>874</td>\n      <td>False</td>\n      <td>1348926123</td>\n      <td>False</td>\n      <td>...</td>\n      <td>12</td>\n      <td>3993866</td>\n      <td>415686</td>\n      <td>546378</td>\n      <td>0</td>\n      <td>0</td>\n      <td>0</td>\n      <td>0</td>\n      <td>0</td>\n      <td>0</td>\n    </tr>\n  </tbody>\n</table>\n<p>5 rows × 27 columns</p>\n</div>"
     },
     "metadata": {},
     "execution_count": 10
    }
   ],
   "source": [
    "%%time\n",
    "for col in ['domains','links','hashtags']:\n",
    "    df = most_frequent_token(df, col=col, idcol='id', outcol=col, sep='\\t')\n",
    "    df, = dask.persist(df)\n",
    "    #_ = wait(df)\n",
    "df.head()"
   ]
  },
  {
   "cell_type": "code",
   "execution_count": 11,
   "metadata": {},
   "outputs": [
    {
     "output_type": "stream",
     "name": "stdout",
     "text": [
      "21043825 0 0\nCPU times: user 80 ms, sys: 104 ms, total: 184 ms\nWall time: 155 ms\n"
     ]
    }
   ],
   "source": [
    "%%time\n",
    "\n",
    "TRAIN_SIZE = 121386431 # TODO correct?\n",
    "VALID_SIZE = 12434735\n",
    "\n",
    "train = df[df['id']<=TRAIN_SIZE] # df['id'].min() = 1\n",
    "test0 = df[(df['id']>TRAIN_SIZE)&(df['id']<=TRAIN_SIZE+VALID_SIZE)]\n",
    "test1 = df[df['id']>TRAIN_SIZE+VALID_SIZE]\n",
    "\n",
    "print(len(train),len(test0),len(test1))"
   ]
  },
  {
   "cell_type": "code",
   "execution_count": 12,
   "metadata": {},
   "outputs": [
    {
     "output_type": "stream",
     "name": "stdout",
     "text": [
      "CPU times: user 0 ns, sys: 0 ns, total: 0 ns\nWall time: 6.91 µs\n"
     ]
    }
   ],
   "source": [
    "%%time\n",
    "path = './dask_input/step2_output'"
   ]
  },
  {
   "cell_type": "code",
   "execution_count": 13,
   "metadata": {},
   "outputs": [
    {
     "output_type": "stream",
     "name": "stdout",
     "text": [
      "CPU times: user 980 ms, sys: 1.87 s, total: 2.85 s\nWall time: 1.16 s\n"
     ]
    }
   ],
   "source": [
    "%%time\n",
    "train.to_parquet(f'{path}/train.parquet', write_index=False)\n",
    "test0.to_parquet(f'{path}/valid.parquet', write_index=False)\n",
    "test1.to_parquet(f'{path}/test.parquet', write_index=False)"
   ]
  },
  {
   "cell_type": "code",
   "execution_count": 14,
   "metadata": {},
   "outputs": [
    {
     "output_type": "stream",
     "name": "stdout",
     "text": [
      "This notebook took 0.2 minutes\n"
     ]
    }
   ],
   "source": [
    "print('This notebook took %.1f minutes'%((time.time()-very_start)/60.))"
   ]
  }
 ],
 "metadata": {
  "kernelspec": {
   "name": "rapids-0.16",
   "display_name": "rapids-0.16"
  },
  "language_info": {
   "codemirror_mode": {
    "name": "ipython",
    "version": 3
   },
   "file_extension": ".py",
   "mimetype": "text/x-python",
   "name": "python",
   "nbconvert_exporter": "python",
   "pygments_lexer": "ipython3",
   "version": "3.7.8-final"
  }
 },
 "nbformat": 4,
 "nbformat_minor": 4
}