{
 "cells": [
  {
   "cell_type": "markdown",
   "metadata": {},
   "source": [
    "Copyright (c) 2020, NVIDIA CORPORATION.\n",
    "Licensed under the Apache License, Version 2.0 (the \"License\");\n",
    "you may not use this file except in compliance with the License.\n",
    "You may obtain a copy of the License at\n",
    "    http://www.apache.org/licenses/LICENSE-2.0\n",
    "Unless required by applicable law or agreed to in writing, software\n",
    "distributed under the License is distributed on an \"AS IS\" BASIS,\n",
    "WITHOUT WARRANTIES OR CONDITIONS OF ANY KIND, either express or implied.\n",
    "See the License for the specific language governing permissions and\n",
    "limitations under the License."
   ]
  },
  {
   "cell_type": "code",
   "execution_count": 1,
   "metadata": {},
   "outputs": [],
   "source": [
    "import os, time\n",
    "os.environ[\"CUDA_VISIBLE_DEVICES\"]=\"0\"\n",
    "start = time.time()"
   ]
  },
  {
   "cell_type": "code",
   "execution_count": 2,
   "metadata": {},
   "outputs": [],
   "source": [
    "import pandas as pd, numpy as np, gc\n",
    "from datetime import datetime\n",
    "import joblib\n",
    "\n",
    "import matplotlib.pyplot as plt\n",
    "pd.set_option('display.max_columns', 500)\n",
    "pd.set_option('display.max_rows', 500)\n",
    "#import cudf, cupy\n",
    "#cudf.__version__"
   ]
  },
  {
   "cell_type": "code",
   "execution_count": 3,
   "metadata": {},
   "outputs": [],
   "source": [
    "from numba import jit, njit, prange\n",
    "from sklearn.metrics import precision_recall_curve, auc, log_loss\n",
    "\n",
    "def compute_prauc(gt, pred, nafill=True):\n",
    "    if nafill:\n",
    "        pred[ np.isnan(pred) ] = np.nanmean( pred )\n",
    "    prec, recall, thresh = precision_recall_curve(gt, pred)\n",
    "    prauc = auc(recall, prec)\n",
    "    return prauc\n",
    "\n",
    "@jit\n",
    "def fast_auc(y_true, y_prob):\n",
    "    y_true = np.asarray(y_true)\n",
    "    y_true = y_true[np.argsort(y_prob)]\n",
    "    nfalse = 0\n",
    "    auc = 0\n",
    "    n = len(y_true)\n",
    "    for i in range(n):\n",
    "        y_i = y_true[i]\n",
    "        nfalse += (1 - y_i)\n",
    "        auc += y_i * nfalse\n",
    "    auc /= (nfalse * (n - nfalse))\n",
    "    return auc\n",
    "\n",
    "@njit\n",
    "def numba_log_loss(y,x):\n",
    "    n = x.shape[0]\n",
    "    ll = 0.\n",
    "    for i in prange(n):\n",
    "        if y[i]<=0.:\n",
    "            ll += np.log(1-x[i] + 1e-15 )\n",
    "        else:\n",
    "            ll += np.log(x[i] + 1e-15)\n",
    "    return -ll / n\n",
    "\n",
    "def compute_rce(gt , pred, nafill=True, verbose=0):\n",
    "    if nafill:\n",
    "        pred[ np.isnan(pred) ] = np.nanmean( pred )\n",
    "        \n",
    "    cross_entropy = numba_log_loss( gt, pred  )\n",
    "    \n",
    "    yt = np.mean(gt>0)     \n",
    "    strawman_cross_entropy = -(yt*np.log(yt) + (1 - yt)*np.log(1 - yt))\n",
    "    \n",
    "    if verbose:\n",
    "        print( \"logloss: {0:.5f} / {1:.5f} = {2:.5f}\".format(cross_entropy, strawman_cross_entropy, cross_entropy/strawman_cross_entropy))\n",
    "        print( 'mean:    {0:.5f} / {1:.5f}'.format( np.nanmean( pred ) , yt  ) )\n",
    "    \n",
    "    return (1.0 - cross_entropy/strawman_cross_entropy)*100.0\n"
   ]
  },
  {
   "cell_type": "code",
   "execution_count": 4,
   "metadata": {},
   "outputs": [],
   "source": [
    "def save_memory( df ):\n",
    "    features = df.columns\n",
    "    for i in range( df.shape[1] ):\n",
    "        if df.dtypes[i] == 'uint8':\n",
    "            df[features[i]] = df[features[i]].astype( np.int8 )\n",
    "            gc.collect()\n",
    "        elif df.dtypes[i] == 'bool':\n",
    "            df[features[i]] = df[features[i]].astype( np.int8 )\n",
    "            gc.collect()\n",
    "        elif df.dtypes[i] == 'uint32':\n",
    "            df[features[i]] = df[features[i]].astype( np.int32 )\n",
    "            gc.collect()\n",
    "        elif df.dtypes[i] == 'int64':\n",
    "            df[features[i]] = df[features[i]].astype( np.int32 )\n",
    "            gc.collect()\n",
    "        elif df.dtypes[i] == 'float64':\n",
    "            df[features[i]] = df[features[i]].astype( np.float32 )\n",
    "            gc.collect()"
   ]
  },
  {
   "cell_type": "code",
   "execution_count": null,
   "metadata": {},
   "outputs": [],
   "source": []
  },
  {
   "cell_type": "markdown",
   "metadata": {},
   "source": [
    "# Load Train"
   ]
  },
  {
   "cell_type": "code",
   "execution_count": 5,
   "metadata": {},
   "outputs": [
    {
     "output_type": "execute_result",
     "data": {
      "text/plain": [
       "((21043825, 28), (0, 28), (0, 28))"
      ]
     },
     "metadata": {},
     "execution_count": 5
    }
   ],
   "source": [
    "train = pd.read_parquet( './dask_input/step2_output/train.parquet' )\n",
    "test0 = pd.read_parquet( './dask_input/step2_output/valid.parquet' )\n",
    "test1 = pd.read_parquet( './dask_input/step2_output/test.parquet' )\n",
    "gc.collect()\n",
    "\n",
    "train['tr'] = 0\n",
    "test0['tr'] = 1\n",
    "test1['tr'] = 1\n",
    "\n",
    "train.shape, test0.shape, test1.shape"
   ]
  },
  {
   "cell_type": "code",
   "execution_count": 6,
   "metadata": {},
   "outputs": [
    {
     "output_type": "execute_result",
     "data": {
      "text/plain": [
       "(21043825, 28)"
      ]
     },
     "metadata": {},
     "execution_count": 6
    }
   ],
   "source": [
    "train = pd.concat( (train,test0,test1), sort=False )\n",
    "gc.collect()\n",
    "del test0,test1\n",
    "gc.collect()\n",
    "\n",
    "train.shape"
   ]
  },
  {
   "cell_type": "code",
   "execution_count": 7,
   "metadata": {},
   "outputs": [
    {
     "output_type": "stream",
     "name": "stdout",
     "text": [
      "CPU times: user 12.9 s, sys: 2.03 s, total: 14.9 s\nWall time: 14.9 s\n"
     ]
    },
    {
     "output_type": "execute_result",
     "data": {
      "text/plain": [
       "20"
      ]
     },
     "metadata": {},
     "execution_count": 7
    }
   ],
   "source": [
    "%%time\n",
    "train = train.sort_values('timestamp').reset_index(drop=True) #TIME ORDER\n",
    "gc.collect()"
   ]
  },
  {
   "cell_type": "code",
   "execution_count": 8,
   "metadata": {},
   "outputs": [
    {
     "output_type": "execute_result",
     "data": {
      "text/plain": [
       "19"
      ]
     },
     "metadata": {},
     "execution_count": 8
    }
   ],
   "source": [
    "train.loc[ train.reply>0, 'reply' ] = 1\n",
    "train.loc[ train.retweet>0, 'retweet' ] = 1\n",
    "train.loc[ train.retweet_comment>0, 'retweet_comment' ] = 1\n",
    "train.loc[ train.like>0, 'like' ] = 1\n",
    "\n",
    "train['engage'] = 0\n",
    "train.loc[ (train.reply>0)|(train.retweet>0)|(train.retweet_comment>0)|(train.like>0)  , 'engage'] = 1\n",
    "gc.collect()"
   ]
  },
  {
   "cell_type": "code",
   "execution_count": 9,
   "metadata": {},
   "outputs": [
    {
     "output_type": "execute_result",
     "data": {
      "text/plain": [
       "    timestamp  a_follower_count  a_following_count  a_is_verified  \\\n",
       "0  1580947200             27447                115           True   \n",
       "1  1580947200             13782                327           True   \n",
       "2  1580947200             67167               2864           True   \n",
       "3  1580947200           1923062                  0          False   \n",
       "4  1580947200           2982406               2411           True   \n",
       "\n",
       "   a_account_creation  b_follower_count  b_following_count  b_is_verified  \\\n",
       "0          1520574998                 0                 36          False   \n",
       "1          1306013762                29                229          False   \n",
       "2          1214456422               114                218          False   \n",
       "3          1400281110               217                159          False   \n",
       "4          1179400159                41                137          False   \n",
       "\n",
       "   b_account_creation  b_follows_a  reply  retweet  retweet_comment  like  \\\n",
       "0          1567781844        False      0        0                0     0   \n",
       "1          1411508008        False      0        0                0     0   \n",
       "2          1415584664        False      0        0                0     0   \n",
       "3          1498869581        False      0        0                0     0   \n",
       "4          1272241451        False      0        0                0     0   \n",
       "\n",
       "        id  language  tweet_type  media  tweet_id  a_user_id  b_user_id  \\\n",
       "0   326597        11           2     12  11027338    7364305    8110941   \n",
       "1   634520        54           2      4   8294199    3882491   10148536   \n",
       "2  1257148        54           2     12   2463142    8702908    2764714   \n",
       "3  1161714        59           2      4  12817572     672903    9486466   \n",
       "4   802517        54           2     12   9833989    1170946    8165268   \n",
       "\n",
       "   len_hashtags  len_domains  len_links  domains   links  hashtags  tr  engage  \n",
       "0             2            1          1    75539  885711    105355   0       0  \n",
       "1             2            0          0        0       0    753162   0       0  \n",
       "2             1            0          0        0       0    675884   0       0  \n",
       "3             0            0          0        0       0         0   0       0  \n",
       "4             2            0          0        0       0    915393   0       0  "
      ],
      "text/html": "<div>\n<style scoped>\n    .dataframe tbody tr th:only-of-type {\n        vertical-align: middle;\n    }\n\n    .dataframe tbody tr th {\n        vertical-align: top;\n    }\n\n    .dataframe thead th {\n        text-align: right;\n    }\n</style>\n<table border=\"1\" class=\"dataframe\">\n  <thead>\n    <tr style=\"text-align: right;\">\n      <th></th>\n      <th>timestamp</th>\n      <th>a_follower_count</th>\n      <th>a_following_count</th>\n      <th>a_is_verified</th>\n      <th>a_account_creation</th>\n      <th>b_follower_count</th>\n      <th>b_following_count</th>\n      <th>b_is_verified</th>\n      <th>b_account_creation</th>\n      <th>b_follows_a</th>\n      <th>reply</th>\n      <th>retweet</th>\n      <th>retweet_comment</th>\n      <th>like</th>\n      <th>id</th>\n      <th>language</th>\n      <th>tweet_type</th>\n      <th>media</th>\n      <th>tweet_id</th>\n      <th>a_user_id</th>\n      <th>b_user_id</th>\n      <th>len_hashtags</th>\n      <th>len_domains</th>\n      <th>len_links</th>\n      <th>domains</th>\n      <th>links</th>\n      <th>hashtags</th>\n      <th>tr</th>\n      <th>engage</th>\n    </tr>\n  </thead>\n  <tbody>\n    <tr>\n      <th>0</th>\n      <td>1580947200</td>\n      <td>27447</td>\n      <td>115</td>\n      <td>True</td>\n      <td>1520574998</td>\n      <td>0</td>\n      <td>36</td>\n      <td>False</td>\n      <td>1567781844</td>\n      <td>False</td>\n      <td>0</td>\n      <td>0</td>\n      <td>0</td>\n      <td>0</td>\n      <td>326597</td>\n      <td>11</td>\n      <td>2</td>\n      <td>12</td>\n      <td>11027338</td>\n      <td>7364305</td>\n      <td>8110941</td>\n      <td>2</td>\n      <td>1</td>\n      <td>1</td>\n      <td>75539</td>\n      <td>885711</td>\n      <td>105355</td>\n      <td>0</td>\n      <td>0</td>\n    </tr>\n    <tr>\n      <th>1</th>\n      <td>1580947200</td>\n      <td>13782</td>\n      <td>327</td>\n      <td>True</td>\n      <td>1306013762</td>\n      <td>29</td>\n      <td>229</td>\n      <td>False</td>\n      <td>1411508008</td>\n      <td>False</td>\n      <td>0</td>\n      <td>0</td>\n      <td>0</td>\n      <td>0</td>\n      <td>634520</td>\n      <td>54</td>\n      <td>2</td>\n      <td>4</td>\n      <td>8294199</td>\n      <td>3882491</td>\n      <td>10148536</td>\n      <td>2</td>\n      <td>0</td>\n      <td>0</td>\n      <td>0</td>\n      <td>0</td>\n      <td>753162</td>\n      <td>0</td>\n      <td>0</td>\n    </tr>\n    <tr>\n      <th>2</th>\n      <td>1580947200</td>\n      <td>67167</td>\n      <td>2864</td>\n      <td>True</td>\n      <td>1214456422</td>\n      <td>114</td>\n      <td>218</td>\n      <td>False</td>\n      <td>1415584664</td>\n      <td>False</td>\n      <td>0</td>\n      <td>0</td>\n      <td>0</td>\n      <td>0</td>\n      <td>1257148</td>\n      <td>54</td>\n      <td>2</td>\n      <td>12</td>\n      <td>2463142</td>\n      <td>8702908</td>\n      <td>2764714</td>\n      <td>1</td>\n      <td>0</td>\n      <td>0</td>\n      <td>0</td>\n      <td>0</td>\n      <td>675884</td>\n      <td>0</td>\n      <td>0</td>\n    </tr>\n    <tr>\n      <th>3</th>\n      <td>1580947200</td>\n      <td>1923062</td>\n      <td>0</td>\n      <td>False</td>\n      <td>1400281110</td>\n      <td>217</td>\n      <td>159</td>\n      <td>False</td>\n      <td>1498869581</td>\n      <td>False</td>\n      <td>0</td>\n      <td>0</td>\n      <td>0</td>\n      <td>0</td>\n      <td>1161714</td>\n      <td>59</td>\n      <td>2</td>\n      <td>4</td>\n      <td>12817572</td>\n      <td>672903</td>\n      <td>9486466</td>\n      <td>0</td>\n      <td>0</td>\n      <td>0</td>\n      <td>0</td>\n      <td>0</td>\n      <td>0</td>\n      <td>0</td>\n      <td>0</td>\n    </tr>\n    <tr>\n      <th>4</th>\n      <td>1580947200</td>\n      <td>2982406</td>\n      <td>2411</td>\n      <td>True</td>\n      <td>1179400159</td>\n      <td>41</td>\n      <td>137</td>\n      <td>False</td>\n      <td>1272241451</td>\n      <td>False</td>\n      <td>0</td>\n      <td>0</td>\n      <td>0</td>\n      <td>0</td>\n      <td>802517</td>\n      <td>54</td>\n      <td>2</td>\n      <td>12</td>\n      <td>9833989</td>\n      <td>1170946</td>\n      <td>8165268</td>\n      <td>2</td>\n      <td>0</td>\n      <td>0</td>\n      <td>0</td>\n      <td>0</td>\n      <td>915393</td>\n      <td>0</td>\n      <td>0</td>\n    </tr>\n  </tbody>\n</table>\n</div>"
     },
     "metadata": {},
     "execution_count": 9
    }
   ],
   "source": [
    "train.head()"
   ]
  },
  {
   "cell_type": "code",
   "execution_count": 10,
   "metadata": {},
   "outputs": [
    {
     "output_type": "execute_result",
     "data": {
      "text/plain": [
       "0"
      ]
     },
     "metadata": {},
     "execution_count": 10
    }
   ],
   "source": [
    "save_memory(train)\n",
    "gc.collect()"
   ]
  },
  {
   "cell_type": "code",
   "execution_count": 11,
   "metadata": {},
   "outputs": [
    {
     "output_type": "execute_result",
     "data": {
      "text/plain": [
       "timestamp             int32\n",
       "a_follower_count      int32\n",
       "a_following_count     int32\n",
       "a_is_verified          int8\n",
       "a_account_creation    int32\n",
       "b_follower_count      int32\n",
       "b_following_count     int32\n",
       "b_is_verified          int8\n",
       "b_account_creation    int32\n",
       "b_follows_a            int8\n",
       "reply                 int32\n",
       "retweet               int32\n",
       "retweet_comment       int32\n",
       "like                  int32\n",
       "id                    int32\n",
       "language               int8\n",
       "tweet_type             int8\n",
       "media                  int8\n",
       "tweet_id              int32\n",
       "a_user_id             int32\n",
       "b_user_id             int32\n",
       "len_hashtags          int32\n",
       "len_domains           int32\n",
       "len_links             int32\n",
       "domains               int32\n",
       "links                 int32\n",
       "hashtags              int32\n",
       "tr                    int32\n",
       "engage                int32\n",
       "dtype: object"
      ]
     },
     "metadata": {},
     "execution_count": 11
    }
   ],
   "source": [
    "train.dtypes"
   ]
  },
  {
   "cell_type": "code",
   "execution_count": null,
   "metadata": {},
   "outputs": [],
   "source": []
  },
  {
   "cell_type": "code",
   "execution_count": 12,
   "metadata": {},
   "outputs": [
    {
     "output_type": "execute_result",
     "data": {
      "text/plain": [
       "   tr  a_user_id  a_follower_count  a_following_count   timestamp       id\n",
       "0   0    7364305             27447                115  1580947200   326597\n",
       "1   0    3882491             13782                327  1580947200   634520\n",
       "2   0    8702908             67167               2864  1580947200  1257148\n",
       "3   0     672903           1923062                  0  1580947200  1161714\n",
       "4   0    1170946           2982406               2411  1580947200   802517"
      ],
      "text/html": "<div>\n<style scoped>\n    .dataframe tbody tr th:only-of-type {\n        vertical-align: middle;\n    }\n\n    .dataframe tbody tr th {\n        vertical-align: top;\n    }\n\n    .dataframe thead th {\n        text-align: right;\n    }\n</style>\n<table border=\"1\" class=\"dataframe\">\n  <thead>\n    <tr style=\"text-align: right;\">\n      <th></th>\n      <th>tr</th>\n      <th>a_user_id</th>\n      <th>a_follower_count</th>\n      <th>a_following_count</th>\n      <th>timestamp</th>\n      <th>id</th>\n    </tr>\n  </thead>\n  <tbody>\n    <tr>\n      <th>0</th>\n      <td>0</td>\n      <td>7364305</td>\n      <td>27447</td>\n      <td>115</td>\n      <td>1580947200</td>\n      <td>326597</td>\n    </tr>\n    <tr>\n      <th>1</th>\n      <td>0</td>\n      <td>3882491</td>\n      <td>13782</td>\n      <td>327</td>\n      <td>1580947200</td>\n      <td>634520</td>\n    </tr>\n    <tr>\n      <th>2</th>\n      <td>0</td>\n      <td>8702908</td>\n      <td>67167</td>\n      <td>2864</td>\n      <td>1580947200</td>\n      <td>1257148</td>\n    </tr>\n    <tr>\n      <th>3</th>\n      <td>0</td>\n      <td>672903</td>\n      <td>1923062</td>\n      <td>0</td>\n      <td>1580947200</td>\n      <td>1161714</td>\n    </tr>\n    <tr>\n      <th>4</th>\n      <td>0</td>\n      <td>1170946</td>\n      <td>2982406</td>\n      <td>2411</td>\n      <td>1580947200</td>\n      <td>802517</td>\n    </tr>\n  </tbody>\n</table>\n</div>"
     },
     "metadata": {},
     "execution_count": 12
    }
   ],
   "source": [
    "dt0 = train[['tr','a_user_id','a_follower_count','a_following_count','timestamp','id']].copy()\n",
    "dt1 = train[['tr','b_user_id','b_follower_count','b_following_count','timestamp','id']].copy()\n",
    "dt1.columns = ['tr','a_user_id','a_follower_count','a_following_count','timestamp','id']\n",
    "dt1['id'] = -1\n",
    "dt = pd.concat( (dt0,dt1), sort=False )\n",
    "del dt0,dt1; _=gc.collect()\n",
    "dt.head()"
   ]
  },
  {
   "cell_type": "code",
   "execution_count": 13,
   "metadata": {},
   "outputs": [
    {
     "output_type": "stream",
     "name": "stdout",
     "text": [
      "CPU times: user 1min 9s, sys: 9.24 s, total: 1min 18s\nWall time: 1min 18s\n"
     ]
    },
    {
     "output_type": "execute_result",
     "data": {
      "text/plain": [
       " 1    23475034\n",
       "-1    10280925\n",
       " 0     8331691\n",
       "Name: a_fc_dif_flag, dtype: int64"
      ]
     },
     "metadata": {},
     "execution_count": 13
    }
   ],
   "source": [
    "%%time\n",
    "dt['a_fc_max'] = dt.groupby(['tr','a_user_id','a_follower_count'])['timestamp'].transform('max'); _=gc.collect()\n",
    "dt['a_fc_min'] = dt.groupby(['tr','a_user_id','a_follower_count'])['timestamp'].transform('min'); _=gc.collect()\n",
    "\n",
    "dt['a_fc_dif'] = dt['a_fc_max'] - dt['a_fc_min']; _=gc.collect()\n",
    "\n",
    "dt['a_fc_dif_max'] = dt.groupby(['tr','a_user_id'])['a_fc_dif'].transform('max'); _=gc.collect()\n",
    "\n",
    "dt['a_fc_dif_flag'] = 1* ((dt['a_fc_dif'] == dt['a_fc_dif_max']) )  ; _=gc.collect()\n",
    "dt.loc[ dt.a_fc_dif==0 ,'a_fc_dif_flag'] = -1\n",
    "\n",
    "del dt['a_fc_max'],dt['a_fc_min'],dt['a_fc_dif'],dt['a_fc_dif_max'] ; _=gc.collect()\n",
    "dt['a_fc_dif_flag'].value_counts()"
   ]
  },
  {
   "cell_type": "code",
   "execution_count": 14,
   "metadata": {},
   "outputs": [
    {
     "output_type": "execute_result",
     "data": {
      "text/plain": [
       " 1    9556576\n",
       " 0    6823322\n",
       "-1    4663927\n",
       "Name: a_user_fer_count_delta_time, dtype: int64"
      ]
     },
     "metadata": {},
     "execution_count": 14
    }
   ],
   "source": [
    "train['a_user_fer_count_delta_time'] = train.merge( dt, on='id', how='left' )['a_fc_dif_flag'] ; _=gc.collect()\n",
    "\n",
    "del dt['a_fc_dif_flag'] ; _=gc.collect()\n",
    "\n",
    "train['a_user_fer_count_delta_time'].value_counts()"
   ]
  },
  {
   "cell_type": "code",
   "execution_count": 15,
   "metadata": {},
   "outputs": [
    {
     "output_type": "execute_result",
     "data": {
      "text/plain": [
       "                                   reply   retweet retweet_comment      like\n",
       "                                    mean      mean            mean      mean\n",
       "tr a_user_fer_count_delta_time                                              \n",
       "0  -1                           0.004260  0.017557        0.001196  0.067782\n",
       "    0                           0.001753  0.007218        0.000492  0.027965\n",
       "    1                           0.000587  0.002356        0.000168  0.009200"
      ],
      "text/html": "<div>\n<style scoped>\n    .dataframe tbody tr th:only-of-type {\n        vertical-align: middle;\n    }\n\n    .dataframe tbody tr th {\n        vertical-align: top;\n    }\n\n    .dataframe thead tr th {\n        text-align: left;\n    }\n\n    .dataframe thead tr:last-of-type th {\n        text-align: right;\n    }\n</style>\n<table border=\"1\" class=\"dataframe\">\n  <thead>\n    <tr>\n      <th></th>\n      <th></th>\n      <th>reply</th>\n      <th>retweet</th>\n      <th>retweet_comment</th>\n      <th>like</th>\n    </tr>\n    <tr>\n      <th></th>\n      <th></th>\n      <th>mean</th>\n      <th>mean</th>\n      <th>mean</th>\n      <th>mean</th>\n    </tr>\n    <tr>\n      <th>tr</th>\n      <th>a_user_fer_count_delta_time</th>\n      <th></th>\n      <th></th>\n      <th></th>\n      <th></th>\n    </tr>\n  </thead>\n  <tbody>\n    <tr>\n      <th rowspan=\"3\" valign=\"top\">0</th>\n      <th>-1</th>\n      <td>0.004260</td>\n      <td>0.017557</td>\n      <td>0.001196</td>\n      <td>0.067782</td>\n    </tr>\n    <tr>\n      <th>0</th>\n      <td>0.001753</td>\n      <td>0.007218</td>\n      <td>0.000492</td>\n      <td>0.027965</td>\n    </tr>\n    <tr>\n      <th>1</th>\n      <td>0.000587</td>\n      <td>0.002356</td>\n      <td>0.000168</td>\n      <td>0.009200</td>\n    </tr>\n  </tbody>\n</table>\n</div>"
     },
     "metadata": {},
     "execution_count": 15
    }
   ],
   "source": [
    "train.groupby(['tr','a_user_fer_count_delta_time'])[['reply','retweet','retweet_comment','like']].agg(['mean'])"
   ]
  },
  {
   "cell_type": "code",
   "execution_count": 16,
   "metadata": {},
   "outputs": [
    {
     "output_type": "stream",
     "name": "stdout",
     "text": [
      "CPU times: user 1min 9s, sys: 9.16 s, total: 1min 18s\nWall time: 1min 18s\n"
     ]
    },
    {
     "output_type": "execute_result",
     "data": {
      "text/plain": [
       " 1    25609828\n",
       "-1     9855889\n",
       " 0     6621933\n",
       "Name: a_fc_dif_flag, dtype: int64"
      ]
     },
     "metadata": {},
     "execution_count": 16
    }
   ],
   "source": [
    "%%time\n",
    "dt['a_fc_max'] = dt.groupby(['tr','a_user_id','a_following_count'])['timestamp'].transform('max'); _=gc.collect()\n",
    "dt['a_fc_min'] = dt.groupby(['tr','a_user_id','a_following_count'])['timestamp'].transform('min'); _=gc.collect()\n",
    "\n",
    "dt['a_fc_dif'] = dt['a_fc_max'] - dt['a_fc_min']; _=gc.collect()\n",
    "\n",
    "dt['a_fc_dif_max'] = dt.groupby(['tr','a_user_id'])['a_fc_dif'].transform('max'); _=gc.collect()\n",
    "\n",
    "dt['a_fc_dif_flag'] = 1* ((dt['a_fc_dif'] == dt['a_fc_dif_max']) )  ; _=gc.collect()\n",
    "dt.loc[ dt.a_fc_dif==0 ,'a_fc_dif_flag'] = -1\n",
    "\n",
    "del dt['a_fc_max'],dt['a_fc_min'],dt['a_fc_dif'],dt['a_fc_dif_max'] ; _=gc.collect()\n",
    "dt['a_fc_dif_flag'].value_counts()"
   ]
  },
  {
   "cell_type": "code",
   "execution_count": 17,
   "metadata": {},
   "outputs": [
    {
     "output_type": "execute_result",
     "data": {
      "text/plain": [
       " 1    12102651\n",
       " 0     5106834\n",
       "-1     3834340\n",
       "Name: a_user_fing_count_delta_time, dtype: int64"
      ]
     },
     "metadata": {},
     "execution_count": 17
    }
   ],
   "source": [
    "train['a_user_fing_count_delta_time'] = train.merge( dt, on='id', how='left' )['a_fc_dif_flag'] ; _=gc.collect()\n",
    "\n",
    "del dt['a_fc_dif_flag'] ; _=gc.collect()\n",
    "\n",
    "train['a_user_fing_count_delta_time'].value_counts()"
   ]
  },
  {
   "cell_type": "code",
   "execution_count": 18,
   "metadata": {},
   "outputs": [
    {
     "output_type": "execute_result",
     "data": {
      "text/plain": [
       "                                    reply   retweet retweet_comment      like\n",
       "                                     mean      mean            mean      mean\n",
       "tr a_user_fing_count_delta_time                                              \n",
       "0  -1                            0.004147  0.017024        0.001162  0.065931\n",
       "    0                            0.001411  0.005802        0.000398  0.022400\n",
       "    1                            0.001184  0.004854        0.000335  0.018811"
      ],
      "text/html": "<div>\n<style scoped>\n    .dataframe tbody tr th:only-of-type {\n        vertical-align: middle;\n    }\n\n    .dataframe tbody tr th {\n        vertical-align: top;\n    }\n\n    .dataframe thead tr th {\n        text-align: left;\n    }\n\n    .dataframe thead tr:last-of-type th {\n        text-align: right;\n    }\n</style>\n<table border=\"1\" class=\"dataframe\">\n  <thead>\n    <tr>\n      <th></th>\n      <th></th>\n      <th>reply</th>\n      <th>retweet</th>\n      <th>retweet_comment</th>\n      <th>like</th>\n    </tr>\n    <tr>\n      <th></th>\n      <th></th>\n      <th>mean</th>\n      <th>mean</th>\n      <th>mean</th>\n      <th>mean</th>\n    </tr>\n    <tr>\n      <th>tr</th>\n      <th>a_user_fing_count_delta_time</th>\n      <th></th>\n      <th></th>\n      <th></th>\n      <th></th>\n    </tr>\n  </thead>\n  <tbody>\n    <tr>\n      <th rowspan=\"3\" valign=\"top\">0</th>\n      <th>-1</th>\n      <td>0.004147</td>\n      <td>0.017024</td>\n      <td>0.001162</td>\n      <td>0.065931</td>\n    </tr>\n    <tr>\n      <th>0</th>\n      <td>0.001411</td>\n      <td>0.005802</td>\n      <td>0.000398</td>\n      <td>0.022400</td>\n    </tr>\n    <tr>\n      <th>1</th>\n      <td>0.001184</td>\n      <td>0.004854</td>\n      <td>0.000335</td>\n      <td>0.018811</td>\n    </tr>\n  </tbody>\n</table>\n</div>"
     },
     "metadata": {},
     "execution_count": 18
    }
   ],
   "source": [
    "train.groupby(['tr','a_user_fing_count_delta_time'])[['reply','retweet','retweet_comment','like']].agg(['mean'])"
   ]
  },
  {
   "cell_type": "code",
   "execution_count": 19,
   "metadata": {},
   "outputs": [
    {
     "output_type": "stream",
     "name": "stdout",
     "text": [
      "CPU times: user 1min 14s, sys: 10.4 s, total: 1min 25s\nWall time: 1min 25s\n"
     ]
    },
    {
     "output_type": "execute_result",
     "data": {
      "text/plain": [
       " 1    21280683\n",
       "-1    12491523\n",
       " 0     8315444\n",
       "Name: a_fc_dif_flag, dtype: int64"
      ]
     },
     "metadata": {},
     "execution_count": 19
    }
   ],
   "source": [
    "%%time\n",
    "dt['a_fc_max'] = dt.groupby(['tr','a_user_id','a_follower_count','a_following_count'])['timestamp'].transform('max'); _=gc.collect()\n",
    "dt['a_fc_min'] = dt.groupby(['tr','a_user_id','a_follower_count','a_following_count'])['timestamp'].transform('min'); _=gc.collect()\n",
    "\n",
    "dt['a_fc_dif'] = dt['a_fc_max'] - dt['a_fc_min']; _=gc.collect()\n",
    "\n",
    "dt['a_fc_dif_max'] = dt.groupby(['tr','a_user_id'])['a_fc_dif'].transform('max'); _=gc.collect()\n",
    "\n",
    "dt['a_fc_dif_flag'] = 1* ((dt['a_fc_dif'] == dt['a_fc_dif_max']) )  ; _=gc.collect()\n",
    "dt.loc[ dt.a_fc_dif==0 ,'a_fc_dif_flag'] = -1\n",
    "\n",
    "del dt['a_fc_max'],dt['a_fc_min'],dt['a_fc_dif'],dt['a_fc_dif_max'] ; _=gc.collect()\n",
    "dt['a_fc_dif_flag'].value_counts()"
   ]
  },
  {
   "cell_type": "code",
   "execution_count": 20,
   "metadata": {},
   "outputs": [
    {
     "output_type": "execute_result",
     "data": {
      "text/plain": [
       " 1    9329520\n",
       " 0    6751724\n",
       "-1    4962581\n",
       "Name: a_user_fering_count_delta_time, dtype: int64"
      ]
     },
     "metadata": {},
     "execution_count": 20
    }
   ],
   "source": [
    "train['a_user_fering_count_delta_time'] = train.merge( dt, on='id', how='left' )['a_fc_dif_flag'] ; _=gc.collect()\n",
    "\n",
    "del dt['a_fc_dif_flag'] ; _=gc.collect()\n",
    "\n",
    "train['a_user_fering_count_delta_time'].value_counts()"
   ]
  },
  {
   "cell_type": "code",
   "execution_count": 21,
   "metadata": {},
   "outputs": [
    {
     "output_type": "execute_result",
     "data": {
      "text/plain": [
       "                                      reply   retweet retweet_comment  \\\n",
       "                                       mean      mean            mean   \n",
       "tr a_user_fering_count_delta_time                                       \n",
       "0  -1                              0.004185  0.017206        0.001169   \n",
       "    0                              0.001763  0.007272        0.000499   \n",
       "    1                              0.000511  0.002054        0.000147   \n",
       "\n",
       "                                       like  \n",
       "                                       mean  \n",
       "tr a_user_fering_count_delta_time            \n",
       "0  -1                              0.066478  \n",
       "    0                              0.028157  \n",
       "    1                              0.008023  "
      ],
      "text/html": "<div>\n<style scoped>\n    .dataframe tbody tr th:only-of-type {\n        vertical-align: middle;\n    }\n\n    .dataframe tbody tr th {\n        vertical-align: top;\n    }\n\n    .dataframe thead tr th {\n        text-align: left;\n    }\n\n    .dataframe thead tr:last-of-type th {\n        text-align: right;\n    }\n</style>\n<table border=\"1\" class=\"dataframe\">\n  <thead>\n    <tr>\n      <th></th>\n      <th></th>\n      <th>reply</th>\n      <th>retweet</th>\n      <th>retweet_comment</th>\n      <th>like</th>\n    </tr>\n    <tr>\n      <th></th>\n      <th></th>\n      <th>mean</th>\n      <th>mean</th>\n      <th>mean</th>\n      <th>mean</th>\n    </tr>\n    <tr>\n      <th>tr</th>\n      <th>a_user_fering_count_delta_time</th>\n      <th></th>\n      <th></th>\n      <th></th>\n      <th></th>\n    </tr>\n  </thead>\n  <tbody>\n    <tr>\n      <th rowspan=\"3\" valign=\"top\">0</th>\n      <th>-1</th>\n      <td>0.004185</td>\n      <td>0.017206</td>\n      <td>0.001169</td>\n      <td>0.066478</td>\n    </tr>\n    <tr>\n      <th>0</th>\n      <td>0.001763</td>\n      <td>0.007272</td>\n      <td>0.000499</td>\n      <td>0.028157</td>\n    </tr>\n    <tr>\n      <th>1</th>\n      <td>0.000511</td>\n      <td>0.002054</td>\n      <td>0.000147</td>\n      <td>0.008023</td>\n    </tr>\n  </tbody>\n</table>\n</div>"
     },
     "metadata": {},
     "execution_count": 21
    }
   ],
   "source": [
    "train.groupby(['tr','a_user_fering_count_delta_time'])[['reply','retweet','retweet_comment','like']].agg(['mean'])"
   ]
  },
  {
   "cell_type": "code",
   "execution_count": 22,
   "metadata": {},
   "outputs": [
    {
     "output_type": "stream",
     "name": "stdout",
     "text": [
      "CPU times: user 42.8 s, sys: 5.35 s, total: 48.1 s\nWall time: 48.1 s\n"
     ]
    },
    {
     "output_type": "execute_result",
     "data": {
      "text/plain": [
       " 1    28278130\n",
       "-1     9534282\n",
       " 0     4275238\n",
       "Name: a_fc_count_flag, dtype: int64"
      ]
     },
     "metadata": {},
     "execution_count": 22
    }
   ],
   "source": [
    "%%time\n",
    "dt['a_fc_count'] = dt.groupby(['tr','a_user_id','a_following_count'])['id'].transform('count'); _=gc.collect()\n",
    "dt['a_fc_max']   = dt.groupby(['tr','a_user_id'])['a_fc_count'].transform('max'); _=gc.collect()\n",
    "dt['a_fc_count_flag'] = 1* ((dt['a_fc_count'] == dt['a_fc_max']))  ; _=gc.collect()\n",
    "dt.loc[ dt.a_fc_count<=1,'a_fc_count_flag'] = -1\n",
    "\n",
    "del dt['a_fc_count'], dt['a_fc_max']\n",
    "dt['a_fc_count_flag'].value_counts()"
   ]
  },
  {
   "cell_type": "code",
   "execution_count": 23,
   "metadata": {},
   "outputs": [
    {
     "output_type": "execute_result",
     "data": {
      "text/plain": [
       " 1    14215985\n",
       "-1     3468577\n",
       " 0     3359263\n",
       "Name: a_user_fing_count_mode, dtype: int64"
      ]
     },
     "metadata": {},
     "execution_count": 23
    }
   ],
   "source": [
    "train['a_user_fing_count_mode'] = train.merge( dt, on='id', how='left' )['a_fc_count_flag'] ; _=gc.collect()\n",
    "del dt['a_fc_count_flag'] ; _=gc.collect()\n",
    "train['a_user_fing_count_mode'].value_counts()"
   ]
  },
  {
   "cell_type": "code",
   "execution_count": 24,
   "metadata": {},
   "outputs": [
    {
     "output_type": "execute_result",
     "data": {
      "text/plain": [
       "                              reply   retweet retweet_comment      like\n",
       "                               mean      mean            mean      mean\n",
       "tr a_user_fing_count_mode                                              \n",
       "0  -1                      0.004346  0.017915        0.001221  0.069329\n",
       "    0                      0.003245  0.013332        0.000906  0.051663\n",
       "    1                      0.000806  0.003287        0.000229  0.012721"
      ],
      "text/html": "<div>\n<style scoped>\n    .dataframe tbody tr th:only-of-type {\n        vertical-align: middle;\n    }\n\n    .dataframe tbody tr th {\n        vertical-align: top;\n    }\n\n    .dataframe thead tr th {\n        text-align: left;\n    }\n\n    .dataframe thead tr:last-of-type th {\n        text-align: right;\n    }\n</style>\n<table border=\"1\" class=\"dataframe\">\n  <thead>\n    <tr>\n      <th></th>\n      <th></th>\n      <th>reply</th>\n      <th>retweet</th>\n      <th>retweet_comment</th>\n      <th>like</th>\n    </tr>\n    <tr>\n      <th></th>\n      <th></th>\n      <th>mean</th>\n      <th>mean</th>\n      <th>mean</th>\n      <th>mean</th>\n    </tr>\n    <tr>\n      <th>tr</th>\n      <th>a_user_fing_count_mode</th>\n      <th></th>\n      <th></th>\n      <th></th>\n      <th></th>\n    </tr>\n  </thead>\n  <tbody>\n    <tr>\n      <th rowspan=\"3\" valign=\"top\">0</th>\n      <th>-1</th>\n      <td>0.004346</td>\n      <td>0.017915</td>\n      <td>0.001221</td>\n      <td>0.069329</td>\n    </tr>\n    <tr>\n      <th>0</th>\n      <td>0.003245</td>\n      <td>0.013332</td>\n      <td>0.000906</td>\n      <td>0.051663</td>\n    </tr>\n    <tr>\n      <th>1</th>\n      <td>0.000806</td>\n      <td>0.003287</td>\n      <td>0.000229</td>\n      <td>0.012721</td>\n    </tr>\n  </tbody>\n</table>\n</div>"
     },
     "metadata": {},
     "execution_count": 24
    }
   ],
   "source": [
    "train.groupby(['tr','a_user_fing_count_mode'])[['reply','retweet','retweet_comment','like']].agg(['mean'])"
   ]
  },
  {
   "cell_type": "code",
   "execution_count": 25,
   "metadata": {},
   "outputs": [
    {
     "output_type": "stream",
     "name": "stdout",
     "text": [
      "CPU times: user 40.1 s, sys: 5.29 s, total: 45.4 s\nWall time: 45.4 s\n"
     ]
    },
    {
     "output_type": "execute_result",
     "data": {
      "text/plain": [
       " 1    25440240\n",
       "-1     9736316\n",
       " 0     6911094\n",
       "Name: a_fc_count_flag, dtype: int64"
      ]
     },
     "metadata": {},
     "execution_count": 25
    }
   ],
   "source": [
    "%%time\n",
    "dt['a_fc_count'] = dt.groupby(['tr','a_user_id','a_follower_count'])['id'].transform('count'); _=gc.collect()\n",
    "dt['a_fc_max']   = dt.groupby(['tr','a_user_id'])['a_fc_count'].transform('max'); _=gc.collect()\n",
    "dt['a_fc_count_flag'] = 1* ((dt['a_fc_count'] == dt['a_fc_max']))  ; _=gc.collect()\n",
    "dt.loc[ dt.a_fc_count<=1,'a_fc_count_flag'] = -1\n",
    "\n",
    "del dt['a_fc_count'], dt['a_fc_max']\n",
    "dt['a_fc_count_flag'].value_counts()"
   ]
  },
  {
   "cell_type": "code",
   "execution_count": 26,
   "metadata": {},
   "outputs": [
    {
     "output_type": "execute_result",
     "data": {
      "text/plain": [
       " 1    11053740\n",
       " 0     5951835\n",
       "-1     4038250\n",
       "Name: a_user_fer_count_mode, dtype: int64"
      ]
     },
     "metadata": {},
     "execution_count": 26
    }
   ],
   "source": [
    "train['a_user_fer_count_mode'] = train.merge( dt, on='id', how='left' )['a_fc_count_flag'] ; _=gc.collect()\n",
    "del dt['a_fc_count_flag'] ; _=gc.collect()\n",
    "train['a_user_fer_count_mode'].value_counts()"
   ]
  },
  {
   "cell_type": "code",
   "execution_count": 27,
   "metadata": {},
   "outputs": [
    {
     "output_type": "execute_result",
     "data": {
      "text/plain": [
       "                             reply   retweet retweet_comment      like\n",
       "                              mean      mean            mean      mean\n",
       "tr a_user_fer_count_mode                                              \n",
       "0  -1                     0.004588  0.018932        0.001285  0.073095\n",
       "    0                     0.002460  0.010081        0.000689  0.039083\n",
       "    1                     0.000386  0.001556        0.000113  0.006068"
      ],
      "text/html": "<div>\n<style scoped>\n    .dataframe tbody tr th:only-of-type {\n        vertical-align: middle;\n    }\n\n    .dataframe tbody tr th {\n        vertical-align: top;\n    }\n\n    .dataframe thead tr th {\n        text-align: left;\n    }\n\n    .dataframe thead tr:last-of-type th {\n        text-align: right;\n    }\n</style>\n<table border=\"1\" class=\"dataframe\">\n  <thead>\n    <tr>\n      <th></th>\n      <th></th>\n      <th>reply</th>\n      <th>retweet</th>\n      <th>retweet_comment</th>\n      <th>like</th>\n    </tr>\n    <tr>\n      <th></th>\n      <th></th>\n      <th>mean</th>\n      <th>mean</th>\n      <th>mean</th>\n      <th>mean</th>\n    </tr>\n    <tr>\n      <th>tr</th>\n      <th>a_user_fer_count_mode</th>\n      <th></th>\n      <th></th>\n      <th></th>\n      <th></th>\n    </tr>\n  </thead>\n  <tbody>\n    <tr>\n      <th rowspan=\"3\" valign=\"top\">0</th>\n      <th>-1</th>\n      <td>0.004588</td>\n      <td>0.018932</td>\n      <td>0.001285</td>\n      <td>0.073095</td>\n    </tr>\n    <tr>\n      <th>0</th>\n      <td>0.002460</td>\n      <td>0.010081</td>\n      <td>0.000689</td>\n      <td>0.039083</td>\n    </tr>\n    <tr>\n      <th>1</th>\n      <td>0.000386</td>\n      <td>0.001556</td>\n      <td>0.000113</td>\n      <td>0.006068</td>\n    </tr>\n  </tbody>\n</table>\n</div>"
     },
     "metadata": {},
     "execution_count": 27
    }
   ],
   "source": [
    "train.groupby(['tr','a_user_fer_count_mode'])[['reply','retweet','retweet_comment','like']].agg(['mean'])"
   ]
  },
  {
   "cell_type": "code",
   "execution_count": 28,
   "metadata": {},
   "outputs": [
    {
     "output_type": "stream",
     "name": "stdout",
     "text": [
      "CPU times: user 42.3 s, sys: 5.61 s, total: 47.9 s\nWall time: 47.9 s\n"
     ]
    },
    {
     "output_type": "execute_result",
     "data": {
      "text/plain": [
       " 1    23294352\n",
       "-1    11907899\n",
       " 0     6885399\n",
       "Name: a_fc_count_flag, dtype: int64"
      ]
     },
     "metadata": {},
     "execution_count": 28
    }
   ],
   "source": [
    "%%time\n",
    "dt['a_fc_count'] = dt.groupby(['tr','a_user_id','a_follower_count','a_following_count'])['id'].transform('count'); _=gc.collect()\n",
    "dt['a_fc_max']   = dt.groupby(['tr','a_user_id'])['a_fc_count'].transform('max'); _=gc.collect()\n",
    "dt['a_fc_count_flag'] = 1* ((dt['a_fc_count'] == dt['a_fc_max']))  ; _=gc.collect()\n",
    "dt.loc[ dt.a_fc_count<=1,'a_fc_count_flag'] = -1\n",
    "\n",
    "del dt['a_fc_count'], dt['a_fc_max']\n",
    "dt['a_fc_count_flag'].value_counts()"
   ]
  },
  {
   "cell_type": "code",
   "execution_count": 29,
   "metadata": {},
   "outputs": [
    {
     "output_type": "execute_result",
     "data": {
      "text/plain": [
       " 1    10789284\n",
       " 0     5931169\n",
       "-1     4323372\n",
       "Name: a_user_fering_count_mode, dtype: int64"
      ]
     },
     "metadata": {},
     "execution_count": 29
    }
   ],
   "source": [
    "train['a_user_fering_count_mode'] = train.merge( dt, on='id', how='left' )['a_fc_count_flag'] ; _=gc.collect()\n",
    "del dt['a_fc_count_flag'] ; _=gc.collect()\n",
    "train['a_user_fering_count_mode'].value_counts()"
   ]
  },
  {
   "cell_type": "code",
   "execution_count": 30,
   "metadata": {},
   "outputs": [
    {
     "output_type": "execute_result",
     "data": {
      "text/plain": [
       "                                reply   retweet retweet_comment      like\n",
       "                                 mean      mean            mean      mean\n",
       "tr a_user_fering_count_mode                                              \n",
       "0  -1                        0.004487  0.018475        0.001249  0.071388\n",
       "    0                        0.002430  0.009974        0.000685  0.038636\n",
       "    1                        0.000336  0.001355        0.000099  0.005290"
      ],
      "text/html": "<div>\n<style scoped>\n    .dataframe tbody tr th:only-of-type {\n        vertical-align: middle;\n    }\n\n    .dataframe tbody tr th {\n        vertical-align: top;\n    }\n\n    .dataframe thead tr th {\n        text-align: left;\n    }\n\n    .dataframe thead tr:last-of-type th {\n        text-align: right;\n    }\n</style>\n<table border=\"1\" class=\"dataframe\">\n  <thead>\n    <tr>\n      <th></th>\n      <th></th>\n      <th>reply</th>\n      <th>retweet</th>\n      <th>retweet_comment</th>\n      <th>like</th>\n    </tr>\n    <tr>\n      <th></th>\n      <th></th>\n      <th>mean</th>\n      <th>mean</th>\n      <th>mean</th>\n      <th>mean</th>\n    </tr>\n    <tr>\n      <th>tr</th>\n      <th>a_user_fering_count_mode</th>\n      <th></th>\n      <th></th>\n      <th></th>\n      <th></th>\n    </tr>\n  </thead>\n  <tbody>\n    <tr>\n      <th rowspan=\"3\" valign=\"top\">0</th>\n      <th>-1</th>\n      <td>0.004487</td>\n      <td>0.018475</td>\n      <td>0.001249</td>\n      <td>0.071388</td>\n    </tr>\n    <tr>\n      <th>0</th>\n      <td>0.002430</td>\n      <td>0.009974</td>\n      <td>0.000685</td>\n      <td>0.038636</td>\n    </tr>\n    <tr>\n      <th>1</th>\n      <td>0.000336</td>\n      <td>0.001355</td>\n      <td>0.000099</td>\n      <td>0.005290</td>\n    </tr>\n  </tbody>\n</table>\n</div>"
     },
     "metadata": {},
     "execution_count": 30
    }
   ],
   "source": [
    "train.groupby(['tr','a_user_fering_count_mode'])[['reply','retweet','retweet_comment','like']].agg(['mean'])"
   ]
  },
  {
   "cell_type": "code",
   "execution_count": 31,
   "metadata": {},
   "outputs": [],
   "source": [
    "del dt; _=gc.collect()"
   ]
  },
  {
   "cell_type": "code",
   "execution_count": 32,
   "metadata": {},
   "outputs": [
    {
     "output_type": "execute_result",
     "data": {
      "text/plain": [
       "10     7555000\n",
       "1      3234213\n",
       "0      2235152\n",
       "2      2198100\n",
       "30     1303397\n",
       "18      641070\n",
       "3       604861\n",
       "28      591446\n",
       "5       463323\n",
       "20      436671\n",
       "27      278323\n",
       "24      184788\n",
       "17      133396\n",
       "4       123534\n",
       "7       110406\n",
       "8        81533\n",
       "47       76629\n",
       "39       73295\n",
       "21       66184\n",
       "12       62598\n",
       "43       52251\n",
       "6        50718\n",
       "33       42632\n",
       "31       37211\n",
       "13       31357\n",
       "23       30550\n",
       "11       26659\n",
       "9        25455\n",
       "53       22891\n",
       "25       17986\n",
       "38       16725\n",
       "60       15646\n",
       "42       13384\n",
       "69       12572\n",
       "16       11689\n",
       "56       10577\n",
       "40       10294\n",
       "15       10207\n",
       "63       10148\n",
       "19        7342\n",
       "35        7115\n",
       "62        6939\n",
       "71        6204\n",
       "54        5737\n",
       "46        5707\n",
       "48        5686\n",
       "59        5598\n",
       "32        5168\n",
       "55        5017\n",
       "34        4676\n",
       "80        4320\n",
       "51        3909\n",
       "70        3520\n",
       "84        3034\n",
       "109       2800\n",
       "78        2674\n",
       "37        2632\n",
       "76        2553\n",
       "75        2470\n",
       "50        2458\n",
       "26        2355\n",
       "114       2198\n",
       "22        2195\n",
       "65        2176\n",
       "61        1979\n",
       "64        1880\n",
       "36        1596\n",
       "74        1593\n",
       "85        1454\n",
       "57        1371\n",
       "117       1370\n",
       "58        1240\n",
       "41        1215\n",
       "103       1196\n",
       "90        1062\n",
       "116        992\n",
       "29         933\n",
       "91         926\n",
       "52         884\n",
       "108        857\n",
       "14         847\n",
       "99         839\n",
       "110        806\n",
       "120        685\n",
       "49         672\n",
       "86         648\n",
       "100        592\n",
       "97         589\n",
       "130        575\n",
       "44         543\n",
       "89         510\n",
       "93         481\n",
       "118        475\n",
       "95         473\n",
       "122        465\n",
       "77         457\n",
       "121        411\n",
       "68         388\n",
       "45         372\n",
       "81         360\n",
       "115        322\n",
       "66         321\n",
       "111        300\n",
       "87         243\n",
       "113        239\n",
       "131        234\n",
       "104        216\n",
       "101        192\n",
       "67         160\n",
       "112        149\n",
       "88         148\n",
       "79         145\n",
       "106        135\n",
       "133        128\n",
       "135        122\n",
       "96         118\n",
       "134        112\n",
       "94         109\n",
       "124        103\n",
       "125        102\n",
       "83         101\n",
       "126         99\n",
       "145         97\n",
       "98          86\n",
       "138         79\n",
       "129         71\n",
       "141         51\n",
       "105         51\n",
       "127         48\n",
       "137         47\n",
       "123         46\n",
       "73          43\n",
       "132         40\n",
       "140         38\n",
       "102         38\n",
       "136         35\n",
       "144         22\n",
       "72          21\n",
       "128         20\n",
       "82          18\n",
       "146         15\n",
       "154         13\n",
       "149          9\n",
       "139          8\n",
       "107          6\n",
       "148          6\n",
       "147          5\n",
       "143          2\n",
       "142          2\n",
       "159          2\n",
       "150          2\n",
       "151          2\n",
       "153          2\n",
       "92           2\n",
       "156          2\n",
       "157          2\n",
       "158          2\n",
       "119          1\n",
       "152          1\n",
       "155          1\n",
       "160          1\n",
       "Name: a_count_combined, dtype: int64"
      ]
     },
     "metadata": {},
     "execution_count": 32
    }
   ],
   "source": [
    "train['a_count_combined'] = pd.factorize(\n",
    "    (1+train['a_user_fer_count_delta_time'])*3**0 +\n",
    "    (1+train['a_user_fing_count_delta_time'])*3**1 +\n",
    "    (1+train['a_user_fering_count_delta_time'])*3**2 +\n",
    "    (1+train['a_user_fing_count_mode'])*3**3 +\n",
    "    (1+train['a_user_fer_count_mode'])*3**4 +\n",
    "    (1+train['a_user_fering_count_mode'])*3**5 \n",
    ")[0]\n",
    "train['a_count_combined'].value_counts()"
   ]
  },
  {
   "cell_type": "code",
   "execution_count": 33,
   "metadata": {},
   "outputs": [
    {
     "output_type": "execute_result",
     "data": {
      "text/plain": [
       "                     reply   retweet retweet_comment      like\n",
       "                      mean      mean            mean      mean\n",
       "a_count_combined                                              \n",
       "0                 0.002506  0.010255        0.000721  0.039620\n",
       "1                 0.004430  0.018314        0.001253  0.070833\n",
       "2                 0.001855  0.007607        0.000510  0.029368\n",
       "3                 0.004214  0.017263        0.001179  0.066551\n",
       "4                 0.006306  0.024511        0.001805  0.095852\n",
       "5                 0.004084  0.017355        0.001168  0.068447\n",
       "6                 0.013881  0.055720        0.003667  0.211444\n",
       "7                 0.007853  0.032806        0.001993  0.126325\n",
       "8                 0.011578  0.045859        0.003042  0.176849\n",
       "9                 0.008093  0.032724        0.002043  0.131212\n",
       "10                0.000361  0.001472        0.000107  0.005753\n",
       "11                0.003151  0.012266        0.000488  0.048051\n",
       "12                0.003866  0.015655        0.000879  0.061152\n",
       "13                0.003157  0.014447        0.001084  0.055458\n",
       "14                0.018890  0.051948        0.005903  0.216057\n",
       "15                0.004801  0.021064        0.001861  0.074165\n",
       "16                0.010608  0.039011        0.002481  0.160065\n",
       "17                0.002062  0.008853        0.000675  0.032677\n",
       "18                0.000117  0.000473        0.000041  0.001774\n",
       "19                0.000545  0.002860        0.000272  0.011169\n",
       "20                0.000172  0.000721        0.000030  0.002897\n",
       "21                0.000196  0.000665        0.000076  0.003188\n",
       "22                0.002278  0.014579        0.001822  0.052847\n",
       "23                0.002226  0.009755        0.000491  0.034304\n",
       "24                0.002852  0.011202        0.000758  0.043320\n",
       "25                0.003447  0.015456        0.000834  0.059157\n",
       "26                0.003822  0.026327        0.000849  0.090870\n",
       "27                0.001940  0.007110        0.000535  0.028276\n",
       "28                0.000076  0.000320        0.000014  0.001146\n",
       "29                0.012862  0.048232        0.003215  0.206860\n",
       "30                0.000018  0.000081        0.000007  0.000294\n",
       "31                0.000672  0.003547        0.000215  0.012093\n",
       "32                0.004450  0.012577        0.000967  0.052632\n",
       "33                0.000446  0.001595        0.000117  0.007107\n",
       "34                0.000214  0.001497        0.000000  0.004277\n",
       "35                0.000703  0.003795        0.000000  0.015601\n",
       "36                0.001253  0.008145        0.000000  0.029449\n",
       "37                0.003419  0.020897        0.001140  0.077128\n",
       "38                0.002152  0.009148        0.000658  0.037250\n",
       "39                0.000068  0.000450        0.000027  0.001405\n",
       "40                0.000583  0.001263        0.000097  0.006800\n",
       "41                0.003292  0.021399        0.001646  0.074074\n",
       "42                0.000299  0.002466        0.000149  0.008443\n",
       "43                0.000459  0.001435        0.000038  0.005588\n",
       "44                0.003683  0.011050        0.003683  0.049724\n",
       "45                0.002688  0.002688        0.000000  0.010753\n",
       "46                0.000876  0.005081        0.000175  0.020326\n",
       "47                0.001240  0.005651        0.000496  0.021219\n",
       "48                0.002286  0.004749        0.000352  0.021984\n",
       "49                0.000000  0.004464        0.000000  0.010417\n",
       "50                0.000814  0.006916        0.001221  0.025631\n",
       "51                0.002814  0.014326        0.000767  0.050908\n",
       "52                0.002262  0.002262        0.000000  0.020362\n",
       "53                0.000306  0.001616        0.000131  0.005635\n",
       "54                0.000872  0.005229        0.000349  0.025797\n",
       "55                0.002791  0.010365        0.000199  0.040064\n",
       "56                0.000378  0.002931        0.000284  0.007847\n",
       "57                0.008753  0.015317        0.001459  0.101386\n",
       "58                0.000806  0.008065        0.000806  0.030645\n",
       "59                0.000179  0.001429        0.000179  0.006431\n",
       "60                0.000000  0.000128        0.000000  0.001150\n",
       "61                0.003032  0.007074        0.001516  0.026781\n",
       "62                0.000576  0.001585        0.000000  0.006341\n",
       "63                0.000985  0.005321        0.000099  0.021876\n",
       "64                0.000000  0.005319        0.000532  0.014362\n",
       "65                0.000919  0.003676        0.000460  0.018842\n",
       "66                0.003115  0.000000        0.000000  0.012461\n",
       "67                0.037500  0.087500        0.000000  0.193750\n",
       "68                0.002577  0.002577        0.000000  0.020619\n",
       "69                0.000080  0.000557        0.000000  0.002704\n",
       "70                0.002273  0.006534        0.000284  0.025284\n",
       "71                0.000161  0.000967        0.000161  0.003063\n",
       "72                0.000000  0.142857        0.000000  0.142857\n",
       "73                0.000000  0.023256        0.000000  0.093023\n",
       "74                0.000000  0.000628        0.000000  0.006905\n",
       "75                0.000000  0.002429        0.000000  0.005263\n",
       "76                0.000000  0.004309        0.000392  0.012143\n",
       "77                0.002188  0.010941        0.002188  0.072210\n",
       "78                0.001122  0.004114        0.000374  0.010845\n",
       "79                0.000000  0.020690        0.006897  0.006897\n",
       "80                0.000231  0.000231        0.000000  0.005093\n",
       "81                0.000000  0.005556        0.000000  0.013889\n",
       "82                0.000000  0.000000        0.000000  0.111111\n",
       "83                0.000000  0.009901        0.009901  0.000000\n",
       "84                0.001648  0.005933        0.000330  0.017469\n",
       "85                0.004814  0.012380        0.001376  0.029574\n",
       "86                0.000000  0.000000        0.000000  0.004630\n",
       "87                0.008230  0.000000        0.000000  0.012346\n",
       "88                0.000000  0.013514        0.000000  0.006757\n",
       "89                0.001961  0.007843        0.000000  0.023529\n",
       "90                0.000000  0.001883        0.000000  0.002825\n",
       "91                0.001080  0.003240        0.000000  0.014039\n",
       "92                0.000000  0.000000        0.000000  0.000000\n",
       "93                0.004158  0.014553        0.002079  0.033264\n",
       "94                0.000000  0.009174        0.000000  0.027523\n",
       "95                0.002114  0.006342        0.000000  0.033827\n",
       "96                0.000000  0.000000        0.000000  0.008475\n",
       "97                0.000000  0.000000        0.000000  0.003396\n",
       "98                0.000000  0.000000        0.000000  0.023256\n",
       "99                0.001192  0.001192        0.000000  0.011919\n",
       "100               0.001689  0.003378        0.000000  0.020270\n",
       "101               0.000000  0.000000        0.000000  0.000000\n",
       "102               0.000000  0.000000        0.000000  0.000000\n",
       "103               0.000000  0.000000        0.000000  0.001672\n",
       "104               0.000000  0.000000        0.000000  0.009259\n",
       "105               0.000000  0.000000        0.000000  0.039216\n",
       "106               0.000000  0.007407        0.000000  0.000000\n",
       "107               0.000000  0.000000        0.000000  0.000000\n",
       "108               0.000000  0.000000        0.000000  0.001167\n",
       "109               0.000357  0.000714        0.000000  0.006071\n",
       "110               0.001241  0.000000        0.000000  0.013648\n",
       "111               0.000000  0.003333        0.000000  0.013333\n",
       "112               0.000000  0.006711        0.000000  0.033557\n",
       "113               0.000000  0.000000        0.000000  0.020921\n",
       "114               0.000000  0.000910        0.000455  0.002275\n",
       "115               0.012422  0.003106        0.000000  0.031056\n",
       "116               0.000000  0.000000        0.000000  0.002016\n",
       "117               0.000730  0.000730        0.000000  0.002190\n",
       "118               0.002105  0.006316        0.002105  0.008421\n",
       "119               0.000000  0.000000        0.000000  1.000000\n",
       "120               0.000000  0.000000        0.000000  0.000000\n",
       "121               0.002433  0.004866        0.000000  0.019465\n",
       "122               0.000000  0.000000        0.000000  0.000000\n",
       "123               0.000000  0.000000        0.000000  0.000000\n",
       "124               0.000000  0.000000        0.000000  0.000000\n",
       "125               0.000000  0.000000        0.000000  0.000000\n",
       "126               0.000000  0.000000        0.000000  0.000000\n",
       "127               0.000000  0.000000        0.000000  0.000000\n",
       "128               0.000000  0.000000        0.000000  0.000000\n",
       "129               0.000000  0.000000        0.000000  0.000000\n",
       "130               0.000000  0.000000        0.000000  0.000000\n",
       "131               0.000000  0.000000        0.000000  0.000000\n",
       "132               0.000000  0.000000        0.000000  0.000000\n",
       "133               0.000000  0.000000        0.000000  0.000000\n",
       "134               0.000000  0.000000        0.000000  0.000000\n",
       "135               0.000000  0.000000        0.000000  0.000000\n",
       "136               0.000000  0.000000        0.000000  0.000000\n",
       "137               0.000000  0.000000        0.000000  0.000000\n",
       "138               0.000000  0.000000        0.000000  0.000000\n",
       "139               0.000000  0.000000        0.000000  0.000000\n",
       "140               0.000000  0.000000        0.000000  0.000000\n",
       "141               0.000000  0.000000        0.000000  0.000000\n",
       "142               0.000000  0.000000        0.000000  0.000000\n",
       "143               0.000000  0.000000        0.000000  0.000000\n",
       "144               0.000000  0.000000        0.000000  0.000000\n",
       "145               0.000000  0.000000        0.000000  0.000000\n",
       "146               0.000000  0.000000        0.000000  0.000000\n",
       "147               0.000000  0.000000        0.000000  0.000000\n",
       "148               0.000000  0.000000        0.000000  0.000000\n",
       "149               0.000000  0.000000        0.000000  0.000000\n",
       "150               0.000000  0.000000        0.000000  0.000000\n",
       "151               0.000000  0.000000        0.000000  0.000000\n",
       "152               0.000000  0.000000        0.000000  0.000000\n",
       "153               0.000000  0.000000        0.000000  0.000000\n",
       "154               0.000000  0.000000        0.000000  0.000000\n",
       "155               0.000000  0.000000        0.000000  0.000000\n",
       "156               0.000000  0.000000        0.000000  0.000000\n",
       "157               0.000000  0.000000        0.000000  0.000000\n",
       "158               0.000000  0.000000        0.000000  0.000000\n",
       "159               0.000000  0.000000        0.000000  0.000000\n",
       "160               0.000000  0.000000        0.000000  0.000000"
      ],
      "text/html": "<div>\n<style scoped>\n    .dataframe tbody tr th:only-of-type {\n        vertical-align: middle;\n    }\n\n    .dataframe tbody tr th {\n        vertical-align: top;\n    }\n\n    .dataframe thead tr th {\n        text-align: left;\n    }\n\n    .dataframe thead tr:last-of-type th {\n        text-align: right;\n    }\n</style>\n<table border=\"1\" class=\"dataframe\">\n  <thead>\n    <tr>\n      <th></th>\n      <th>reply</th>\n      <th>retweet</th>\n      <th>retweet_comment</th>\n      <th>like</th>\n    </tr>\n    <tr>\n      <th></th>\n      <th>mean</th>\n      <th>mean</th>\n      <th>mean</th>\n      <th>mean</th>\n    </tr>\n    <tr>\n      <th>a_count_combined</th>\n      <th></th>\n      <th></th>\n      <th></th>\n      <th></th>\n    </tr>\n  </thead>\n  <tbody>\n    <tr>\n      <th>0</th>\n      <td>0.002506</td>\n      <td>0.010255</td>\n      <td>0.000721</td>\n      <td>0.039620</td>\n    </tr>\n    <tr>\n      <th>1</th>\n      <td>0.004430</td>\n      <td>0.018314</td>\n      <td>0.001253</td>\n      <td>0.070833</td>\n    </tr>\n    <tr>\n      <th>2</th>\n      <td>0.001855</td>\n      <td>0.007607</td>\n      <td>0.000510</td>\n      <td>0.029368</td>\n    </tr>\n    <tr>\n      <th>3</th>\n      <td>0.004214</td>\n      <td>0.017263</td>\n      <td>0.001179</td>\n      <td>0.066551</td>\n    </tr>\n    <tr>\n      <th>4</th>\n      <td>0.006306</td>\n      <td>0.024511</td>\n      <td>0.001805</td>\n      <td>0.095852</td>\n    </tr>\n    <tr>\n      <th>5</th>\n      <td>0.004084</td>\n      <td>0.017355</td>\n      <td>0.001168</td>\n      <td>0.068447</td>\n    </tr>\n    <tr>\n      <th>6</th>\n      <td>0.013881</td>\n      <td>0.055720</td>\n      <td>0.003667</td>\n      <td>0.211444</td>\n    </tr>\n    <tr>\n      <th>7</th>\n      <td>0.007853</td>\n      <td>0.032806</td>\n      <td>0.001993</td>\n      <td>0.126325</td>\n    </tr>\n    <tr>\n      <th>8</th>\n      <td>0.011578</td>\n      <td>0.045859</td>\n      <td>0.003042</td>\n      <td>0.176849</td>\n    </tr>\n    <tr>\n      <th>9</th>\n      <td>0.008093</td>\n      <td>0.032724</td>\n      <td>0.002043</td>\n      <td>0.131212</td>\n    </tr>\n    <tr>\n      <th>10</th>\n      <td>0.000361</td>\n      <td>0.001472</td>\n      <td>0.000107</td>\n      <td>0.005753</td>\n    </tr>\n    <tr>\n      <th>11</th>\n      <td>0.003151</td>\n      <td>0.012266</td>\n      <td>0.000488</td>\n      <td>0.048051</td>\n    </tr>\n    <tr>\n      <th>12</th>\n      <td>0.003866</td>\n      <td>0.015655</td>\n      <td>0.000879</td>\n      <td>0.061152</td>\n    </tr>\n    <tr>\n      <th>13</th>\n      <td>0.003157</td>\n      <td>0.014447</td>\n      <td>0.001084</td>\n      <td>0.055458</td>\n    </tr>\n    <tr>\n      <th>14</th>\n      <td>0.018890</td>\n      <td>0.051948</td>\n      <td>0.005903</td>\n      <td>0.216057</td>\n    </tr>\n    <tr>\n      <th>15</th>\n      <td>0.004801</td>\n      <td>0.021064</td>\n      <td>0.001861</td>\n      <td>0.074165</td>\n    </tr>\n    <tr>\n      <th>16</th>\n      <td>0.010608</td>\n      <td>0.039011</td>\n      <td>0.002481</td>\n      <td>0.160065</td>\n    </tr>\n    <tr>\n      <th>17</th>\n      <td>0.002062</td>\n      <td>0.008853</td>\n      <td>0.000675</td>\n      <td>0.032677</td>\n    </tr>\n    <tr>\n      <th>18</th>\n      <td>0.000117</td>\n      <td>0.000473</td>\n      <td>0.000041</td>\n      <td>0.001774</td>\n    </tr>\n    <tr>\n      <th>19</th>\n      <td>0.000545</td>\n      <td>0.002860</td>\n      <td>0.000272</td>\n      <td>0.011169</td>\n    </tr>\n    <tr>\n      <th>20</th>\n      <td>0.000172</td>\n      <td>0.000721</td>\n      <td>0.000030</td>\n      <td>0.002897</td>\n    </tr>\n    <tr>\n      <th>21</th>\n      <td>0.000196</td>\n      <td>0.000665</td>\n      <td>0.000076</td>\n      <td>0.003188</td>\n    </tr>\n    <tr>\n      <th>22</th>\n      <td>0.002278</td>\n      <td>0.014579</td>\n      <td>0.001822</td>\n      <td>0.052847</td>\n    </tr>\n    <tr>\n      <th>23</th>\n      <td>0.002226</td>\n      <td>0.009755</td>\n      <td>0.000491</td>\n      <td>0.034304</td>\n    </tr>\n    <tr>\n      <th>24</th>\n      <td>0.002852</td>\n      <td>0.011202</td>\n      <td>0.000758</td>\n      <td>0.043320</td>\n    </tr>\n    <tr>\n      <th>25</th>\n      <td>0.003447</td>\n      <td>0.015456</td>\n      <td>0.000834</td>\n      <td>0.059157</td>\n    </tr>\n    <tr>\n      <th>26</th>\n      <td>0.003822</td>\n      <td>0.026327</td>\n      <td>0.000849</td>\n      <td>0.090870</td>\n    </tr>\n    <tr>\n      <th>27</th>\n      <td>0.001940</td>\n      <td>0.007110</td>\n      <td>0.000535</td>\n      <td>0.028276</td>\n    </tr>\n    <tr>\n      <th>28</th>\n      <td>0.000076</td>\n      <td>0.000320</td>\n      <td>0.000014</td>\n      <td>0.001146</td>\n    </tr>\n    <tr>\n      <th>29</th>\n      <td>0.012862</td>\n      <td>0.048232</td>\n      <td>0.003215</td>\n      <td>0.206860</td>\n    </tr>\n    <tr>\n      <th>30</th>\n      <td>0.000018</td>\n      <td>0.000081</td>\n      <td>0.000007</td>\n      <td>0.000294</td>\n    </tr>\n    <tr>\n      <th>31</th>\n      <td>0.000672</td>\n      <td>0.003547</td>\n      <td>0.000215</td>\n      <td>0.012093</td>\n    </tr>\n    <tr>\n      <th>32</th>\n      <td>0.004450</td>\n      <td>0.012577</td>\n      <td>0.000967</td>\n      <td>0.052632</td>\n    </tr>\n    <tr>\n      <th>33</th>\n      <td>0.000446</td>\n      <td>0.001595</td>\n      <td>0.000117</td>\n      <td>0.007107</td>\n    </tr>\n    <tr>\n      <th>34</th>\n      <td>0.000214</td>\n      <td>0.001497</td>\n      <td>0.000000</td>\n      <td>0.004277</td>\n    </tr>\n    <tr>\n      <th>35</th>\n      <td>0.000703</td>\n      <td>0.003795</td>\n      <td>0.000000</td>\n      <td>0.015601</td>\n    </tr>\n    <tr>\n      <th>36</th>\n      <td>0.001253</td>\n      <td>0.008145</td>\n      <td>0.000000</td>\n      <td>0.029449</td>\n    </tr>\n    <tr>\n      <th>37</th>\n      <td>0.003419</td>\n      <td>0.020897</td>\n      <td>0.001140</td>\n      <td>0.077128</td>\n    </tr>\n    <tr>\n      <th>38</th>\n      <td>0.002152</td>\n      <td>0.009148</td>\n      <td>0.000658</td>\n      <td>0.037250</td>\n    </tr>\n    <tr>\n      <th>39</th>\n      <td>0.000068</td>\n      <td>0.000450</td>\n      <td>0.000027</td>\n      <td>0.001405</td>\n    </tr>\n    <tr>\n      <th>40</th>\n      <td>0.000583</td>\n      <td>0.001263</td>\n      <td>0.000097</td>\n      <td>0.006800</td>\n    </tr>\n    <tr>\n      <th>41</th>\n      <td>0.003292</td>\n      <td>0.021399</td>\n      <td>0.001646</td>\n      <td>0.074074</td>\n    </tr>\n    <tr>\n      <th>42</th>\n      <td>0.000299</td>\n      <td>0.002466</td>\n      <td>0.000149</td>\n      <td>0.008443</td>\n    </tr>\n    <tr>\n      <th>43</th>\n      <td>0.000459</td>\n      <td>0.001435</td>\n      <td>0.000038</td>\n      <td>0.005588</td>\n    </tr>\n    <tr>\n      <th>44</th>\n      <td>0.003683</td>\n      <td>0.011050</td>\n      <td>0.003683</td>\n      <td>0.049724</td>\n    </tr>\n    <tr>\n      <th>45</th>\n      <td>0.002688</td>\n      <td>0.002688</td>\n      <td>0.000000</td>\n      <td>0.010753</td>\n    </tr>\n    <tr>\n      <th>46</th>\n      <td>0.000876</td>\n      <td>0.005081</td>\n      <td>0.000175</td>\n      <td>0.020326</td>\n    </tr>\n    <tr>\n      <th>47</th>\n      <td>0.001240</td>\n      <td>0.005651</td>\n      <td>0.000496</td>\n      <td>0.021219</td>\n    </tr>\n    <tr>\n      <th>48</th>\n      <td>0.002286</td>\n      <td>0.004749</td>\n      <td>0.000352</td>\n      <td>0.021984</td>\n    </tr>\n    <tr>\n      <th>49</th>\n      <td>0.000000</td>\n      <td>0.004464</td>\n      <td>0.000000</td>\n      <td>0.010417</td>\n    </tr>\n    <tr>\n      <th>50</th>\n      <td>0.000814</td>\n      <td>0.006916</td>\n      <td>0.001221</td>\n      <td>0.025631</td>\n    </tr>\n    <tr>\n      <th>51</th>\n      <td>0.002814</td>\n      <td>0.014326</td>\n      <td>0.000767</td>\n      <td>0.050908</td>\n    </tr>\n    <tr>\n      <th>52</th>\n      <td>0.002262</td>\n      <td>0.002262</td>\n      <td>0.000000</td>\n      <td>0.020362</td>\n    </tr>\n    <tr>\n      <th>53</th>\n      <td>0.000306</td>\n      <td>0.001616</td>\n      <td>0.000131</td>\n      <td>0.005635</td>\n    </tr>\n    <tr>\n      <th>54</th>\n      <td>0.000872</td>\n      <td>0.005229</td>\n      <td>0.000349</td>\n      <td>0.025797</td>\n    </tr>\n    <tr>\n      <th>55</th>\n      <td>0.002791</td>\n      <td>0.010365</td>\n      <td>0.000199</td>\n      <td>0.040064</td>\n    </tr>\n    <tr>\n      <th>56</th>\n      <td>0.000378</td>\n      <td>0.002931</td>\n      <td>0.000284</td>\n      <td>0.007847</td>\n    </tr>\n    <tr>\n      <th>57</th>\n      <td>0.008753</td>\n      <td>0.015317</td>\n      <td>0.001459</td>\n      <td>0.101386</td>\n    </tr>\n    <tr>\n      <th>58</th>\n      <td>0.000806</td>\n      <td>0.008065</td>\n      <td>0.000806</td>\n      <td>0.030645</td>\n    </tr>\n    <tr>\n      <th>59</th>\n      <td>0.000179</td>\n      <td>0.001429</td>\n      <td>0.000179</td>\n      <td>0.006431</td>\n    </tr>\n    <tr>\n      <th>60</th>\n      <td>0.000000</td>\n      <td>0.000128</td>\n      <td>0.000000</td>\n      <td>0.001150</td>\n    </tr>\n    <tr>\n      <th>61</th>\n      <td>0.003032</td>\n      <td>0.007074</td>\n      <td>0.001516</td>\n      <td>0.026781</td>\n    </tr>\n    <tr>\n      <th>62</th>\n      <td>0.000576</td>\n      <td>0.001585</td>\n      <td>0.000000</td>\n      <td>0.006341</td>\n    </tr>\n    <tr>\n      <th>63</th>\n      <td>0.000985</td>\n      <td>0.005321</td>\n      <td>0.000099</td>\n      <td>0.021876</td>\n    </tr>\n    <tr>\n      <th>64</th>\n      <td>0.000000</td>\n      <td>0.005319</td>\n      <td>0.000532</td>\n      <td>0.014362</td>\n    </tr>\n    <tr>\n      <th>65</th>\n      <td>0.000919</td>\n      <td>0.003676</td>\n      <td>0.000460</td>\n      <td>0.018842</td>\n    </tr>\n    <tr>\n      <th>66</th>\n      <td>0.003115</td>\n      <td>0.000000</td>\n      <td>0.000000</td>\n      <td>0.012461</td>\n    </tr>\n    <tr>\n      <th>67</th>\n      <td>0.037500</td>\n      <td>0.087500</td>\n      <td>0.000000</td>\n      <td>0.193750</td>\n    </tr>\n    <tr>\n      <th>68</th>\n      <td>0.002577</td>\n      <td>0.002577</td>\n      <td>0.000000</td>\n      <td>0.020619</td>\n    </tr>\n    <tr>\n      <th>69</th>\n      <td>0.000080</td>\n      <td>0.000557</td>\n      <td>0.000000</td>\n      <td>0.002704</td>\n    </tr>\n    <tr>\n      <th>70</th>\n      <td>0.002273</td>\n      <td>0.006534</td>\n      <td>0.000284</td>\n      <td>0.025284</td>\n    </tr>\n    <tr>\n      <th>71</th>\n      <td>0.000161</td>\n      <td>0.000967</td>\n      <td>0.000161</td>\n      <td>0.003063</td>\n    </tr>\n    <tr>\n      <th>72</th>\n      <td>0.000000</td>\n      <td>0.142857</td>\n      <td>0.000000</td>\n      <td>0.142857</td>\n    </tr>\n    <tr>\n      <th>73</th>\n      <td>0.000000</td>\n      <td>0.023256</td>\n      <td>0.000000</td>\n      <td>0.093023</td>\n    </tr>\n    <tr>\n      <th>74</th>\n      <td>0.000000</td>\n      <td>0.000628</td>\n      <td>0.000000</td>\n      <td>0.006905</td>\n    </tr>\n    <tr>\n      <th>75</th>\n      <td>0.000000</td>\n      <td>0.002429</td>\n      <td>0.000000</td>\n      <td>0.005263</td>\n    </tr>\n    <tr>\n      <th>76</th>\n      <td>0.000000</td>\n      <td>0.004309</td>\n      <td>0.000392</td>\n      <td>0.012143</td>\n    </tr>\n    <tr>\n      <th>77</th>\n      <td>0.002188</td>\n      <td>0.010941</td>\n      <td>0.002188</td>\n      <td>0.072210</td>\n    </tr>\n    <tr>\n      <th>78</th>\n      <td>0.001122</td>\n      <td>0.004114</td>\n      <td>0.000374</td>\n      <td>0.010845</td>\n    </tr>\n    <tr>\n      <th>79</th>\n      <td>0.000000</td>\n      <td>0.020690</td>\n      <td>0.006897</td>\n      <td>0.006897</td>\n    </tr>\n    <tr>\n      <th>80</th>\n      <td>0.000231</td>\n      <td>0.000231</td>\n      <td>0.000000</td>\n      <td>0.005093</td>\n    </tr>\n    <tr>\n      <th>81</th>\n      <td>0.000000</td>\n      <td>0.005556</td>\n      <td>0.000000</td>\n      <td>0.013889</td>\n    </tr>\n    <tr>\n      <th>82</th>\n      <td>0.000000</td>\n      <td>0.000000</td>\n      <td>0.000000</td>\n      <td>0.111111</td>\n    </tr>\n    <tr>\n      <th>83</th>\n      <td>0.000000</td>\n      <td>0.009901</td>\n      <td>0.009901</td>\n      <td>0.000000</td>\n    </tr>\n    <tr>\n      <th>84</th>\n      <td>0.001648</td>\n      <td>0.005933</td>\n      <td>0.000330</td>\n      <td>0.017469</td>\n    </tr>\n    <tr>\n      <th>85</th>\n      <td>0.004814</td>\n      <td>0.012380</td>\n      <td>0.001376</td>\n      <td>0.029574</td>\n    </tr>\n    <tr>\n      <th>86</th>\n      <td>0.000000</td>\n      <td>0.000000</td>\n      <td>0.000000</td>\n      <td>0.004630</td>\n    </tr>\n    <tr>\n      <th>87</th>\n      <td>0.008230</td>\n      <td>0.000000</td>\n      <td>0.000000</td>\n      <td>0.012346</td>\n    </tr>\n    <tr>\n      <th>88</th>\n      <td>0.000000</td>\n      <td>0.013514</td>\n      <td>0.000000</td>\n      <td>0.006757</td>\n    </tr>\n    <tr>\n      <th>89</th>\n      <td>0.001961</td>\n      <td>0.007843</td>\n      <td>0.000000</td>\n      <td>0.023529</td>\n    </tr>\n    <tr>\n      <th>90</th>\n      <td>0.000000</td>\n      <td>0.001883</td>\n      <td>0.000000</td>\n      <td>0.002825</td>\n    </tr>\n    <tr>\n      <th>91</th>\n      <td>0.001080</td>\n      <td>0.003240</td>\n      <td>0.000000</td>\n      <td>0.014039</td>\n    </tr>\n    <tr>\n      <th>92</th>\n      <td>0.000000</td>\n      <td>0.000000</td>\n      <td>0.000000</td>\n      <td>0.000000</td>\n    </tr>\n    <tr>\n      <th>93</th>\n      <td>0.004158</td>\n      <td>0.014553</td>\n      <td>0.002079</td>\n      <td>0.033264</td>\n    </tr>\n    <tr>\n      <th>94</th>\n      <td>0.000000</td>\n      <td>0.009174</td>\n      <td>0.000000</td>\n      <td>0.027523</td>\n    </tr>\n    <tr>\n      <th>95</th>\n      <td>0.002114</td>\n      <td>0.006342</td>\n      <td>0.000000</td>\n      <td>0.033827</td>\n    </tr>\n    <tr>\n      <th>96</th>\n      <td>0.000000</td>\n      <td>0.000000</td>\n      <td>0.000000</td>\n      <td>0.008475</td>\n    </tr>\n    <tr>\n      <th>97</th>\n      <td>0.000000</td>\n      <td>0.000000</td>\n      <td>0.000000</td>\n      <td>0.003396</td>\n    </tr>\n    <tr>\n      <th>98</th>\n      <td>0.000000</td>\n      <td>0.000000</td>\n      <td>0.000000</td>\n      <td>0.023256</td>\n    </tr>\n    <tr>\n      <th>99</th>\n      <td>0.001192</td>\n      <td>0.001192</td>\n      <td>0.000000</td>\n      <td>0.011919</td>\n    </tr>\n    <tr>\n      <th>100</th>\n      <td>0.001689</td>\n      <td>0.003378</td>\n      <td>0.000000</td>\n      <td>0.020270</td>\n    </tr>\n    <tr>\n      <th>101</th>\n      <td>0.000000</td>\n      <td>0.000000</td>\n      <td>0.000000</td>\n      <td>0.000000</td>\n    </tr>\n    <tr>\n      <th>102</th>\n      <td>0.000000</td>\n      <td>0.000000</td>\n      <td>0.000000</td>\n      <td>0.000000</td>\n    </tr>\n    <tr>\n      <th>103</th>\n      <td>0.000000</td>\n      <td>0.000000</td>\n      <td>0.000000</td>\n      <td>0.001672</td>\n    </tr>\n    <tr>\n      <th>104</th>\n      <td>0.000000</td>\n      <td>0.000000</td>\n      <td>0.000000</td>\n      <td>0.009259</td>\n    </tr>\n    <tr>\n      <th>105</th>\n      <td>0.000000</td>\n      <td>0.000000</td>\n      <td>0.000000</td>\n      <td>0.039216</td>\n    </tr>\n    <tr>\n      <th>106</th>\n      <td>0.000000</td>\n      <td>0.007407</td>\n      <td>0.000000</td>\n      <td>0.000000</td>\n    </tr>\n    <tr>\n      <th>107</th>\n      <td>0.000000</td>\n      <td>0.000000</td>\n      <td>0.000000</td>\n      <td>0.000000</td>\n    </tr>\n    <tr>\n      <th>108</th>\n      <td>0.000000</td>\n      <td>0.000000</td>\n      <td>0.000000</td>\n      <td>0.001167</td>\n    </tr>\n    <tr>\n      <th>109</th>\n      <td>0.000357</td>\n      <td>0.000714</td>\n      <td>0.000000</td>\n      <td>0.006071</td>\n    </tr>\n    <tr>\n      <th>110</th>\n      <td>0.001241</td>\n      <td>0.000000</td>\n      <td>0.000000</td>\n      <td>0.013648</td>\n    </tr>\n    <tr>\n      <th>111</th>\n      <td>0.000000</td>\n      <td>0.003333</td>\n      <td>0.000000</td>\n      <td>0.013333</td>\n    </tr>\n    <tr>\n      <th>112</th>\n      <td>0.000000</td>\n      <td>0.006711</td>\n      <td>0.000000</td>\n      <td>0.033557</td>\n    </tr>\n    <tr>\n      <th>113</th>\n      <td>0.000000</td>\n      <td>0.000000</td>\n      <td>0.000000</td>\n      <td>0.020921</td>\n    </tr>\n    <tr>\n      <th>114</th>\n      <td>0.000000</td>\n      <td>0.000910</td>\n      <td>0.000455</td>\n      <td>0.002275</td>\n    </tr>\n    <tr>\n      <th>115</th>\n      <td>0.012422</td>\n      <td>0.003106</td>\n      <td>0.000000</td>\n      <td>0.031056</td>\n    </tr>\n    <tr>\n      <th>116</th>\n      <td>0.000000</td>\n      <td>0.000000</td>\n      <td>0.000000</td>\n      <td>0.002016</td>\n    </tr>\n    <tr>\n      <th>117</th>\n      <td>0.000730</td>\n      <td>0.000730</td>\n      <td>0.000000</td>\n      <td>0.002190</td>\n    </tr>\n    <tr>\n      <th>118</th>\n      <td>0.002105</td>\n      <td>0.006316</td>\n      <td>0.002105</td>\n      <td>0.008421</td>\n    </tr>\n    <tr>\n      <th>119</th>\n      <td>0.000000</td>\n      <td>0.000000</td>\n      <td>0.000000</td>\n      <td>1.000000</td>\n    </tr>\n    <tr>\n      <th>120</th>\n      <td>0.000000</td>\n      <td>0.000000</td>\n      <td>0.000000</td>\n      <td>0.000000</td>\n    </tr>\n    <tr>\n      <th>121</th>\n      <td>0.002433</td>\n      <td>0.004866</td>\n      <td>0.000000</td>\n      <td>0.019465</td>\n    </tr>\n    <tr>\n      <th>122</th>\n      <td>0.000000</td>\n      <td>0.000000</td>\n      <td>0.000000</td>\n      <td>0.000000</td>\n    </tr>\n    <tr>\n      <th>123</th>\n      <td>0.000000</td>\n      <td>0.000000</td>\n      <td>0.000000</td>\n      <td>0.000000</td>\n    </tr>\n    <tr>\n      <th>124</th>\n      <td>0.000000</td>\n      <td>0.000000</td>\n      <td>0.000000</td>\n      <td>0.000000</td>\n    </tr>\n    <tr>\n      <th>125</th>\n      <td>0.000000</td>\n      <td>0.000000</td>\n      <td>0.000000</td>\n      <td>0.000000</td>\n    </tr>\n    <tr>\n      <th>126</th>\n      <td>0.000000</td>\n      <td>0.000000</td>\n      <td>0.000000</td>\n      <td>0.000000</td>\n    </tr>\n    <tr>\n      <th>127</th>\n      <td>0.000000</td>\n      <td>0.000000</td>\n      <td>0.000000</td>\n      <td>0.000000</td>\n    </tr>\n    <tr>\n      <th>128</th>\n      <td>0.000000</td>\n      <td>0.000000</td>\n      <td>0.000000</td>\n      <td>0.000000</td>\n    </tr>\n    <tr>\n      <th>129</th>\n      <td>0.000000</td>\n      <td>0.000000</td>\n      <td>0.000000</td>\n      <td>0.000000</td>\n    </tr>\n    <tr>\n      <th>130</th>\n      <td>0.000000</td>\n      <td>0.000000</td>\n      <td>0.000000</td>\n      <td>0.000000</td>\n    </tr>\n    <tr>\n      <th>131</th>\n      <td>0.000000</td>\n      <td>0.000000</td>\n      <td>0.000000</td>\n      <td>0.000000</td>\n    </tr>\n    <tr>\n      <th>132</th>\n      <td>0.000000</td>\n      <td>0.000000</td>\n      <td>0.000000</td>\n      <td>0.000000</td>\n    </tr>\n    <tr>\n      <th>133</th>\n      <td>0.000000</td>\n      <td>0.000000</td>\n      <td>0.000000</td>\n      <td>0.000000</td>\n    </tr>\n    <tr>\n      <th>134</th>\n      <td>0.000000</td>\n      <td>0.000000</td>\n      <td>0.000000</td>\n      <td>0.000000</td>\n    </tr>\n    <tr>\n      <th>135</th>\n      <td>0.000000</td>\n      <td>0.000000</td>\n      <td>0.000000</td>\n      <td>0.000000</td>\n    </tr>\n    <tr>\n      <th>136</th>\n      <td>0.000000</td>\n      <td>0.000000</td>\n      <td>0.000000</td>\n      <td>0.000000</td>\n    </tr>\n    <tr>\n      <th>137</th>\n      <td>0.000000</td>\n      <td>0.000000</td>\n      <td>0.000000</td>\n      <td>0.000000</td>\n    </tr>\n    <tr>\n      <th>138</th>\n      <td>0.000000</td>\n      <td>0.000000</td>\n      <td>0.000000</td>\n      <td>0.000000</td>\n    </tr>\n    <tr>\n      <th>139</th>\n      <td>0.000000</td>\n      <td>0.000000</td>\n      <td>0.000000</td>\n      <td>0.000000</td>\n    </tr>\n    <tr>\n      <th>140</th>\n      <td>0.000000</td>\n      <td>0.000000</td>\n      <td>0.000000</td>\n      <td>0.000000</td>\n    </tr>\n    <tr>\n      <th>141</th>\n      <td>0.000000</td>\n      <td>0.000000</td>\n      <td>0.000000</td>\n      <td>0.000000</td>\n    </tr>\n    <tr>\n      <th>142</th>\n      <td>0.000000</td>\n      <td>0.000000</td>\n      <td>0.000000</td>\n      <td>0.000000</td>\n    </tr>\n    <tr>\n      <th>143</th>\n      <td>0.000000</td>\n      <td>0.000000</td>\n      <td>0.000000</td>\n      <td>0.000000</td>\n    </tr>\n    <tr>\n      <th>144</th>\n      <td>0.000000</td>\n      <td>0.000000</td>\n      <td>0.000000</td>\n      <td>0.000000</td>\n    </tr>\n    <tr>\n      <th>145</th>\n      <td>0.000000</td>\n      <td>0.000000</td>\n      <td>0.000000</td>\n      <td>0.000000</td>\n    </tr>\n    <tr>\n      <th>146</th>\n      <td>0.000000</td>\n      <td>0.000000</td>\n      <td>0.000000</td>\n      <td>0.000000</td>\n    </tr>\n    <tr>\n      <th>147</th>\n      <td>0.000000</td>\n      <td>0.000000</td>\n      <td>0.000000</td>\n      <td>0.000000</td>\n    </tr>\n    <tr>\n      <th>148</th>\n      <td>0.000000</td>\n      <td>0.000000</td>\n      <td>0.000000</td>\n      <td>0.000000</td>\n    </tr>\n    <tr>\n      <th>149</th>\n      <td>0.000000</td>\n      <td>0.000000</td>\n      <td>0.000000</td>\n      <td>0.000000</td>\n    </tr>\n    <tr>\n      <th>150</th>\n      <td>0.000000</td>\n      <td>0.000000</td>\n      <td>0.000000</td>\n      <td>0.000000</td>\n    </tr>\n    <tr>\n      <th>151</th>\n      <td>0.000000</td>\n      <td>0.000000</td>\n      <td>0.000000</td>\n      <td>0.000000</td>\n    </tr>\n    <tr>\n      <th>152</th>\n      <td>0.000000</td>\n      <td>0.000000</td>\n      <td>0.000000</td>\n      <td>0.000000</td>\n    </tr>\n    <tr>\n      <th>153</th>\n      <td>0.000000</td>\n      <td>0.000000</td>\n      <td>0.000000</td>\n      <td>0.000000</td>\n    </tr>\n    <tr>\n      <th>154</th>\n      <td>0.000000</td>\n      <td>0.000000</td>\n      <td>0.000000</td>\n      <td>0.000000</td>\n    </tr>\n    <tr>\n      <th>155</th>\n      <td>0.000000</td>\n      <td>0.000000</td>\n      <td>0.000000</td>\n      <td>0.000000</td>\n    </tr>\n    <tr>\n      <th>156</th>\n      <td>0.000000</td>\n      <td>0.000000</td>\n      <td>0.000000</td>\n      <td>0.000000</td>\n    </tr>\n    <tr>\n      <th>157</th>\n      <td>0.000000</td>\n      <td>0.000000</td>\n      <td>0.000000</td>\n      <td>0.000000</td>\n    </tr>\n    <tr>\n      <th>158</th>\n      <td>0.000000</td>\n      <td>0.000000</td>\n      <td>0.000000</td>\n      <td>0.000000</td>\n    </tr>\n    <tr>\n      <th>159</th>\n      <td>0.000000</td>\n      <td>0.000000</td>\n      <td>0.000000</td>\n      <td>0.000000</td>\n    </tr>\n    <tr>\n      <th>160</th>\n      <td>0.000000</td>\n      <td>0.000000</td>\n      <td>0.000000</td>\n      <td>0.000000</td>\n    </tr>\n  </tbody>\n</table>\n</div>"
     },
     "metadata": {},
     "execution_count": 33
    }
   ],
   "source": [
    "train.loc[ train.tr==0 ].groupby('a_count_combined')[['reply','retweet','retweet_comment','like']].agg(['mean'])"
   ]
  },
  {
   "cell_type": "code",
   "execution_count": 34,
   "metadata": {},
   "outputs": [
    {
     "output_type": "execute_result",
     "data": {
      "text/plain": [
       "    timestamp  a_follower_count  a_following_count  a_is_verified  \\\n",
       "0  1580947200             27447                115              1   \n",
       "1  1580947200             13782                327              1   \n",
       "2  1580947200             67167               2864              1   \n",
       "3  1580947200           1923062                  0              0   \n",
       "4  1580947200           2982406               2411              1   \n",
       "\n",
       "   a_account_creation  b_follower_count  b_following_count  b_is_verified  \\\n",
       "0          1520574998                 0                 36              0   \n",
       "1          1306013762                29                229              0   \n",
       "2          1214456422               114                218              0   \n",
       "3          1400281110               217                159              0   \n",
       "4          1179400159                41                137              0   \n",
       "\n",
       "   b_account_creation  b_follows_a  reply  retweet  retweet_comment  like  \\\n",
       "0          1567781844            0      0        0                0     0   \n",
       "1          1411508008            0      0        0                0     0   \n",
       "2          1415584664            0      0        0                0     0   \n",
       "3          1498869581            0      0        0                0     0   \n",
       "4          1272241451            0      0        0                0     0   \n",
       "\n",
       "        id  language  tweet_type  media  tweet_id  a_user_id  b_user_id  \\\n",
       "0   326597        11           2     12  11027338    7364305    8110941   \n",
       "1   634520        54           2      4   8294199    3882491   10148536   \n",
       "2  1257148        54           2     12   2463142    8702908    2764714   \n",
       "3  1161714        59           2      4  12817572     672903    9486466   \n",
       "4   802517        54           2     12   9833989    1170946    8165268   \n",
       "\n",
       "   len_hashtags  len_domains  len_links  domains   links  hashtags  tr  \\\n",
       "0             2            1          1    75539  885711    105355   0   \n",
       "1             2            0          0        0       0    753162   0   \n",
       "2             1            0          0        0       0    675884   0   \n",
       "3             0            0          0        0       0         0   0   \n",
       "4             2            0          0        0       0    915393   0   \n",
       "\n",
       "   engage  a_user_fer_count_delta_time  a_user_fing_count_delta_time  \\\n",
       "0       0                            0                             0   \n",
       "1       0                           -1                            -1   \n",
       "2       0                           -1                            -1   \n",
       "3       0                            0                             1   \n",
       "4       0                            0                             1   \n",
       "\n",
       "   a_user_fering_count_delta_time  a_user_fing_count_mode  \\\n",
       "0                               0                       0   \n",
       "1                              -1                      -1   \n",
       "2                              -1                      -1   \n",
       "3                               0                       1   \n",
       "4                               0                       1   \n",
       "\n",
       "   a_user_fer_count_mode  a_user_fering_count_mode  a_count_combined  \n",
       "0                      0                         0                 0  \n",
       "1                     -1                        -1                 1  \n",
       "2                     -1                        -1                 1  \n",
       "3                      0                         0                 2  \n",
       "4                      0                         0                 2  "
      ],
      "text/html": "<div>\n<style scoped>\n    .dataframe tbody tr th:only-of-type {\n        vertical-align: middle;\n    }\n\n    .dataframe tbody tr th {\n        vertical-align: top;\n    }\n\n    .dataframe thead th {\n        text-align: right;\n    }\n</style>\n<table border=\"1\" class=\"dataframe\">\n  <thead>\n    <tr style=\"text-align: right;\">\n      <th></th>\n      <th>timestamp</th>\n      <th>a_follower_count</th>\n      <th>a_following_count</th>\n      <th>a_is_verified</th>\n      <th>a_account_creation</th>\n      <th>b_follower_count</th>\n      <th>b_following_count</th>\n      <th>b_is_verified</th>\n      <th>b_account_creation</th>\n      <th>b_follows_a</th>\n      <th>reply</th>\n      <th>retweet</th>\n      <th>retweet_comment</th>\n      <th>like</th>\n      <th>id</th>\n      <th>language</th>\n      <th>tweet_type</th>\n      <th>media</th>\n      <th>tweet_id</th>\n      <th>a_user_id</th>\n      <th>b_user_id</th>\n      <th>len_hashtags</th>\n      <th>len_domains</th>\n      <th>len_links</th>\n      <th>domains</th>\n      <th>links</th>\n      <th>hashtags</th>\n      <th>tr</th>\n      <th>engage</th>\n      <th>a_user_fer_count_delta_time</th>\n      <th>a_user_fing_count_delta_time</th>\n      <th>a_user_fering_count_delta_time</th>\n      <th>a_user_fing_count_mode</th>\n      <th>a_user_fer_count_mode</th>\n      <th>a_user_fering_count_mode</th>\n      <th>a_count_combined</th>\n    </tr>\n  </thead>\n  <tbody>\n    <tr>\n      <th>0</th>\n      <td>1580947200</td>\n      <td>27447</td>\n      <td>115</td>\n      <td>1</td>\n      <td>1520574998</td>\n      <td>0</td>\n      <td>36</td>\n      <td>0</td>\n      <td>1567781844</td>\n      <td>0</td>\n      <td>0</td>\n      <td>0</td>\n      <td>0</td>\n      <td>0</td>\n      <td>326597</td>\n      <td>11</td>\n      <td>2</td>\n      <td>12</td>\n      <td>11027338</td>\n      <td>7364305</td>\n      <td>8110941</td>\n      <td>2</td>\n      <td>1</td>\n      <td>1</td>\n      <td>75539</td>\n      <td>885711</td>\n      <td>105355</td>\n      <td>0</td>\n      <td>0</td>\n      <td>0</td>\n      <td>0</td>\n      <td>0</td>\n      <td>0</td>\n      <td>0</td>\n      <td>0</td>\n      <td>0</td>\n    </tr>\n    <tr>\n      <th>1</th>\n      <td>1580947200</td>\n      <td>13782</td>\n      <td>327</td>\n      <td>1</td>\n      <td>1306013762</td>\n      <td>29</td>\n      <td>229</td>\n      <td>0</td>\n      <td>1411508008</td>\n      <td>0</td>\n      <td>0</td>\n      <td>0</td>\n      <td>0</td>\n      <td>0</td>\n      <td>634520</td>\n      <td>54</td>\n      <td>2</td>\n      <td>4</td>\n      <td>8294199</td>\n      <td>3882491</td>\n      <td>10148536</td>\n      <td>2</td>\n      <td>0</td>\n      <td>0</td>\n      <td>0</td>\n      <td>0</td>\n      <td>753162</td>\n      <td>0</td>\n      <td>0</td>\n      <td>-1</td>\n      <td>-1</td>\n      <td>-1</td>\n      <td>-1</td>\n      <td>-1</td>\n      <td>-1</td>\n      <td>1</td>\n    </tr>\n    <tr>\n      <th>2</th>\n      <td>1580947200</td>\n      <td>67167</td>\n      <td>2864</td>\n      <td>1</td>\n      <td>1214456422</td>\n      <td>114</td>\n      <td>218</td>\n      <td>0</td>\n      <td>1415584664</td>\n      <td>0</td>\n      <td>0</td>\n      <td>0</td>\n      <td>0</td>\n      <td>0</td>\n      <td>1257148</td>\n      <td>54</td>\n      <td>2</td>\n      <td>12</td>\n      <td>2463142</td>\n      <td>8702908</td>\n      <td>2764714</td>\n      <td>1</td>\n      <td>0</td>\n      <td>0</td>\n      <td>0</td>\n      <td>0</td>\n      <td>675884</td>\n      <td>0</td>\n      <td>0</td>\n      <td>-1</td>\n      <td>-1</td>\n      <td>-1</td>\n      <td>-1</td>\n      <td>-1</td>\n      <td>-1</td>\n      <td>1</td>\n    </tr>\n    <tr>\n      <th>3</th>\n      <td>1580947200</td>\n      <td>1923062</td>\n      <td>0</td>\n      <td>0</td>\n      <td>1400281110</td>\n      <td>217</td>\n      <td>159</td>\n      <td>0</td>\n      <td>1498869581</td>\n      <td>0</td>\n      <td>0</td>\n      <td>0</td>\n      <td>0</td>\n      <td>0</td>\n      <td>1161714</td>\n      <td>59</td>\n      <td>2</td>\n      <td>4</td>\n      <td>12817572</td>\n      <td>672903</td>\n      <td>9486466</td>\n      <td>0</td>\n      <td>0</td>\n      <td>0</td>\n      <td>0</td>\n      <td>0</td>\n      <td>0</td>\n      <td>0</td>\n      <td>0</td>\n      <td>0</td>\n      <td>1</td>\n      <td>0</td>\n      <td>1</td>\n      <td>0</td>\n      <td>0</td>\n      <td>2</td>\n    </tr>\n    <tr>\n      <th>4</th>\n      <td>1580947200</td>\n      <td>2982406</td>\n      <td>2411</td>\n      <td>1</td>\n      <td>1179400159</td>\n      <td>41</td>\n      <td>137</td>\n      <td>0</td>\n      <td>1272241451</td>\n      <td>0</td>\n      <td>0</td>\n      <td>0</td>\n      <td>0</td>\n      <td>0</td>\n      <td>802517</td>\n      <td>54</td>\n      <td>2</td>\n      <td>12</td>\n      <td>9833989</td>\n      <td>1170946</td>\n      <td>8165268</td>\n      <td>2</td>\n      <td>0</td>\n      <td>0</td>\n      <td>0</td>\n      <td>0</td>\n      <td>915393</td>\n      <td>0</td>\n      <td>0</td>\n      <td>0</td>\n      <td>1</td>\n      <td>0</td>\n      <td>1</td>\n      <td>0</td>\n      <td>0</td>\n      <td>2</td>\n    </tr>\n  </tbody>\n</table>\n</div>"
     },
     "metadata": {},
     "execution_count": 34
    }
   ],
   "source": [
    "train.head()"
   ]
  },
  {
   "cell_type": "code",
   "execution_count": 35,
   "metadata": {},
   "outputs": [
    {
     "output_type": "execute_result",
     "data": {
      "text/plain": [
       "                id  a_count_combined  a_user_fer_count_delta_time  \\\n",
       "21043775  20872892                 2                            0   \n",
       "21043776  20872892                10                            1   \n",
       "21043777  20872893                 2                            0   \n",
       "21043778  20872894                10                            1   \n",
       "21043779  20872895                10                            1   \n",
       "21043780  20872896                 2                            0   \n",
       "21043781  20872897                10                            1   \n",
       "21043782  20872898                 2                            0   \n",
       "21043783  20872899                17                           -1   \n",
       "21043784  20872900                 2                            0   \n",
       "21043785  20872901                10                            1   \n",
       "21043786  20872902                 0                            0   \n",
       "21043787  20872903                30                            1   \n",
       "21043788  20872904                 1                           -1   \n",
       "21043789  20872905                10                            1   \n",
       "21043790  20872906                10                            1   \n",
       "21043791  20872907                 1                           -1   \n",
       "21043792  20872908                10                            1   \n",
       "21043793  20872909                30                            1   \n",
       "21043794  20872910                28                            0   \n",
       "21043795  20872911                10                            1   \n",
       "21043796  20872912                 2                            0   \n",
       "21043797  20872913                 1                           -1   \n",
       "21043798  20872914                10                            1   \n",
       "21043799  20872915                11                            0   \n",
       "21043800  20872916                10                            1   \n",
       "21043801  20872917                 1                           -1   \n",
       "21043802  20872918                 1                           -1   \n",
       "21043803  20872919                10                            1   \n",
       "21043804  20872920                 2                            0   \n",
       "21043805  20872921                 2                            0   \n",
       "21043806  20872922                 1                           -1   \n",
       "21043807  20872923                 2                            0   \n",
       "21043808  20872924                10                            1   \n",
       "21043809  20872925                30                            1   \n",
       "21043810  20872926                49                            1   \n",
       "21043811  20872927                10                            1   \n",
       "21043812  20872928                 0                            0   \n",
       "21043813  20872929                76                            1   \n",
       "21043814  20872930                10                            1   \n",
       "21043815  20872931                10                            1   \n",
       "21043816  20872932                 1                           -1   \n",
       "21043817  20872933                 0                            0   \n",
       "21043818  20872934                 0                            0   \n",
       "21043819  20872935                10                            1   \n",
       "21043820  20872936                 2                            0   \n",
       "21043821  20872937                 5                            0   \n",
       "21043822  20872938                 0                            0   \n",
       "21043823  20872939                 1                           -1   \n",
       "21043824  20872940                 0                            0   \n",
       "\n",
       "          a_user_fing_count_delta_time  a_user_fering_count_delta_time  \\\n",
       "21043775                             1                               0   \n",
       "21043776                             1                               1   \n",
       "21043777                             1                               0   \n",
       "21043778                             1                               1   \n",
       "21043779                             1                               1   \n",
       "21043780                             1                               0   \n",
       "21043781                             1                               1   \n",
       "21043782                             1                               0   \n",
       "21043783                             1                              -1   \n",
       "21043784                             1                               0   \n",
       "21043785                             1                               1   \n",
       "21043786                             0                               0   \n",
       "21043787                             0                               1   \n",
       "21043788                            -1                              -1   \n",
       "21043789                             1                               1   \n",
       "21043790                             1                               1   \n",
       "21043791                            -1                              -1   \n",
       "21043792                             1                               1   \n",
       "21043793                             0                               1   \n",
       "21043794                             1                               0   \n",
       "21043795                             1                               1   \n",
       "21043796                             1                               0   \n",
       "21043797                            -1                              -1   \n",
       "21043798                             1                               1   \n",
       "21043799                            -1                              -1   \n",
       "21043800                             1                               1   \n",
       "21043801                            -1                              -1   \n",
       "21043802                            -1                              -1   \n",
       "21043803                             1                               1   \n",
       "21043804                             1                               0   \n",
       "21043805                             1                               0   \n",
       "21043806                            -1                              -1   \n",
       "21043807                             1                               0   \n",
       "21043808                             1                               1   \n",
       "21043809                             0                               1   \n",
       "21043810                             1                               1   \n",
       "21043811                             1                               1   \n",
       "21043812                             0                               0   \n",
       "21043813                             1                               0   \n",
       "21043814                             1                               1   \n",
       "21043815                             1                               1   \n",
       "21043816                            -1                              -1   \n",
       "21043817                             0                               0   \n",
       "21043818                             0                               0   \n",
       "21043819                             1                               1   \n",
       "21043820                             1                               0   \n",
       "21043821                             1                               0   \n",
       "21043822                             0                               0   \n",
       "21043823                            -1                              -1   \n",
       "21043824                             0                               0   \n",
       "\n",
       "          a_user_fing_count_mode  a_user_fer_count_mode  \\\n",
       "21043775                       1                      0   \n",
       "21043776                       1                      1   \n",
       "21043777                       1                      0   \n",
       "21043778                       1                      1   \n",
       "21043779                       1                      1   \n",
       "21043780                       1                      0   \n",
       "21043781                       1                      1   \n",
       "21043782                       1                      0   \n",
       "21043783                       1                      0   \n",
       "21043784                       1                      0   \n",
       "21043785                       1                      1   \n",
       "21043786                       0                      0   \n",
       "21043787                       1                      1   \n",
       "21043788                      -1                     -1   \n",
       "21043789                       1                      1   \n",
       "21043790                       1                      1   \n",
       "21043791                      -1                     -1   \n",
       "21043792                       1                      1   \n",
       "21043793                       1                      1   \n",
       "21043794                       1                      1   \n",
       "21043795                       1                      1   \n",
       "21043796                       1                      0   \n",
       "21043797                      -1                     -1   \n",
       "21043798                       1                      1   \n",
       "21043799                      -1                      0   \n",
       "21043800                       1                      1   \n",
       "21043801                      -1                     -1   \n",
       "21043802                      -1                     -1   \n",
       "21043803                       1                      1   \n",
       "21043804                       1                      0   \n",
       "21043805                       1                      0   \n",
       "21043806                      -1                     -1   \n",
       "21043807                       1                      0   \n",
       "21043808                       1                      1   \n",
       "21043809                       1                      1   \n",
       "21043810                       0                      0   \n",
       "21043811                       1                      1   \n",
       "21043812                       0                      0   \n",
       "21043813                       1                      1   \n",
       "21043814                       1                      1   \n",
       "21043815                       1                      1   \n",
       "21043816                      -1                     -1   \n",
       "21043817                       0                      0   \n",
       "21043818                       0                      0   \n",
       "21043819                       1                      1   \n",
       "21043820                       1                      0   \n",
       "21043821                       0                      0   \n",
       "21043822                       0                      0   \n",
       "21043823                      -1                     -1   \n",
       "21043824                       0                      0   \n",
       "\n",
       "          a_user_fering_count_mode  \n",
       "21043775                         0  \n",
       "21043776                         1  \n",
       "21043777                         0  \n",
       "21043778                         1  \n",
       "21043779                         1  \n",
       "21043780                         0  \n",
       "21043781                         1  \n",
       "21043782                         0  \n",
       "21043783                         0  \n",
       "21043784                         0  \n",
       "21043785                         1  \n",
       "21043786                         0  \n",
       "21043787                         1  \n",
       "21043788                        -1  \n",
       "21043789                         1  \n",
       "21043790                         1  \n",
       "21043791                        -1  \n",
       "21043792                         1  \n",
       "21043793                         1  \n",
       "21043794                         1  \n",
       "21043795                         1  \n",
       "21043796                         0  \n",
       "21043797                        -1  \n",
       "21043798                         1  \n",
       "21043799                        -1  \n",
       "21043800                         1  \n",
       "21043801                        -1  \n",
       "21043802                        -1  \n",
       "21043803                         1  \n",
       "21043804                         0  \n",
       "21043805                         0  \n",
       "21043806                        -1  \n",
       "21043807                         0  \n",
       "21043808                         1  \n",
       "21043809                         1  \n",
       "21043810                         1  \n",
       "21043811                         1  \n",
       "21043812                         0  \n",
       "21043813                         0  \n",
       "21043814                         1  \n",
       "21043815                         1  \n",
       "21043816                        -1  \n",
       "21043817                         0  \n",
       "21043818                         0  \n",
       "21043819                         1  \n",
       "21043820                         0  \n",
       "21043821                         0  \n",
       "21043822                         0  \n",
       "21043823                        -1  \n",
       "21043824                         0  "
      ],
      "text/html": "<div>\n<style scoped>\n    .dataframe tbody tr th:only-of-type {\n        vertical-align: middle;\n    }\n\n    .dataframe tbody tr th {\n        vertical-align: top;\n    }\n\n    .dataframe thead th {\n        text-align: right;\n    }\n</style>\n<table border=\"1\" class=\"dataframe\">\n  <thead>\n    <tr style=\"text-align: right;\">\n      <th></th>\n      <th>id</th>\n      <th>a_count_combined</th>\n      <th>a_user_fer_count_delta_time</th>\n      <th>a_user_fing_count_delta_time</th>\n      <th>a_user_fering_count_delta_time</th>\n      <th>a_user_fing_count_mode</th>\n      <th>a_user_fer_count_mode</th>\n      <th>a_user_fering_count_mode</th>\n    </tr>\n  </thead>\n  <tbody>\n    <tr>\n      <th>21043775</th>\n      <td>20872892</td>\n      <td>2</td>\n      <td>0</td>\n      <td>1</td>\n      <td>0</td>\n      <td>1</td>\n      <td>0</td>\n      <td>0</td>\n    </tr>\n    <tr>\n      <th>21043776</th>\n      <td>20872892</td>\n      <td>10</td>\n      <td>1</td>\n      <td>1</td>\n      <td>1</td>\n      <td>1</td>\n      <td>1</td>\n      <td>1</td>\n    </tr>\n    <tr>\n      <th>21043777</th>\n      <td>20872893</td>\n      <td>2</td>\n      <td>0</td>\n      <td>1</td>\n      <td>0</td>\n      <td>1</td>\n      <td>0</td>\n      <td>0</td>\n    </tr>\n    <tr>\n      <th>21043778</th>\n      <td>20872894</td>\n      <td>10</td>\n      <td>1</td>\n      <td>1</td>\n      <td>1</td>\n      <td>1</td>\n      <td>1</td>\n      <td>1</td>\n    </tr>\n    <tr>\n      <th>21043779</th>\n      <td>20872895</td>\n      <td>10</td>\n      <td>1</td>\n      <td>1</td>\n      <td>1</td>\n      <td>1</td>\n      <td>1</td>\n      <td>1</td>\n    </tr>\n    <tr>\n      <th>21043780</th>\n      <td>20872896</td>\n      <td>2</td>\n      <td>0</td>\n      <td>1</td>\n      <td>0</td>\n      <td>1</td>\n      <td>0</td>\n      <td>0</td>\n    </tr>\n    <tr>\n      <th>21043781</th>\n      <td>20872897</td>\n      <td>10</td>\n      <td>1</td>\n      <td>1</td>\n      <td>1</td>\n      <td>1</td>\n      <td>1</td>\n      <td>1</td>\n    </tr>\n    <tr>\n      <th>21043782</th>\n      <td>20872898</td>\n      <td>2</td>\n      <td>0</td>\n      <td>1</td>\n      <td>0</td>\n      <td>1</td>\n      <td>0</td>\n      <td>0</td>\n    </tr>\n    <tr>\n      <th>21043783</th>\n      <td>20872899</td>\n      <td>17</td>\n      <td>-1</td>\n      <td>1</td>\n      <td>-1</td>\n      <td>1</td>\n      <td>0</td>\n      <td>0</td>\n    </tr>\n    <tr>\n      <th>21043784</th>\n      <td>20872900</td>\n      <td>2</td>\n      <td>0</td>\n      <td>1</td>\n      <td>0</td>\n      <td>1</td>\n      <td>0</td>\n      <td>0</td>\n    </tr>\n    <tr>\n      <th>21043785</th>\n      <td>20872901</td>\n      <td>10</td>\n      <td>1</td>\n      <td>1</td>\n      <td>1</td>\n      <td>1</td>\n      <td>1</td>\n      <td>1</td>\n    </tr>\n    <tr>\n      <th>21043786</th>\n      <td>20872902</td>\n      <td>0</td>\n      <td>0</td>\n      <td>0</td>\n      <td>0</td>\n      <td>0</td>\n      <td>0</td>\n      <td>0</td>\n    </tr>\n    <tr>\n      <th>21043787</th>\n      <td>20872903</td>\n      <td>30</td>\n      <td>1</td>\n      <td>0</td>\n      <td>1</td>\n      <td>1</td>\n      <td>1</td>\n      <td>1</td>\n    </tr>\n    <tr>\n      <th>21043788</th>\n      <td>20872904</td>\n      <td>1</td>\n      <td>-1</td>\n      <td>-1</td>\n      <td>-1</td>\n      <td>-1</td>\n      <td>-1</td>\n      <td>-1</td>\n    </tr>\n    <tr>\n      <th>21043789</th>\n      <td>20872905</td>\n      <td>10</td>\n      <td>1</td>\n      <td>1</td>\n      <td>1</td>\n      <td>1</td>\n      <td>1</td>\n      <td>1</td>\n    </tr>\n    <tr>\n      <th>21043790</th>\n      <td>20872906</td>\n      <td>10</td>\n      <td>1</td>\n      <td>1</td>\n      <td>1</td>\n      <td>1</td>\n      <td>1</td>\n      <td>1</td>\n    </tr>\n    <tr>\n      <th>21043791</th>\n      <td>20872907</td>\n      <td>1</td>\n      <td>-1</td>\n      <td>-1</td>\n      <td>-1</td>\n      <td>-1</td>\n      <td>-1</td>\n      <td>-1</td>\n    </tr>\n    <tr>\n      <th>21043792</th>\n      <td>20872908</td>\n      <td>10</td>\n      <td>1</td>\n      <td>1</td>\n      <td>1</td>\n      <td>1</td>\n      <td>1</td>\n      <td>1</td>\n    </tr>\n    <tr>\n      <th>21043793</th>\n      <td>20872909</td>\n      <td>30</td>\n      <td>1</td>\n      <td>0</td>\n      <td>1</td>\n      <td>1</td>\n      <td>1</td>\n      <td>1</td>\n    </tr>\n    <tr>\n      <th>21043794</th>\n      <td>20872910</td>\n      <td>28</td>\n      <td>0</td>\n      <td>1</td>\n      <td>0</td>\n      <td>1</td>\n      <td>1</td>\n      <td>1</td>\n    </tr>\n    <tr>\n      <th>21043795</th>\n      <td>20872911</td>\n      <td>10</td>\n      <td>1</td>\n      <td>1</td>\n      <td>1</td>\n      <td>1</td>\n      <td>1</td>\n      <td>1</td>\n    </tr>\n    <tr>\n      <th>21043796</th>\n      <td>20872912</td>\n      <td>2</td>\n      <td>0</td>\n      <td>1</td>\n      <td>0</td>\n      <td>1</td>\n      <td>0</td>\n      <td>0</td>\n    </tr>\n    <tr>\n      <th>21043797</th>\n      <td>20872913</td>\n      <td>1</td>\n      <td>-1</td>\n      <td>-1</td>\n      <td>-1</td>\n      <td>-1</td>\n      <td>-1</td>\n      <td>-1</td>\n    </tr>\n    <tr>\n      <th>21043798</th>\n      <td>20872914</td>\n      <td>10</td>\n      <td>1</td>\n      <td>1</td>\n      <td>1</td>\n      <td>1</td>\n      <td>1</td>\n      <td>1</td>\n    </tr>\n    <tr>\n      <th>21043799</th>\n      <td>20872915</td>\n      <td>11</td>\n      <td>0</td>\n      <td>-1</td>\n      <td>-1</td>\n      <td>-1</td>\n      <td>0</td>\n      <td>-1</td>\n    </tr>\n    <tr>\n      <th>21043800</th>\n      <td>20872916</td>\n      <td>10</td>\n      <td>1</td>\n      <td>1</td>\n      <td>1</td>\n      <td>1</td>\n      <td>1</td>\n      <td>1</td>\n    </tr>\n    <tr>\n      <th>21043801</th>\n      <td>20872917</td>\n      <td>1</td>\n      <td>-1</td>\n      <td>-1</td>\n      <td>-1</td>\n      <td>-1</td>\n      <td>-1</td>\n      <td>-1</td>\n    </tr>\n    <tr>\n      <th>21043802</th>\n      <td>20872918</td>\n      <td>1</td>\n      <td>-1</td>\n      <td>-1</td>\n      <td>-1</td>\n      <td>-1</td>\n      <td>-1</td>\n      <td>-1</td>\n    </tr>\n    <tr>\n      <th>21043803</th>\n      <td>20872919</td>\n      <td>10</td>\n      <td>1</td>\n      <td>1</td>\n      <td>1</td>\n      <td>1</td>\n      <td>1</td>\n      <td>1</td>\n    </tr>\n    <tr>\n      <th>21043804</th>\n      <td>20872920</td>\n      <td>2</td>\n      <td>0</td>\n      <td>1</td>\n      <td>0</td>\n      <td>1</td>\n      <td>0</td>\n      <td>0</td>\n    </tr>\n    <tr>\n      <th>21043805</th>\n      <td>20872921</td>\n      <td>2</td>\n      <td>0</td>\n      <td>1</td>\n      <td>0</td>\n      <td>1</td>\n      <td>0</td>\n      <td>0</td>\n    </tr>\n    <tr>\n      <th>21043806</th>\n      <td>20872922</td>\n      <td>1</td>\n      <td>-1</td>\n      <td>-1</td>\n      <td>-1</td>\n      <td>-1</td>\n      <td>-1</td>\n      <td>-1</td>\n    </tr>\n    <tr>\n      <th>21043807</th>\n      <td>20872923</td>\n      <td>2</td>\n      <td>0</td>\n      <td>1</td>\n      <td>0</td>\n      <td>1</td>\n      <td>0</td>\n      <td>0</td>\n    </tr>\n    <tr>\n      <th>21043808</th>\n      <td>20872924</td>\n      <td>10</td>\n      <td>1</td>\n      <td>1</td>\n      <td>1</td>\n      <td>1</td>\n      <td>1</td>\n      <td>1</td>\n    </tr>\n    <tr>\n      <th>21043809</th>\n      <td>20872925</td>\n      <td>30</td>\n      <td>1</td>\n      <td>0</td>\n      <td>1</td>\n      <td>1</td>\n      <td>1</td>\n      <td>1</td>\n    </tr>\n    <tr>\n      <th>21043810</th>\n      <td>20872926</td>\n      <td>49</td>\n      <td>1</td>\n      <td>1</td>\n      <td>1</td>\n      <td>0</td>\n      <td>0</td>\n      <td>1</td>\n    </tr>\n    <tr>\n      <th>21043811</th>\n      <td>20872927</td>\n      <td>10</td>\n      <td>1</td>\n      <td>1</td>\n      <td>1</td>\n      <td>1</td>\n      <td>1</td>\n      <td>1</td>\n    </tr>\n    <tr>\n      <th>21043812</th>\n      <td>20872928</td>\n      <td>0</td>\n      <td>0</td>\n      <td>0</td>\n      <td>0</td>\n      <td>0</td>\n      <td>0</td>\n      <td>0</td>\n    </tr>\n    <tr>\n      <th>21043813</th>\n      <td>20872929</td>\n      <td>76</td>\n      <td>1</td>\n      <td>1</td>\n      <td>0</td>\n      <td>1</td>\n      <td>1</td>\n      <td>0</td>\n    </tr>\n    <tr>\n      <th>21043814</th>\n      <td>20872930</td>\n      <td>10</td>\n      <td>1</td>\n      <td>1</td>\n      <td>1</td>\n      <td>1</td>\n      <td>1</td>\n      <td>1</td>\n    </tr>\n    <tr>\n      <th>21043815</th>\n      <td>20872931</td>\n      <td>10</td>\n      <td>1</td>\n      <td>1</td>\n      <td>1</td>\n      <td>1</td>\n      <td>1</td>\n      <td>1</td>\n    </tr>\n    <tr>\n      <th>21043816</th>\n      <td>20872932</td>\n      <td>1</td>\n      <td>-1</td>\n      <td>-1</td>\n      <td>-1</td>\n      <td>-1</td>\n      <td>-1</td>\n      <td>-1</td>\n    </tr>\n    <tr>\n      <th>21043817</th>\n      <td>20872933</td>\n      <td>0</td>\n      <td>0</td>\n      <td>0</td>\n      <td>0</td>\n      <td>0</td>\n      <td>0</td>\n      <td>0</td>\n    </tr>\n    <tr>\n      <th>21043818</th>\n      <td>20872934</td>\n      <td>0</td>\n      <td>0</td>\n      <td>0</td>\n      <td>0</td>\n      <td>0</td>\n      <td>0</td>\n      <td>0</td>\n    </tr>\n    <tr>\n      <th>21043819</th>\n      <td>20872935</td>\n      <td>10</td>\n      <td>1</td>\n      <td>1</td>\n      <td>1</td>\n      <td>1</td>\n      <td>1</td>\n      <td>1</td>\n    </tr>\n    <tr>\n      <th>21043820</th>\n      <td>20872936</td>\n      <td>2</td>\n      <td>0</td>\n      <td>1</td>\n      <td>0</td>\n      <td>1</td>\n      <td>0</td>\n      <td>0</td>\n    </tr>\n    <tr>\n      <th>21043821</th>\n      <td>20872937</td>\n      <td>5</td>\n      <td>0</td>\n      <td>1</td>\n      <td>0</td>\n      <td>0</td>\n      <td>0</td>\n      <td>0</td>\n    </tr>\n    <tr>\n      <th>21043822</th>\n      <td>20872938</td>\n      <td>0</td>\n      <td>0</td>\n      <td>0</td>\n      <td>0</td>\n      <td>0</td>\n      <td>0</td>\n      <td>0</td>\n    </tr>\n    <tr>\n      <th>21043823</th>\n      <td>20872939</td>\n      <td>1</td>\n      <td>-1</td>\n      <td>-1</td>\n      <td>-1</td>\n      <td>-1</td>\n      <td>-1</td>\n      <td>-1</td>\n    </tr>\n    <tr>\n      <th>21043824</th>\n      <td>20872940</td>\n      <td>0</td>\n      <td>0</td>\n      <td>0</td>\n      <td>0</td>\n      <td>0</td>\n      <td>0</td>\n      <td>0</td>\n    </tr>\n  </tbody>\n</table>\n</div>"
     },
     "metadata": {},
     "execution_count": 35
    }
   ],
   "source": [
    "dt = train[['id','a_count_combined','a_user_fer_count_delta_time','a_user_fing_count_delta_time','a_user_fering_count_delta_time','a_user_fing_count_mode','a_user_fer_count_mode','a_user_fering_count_mode']]\n",
    "dt = dt.sort_values( 'id' )\n",
    "dt = dt.reset_index( drop=True )\n",
    "save_memory( dt )\n",
    "dt.to_parquet( 'a_count_combined-final.parquet' )\n",
    "dt.tail(5)"
   ]
  },
  {
   "cell_type": "code",
   "execution_count": null,
   "metadata": {},
   "outputs": [],
   "source": []
  }
 ],
 "metadata": {
  "kernelspec": {
   "name": "rapids-0.16",
   "display_name": "rapids-0.16"
  },
  "language_info": {
   "codemirror_mode": {
    "name": "ipython",
    "version": 3
   },
   "file_extension": ".py",
   "mimetype": "text/x-python",
   "name": "python",
   "nbconvert_exporter": "python",
   "pygments_lexer": "ipython3",
   "version": "3.7.8-final"
  }
 },
 "nbformat": 4,
 "nbformat_minor": 4
}