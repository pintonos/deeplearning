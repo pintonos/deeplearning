{
 "cells": [
  {
   "cell_type": "markdown",
   "metadata": {},
   "source": [
    "Copyright (c) 2020, NVIDIA CORPORATION.\n",
    "Licensed under the Apache License, Version 2.0 (the \"License\");\n",
    "you may not use this file except in compliance with the License.\n",
    "You may obtain a copy of the License at\n",
    "    http://www.apache.org/licenses/LICENSE-2.0\n",
    "Unless required by applicable law or agreed to in writing, software\n",
    "distributed under the License is distributed on an \"AS IS\" BASIS,\n",
    "WITHOUT WARRANTIES OR CONDITIONS OF ANY KIND, either express or implied.\n",
    "See the License for the specific language governing permissions and\n",
    "limitations under the License."
   ]
  },
  {
   "cell_type": "code",
   "execution_count": 1,
   "metadata": {},
   "outputs": [],
   "source": [
    "import matplotlib.pyplot as plt\n",
    "%matplotlib inline  \n",
    "\n",
    "import pandas as pd\n",
    "import numpy as np\n",
    "import gc"
   ]
  },
  {
   "cell_type": "code",
   "execution_count": 2,
   "metadata": {},
   "outputs": [
    {
     "output_type": "stream",
     "name": "stdout",
     "text": [
      "(125780467, 25)\n"
     ]
    },
    {
     "output_type": "execute_result",
     "data": {
      "text/plain": [
       "                                            hashtags  tweet_id  media links  \\\n",
       "0  A3D61C03DBCE2F920350379414E0048B\\t867E9AB76EFF...         0      5   NaN   \n",
       "1                                                NaN         1      0   NaN   \n",
       "2                                                NaN         2      0   NaN   \n",
       "3                                                NaN         3      0   NaN   \n",
       "4                                                NaN         4      0   NaN   \n",
       "5                                                NaN         5      7   NaN   \n",
       "6  D8788CF06B4D91C8A6CED6296546409D\\t49A1E0B17ED6...         6      0   NaN   \n",
       "7                                                NaN         7      0   NaN   \n",
       "8                   38F9B8B232E7F776F62141A30ED2561A         8      9   NaN   \n",
       "9                                                NaN         9      0   NaN   \n",
       "\n",
       "  domains  tweet_type  language   timestamp  a_user_id  a_follower_count  ...  \\\n",
       "0     NaN           2        11  1581472519          0             11005  ...   \n",
       "1     NaN           0        59  1581124265          1               425  ...   \n",
       "2     NaN           2        38  1581166895          2            298336  ...   \n",
       "3     NaN           2        11  1581375781          3              1115  ...   \n",
       "4     NaN           1        54  1580996019          4             63473  ...   \n",
       "5     NaN           2        59  1581004518          5             29358  ...   \n",
       "6     NaN           1        54  1581209689          6               562  ...   \n",
       "7     NaN           2        54  1581511341          7            529009  ...   \n",
       "8     NaN           2        59  1581193484          8             26730  ...   \n",
       "9     NaN           2        47  1581433245          9              2664  ...   \n",
       "\n",
       "   b_following_count  b_is_verified  b_account_creation  b_follows_a  \\\n",
       "0                  6          False          1568940527         True   \n",
       "1                185          False          1541013180         True   \n",
       "2                 72          False          1573996260        False   \n",
       "3                440          False          1432084055         True   \n",
       "4                 32          False          1490688761        False   \n",
       "5                928          False          1577292324         True   \n",
       "6                928          False          1577292324         True   \n",
       "7                952          False          1335110299        False   \n",
       "8                522          False          1439811227        False   \n",
       "9                140          False          1568691506        False   \n",
       "\n",
       "        reply  retweet  retweet_comment        like  id  tr  \n",
       "0           0        0                0           0   0   0  \n",
       "1           0        0                0  1581174423   1   0  \n",
       "2           0        0                0  1581201675   2   0  \n",
       "3           0        0                0  1581437254   3   0  \n",
       "4           0        0                0           0   4   0  \n",
       "5  1581008849        0                0           0   5   0  \n",
       "6           0        0                0  1581209817   6   0  \n",
       "7           0        0                0  1581515122   7   0  \n",
       "8           0        0                0           0   8   0  \n",
       "9           0        0                0           0   9   0  \n",
       "\n",
       "[10 rows x 25 columns]"
      ],
      "text/html": "<div>\n<style scoped>\n    .dataframe tbody tr th:only-of-type {\n        vertical-align: middle;\n    }\n\n    .dataframe tbody tr th {\n        vertical-align: top;\n    }\n\n    .dataframe thead th {\n        text-align: right;\n    }\n</style>\n<table border=\"1\" class=\"dataframe\">\n  <thead>\n    <tr style=\"text-align: right;\">\n      <th></th>\n      <th>hashtags</th>\n      <th>tweet_id</th>\n      <th>media</th>\n      <th>links</th>\n      <th>domains</th>\n      <th>tweet_type</th>\n      <th>language</th>\n      <th>timestamp</th>\n      <th>a_user_id</th>\n      <th>a_follower_count</th>\n      <th>...</th>\n      <th>b_following_count</th>\n      <th>b_is_verified</th>\n      <th>b_account_creation</th>\n      <th>b_follows_a</th>\n      <th>reply</th>\n      <th>retweet</th>\n      <th>retweet_comment</th>\n      <th>like</th>\n      <th>id</th>\n      <th>tr</th>\n    </tr>\n  </thead>\n  <tbody>\n    <tr>\n      <th>0</th>\n      <td>A3D61C03DBCE2F920350379414E0048B\\t867E9AB76EFF...</td>\n      <td>0</td>\n      <td>5</td>\n      <td>NaN</td>\n      <td>NaN</td>\n      <td>2</td>\n      <td>11</td>\n      <td>1581472519</td>\n      <td>0</td>\n      <td>11005</td>\n      <td>...</td>\n      <td>6</td>\n      <td>False</td>\n      <td>1568940527</td>\n      <td>True</td>\n      <td>0</td>\n      <td>0</td>\n      <td>0</td>\n      <td>0</td>\n      <td>0</td>\n      <td>0</td>\n    </tr>\n    <tr>\n      <th>1</th>\n      <td>NaN</td>\n      <td>1</td>\n      <td>0</td>\n      <td>NaN</td>\n      <td>NaN</td>\n      <td>0</td>\n      <td>59</td>\n      <td>1581124265</td>\n      <td>1</td>\n      <td>425</td>\n      <td>...</td>\n      <td>185</td>\n      <td>False</td>\n      <td>1541013180</td>\n      <td>True</td>\n      <td>0</td>\n      <td>0</td>\n      <td>0</td>\n      <td>1581174423</td>\n      <td>1</td>\n      <td>0</td>\n    </tr>\n    <tr>\n      <th>2</th>\n      <td>NaN</td>\n      <td>2</td>\n      <td>0</td>\n      <td>NaN</td>\n      <td>NaN</td>\n      <td>2</td>\n      <td>38</td>\n      <td>1581166895</td>\n      <td>2</td>\n      <td>298336</td>\n      <td>...</td>\n      <td>72</td>\n      <td>False</td>\n      <td>1573996260</td>\n      <td>False</td>\n      <td>0</td>\n      <td>0</td>\n      <td>0</td>\n      <td>1581201675</td>\n      <td>2</td>\n      <td>0</td>\n    </tr>\n    <tr>\n      <th>3</th>\n      <td>NaN</td>\n      <td>3</td>\n      <td>0</td>\n      <td>NaN</td>\n      <td>NaN</td>\n      <td>2</td>\n      <td>11</td>\n      <td>1581375781</td>\n      <td>3</td>\n      <td>1115</td>\n      <td>...</td>\n      <td>440</td>\n      <td>False</td>\n      <td>1432084055</td>\n      <td>True</td>\n      <td>0</td>\n      <td>0</td>\n      <td>0</td>\n      <td>1581437254</td>\n      <td>3</td>\n      <td>0</td>\n    </tr>\n    <tr>\n      <th>4</th>\n      <td>NaN</td>\n      <td>4</td>\n      <td>0</td>\n      <td>NaN</td>\n      <td>NaN</td>\n      <td>1</td>\n      <td>54</td>\n      <td>1580996019</td>\n      <td>4</td>\n      <td>63473</td>\n      <td>...</td>\n      <td>32</td>\n      <td>False</td>\n      <td>1490688761</td>\n      <td>False</td>\n      <td>0</td>\n      <td>0</td>\n      <td>0</td>\n      <td>0</td>\n      <td>4</td>\n      <td>0</td>\n    </tr>\n    <tr>\n      <th>5</th>\n      <td>NaN</td>\n      <td>5</td>\n      <td>7</td>\n      <td>NaN</td>\n      <td>NaN</td>\n      <td>2</td>\n      <td>59</td>\n      <td>1581004518</td>\n      <td>5</td>\n      <td>29358</td>\n      <td>...</td>\n      <td>928</td>\n      <td>False</td>\n      <td>1577292324</td>\n      <td>True</td>\n      <td>1581008849</td>\n      <td>0</td>\n      <td>0</td>\n      <td>0</td>\n      <td>5</td>\n      <td>0</td>\n    </tr>\n    <tr>\n      <th>6</th>\n      <td>D8788CF06B4D91C8A6CED6296546409D\\t49A1E0B17ED6...</td>\n      <td>6</td>\n      <td>0</td>\n      <td>NaN</td>\n      <td>NaN</td>\n      <td>1</td>\n      <td>54</td>\n      <td>1581209689</td>\n      <td>6</td>\n      <td>562</td>\n      <td>...</td>\n      <td>928</td>\n      <td>False</td>\n      <td>1577292324</td>\n      <td>True</td>\n      <td>0</td>\n      <td>0</td>\n      <td>0</td>\n      <td>1581209817</td>\n      <td>6</td>\n      <td>0</td>\n    </tr>\n    <tr>\n      <th>7</th>\n      <td>NaN</td>\n      <td>7</td>\n      <td>0</td>\n      <td>NaN</td>\n      <td>NaN</td>\n      <td>2</td>\n      <td>54</td>\n      <td>1581511341</td>\n      <td>7</td>\n      <td>529009</td>\n      <td>...</td>\n      <td>952</td>\n      <td>False</td>\n      <td>1335110299</td>\n      <td>False</td>\n      <td>0</td>\n      <td>0</td>\n      <td>0</td>\n      <td>1581515122</td>\n      <td>7</td>\n      <td>0</td>\n    </tr>\n    <tr>\n      <th>8</th>\n      <td>38F9B8B232E7F776F62141A30ED2561A</td>\n      <td>8</td>\n      <td>9</td>\n      <td>NaN</td>\n      <td>NaN</td>\n      <td>2</td>\n      <td>59</td>\n      <td>1581193484</td>\n      <td>8</td>\n      <td>26730</td>\n      <td>...</td>\n      <td>522</td>\n      <td>False</td>\n      <td>1439811227</td>\n      <td>False</td>\n      <td>0</td>\n      <td>0</td>\n      <td>0</td>\n      <td>0</td>\n      <td>8</td>\n      <td>0</td>\n    </tr>\n    <tr>\n      <th>9</th>\n      <td>NaN</td>\n      <td>9</td>\n      <td>0</td>\n      <td>NaN</td>\n      <td>NaN</td>\n      <td>2</td>\n      <td>47</td>\n      <td>1581433245</td>\n      <td>9</td>\n      <td>2664</td>\n      <td>...</td>\n      <td>140</td>\n      <td>False</td>\n      <td>1568691506</td>\n      <td>False</td>\n      <td>0</td>\n      <td>0</td>\n      <td>0</td>\n      <td>0</td>\n      <td>9</td>\n      <td>0</td>\n    </tr>\n  </tbody>\n</table>\n<p>10 rows × 25 columns</p>\n</div>"
     },
     "metadata": {},
     "execution_count": 2
    }
   ],
   "source": [
    "#Reload the output of previous notebook\n",
    "\n",
    "df = pd.read_pickle('tmp.pkl')\n",
    "print( df.shape )\n",
    "df.head(10)"
   ]
  },
  {
   "cell_type": "code",
   "execution_count": 3,
   "metadata": {},
   "outputs": [
    {
     "output_type": "stream",
     "name": "stdout",
     "text": [
      "CPU times: user 4min 58s, sys: 7.34 s, total: 5min 5s\nWall time: 5min 5s\n"
     ]
    }
   ],
   "source": [
    "%%time\n",
    "\n",
    "df['len_hashtags'] = df['hashtags'].apply(lambda x: str(x).count('\\t')+1 if not(pd.isnull(x)) else 0)\n",
    "df['len_domains']  = df['domains'].apply(lambda x: str(x).count('\\t')+1 if not(pd.isnull(x)) else 0)\n",
    "df['len_links']    = df['links'].apply(lambda x: str(x).count('\\t')+1 if not(pd.isnull(x)) else 0)"
   ]
  },
  {
   "cell_type": "code",
   "execution_count": 4,
   "metadata": {
    "tags": []
   },
   "outputs": [
    {
     "output_type": "stream",
     "name": "stdout",
     "text": [
      "CPU times: user 1min 2s, sys: 1.92 s, total: 1min 4s\nWall time: 1min 4s\n"
     ]
    },
    {
     "output_type": "execute_result",
     "data": {
      "text/plain": [
       "381127"
      ]
     },
     "metadata": {},
     "execution_count": 4
    }
   ],
   "source": [
    "%%time\n",
    "var = df['domains'].fillna('').values.copy()\n",
    "gc.collect()\n",
    "\n",
    "PD = {}\n",
    "null = ''\n",
    "PD[null] = [0,0]\n",
    "count = 1\n",
    "for vs in var:\n",
    "    if vs != null:\n",
    "        for v in vs.split('\\t'):\n",
    "            if v not in PD:\n",
    "                PD[v] = [count,1]\n",
    "                count +=1\n",
    "            else:\n",
    "                x = PD[v]\n",
    "                x[1] += 1\n",
    "                PD[v] = x\n",
    "    else:\n",
    "        x = PD[null]\n",
    "        x[1] += 1\n",
    "        PD[null] = x\n",
    "        \n",
    "len(PD)"
   ]
  },
  {
   "cell_type": "code",
   "execution_count": 5,
   "metadata": {},
   "outputs": [
    {
     "output_type": "execute_result",
     "data": {
      "text/plain": [
       "[('', [0, 105591537]),\n",
       " ('215887F9F98736B07C823045CA9FA2EB', [1, 984]),\n",
       " ('3E17824EEB6725B91628B9C13C28894B', [2, 380]),\n",
       " ('FECA6F2E8244F2294BD2CE957C0602A9', [3, 834363]),\n",
       " ('79F1DCA7DD157C768CCDF4817A0D3999', [4, 170630]),\n",
       " ('96A073F6BDEEAEDF58E1C9DD1F41F4F8', [5, 263]),\n",
       " ('D0A12E9B144295D771A6A6D058337F65', [6, 388]),\n",
       " ('1336DD7055851C3EF96BBF8A6B0447DE', [7, 1235]),\n",
       " ('8A67C9075AF148F8C410E56DC9E6BA2C', [8, 10740]),\n",
       " ('E91CDEC8DC7ABF30592FA024616FF970', [9, 1227537])]"
      ]
     },
     "metadata": {},
     "execution_count": 5
    }
   ],
   "source": [
    "list(PD.items())[:10]"
   ]
  },
  {
   "cell_type": "code",
   "execution_count": 6,
   "metadata": {},
   "outputs": [
    {
     "output_type": "stream",
     "name": "stdout",
     "text": [
      "CPU times: user 5min 1s, sys: 6.26 s, total: 5min 7s\nWall time: 5min 6s\n"
     ]
    },
    {
     "output_type": "execute_result",
     "data": {
      "text/plain": [
       "(125780467, [[0], [0], [0], [0], [0], [0], [0], [0], [0], [0]])"
      ]
     },
     "metadata": {},
     "execution_count": 6
    }
   ],
   "source": [
    "%%time\n",
    "vari = []\n",
    "for vs in var:\n",
    "    if vs != null:\n",
    "        li=[]\n",
    "        lf=[]\n",
    "        for v in vs.split('\\t'):\n",
    "            if v!='':\n",
    "                li.append(PD[v][0])\n",
    "                lf.append(-PD[v][1])\n",
    "        vari.append( list(np.array(li)[np.argsort(lf)].astype(np.int32) ) )\n",
    "    else:\n",
    "        vari.append( [0] )\n",
    "del PD\n",
    "gc.collect()\n",
    "\n",
    "len(vari), vari[:10]"
   ]
  },
  {
   "cell_type": "code",
   "execution_count": 7,
   "metadata": {},
   "outputs": [
    {
     "output_type": "execute_result",
     "data": {
      "text/plain": [
       "0"
      ]
     },
     "metadata": {},
     "execution_count": 7
    }
   ],
   "source": [
    "#Get only the most frequent domain\n",
    "df['domains'] = np.array( [v[0] for v in vari ] ).astype( np.int32 )\n",
    "gc.collect()\n",
    "del vari, var\n",
    "gc.collect()"
   ]
  },
  {
   "cell_type": "code",
   "execution_count": 8,
   "metadata": {
    "tags": []
   },
   "outputs": [
    {
     "output_type": "stream",
     "name": "stdout",
     "text": [
      "CPU times: user 1min 18s, sys: 2.43 s, total: 1min 20s\nWall time: 1min 20s\n"
     ]
    },
    {
     "output_type": "execute_result",
     "data": {
      "text/plain": [
       "(5021417,\n",
       " [('', [0, 105591537]),\n",
       "  ('172DBB18AD23E0AA09074F0C5DBA23D6', [1, 39]),\n",
       "  ('F4A3AA58F9231C4B9FDE4FCDA1BA557A', [2, 47]),\n",
       "  ('3A8007779EA9AFDC7196FC405506A61B', [3, 9]),\n",
       "  ('CBFC53143ED4B60C86C6716CC252687F', [4, 39]),\n",
       "  ('8D976CF2A1ACFB58A10C4C8E0EE71C9C', [5, 2]),\n",
       "  ('41DD3CDA748D3F95900DF8E69965DE6C', [6, 1]),\n",
       "  ('EAED1FB7E20CDE04095A516621E03C24', [7, 1]),\n",
       "  ('F3D35089AD651FAA1F8FBB020AF10ED7', [8, 8]),\n",
       "  ('D7BA8D1BE90C19C024DE060DEE6D0E95', [9, 8])])"
      ]
     },
     "metadata": {},
     "execution_count": 8
    }
   ],
   "source": [
    "%%time\n",
    "var = df['links'].fillna('').values.copy()\n",
    "gc.collect()\n",
    "\n",
    "PD = {}\n",
    "null = ''\n",
    "PD[null] = [0,0]\n",
    "count = 1\n",
    "for vs in var:\n",
    "    if vs != null:\n",
    "        for v in vs.split('\\t'):\n",
    "            if v not in PD:\n",
    "                PD[v] = [count,1]\n",
    "                count +=1\n",
    "            else:\n",
    "                x = PD[v]\n",
    "                x[1] += 1\n",
    "                PD[v] = x\n",
    "    else:\n",
    "        x = PD[null]\n",
    "        x[1] += 1\n",
    "        PD[null] = x\n",
    "        \n",
    "len(PD),list(PD.items())[:10]"
   ]
  },
  {
   "cell_type": "code",
   "execution_count": 9,
   "metadata": {},
   "outputs": [
    {
     "output_type": "stream",
     "name": "stdout",
     "text": [
      "CPU times: user 5min 15s, sys: 6.12 s, total: 5min 21s\nWall time: 5min 20s\n"
     ]
    },
    {
     "output_type": "execute_result",
     "data": {
      "text/plain": [
       "(125780467, [[0], [0], [0], [0], [0], [0], [0], [0], [0], [0]])"
      ]
     },
     "metadata": {},
     "execution_count": 9
    }
   ],
   "source": [
    "%%time\n",
    "vari = []\n",
    "for vs in var:\n",
    "    if vs != null:\n",
    "        li=[]\n",
    "        lf=[]\n",
    "        for v in vs.split('\\t'):\n",
    "            if v!='':\n",
    "                li.append(PD[v][0])\n",
    "                lf.append(-PD[v][1])\n",
    "        vari.append( list(np.array(li)[np.argsort(lf)].astype(np.int32) ) )\n",
    "    else:\n",
    "        vari.append( [0] )\n",
    "del PD\n",
    "gc.collect()\n",
    "\n",
    "len(vari), vari[:10]"
   ]
  },
  {
   "cell_type": "code",
   "execution_count": 10,
   "metadata": {},
   "outputs": [
    {
     "output_type": "execute_result",
     "data": {
      "text/plain": [
       "0"
      ]
     },
     "metadata": {},
     "execution_count": 10
    }
   ],
   "source": [
    "#Get only the most frequent link\n",
    "df['links'] = np.array( [v[0] for v in vari ] ).astype( np.int32 )\n",
    "gc.collect()\n",
    "del vari, var\n",
    "gc.collect()"
   ]
  },
  {
   "cell_type": "code",
   "execution_count": null,
   "metadata": {},
   "outputs": [],
   "source": []
  },
  {
   "cell_type": "code",
   "execution_count": 11,
   "metadata": {
    "tags": []
   },
   "outputs": [
    {
     "output_type": "stream",
     "name": "stdout",
     "text": [
      "CPU times: user 1min 44s, sys: 2.32 s, total: 1min 46s\nWall time: 1min 46s\n"
     ]
    },
    {
     "output_type": "execute_result",
     "data": {
      "text/plain": [
       "(2754023,\n",
       " [('', [0, 98303594]),\n",
       "  ('A3D61C03DBCE2F920350379414E0048B', [1, 1299]),\n",
       "  ('867E9AB76EFF8C7EF9DE926710DDBC99', [2, 108]),\n",
       "  ('D8788CF06B4D91C8A6CED6296546409D', [3, 4749]),\n",
       "  ('49A1E0B17ED69FDB02A736B85F953BFD', [4, 27]),\n",
       "  ('38F9B8B232E7F776F62141A30ED2561A', [5, 185]),\n",
       "  ('CD46B9E19F28918E38A893A71D7323ED', [6, 35]),\n",
       "  ('0C2CE69D7151A003C99145F2071FA76E', [7, 254]),\n",
       "  ('053074B6C39ADD256B984F5498E431EC', [8, 19494]),\n",
       "  ('46A5CAAF8FE1D26E72A54A96285C8CAC', [9, 22447])])"
      ]
     },
     "metadata": {},
     "execution_count": 11
    }
   ],
   "source": [
    "%%time\n",
    "var = df['hashtags'].fillna('').values.copy()\n",
    "gc.collect()\n",
    "\n",
    "PD = {}\n",
    "null = ''\n",
    "PD[null] = [0,0]\n",
    "count = 1\n",
    "for vs in var:\n",
    "    if vs != null:\n",
    "        for v in vs.split('\\t'):\n",
    "            if v not in PD:\n",
    "                PD[v] = [count,1]\n",
    "                count +=1\n",
    "            else:\n",
    "                x = PD[v]\n",
    "                x[1] += 1\n",
    "                PD[v] = x\n",
    "    else:\n",
    "        x = PD[null]\n",
    "        x[1] += 1\n",
    "        PD[null] = x\n",
    "        \n",
    "len(PD),list(PD.items())[:10]"
   ]
  },
  {
   "cell_type": "code",
   "execution_count": 12,
   "metadata": {
    "tags": []
   },
   "outputs": [
    {
     "output_type": "stream",
     "name": "stdout",
     "text": [
      "CPU times: user 7min 29s, sys: 7.87 s, total: 7min 37s\nWall time: 7min 36s\n"
     ]
    },
    {
     "output_type": "execute_result",
     "data": {
      "text/plain": [
       "(125780467, [[1, 2], [0], [0], [0], [0], [0], [3, 4], [0], [5], [0]])"
      ]
     },
     "metadata": {},
     "execution_count": 12
    }
   ],
   "source": [
    "%%time\n",
    "vari = []\n",
    "for vs in var:\n",
    "    if vs != null:\n",
    "        li=[]\n",
    "        lf=[]\n",
    "        for v in vs.split('\\t'):\n",
    "            if v!='':\n",
    "                li.append(PD[v][0])\n",
    "                lf.append(-PD[v][1])\n",
    "        vari.append( list(np.array(li)[np.argsort(lf)].astype(np.int32) ) )\n",
    "    else:\n",
    "        vari.append( [0] )\n",
    "del PD\n",
    "gc.collect()\n",
    "\n",
    "len(vari), vari[:10]"
   ]
  },
  {
   "cell_type": "code",
   "execution_count": 13,
   "metadata": {},
   "outputs": [
    {
     "output_type": "execute_result",
     "data": {
      "text/plain": [
       "0"
      ]
     },
     "metadata": {},
     "execution_count": 13
    }
   ],
   "source": [
    "#Get only the most frequent hashtag\n",
    "df['hashtags'] = np.array( [v[0] for v in vari ] ).astype( np.int32 )\n",
    "gc.collect()\n",
    "del vari, var\n",
    "gc.collect()"
   ]
  },
  {
   "cell_type": "code",
   "execution_count": 14,
   "metadata": {
    "scrolled": true
   },
   "outputs": [
    {
     "output_type": "execute_result",
     "data": {
      "text/plain": [
       "         hashtags  tweet_id  media  links  domains  tweet_type  language  \\\n",
       "9765311         0  59026843      0      0        0           0        54   \n",
       "9765312         0  61226758      0      0        0           1        54   \n",
       "9765313       251  50224170      0      0        0           2        54   \n",
       "9765314         0  61226759      9      0        0           1         4   \n",
       "9765315   2272312  52324695      7      0        0           2        54   \n",
       "9765316     10450  61226760      5      0        0           2        11   \n",
       "9765317    530272  61226761      0      0        0           2        11   \n",
       "9765318         0  61226762      0      0        0           2        11   \n",
       "9765319     14428  61226763      0      0        0           2        11   \n",
       "9765320         0  61226764      0      0        0           2        11   \n",
       "\n",
       "          timestamp  a_user_id  a_follower_count  ...  b_follows_a  reply  \\\n",
       "9765311  1582001186      47578             71562  ...        False      0   \n",
       "9765312  1582091134     394774             17747  ...        False      0   \n",
       "9765313  1581860730   11085502             93812  ...        False      0   \n",
       "9765314  1582086464     129714              4386  ...        False      0   \n",
       "9765315  1582095589      46438             17868  ...        False      0   \n",
       "9765316  1581719195    1007938              1472  ...         True      0   \n",
       "9765317  1581665518     582771              4236  ...         True      0   \n",
       "9765318  1581602829    7112774              1943  ...         True      0   \n",
       "9765319  1581722172     188957              4884  ...         True      0   \n",
       "9765320  1581813247     914057               309  ...         True      0   \n",
       "\n",
       "         retweet  retweet_comment        like         id  tr  len_hashtags  \\\n",
       "9765311        0                0  1582001700  125780457   2             0   \n",
       "9765312        0                0           0  125780458   2             0   \n",
       "9765313        0                0           0  125780459   2             2   \n",
       "9765314        0                0  1582091916  125780460   2             0   \n",
       "9765315        0                0  1582102157  125780461   2             1   \n",
       "9765316        0                0  1581726864  125780462   2             6   \n",
       "9765317        0                0  1581667126  125780463   2             1   \n",
       "9765318        0                0  1581604985  125780464   2             0   \n",
       "9765319        0                0  1581726745  125780465   2             4   \n",
       "9765320        0                0  1581813372  125780466   2             0   \n",
       "\n",
       "         len_domains  len_links  \n",
       "9765311            0          0  \n",
       "9765312            0          0  \n",
       "9765313            0          0  \n",
       "9765314            0          0  \n",
       "9765315            0          0  \n",
       "9765316            0          0  \n",
       "9765317            0          0  \n",
       "9765318            0          0  \n",
       "9765319            0          0  \n",
       "9765320            0          0  \n",
       "\n",
       "[10 rows x 28 columns]"
      ],
      "text/html": "<div>\n<style scoped>\n    .dataframe tbody tr th:only-of-type {\n        vertical-align: middle;\n    }\n\n    .dataframe tbody tr th {\n        vertical-align: top;\n    }\n\n    .dataframe thead th {\n        text-align: right;\n    }\n</style>\n<table border=\"1\" class=\"dataframe\">\n  <thead>\n    <tr style=\"text-align: right;\">\n      <th></th>\n      <th>hashtags</th>\n      <th>tweet_id</th>\n      <th>media</th>\n      <th>links</th>\n      <th>domains</th>\n      <th>tweet_type</th>\n      <th>language</th>\n      <th>timestamp</th>\n      <th>a_user_id</th>\n      <th>a_follower_count</th>\n      <th>...</th>\n      <th>b_follows_a</th>\n      <th>reply</th>\n      <th>retweet</th>\n      <th>retweet_comment</th>\n      <th>like</th>\n      <th>id</th>\n      <th>tr</th>\n      <th>len_hashtags</th>\n      <th>len_domains</th>\n      <th>len_links</th>\n    </tr>\n  </thead>\n  <tbody>\n    <tr>\n      <th>9765311</th>\n      <td>0</td>\n      <td>59026843</td>\n      <td>0</td>\n      <td>0</td>\n      <td>0</td>\n      <td>0</td>\n      <td>54</td>\n      <td>1582001186</td>\n      <td>47578</td>\n      <td>71562</td>\n      <td>...</td>\n      <td>False</td>\n      <td>0</td>\n      <td>0</td>\n      <td>0</td>\n      <td>1582001700</td>\n      <td>125780457</td>\n      <td>2</td>\n      <td>0</td>\n      <td>0</td>\n      <td>0</td>\n    </tr>\n    <tr>\n      <th>9765312</th>\n      <td>0</td>\n      <td>61226758</td>\n      <td>0</td>\n      <td>0</td>\n      <td>0</td>\n      <td>1</td>\n      <td>54</td>\n      <td>1582091134</td>\n      <td>394774</td>\n      <td>17747</td>\n      <td>...</td>\n      <td>False</td>\n      <td>0</td>\n      <td>0</td>\n      <td>0</td>\n      <td>0</td>\n      <td>125780458</td>\n      <td>2</td>\n      <td>0</td>\n      <td>0</td>\n      <td>0</td>\n    </tr>\n    <tr>\n      <th>9765313</th>\n      <td>251</td>\n      <td>50224170</td>\n      <td>0</td>\n      <td>0</td>\n      <td>0</td>\n      <td>2</td>\n      <td>54</td>\n      <td>1581860730</td>\n      <td>11085502</td>\n      <td>93812</td>\n      <td>...</td>\n      <td>False</td>\n      <td>0</td>\n      <td>0</td>\n      <td>0</td>\n      <td>0</td>\n      <td>125780459</td>\n      <td>2</td>\n      <td>2</td>\n      <td>0</td>\n      <td>0</td>\n    </tr>\n    <tr>\n      <th>9765314</th>\n      <td>0</td>\n      <td>61226759</td>\n      <td>9</td>\n      <td>0</td>\n      <td>0</td>\n      <td>1</td>\n      <td>4</td>\n      <td>1582086464</td>\n      <td>129714</td>\n      <td>4386</td>\n      <td>...</td>\n      <td>False</td>\n      <td>0</td>\n      <td>0</td>\n      <td>0</td>\n      <td>1582091916</td>\n      <td>125780460</td>\n      <td>2</td>\n      <td>0</td>\n      <td>0</td>\n      <td>0</td>\n    </tr>\n    <tr>\n      <th>9765315</th>\n      <td>2272312</td>\n      <td>52324695</td>\n      <td>7</td>\n      <td>0</td>\n      <td>0</td>\n      <td>2</td>\n      <td>54</td>\n      <td>1582095589</td>\n      <td>46438</td>\n      <td>17868</td>\n      <td>...</td>\n      <td>False</td>\n      <td>0</td>\n      <td>0</td>\n      <td>0</td>\n      <td>1582102157</td>\n      <td>125780461</td>\n      <td>2</td>\n      <td>1</td>\n      <td>0</td>\n      <td>0</td>\n    </tr>\n    <tr>\n      <th>9765316</th>\n      <td>10450</td>\n      <td>61226760</td>\n      <td>5</td>\n      <td>0</td>\n      <td>0</td>\n      <td>2</td>\n      <td>11</td>\n      <td>1581719195</td>\n      <td>1007938</td>\n      <td>1472</td>\n      <td>...</td>\n      <td>True</td>\n      <td>0</td>\n      <td>0</td>\n      <td>0</td>\n      <td>1581726864</td>\n      <td>125780462</td>\n      <td>2</td>\n      <td>6</td>\n      <td>0</td>\n      <td>0</td>\n    </tr>\n    <tr>\n      <th>9765317</th>\n      <td>530272</td>\n      <td>61226761</td>\n      <td>0</td>\n      <td>0</td>\n      <td>0</td>\n      <td>2</td>\n      <td>11</td>\n      <td>1581665518</td>\n      <td>582771</td>\n      <td>4236</td>\n      <td>...</td>\n      <td>True</td>\n      <td>0</td>\n      <td>0</td>\n      <td>0</td>\n      <td>1581667126</td>\n      <td>125780463</td>\n      <td>2</td>\n      <td>1</td>\n      <td>0</td>\n      <td>0</td>\n    </tr>\n    <tr>\n      <th>9765318</th>\n      <td>0</td>\n      <td>61226762</td>\n      <td>0</td>\n      <td>0</td>\n      <td>0</td>\n      <td>2</td>\n      <td>11</td>\n      <td>1581602829</td>\n      <td>7112774</td>\n      <td>1943</td>\n      <td>...</td>\n      <td>True</td>\n      <td>0</td>\n      <td>0</td>\n      <td>0</td>\n      <td>1581604985</td>\n      <td>125780464</td>\n      <td>2</td>\n      <td>0</td>\n      <td>0</td>\n      <td>0</td>\n    </tr>\n    <tr>\n      <th>9765319</th>\n      <td>14428</td>\n      <td>61226763</td>\n      <td>0</td>\n      <td>0</td>\n      <td>0</td>\n      <td>2</td>\n      <td>11</td>\n      <td>1581722172</td>\n      <td>188957</td>\n      <td>4884</td>\n      <td>...</td>\n      <td>True</td>\n      <td>0</td>\n      <td>0</td>\n      <td>0</td>\n      <td>1581726745</td>\n      <td>125780465</td>\n      <td>2</td>\n      <td>4</td>\n      <td>0</td>\n      <td>0</td>\n    </tr>\n    <tr>\n      <th>9765320</th>\n      <td>0</td>\n      <td>61226764</td>\n      <td>0</td>\n      <td>0</td>\n      <td>0</td>\n      <td>2</td>\n      <td>11</td>\n      <td>1581813247</td>\n      <td>914057</td>\n      <td>309</td>\n      <td>...</td>\n      <td>True</td>\n      <td>0</td>\n      <td>0</td>\n      <td>0</td>\n      <td>1581813372</td>\n      <td>125780466</td>\n      <td>2</td>\n      <td>0</td>\n      <td>0</td>\n      <td>0</td>\n    </tr>\n  </tbody>\n</table>\n<p>10 rows × 28 columns</p>\n</div>"
     },
     "metadata": {},
     "execution_count": 14
    }
   ],
   "source": [
    "df.tail(10)"
   ]
  },
  {
   "cell_type": "code",
   "execution_count": 15,
   "metadata": {},
   "outputs": [
    {
     "output_type": "execute_result",
     "data": {
      "text/plain": [
       "hashtags               int32\n",
       "tweet_id              uint32\n",
       "media                  uint8\n",
       "links                  int32\n",
       "domains                int32\n",
       "tweet_type             uint8\n",
       "language               uint8\n",
       "timestamp             uint32\n",
       "a_user_id             uint32\n",
       "a_follower_count      uint32\n",
       "a_following_count     uint32\n",
       "a_is_verified           bool\n",
       "a_account_creation    uint32\n",
       "b_user_id             uint32\n",
       "b_follower_count      uint32\n",
       "b_following_count     uint32\n",
       "b_is_verified           bool\n",
       "b_account_creation    uint32\n",
       "b_follows_a             bool\n",
       "reply                 uint32\n",
       "retweet               uint32\n",
       "retweet_comment       uint32\n",
       "like                  uint32\n",
       "id                    uint32\n",
       "tr                     int64\n",
       "len_hashtags           int64\n",
       "len_domains            int64\n",
       "len_links              int64\n",
       "dtype: object"
      ]
     },
     "metadata": {},
     "execution_count": 15
    }
   ],
   "source": [
    "df.dtypes"
   ]
  },
  {
   "cell_type": "code",
   "execution_count": 16,
   "metadata": {},
   "outputs": [
    {
     "output_type": "execute_result",
     "data": {
      "text/plain": [
       "((106254462, 28), (9760684, 28), (9765321, 28))"
      ]
     },
     "metadata": {},
     "execution_count": 16
    }
   ],
   "source": [
    "train = df.loc[(df.tr == 0)].copy()\n",
    "test0 = df.loc[(df.tr == 1)].copy()\n",
    "test1 = df.loc[(df.tr == 2)].copy()\n",
    "\n",
    "train.shape, test0.shape, test1.shape"
   ]
  },
  {
   "cell_type": "code",
   "execution_count": 17,
   "metadata": {},
   "outputs": [
    {
     "output_type": "execute_result",
     "data": {
      "text/plain": [
       "0"
      ]
     },
     "metadata": {},
     "execution_count": 17
    }
   ],
   "source": [
    "train.to_parquet( 'train.parquet' )\n",
    "test0.to_parquet( 'valid.parquet' )\n",
    "test1.to_parquet( 'test.parquet' )\n",
    "gc.collect()"
   ]
  },
  {
   "cell_type": "code",
   "execution_count": null,
   "metadata": {},
   "outputs": [],
   "source": []
  }
 ],
 "metadata": {
  "kernelspec": {
   "display_name": "Python 3",
   "language": "python",
   "name": "python3"
  },
  "language_info": {
   "codemirror_mode": {
    "name": "ipython",
    "version": 3
   },
   "file_extension": ".py",
   "mimetype": "text/x-python",
   "name": "python",
   "nbconvert_exporter": "python",
   "pygments_lexer": "ipython3",
   "version": "3.6.3-final"
  }
 },
 "nbformat": 4,
 "nbformat_minor": 4
}