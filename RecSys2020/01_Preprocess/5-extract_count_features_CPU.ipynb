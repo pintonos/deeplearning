{
 "cells": [
  {
   "cell_type": "markdown",
   "metadata": {},
   "source": [
    "Copyright (c) 2020, NVIDIA CORPORATION.\n",
    "Licensed under the Apache License, Version 2.0 (the \"License\");\n",
    "you may not use this file except in compliance with the License.\n",
    "You may obtain a copy of the License at\n",
    "    http://www.apache.org/licenses/LICENSE-2.0\n",
    "Unless required by applicable law or agreed to in writing, software\n",
    "distributed under the License is distributed on an \"AS IS\" BASIS,\n",
    "WITHOUT WARRANTIES OR CONDITIONS OF ANY KIND, either express or implied.\n",
    "See the License for the specific language governing permissions and\n",
    "limitations under the License."
   ]
  },
  {
   "cell_type": "code",
   "execution_count": 1,
   "metadata": {},
   "outputs": [],
   "source": [
    "import os, time\n",
    "start = time.time()"
   ]
  },
  {
   "cell_type": "code",
   "execution_count": 2,
   "metadata": {},
   "outputs": [],
   "source": [
    "import pandas as pd, numpy as np, gc\n",
    "from datetime import datetime\n",
    "import joblib\n",
    "\n",
    "import matplotlib.pyplot as plt\n",
    "pd.set_option('display.max_columns', 500)\n",
    "pd.set_option('display.max_rows', 500)"
   ]
  },
  {
   "cell_type": "code",
   "execution_count": 3,
   "metadata": {},
   "outputs": [],
   "source": [
    "from numba import jit, njit, prange\n",
    "from sklearn.metrics import precision_recall_curve, auc, log_loss\n",
    "\n",
    "def compute_prauc(gt, pred, nafill=True):\n",
    "    if nafill:\n",
    "        pred[ np.isnan(pred) ] = np.nanmean( pred )\n",
    "    prec, recall, thresh = precision_recall_curve(gt, pred)\n",
    "    prauc = auc(recall, prec)\n",
    "    return prauc\n",
    "\n",
    "@jit\n",
    "def fast_auc(y_true, y_prob):\n",
    "    y_true = np.asarray(y_true)\n",
    "    y_true = y_true[np.argsort(y_prob)]\n",
    "    nfalse = 0\n",
    "    auc = 0\n",
    "    n = len(y_true)\n",
    "    for i in range(n):\n",
    "        y_i = y_true[i]\n",
    "        nfalse += (1 - y_i)\n",
    "        auc += y_i * nfalse\n",
    "    auc /= (nfalse * (n - nfalse))\n",
    "    return auc\n",
    "\n",
    "@njit\n",
    "def numba_log_loss(y,x):\n",
    "    n = x.shape[0]\n",
    "    ll = 0.\n",
    "    for i in prange(n):\n",
    "        if y[i]<=0.:\n",
    "            ll += np.log(1-x[i] + 1e-15 )\n",
    "        else:\n",
    "            ll += np.log(x[i] + 1e-15)\n",
    "    return -ll / n\n",
    "\n",
    "def compute_rce(gt , pred, nafill=True, verbose=0):\n",
    "    if nafill:\n",
    "        pred[ np.isnan(pred) ] = np.nanmean( pred )\n",
    "        \n",
    "    cross_entropy = numba_log_loss( gt, pred  )\n",
    "    \n",
    "    yt = np.mean(gt>0)     \n",
    "    strawman_cross_entropy = -(yt*np.log(yt) + (1 - yt)*np.log(1 - yt))\n",
    "    \n",
    "    if verbose:\n",
    "        print( \"logloss: {0:.5f} / {1:.5f} = {2:.5f}\".format(cross_entropy, strawman_cross_entropy, cross_entropy/strawman_cross_entropy))\n",
    "        print( 'mean:    {0:.5f} / {1:.5f}'.format( np.nanmean( pred ) , yt  ) )\n",
    "    \n",
    "    return (1.0 - cross_entropy/strawman_cross_entropy)*100.0\n"
   ]
  },
  {
   "cell_type": "code",
   "execution_count": 4,
   "metadata": {},
   "outputs": [],
   "source": [
    "def save_memory( df ):\n",
    "    features = df.columns\n",
    "    for i in range( df.shape[1] ):\n",
    "        if df.dtypes[i] == 'uint8':\n",
    "            df[features[i]] = df[features[i]].astype( np.int8 )\n",
    "            gc.collect()\n",
    "        elif df.dtypes[i] == 'bool':\n",
    "            df[features[i]] = df[features[i]].astype( np.int8 )\n",
    "            gc.collect()\n",
    "        elif df.dtypes[i] == 'uint32':\n",
    "            df[features[i]] = df[features[i]].astype( np.int32 )\n",
    "            gc.collect()\n",
    "        elif df.dtypes[i] == 'int64':\n",
    "            df[features[i]] = df[features[i]].astype( np.int32 )\n",
    "            gc.collect()\n",
    "        elif df.dtypes[i] == 'float64':\n",
    "            df[features[i]] = df[features[i]].astype( np.float32 )\n",
    "            gc.collect()"
   ]
  },
  {
   "cell_type": "code",
   "execution_count": null,
   "metadata": {},
   "outputs": [],
   "source": []
  },
  {
   "cell_type": "markdown",
   "metadata": {},
   "source": [
    "# Load Train"
   ]
  },
  {
   "cell_type": "code",
   "execution_count": 5,
   "metadata": {},
   "outputs": [
    {
     "output_type": "execute_result",
     "data": {
      "text/plain": [
       "((106254462, 28), (9760684, 28), (9765321, 28))"
      ]
     },
     "metadata": {},
     "execution_count": 5
    }
   ],
   "source": [
    "train = pd.read_parquet( 'train.parquet' )\n",
    "test0 = pd.read_parquet( 'valid.parquet' )\n",
    "test1 = pd.read_parquet( 'test.parquet' )\n",
    "gc.collect()\n",
    "\n",
    "train['tr'] = 0\n",
    "test0['tr'] = 1\n",
    "test1['tr'] = 1\n",
    "\n",
    "train.shape, test0.shape, test1.shape"
   ]
  },
  {
   "cell_type": "code",
   "execution_count": 6,
   "metadata": {},
   "outputs": [
    {
     "output_type": "execute_result",
     "data": {
      "text/plain": [
       "(125780467, 28)"
      ]
     },
     "metadata": {},
     "execution_count": 6
    }
   ],
   "source": [
    "train = pd.concat( (train,test0,test1), sort=False )\n",
    "gc.collect()\n",
    "del test0,test1\n",
    "gc.collect()\n",
    "\n",
    "train.shape"
   ]
  },
  {
   "cell_type": "code",
   "execution_count": 7,
   "metadata": {},
   "outputs": [
    {
     "output_type": "stream",
     "name": "stdout",
     "text": [
      "CPU times: user 1min 30s, sys: 24.6 s, total: 1min 54s\nWall time: 1min 54s\n"
     ]
    },
    {
     "output_type": "execute_result",
     "data": {
      "text/plain": [
       "0"
      ]
     },
     "metadata": {},
     "execution_count": 7
    }
   ],
   "source": [
    "%%time\n",
    "train = train.sort_values('timestamp').reset_index(drop=True) #TIME ORDER\n",
    "gc.collect()"
   ]
  },
  {
   "cell_type": "code",
   "execution_count": 8,
   "metadata": {},
   "outputs": [
    {
     "output_type": "execute_result",
     "data": {
      "text/plain": [
       "0"
      ]
     },
     "metadata": {},
     "execution_count": 8
    }
   ],
   "source": [
    "train.loc[ train.reply>0, 'reply' ] = 1\n",
    "train.loc[ train.retweet>0, 'retweet' ] = 1\n",
    "train.loc[ train.retweet_comment>0, 'retweet_comment' ] = 1\n",
    "train.loc[ train.like>0, 'like' ] = 1\n",
    "\n",
    "train['engage'] = 0\n",
    "train.loc[ (train.reply>0)|(train.retweet>0)|(train.retweet_comment>0)|(train.like>0)  , 'engage'] = 1\n",
    "gc.collect()"
   ]
  },
  {
   "cell_type": "code",
   "execution_count": 9,
   "metadata": {},
   "outputs": [
    {
     "output_type": "execute_result",
     "data": {
      "text/plain": [
       "   hashtags  tweet_id  media   links  domains  tweet_type  language  \\\n",
       "0         0     19329      5       0        0           2        54   \n",
       "1      2839   3268367      9  425779       12           2        54   \n",
       "2       594    736879      5  109298      542           2        54   \n",
       "3         0   3403570      9       0        0           2        54   \n",
       "4    732011   8323311      5  948558       12           2        54   \n",
       "\n",
       "    timestamp  a_user_id  a_follower_count  a_following_count  a_is_verified  \\\n",
       "0  1580947200      16906           9794149                 90           True   \n",
       "1  1580947200     233502           1661107                125           True   \n",
       "2  1580947200       5604          12029492                 14           True   \n",
       "3  1580947200      10859           4398172                825           True   \n",
       "4  1580947200      52763            246867                559           True   \n",
       "\n",
       "   a_account_creation  b_user_id  b_follower_count  b_following_count  \\\n",
       "0          1321282652   18916826               163                111   \n",
       "1          1257040330   19649316               134                165   \n",
       "2          1239741288   15045821               100                229   \n",
       "3          1236008126   15883237                 5                130   \n",
       "4          1219588461    4466763              1233                747   \n",
       "\n",
       "   b_is_verified  b_account_creation  b_follows_a  reply  retweet  \\\n",
       "0          False          1543074641        False      0        0   \n",
       "1          False          1351006912        False      0        0   \n",
       "2          False          1348592309        False      0        0   \n",
       "3          False          1404447043        False      0        0   \n",
       "4          False          1314638570        False      0        0   \n",
       "\n",
       "   retweet_comment  like        id  tr  len_hashtags  len_domains  len_links  \\\n",
       "0                0     0  31145094   0             0            0          0   \n",
       "1                0     0  38859618   0             3            1          1   \n",
       "2                0     0  96650689   0             1            1          1   \n",
       "3                0     0   7549091   0             0            0          0   \n",
       "4                0     0  43687561   0             1            1          1   \n",
       "\n",
       "   engage  \n",
       "0       0  \n",
       "1       0  \n",
       "2       0  \n",
       "3       0  \n",
       "4       0  "
      ],
      "text/html": "<div>\n<style scoped>\n    .dataframe tbody tr th:only-of-type {\n        vertical-align: middle;\n    }\n\n    .dataframe tbody tr th {\n        vertical-align: top;\n    }\n\n    .dataframe thead th {\n        text-align: right;\n    }\n</style>\n<table border=\"1\" class=\"dataframe\">\n  <thead>\n    <tr style=\"text-align: right;\">\n      <th></th>\n      <th>hashtags</th>\n      <th>tweet_id</th>\n      <th>media</th>\n      <th>links</th>\n      <th>domains</th>\n      <th>tweet_type</th>\n      <th>language</th>\n      <th>timestamp</th>\n      <th>a_user_id</th>\n      <th>a_follower_count</th>\n      <th>a_following_count</th>\n      <th>a_is_verified</th>\n      <th>a_account_creation</th>\n      <th>b_user_id</th>\n      <th>b_follower_count</th>\n      <th>b_following_count</th>\n      <th>b_is_verified</th>\n      <th>b_account_creation</th>\n      <th>b_follows_a</th>\n      <th>reply</th>\n      <th>retweet</th>\n      <th>retweet_comment</th>\n      <th>like</th>\n      <th>id</th>\n      <th>tr</th>\n      <th>len_hashtags</th>\n      <th>len_domains</th>\n      <th>len_links</th>\n      <th>engage</th>\n    </tr>\n  </thead>\n  <tbody>\n    <tr>\n      <th>0</th>\n      <td>0</td>\n      <td>19329</td>\n      <td>5</td>\n      <td>0</td>\n      <td>0</td>\n      <td>2</td>\n      <td>54</td>\n      <td>1580947200</td>\n      <td>16906</td>\n      <td>9794149</td>\n      <td>90</td>\n      <td>True</td>\n      <td>1321282652</td>\n      <td>18916826</td>\n      <td>163</td>\n      <td>111</td>\n      <td>False</td>\n      <td>1543074641</td>\n      <td>False</td>\n      <td>0</td>\n      <td>0</td>\n      <td>0</td>\n      <td>0</td>\n      <td>31145094</td>\n      <td>0</td>\n      <td>0</td>\n      <td>0</td>\n      <td>0</td>\n      <td>0</td>\n    </tr>\n    <tr>\n      <th>1</th>\n      <td>2839</td>\n      <td>3268367</td>\n      <td>9</td>\n      <td>425779</td>\n      <td>12</td>\n      <td>2</td>\n      <td>54</td>\n      <td>1580947200</td>\n      <td>233502</td>\n      <td>1661107</td>\n      <td>125</td>\n      <td>True</td>\n      <td>1257040330</td>\n      <td>19649316</td>\n      <td>134</td>\n      <td>165</td>\n      <td>False</td>\n      <td>1351006912</td>\n      <td>False</td>\n      <td>0</td>\n      <td>0</td>\n      <td>0</td>\n      <td>0</td>\n      <td>38859618</td>\n      <td>0</td>\n      <td>3</td>\n      <td>1</td>\n      <td>1</td>\n      <td>0</td>\n    </tr>\n    <tr>\n      <th>2</th>\n      <td>594</td>\n      <td>736879</td>\n      <td>5</td>\n      <td>109298</td>\n      <td>542</td>\n      <td>2</td>\n      <td>54</td>\n      <td>1580947200</td>\n      <td>5604</td>\n      <td>12029492</td>\n      <td>14</td>\n      <td>True</td>\n      <td>1239741288</td>\n      <td>15045821</td>\n      <td>100</td>\n      <td>229</td>\n      <td>False</td>\n      <td>1348592309</td>\n      <td>False</td>\n      <td>0</td>\n      <td>0</td>\n      <td>0</td>\n      <td>0</td>\n      <td>96650689</td>\n      <td>0</td>\n      <td>1</td>\n      <td>1</td>\n      <td>1</td>\n      <td>0</td>\n    </tr>\n    <tr>\n      <th>3</th>\n      <td>0</td>\n      <td>3403570</td>\n      <td>9</td>\n      <td>0</td>\n      <td>0</td>\n      <td>2</td>\n      <td>54</td>\n      <td>1580947200</td>\n      <td>10859</td>\n      <td>4398172</td>\n      <td>825</td>\n      <td>True</td>\n      <td>1236008126</td>\n      <td>15883237</td>\n      <td>5</td>\n      <td>130</td>\n      <td>False</td>\n      <td>1404447043</td>\n      <td>False</td>\n      <td>0</td>\n      <td>0</td>\n      <td>0</td>\n      <td>0</td>\n      <td>7549091</td>\n      <td>0</td>\n      <td>0</td>\n      <td>0</td>\n      <td>0</td>\n      <td>0</td>\n    </tr>\n    <tr>\n      <th>4</th>\n      <td>732011</td>\n      <td>8323311</td>\n      <td>5</td>\n      <td>948558</td>\n      <td>12</td>\n      <td>2</td>\n      <td>54</td>\n      <td>1580947200</td>\n      <td>52763</td>\n      <td>246867</td>\n      <td>559</td>\n      <td>True</td>\n      <td>1219588461</td>\n      <td>4466763</td>\n      <td>1233</td>\n      <td>747</td>\n      <td>False</td>\n      <td>1314638570</td>\n      <td>False</td>\n      <td>0</td>\n      <td>0</td>\n      <td>0</td>\n      <td>0</td>\n      <td>43687561</td>\n      <td>0</td>\n      <td>1</td>\n      <td>1</td>\n      <td>1</td>\n      <td>0</td>\n    </tr>\n  </tbody>\n</table>\n</div>"
     },
     "metadata": {},
     "execution_count": 9
    }
   ],
   "source": [
    "train.head()"
   ]
  },
  {
   "cell_type": "code",
   "execution_count": 10,
   "metadata": {},
   "outputs": [
    {
     "output_type": "execute_result",
     "data": {
      "text/plain": [
       "0"
      ]
     },
     "metadata": {},
     "execution_count": 10
    }
   ],
   "source": [
    "save_memory(train)\n",
    "gc.collect()"
   ]
  },
  {
   "cell_type": "code",
   "execution_count": 11,
   "metadata": {},
   "outputs": [
    {
     "output_type": "execute_result",
     "data": {
      "text/plain": [
       "hashtags              int32\n",
       "tweet_id              int32\n",
       "media                  int8\n",
       "links                 int32\n",
       "domains               int32\n",
       "tweet_type             int8\n",
       "language               int8\n",
       "timestamp             int32\n",
       "a_user_id             int32\n",
       "a_follower_count      int32\n",
       "a_following_count     int32\n",
       "a_is_verified          int8\n",
       "a_account_creation    int32\n",
       "b_user_id             int32\n",
       "b_follower_count      int32\n",
       "b_following_count     int32\n",
       "b_is_verified          int8\n",
       "b_account_creation    int32\n",
       "b_follows_a            int8\n",
       "reply                 int32\n",
       "retweet               int32\n",
       "retweet_comment       int32\n",
       "like                  int32\n",
       "id                    int32\n",
       "tr                    int32\n",
       "len_hashtags          int32\n",
       "len_domains           int32\n",
       "len_links             int32\n",
       "engage                int32\n",
       "dtype: object"
      ]
     },
     "metadata": {},
     "execution_count": 11
    }
   ],
   "source": [
    "train.dtypes"
   ]
  },
  {
   "cell_type": "code",
   "execution_count": null,
   "metadata": {},
   "outputs": [],
   "source": []
  },
  {
   "cell_type": "code",
   "execution_count": 12,
   "metadata": {},
   "outputs": [
    {
     "output_type": "execute_result",
     "data": {
      "text/plain": [
       "   tr  a_user_id  a_follower_count  a_following_count   timestamp        id\n",
       "0   0      16906           9794149                 90  1580947200  31145094\n",
       "1   0     233502           1661107                125  1580947200  38859618\n",
       "2   0       5604          12029492                 14  1580947200  96650689\n",
       "3   0      10859           4398172                825  1580947200   7549091\n",
       "4   0      52763            246867                559  1580947200  43687561"
      ],
      "text/html": "<div>\n<style scoped>\n    .dataframe tbody tr th:only-of-type {\n        vertical-align: middle;\n    }\n\n    .dataframe tbody tr th {\n        vertical-align: top;\n    }\n\n    .dataframe thead th {\n        text-align: right;\n    }\n</style>\n<table border=\"1\" class=\"dataframe\">\n  <thead>\n    <tr style=\"text-align: right;\">\n      <th></th>\n      <th>tr</th>\n      <th>a_user_id</th>\n      <th>a_follower_count</th>\n      <th>a_following_count</th>\n      <th>timestamp</th>\n      <th>id</th>\n    </tr>\n  </thead>\n  <tbody>\n    <tr>\n      <th>0</th>\n      <td>0</td>\n      <td>16906</td>\n      <td>9794149</td>\n      <td>90</td>\n      <td>1580947200</td>\n      <td>31145094</td>\n    </tr>\n    <tr>\n      <th>1</th>\n      <td>0</td>\n      <td>233502</td>\n      <td>1661107</td>\n      <td>125</td>\n      <td>1580947200</td>\n      <td>38859618</td>\n    </tr>\n    <tr>\n      <th>2</th>\n      <td>0</td>\n      <td>5604</td>\n      <td>12029492</td>\n      <td>14</td>\n      <td>1580947200</td>\n      <td>96650689</td>\n    </tr>\n    <tr>\n      <th>3</th>\n      <td>0</td>\n      <td>10859</td>\n      <td>4398172</td>\n      <td>825</td>\n      <td>1580947200</td>\n      <td>7549091</td>\n    </tr>\n    <tr>\n      <th>4</th>\n      <td>0</td>\n      <td>52763</td>\n      <td>246867</td>\n      <td>559</td>\n      <td>1580947200</td>\n      <td>43687561</td>\n    </tr>\n  </tbody>\n</table>\n</div>"
     },
     "metadata": {},
     "execution_count": 12
    }
   ],
   "source": [
    "dt0 = train[['tr','a_user_id','a_follower_count','a_following_count','timestamp','id']].copy()\n",
    "dt1 = train[['tr','b_user_id','b_follower_count','b_following_count','timestamp','id']].copy()\n",
    "dt1.columns = ['tr','a_user_id','a_follower_count','a_following_count','timestamp','id']\n",
    "dt1['id'] = -1\n",
    "dt = pd.concat( (dt0,dt1), sort=False )\n",
    "del dt0,dt1; _=gc.collect()\n",
    "dt.head()"
   ]
  },
  {
   "cell_type": "code",
   "execution_count": 13,
   "metadata": {},
   "outputs": [
    {
     "output_type": "stream",
     "name": "stdout",
     "text": [
      "CPU times: user 5min 33s, sys: 42.5 s, total: 6min 15s\nWall time: 6min 15s\n"
     ]
    },
    {
     "output_type": "execute_result",
     "data": {
      "text/plain": [
       " 1    167646303\n",
       " 0     54714969\n",
       "-1     29199662\n",
       "Name: a_fc_dif_flag, dtype: int64"
      ]
     },
     "metadata": {},
     "execution_count": 13
    }
   ],
   "source": [
    "%%time\n",
    "dt['a_fc_max'] = dt.groupby(['tr','a_user_id','a_follower_count'])['timestamp'].transform('max'); _=gc.collect()\n",
    "dt['a_fc_min'] = dt.groupby(['tr','a_user_id','a_follower_count'])['timestamp'].transform('min'); _=gc.collect()\n",
    "\n",
    "dt['a_fc_dif'] = dt['a_fc_max'] - dt['a_fc_min']; _=gc.collect()\n",
    "\n",
    "dt['a_fc_dif_max'] = dt.groupby(['tr','a_user_id'])['a_fc_dif'].transform('max'); _=gc.collect()\n",
    "\n",
    "dt['a_fc_dif_flag'] = 1* ((dt['a_fc_dif'] == dt['a_fc_dif_max']) )  ; _=gc.collect()\n",
    "dt.loc[ dt.a_fc_dif==0 ,'a_fc_dif_flag'] = -1\n",
    "\n",
    "del dt['a_fc_max'],dt['a_fc_min'],dt['a_fc_dif'],dt['a_fc_dif_max'] ; _=gc.collect()\n",
    "dt['a_fc_dif_flag'].value_counts()"
   ]
  },
  {
   "cell_type": "code",
   "execution_count": 14,
   "metadata": {},
   "outputs": [
    {
     "output_type": "execute_result",
     "data": {
      "text/plain": [
       " 1    71610061\n",
       " 0    41612270\n",
       "-1    12558136\n",
       "Name: a_user_fer_count_delta_time, dtype: int64"
      ]
     },
     "metadata": {},
     "execution_count": 14
    }
   ],
   "source": [
    "train['a_user_fer_count_delta_time'] = train.merge( dt, on='id', how='left' )['a_fc_dif_flag'] ; _=gc.collect()\n",
    "\n",
    "del dt['a_fc_dif_flag'] ; _=gc.collect()\n",
    "\n",
    "train['a_user_fer_count_delta_time'].value_counts()"
   ]
  },
  {
   "cell_type": "code",
   "execution_count": 15,
   "metadata": {},
   "outputs": [
    {
     "output_type": "execute_result",
     "data": {
      "text/plain": [
       "                                   reply   retweet retweet_comment      like\n",
       "                                    mean      mean            mean      mean\n",
       "tr a_user_fer_count_delta_time                                              \n",
       "0  -1                           0.020097  0.044176        0.004059  0.206470\n",
       "    0                           0.000692  0.002269        0.000176  0.008234\n",
       "    1                           0.039583  0.176012        0.011349  0.707070\n",
       "1  -1                           0.024092  0.057007        0.004971  0.253420\n",
       "    0                           0.000630  0.002395        0.000178  0.008361\n",
       "    1                           0.039510  0.165661        0.011116  0.701947"
      ],
      "text/html": "<div>\n<style scoped>\n    .dataframe tbody tr th:only-of-type {\n        vertical-align: middle;\n    }\n\n    .dataframe tbody tr th {\n        vertical-align: top;\n    }\n\n    .dataframe thead tr th {\n        text-align: left;\n    }\n\n    .dataframe thead tr:last-of-type th {\n        text-align: right;\n    }\n</style>\n<table border=\"1\" class=\"dataframe\">\n  <thead>\n    <tr>\n      <th></th>\n      <th></th>\n      <th>reply</th>\n      <th>retweet</th>\n      <th>retweet_comment</th>\n      <th>like</th>\n    </tr>\n    <tr>\n      <th></th>\n      <th></th>\n      <th>mean</th>\n      <th>mean</th>\n      <th>mean</th>\n      <th>mean</th>\n    </tr>\n    <tr>\n      <th>tr</th>\n      <th>a_user_fer_count_delta_time</th>\n      <th></th>\n      <th></th>\n      <th></th>\n      <th></th>\n    </tr>\n  </thead>\n  <tbody>\n    <tr>\n      <th rowspan=\"3\" valign=\"top\">0</th>\n      <th>-1</th>\n      <td>0.020097</td>\n      <td>0.044176</td>\n      <td>0.004059</td>\n      <td>0.206470</td>\n    </tr>\n    <tr>\n      <th>0</th>\n      <td>0.000692</td>\n      <td>0.002269</td>\n      <td>0.000176</td>\n      <td>0.008234</td>\n    </tr>\n    <tr>\n      <th>1</th>\n      <td>0.039583</td>\n      <td>0.176012</td>\n      <td>0.011349</td>\n      <td>0.707070</td>\n    </tr>\n    <tr>\n      <th rowspan=\"3\" valign=\"top\">1</th>\n      <th>-1</th>\n      <td>0.024092</td>\n      <td>0.057007</td>\n      <td>0.004971</td>\n      <td>0.253420</td>\n    </tr>\n    <tr>\n      <th>0</th>\n      <td>0.000630</td>\n      <td>0.002395</td>\n      <td>0.000178</td>\n      <td>0.008361</td>\n    </tr>\n    <tr>\n      <th>1</th>\n      <td>0.039510</td>\n      <td>0.165661</td>\n      <td>0.011116</td>\n      <td>0.701947</td>\n    </tr>\n  </tbody>\n</table>\n</div>"
     },
     "metadata": {},
     "execution_count": 15
    }
   ],
   "source": [
    "train.groupby(['tr','a_user_fer_count_delta_time'])[['reply','retweet','retweet_comment','like']].agg(['mean'])"
   ]
  },
  {
   "cell_type": "code",
   "execution_count": 16,
   "metadata": {},
   "outputs": [
    {
     "output_type": "stream",
     "name": "stdout",
     "text": [
      "CPU times: user 5min 31s, sys: 42.8 s, total: 6min 14s\nWall time: 6min 14s\n"
     ]
    },
    {
     "output_type": "execute_result",
     "data": {
      "text/plain": [
       " 1    181626111\n",
       " 0     40782460\n",
       "-1     29152363\n",
       "Name: a_fc_dif_flag, dtype: int64"
      ]
     },
     "metadata": {},
     "execution_count": 16
    }
   ],
   "source": [
    "%%time\n",
    "dt['a_fc_max'] = dt.groupby(['tr','a_user_id','a_following_count'])['timestamp'].transform('max'); _=gc.collect()\n",
    "dt['a_fc_min'] = dt.groupby(['tr','a_user_id','a_following_count'])['timestamp'].transform('min'); _=gc.collect()\n",
    "\n",
    "dt['a_fc_dif'] = dt['a_fc_max'] - dt['a_fc_min']; _=gc.collect()\n",
    "\n",
    "dt['a_fc_dif_max'] = dt.groupby(['tr','a_user_id'])['a_fc_dif'].transform('max'); _=gc.collect()\n",
    "\n",
    "dt['a_fc_dif_flag'] = 1* ((dt['a_fc_dif'] == dt['a_fc_dif_max']) )  ; _=gc.collect()\n",
    "dt.loc[ dt.a_fc_dif==0 ,'a_fc_dif_flag'] = -1\n",
    "\n",
    "del dt['a_fc_max'],dt['a_fc_min'],dt['a_fc_dif'],dt['a_fc_dif_max'] ; _=gc.collect()\n",
    "dt['a_fc_dif_flag'].value_counts()"
   ]
  },
  {
   "cell_type": "code",
   "execution_count": 17,
   "metadata": {},
   "outputs": [
    {
     "output_type": "execute_result",
     "data": {
      "text/plain": [
       " 1    88946997\n",
       " 0    26692736\n",
       "-1    10140734\n",
       "Name: a_user_fing_count_delta_time, dtype: int64"
      ]
     },
     "metadata": {},
     "execution_count": 17
    }
   ],
   "source": [
    "train['a_user_fing_count_delta_time'] = train.merge( dt, on='id', how='left' )['a_fc_dif_flag'] ; _=gc.collect()\n",
    "\n",
    "del dt['a_fc_dif_flag'] ; _=gc.collect()\n",
    "\n",
    "train['a_user_fing_count_delta_time'].value_counts()"
   ]
  },
  {
   "cell_type": "code",
   "execution_count": 18,
   "metadata": {},
   "outputs": [
    {
     "output_type": "execute_result",
     "data": {
      "text/plain": [
       "                                    reply   retweet retweet_comment      like\n",
       "                                     mean      mean            mean      mean\n",
       "tr a_user_fing_count_delta_time                                              \n",
       "0  -1                            0.024614  0.053076        0.004891  0.249945\n",
       "    0                            0.001274  0.004174        0.000332  0.015661\n",
       "    1                            0.032066  0.142614        0.009195  0.572812\n",
       "1  -1                            0.027763  0.064502        0.005666  0.288032\n",
       "    0                            0.002241  0.008575        0.000624  0.033851\n",
       "    1                            0.030612  0.128305        0.008612  0.543375"
      ],
      "text/html": "<div>\n<style scoped>\n    .dataframe tbody tr th:only-of-type {\n        vertical-align: middle;\n    }\n\n    .dataframe tbody tr th {\n        vertical-align: top;\n    }\n\n    .dataframe thead tr th {\n        text-align: left;\n    }\n\n    .dataframe thead tr:last-of-type th {\n        text-align: right;\n    }\n</style>\n<table border=\"1\" class=\"dataframe\">\n  <thead>\n    <tr>\n      <th></th>\n      <th></th>\n      <th>reply</th>\n      <th>retweet</th>\n      <th>retweet_comment</th>\n      <th>like</th>\n    </tr>\n    <tr>\n      <th></th>\n      <th></th>\n      <th>mean</th>\n      <th>mean</th>\n      <th>mean</th>\n      <th>mean</th>\n    </tr>\n    <tr>\n      <th>tr</th>\n      <th>a_user_fing_count_delta_time</th>\n      <th></th>\n      <th></th>\n      <th></th>\n      <th></th>\n    </tr>\n  </thead>\n  <tbody>\n    <tr>\n      <th rowspan=\"3\" valign=\"top\">0</th>\n      <th>-1</th>\n      <td>0.024614</td>\n      <td>0.053076</td>\n      <td>0.004891</td>\n      <td>0.249945</td>\n    </tr>\n    <tr>\n      <th>0</th>\n      <td>0.001274</td>\n      <td>0.004174</td>\n      <td>0.000332</td>\n      <td>0.015661</td>\n    </tr>\n    <tr>\n      <th>1</th>\n      <td>0.032066</td>\n      <td>0.142614</td>\n      <td>0.009195</td>\n      <td>0.572812</td>\n    </tr>\n    <tr>\n      <th rowspan=\"3\" valign=\"top\">1</th>\n      <th>-1</th>\n      <td>0.027763</td>\n      <td>0.064502</td>\n      <td>0.005666</td>\n      <td>0.288032</td>\n    </tr>\n    <tr>\n      <th>0</th>\n      <td>0.002241</td>\n      <td>0.008575</td>\n      <td>0.000624</td>\n      <td>0.033851</td>\n    </tr>\n    <tr>\n      <th>1</th>\n      <td>0.030612</td>\n      <td>0.128305</td>\n      <td>0.008612</td>\n      <td>0.543375</td>\n    </tr>\n  </tbody>\n</table>\n</div>"
     },
     "metadata": {},
     "execution_count": 18
    }
   ],
   "source": [
    "train.groupby(['tr','a_user_fing_count_delta_time'])[['reply','retweet','retweet_comment','like']].agg(['mean'])"
   ]
  },
  {
   "cell_type": "code",
   "execution_count": 19,
   "metadata": {},
   "outputs": [
    {
     "output_type": "stream",
     "name": "stdout",
     "text": [
      "CPU times: user 6min, sys: 47.7 s, total: 6min 48s\nWall time: 6min 48s\n"
     ]
    },
    {
     "output_type": "execute_result",
     "data": {
      "text/plain": [
       " 1    154700820\n",
       " 0     57042946\n",
       "-1     39817168\n",
       "Name: a_fc_dif_flag, dtype: int64"
      ]
     },
     "metadata": {},
     "execution_count": 19
    }
   ],
   "source": [
    "%%time\n",
    "dt['a_fc_max'] = dt.groupby(['tr','a_user_id','a_follower_count','a_following_count'])['timestamp'].transform('max'); _=gc.collect()\n",
    "dt['a_fc_min'] = dt.groupby(['tr','a_user_id','a_follower_count','a_following_count'])['timestamp'].transform('min'); _=gc.collect()\n",
    "\n",
    "dt['a_fc_dif'] = dt['a_fc_max'] - dt['a_fc_min']; _=gc.collect()\n",
    "\n",
    "dt['a_fc_dif_max'] = dt.groupby(['tr','a_user_id'])['a_fc_dif'].transform('max'); _=gc.collect()\n",
    "\n",
    "dt['a_fc_dif_flag'] = 1* ((dt['a_fc_dif'] == dt['a_fc_dif_max']) )  ; _=gc.collect()\n",
    "dt.loc[ dt.a_fc_dif==0 ,'a_fc_dif_flag'] = -1\n",
    "\n",
    "del dt['a_fc_max'],dt['a_fc_min'],dt['a_fc_dif'],dt['a_fc_dif_max'] ; _=gc.collect()\n",
    "dt['a_fc_dif_flag'].value_counts()"
   ]
  },
  {
   "cell_type": "code",
   "execution_count": 20,
   "metadata": {},
   "outputs": [
    {
     "output_type": "execute_result",
     "data": {
      "text/plain": [
       " 1    69864760\n",
       " 0    41814045\n",
       "-1    14101662\n",
       "Name: a_user_fering_count_delta_time, dtype: int64"
      ]
     },
     "metadata": {},
     "execution_count": 20
    }
   ],
   "source": [
    "train['a_user_fering_count_delta_time'] = train.merge( dt, on='id', how='left' )['a_fc_dif_flag'] ; _=gc.collect()\n",
    "\n",
    "del dt['a_fc_dif_flag'] ; _=gc.collect()\n",
    "\n",
    "train['a_user_fering_count_delta_time'].value_counts()"
   ]
  },
  {
   "cell_type": "code",
   "execution_count": 21,
   "metadata": {},
   "outputs": [
    {
     "output_type": "execute_result",
     "data": {
      "text/plain": [
       "                                      reply   retweet retweet_comment  \\\n",
       "                                       mean      mean            mean   \n",
       "tr a_user_fering_count_delta_time                                       \n",
       "0  -1                              0.018203  0.040254        0.003690   \n",
       "    0                              0.000466  0.001572        0.000114   \n",
       "    1                              0.040600  0.180575        0.011646   \n",
       "1  -1                              0.023155  0.055146        0.004798   \n",
       "    0                              0.000380  0.001397        0.000102   \n",
       "    1                              0.040343  0.169392        0.011362   \n",
       "\n",
       "                                       like  \n",
       "                                       mean  \n",
       "tr a_user_fering_count_delta_time            \n",
       "0  -1                              0.186580  \n",
       "    0                              0.005641  \n",
       "    1                              0.725342  \n",
       "1  -1                              0.243641  \n",
       "    0                              0.004970  \n",
       "    1                              0.717774  "
      ],
      "text/html": "<div>\n<style scoped>\n    .dataframe tbody tr th:only-of-type {\n        vertical-align: middle;\n    }\n\n    .dataframe tbody tr th {\n        vertical-align: top;\n    }\n\n    .dataframe thead tr th {\n        text-align: left;\n    }\n\n    .dataframe thead tr:last-of-type th {\n        text-align: right;\n    }\n</style>\n<table border=\"1\" class=\"dataframe\">\n  <thead>\n    <tr>\n      <th></th>\n      <th></th>\n      <th>reply</th>\n      <th>retweet</th>\n      <th>retweet_comment</th>\n      <th>like</th>\n    </tr>\n    <tr>\n      <th></th>\n      <th></th>\n      <th>mean</th>\n      <th>mean</th>\n      <th>mean</th>\n      <th>mean</th>\n    </tr>\n    <tr>\n      <th>tr</th>\n      <th>a_user_fering_count_delta_time</th>\n      <th></th>\n      <th></th>\n      <th></th>\n      <th></th>\n    </tr>\n  </thead>\n  <tbody>\n    <tr>\n      <th rowspan=\"3\" valign=\"top\">0</th>\n      <th>-1</th>\n      <td>0.018203</td>\n      <td>0.040254</td>\n      <td>0.003690</td>\n      <td>0.186580</td>\n    </tr>\n    <tr>\n      <th>0</th>\n      <td>0.000466</td>\n      <td>0.001572</td>\n      <td>0.000114</td>\n      <td>0.005641</td>\n    </tr>\n    <tr>\n      <th>1</th>\n      <td>0.040600</td>\n      <td>0.180575</td>\n      <td>0.011646</td>\n      <td>0.725342</td>\n    </tr>\n    <tr>\n      <th rowspan=\"3\" valign=\"top\">1</th>\n      <th>-1</th>\n      <td>0.023155</td>\n      <td>0.055146</td>\n      <td>0.004798</td>\n      <td>0.243641</td>\n    </tr>\n    <tr>\n      <th>0</th>\n      <td>0.000380</td>\n      <td>0.001397</td>\n      <td>0.000102</td>\n      <td>0.004970</td>\n    </tr>\n    <tr>\n      <th>1</th>\n      <td>0.040343</td>\n      <td>0.169392</td>\n      <td>0.011362</td>\n      <td>0.717774</td>\n    </tr>\n  </tbody>\n</table>\n</div>"
     },
     "metadata": {},
     "execution_count": 21
    }
   ],
   "source": [
    "train.groupby(['tr','a_user_fering_count_delta_time'])[['reply','retweet','retweet_comment','like']].agg(['mean'])"
   ]
  },
  {
   "cell_type": "code",
   "execution_count": 22,
   "metadata": {},
   "outputs": [
    {
     "output_type": "stream",
     "name": "stdout",
     "text": [
      "CPU times: user 3min 22s, sys: 25.5 s, total: 3min 47s\nWall time: 3min 47s\n"
     ]
    },
    {
     "output_type": "execute_result",
     "data": {
      "text/plain": [
       " 1    188304368\n",
       " 0     35241293\n",
       "-1     28015273\n",
       "Name: a_fc_count_flag, dtype: int64"
      ]
     },
     "metadata": {},
     "execution_count": 22
    }
   ],
   "source": [
    "%%time\n",
    "dt['a_fc_count'] = dt.groupby(['tr','a_user_id','a_following_count'])['id'].transform('count'); _=gc.collect()\n",
    "dt['a_fc_max']   = dt.groupby(['tr','a_user_id'])['a_fc_count'].transform('max'); _=gc.collect()\n",
    "dt['a_fc_count_flag'] = 1* ((dt['a_fc_count'] == dt['a_fc_max']))  ; _=gc.collect()\n",
    "dt.loc[ dt.a_fc_count<=1,'a_fc_count_flag'] = -1\n",
    "\n",
    "del dt['a_fc_count'], dt['a_fc_max']\n",
    "dt['a_fc_count_flag'].value_counts()"
   ]
  },
  {
   "cell_type": "code",
   "execution_count": 23,
   "metadata": {},
   "outputs": [
    {
     "output_type": "execute_result",
     "data": {
      "text/plain": [
       " 1    91660777\n",
       " 0    25115653\n",
       "-1     9004037\n",
       "Name: a_user_fing_count_mode, dtype: int64"
      ]
     },
     "metadata": {},
     "execution_count": 23
    }
   ],
   "source": [
    "train['a_user_fing_count_mode'] = train.merge( dt, on='id', how='left' )['a_fc_count_flag'] ; _=gc.collect()\n",
    "del dt['a_fc_count_flag'] ; _=gc.collect()\n",
    "train['a_user_fing_count_mode'].value_counts()"
   ]
  },
  {
   "cell_type": "code",
   "execution_count": 24,
   "metadata": {},
   "outputs": [
    {
     "output_type": "execute_result",
     "data": {
      "text/plain": [
       "                              reply   retweet retweet_comment      like\n",
       "                               mean      mean            mean      mean\n",
       "tr a_user_fing_count_mode                                              \n",
       "0  -1                      0.025084  0.051289        0.004879  0.228335\n",
       "    0                      0.002847  0.009445        0.000895  0.039377\n",
       "    1                      0.030968  0.137799        0.008833  0.554280\n",
       "1  -1                      0.028020  0.064513        0.005692  0.282475\n",
       "    0                      0.002427  0.007586        0.000738  0.030976\n",
       "    1                      0.029961  0.125501        0.008397  0.532633"
      ],
      "text/html": "<div>\n<style scoped>\n    .dataframe tbody tr th:only-of-type {\n        vertical-align: middle;\n    }\n\n    .dataframe tbody tr th {\n        vertical-align: top;\n    }\n\n    .dataframe thead tr th {\n        text-align: left;\n    }\n\n    .dataframe thead tr:last-of-type th {\n        text-align: right;\n    }\n</style>\n<table border=\"1\" class=\"dataframe\">\n  <thead>\n    <tr>\n      <th></th>\n      <th></th>\n      <th>reply</th>\n      <th>retweet</th>\n      <th>retweet_comment</th>\n      <th>like</th>\n    </tr>\n    <tr>\n      <th></th>\n      <th></th>\n      <th>mean</th>\n      <th>mean</th>\n      <th>mean</th>\n      <th>mean</th>\n    </tr>\n    <tr>\n      <th>tr</th>\n      <th>a_user_fing_count_mode</th>\n      <th></th>\n      <th></th>\n      <th></th>\n      <th></th>\n    </tr>\n  </thead>\n  <tbody>\n    <tr>\n      <th rowspan=\"3\" valign=\"top\">0</th>\n      <th>-1</th>\n      <td>0.025084</td>\n      <td>0.051289</td>\n      <td>0.004879</td>\n      <td>0.228335</td>\n    </tr>\n    <tr>\n      <th>0</th>\n      <td>0.002847</td>\n      <td>0.009445</td>\n      <td>0.000895</td>\n      <td>0.039377</td>\n    </tr>\n    <tr>\n      <th>1</th>\n      <td>0.030968</td>\n      <td>0.137799</td>\n      <td>0.008833</td>\n      <td>0.554280</td>\n    </tr>\n    <tr>\n      <th rowspan=\"3\" valign=\"top\">1</th>\n      <th>-1</th>\n      <td>0.028020</td>\n      <td>0.064513</td>\n      <td>0.005692</td>\n      <td>0.282475</td>\n    </tr>\n    <tr>\n      <th>0</th>\n      <td>0.002427</td>\n      <td>0.007586</td>\n      <td>0.000738</td>\n      <td>0.030976</td>\n    </tr>\n    <tr>\n      <th>1</th>\n      <td>0.029961</td>\n      <td>0.125501</td>\n      <td>0.008397</td>\n      <td>0.532633</td>\n    </tr>\n  </tbody>\n</table>\n</div>"
     },
     "metadata": {},
     "execution_count": 24
    }
   ],
   "source": [
    "train.groupby(['tr','a_user_fing_count_mode'])[['reply','retweet','retweet_comment','like']].agg(['mean'])"
   ]
  },
  {
   "cell_type": "code",
   "execution_count": 25,
   "metadata": {},
   "outputs": [
    {
     "output_type": "stream",
     "name": "stdout",
     "text": [
      "CPU times: user 3min 26s, sys: 25.6 s, total: 3min 52s\nWall time: 3min 52s\n"
     ]
    },
    {
     "output_type": "execute_result",
     "data": {
      "text/plain": [
       " 1    173582226\n",
       " 0     51104798\n",
       "-1     26873910\n",
       "Name: a_fc_count_flag, dtype: int64"
      ]
     },
     "metadata": {},
     "execution_count": 25
    }
   ],
   "source": [
    "%%time\n",
    "dt['a_fc_count'] = dt.groupby(['tr','a_user_id','a_follower_count'])['id'].transform('count'); _=gc.collect()\n",
    "dt['a_fc_max']   = dt.groupby(['tr','a_user_id'])['a_fc_count'].transform('max'); _=gc.collect()\n",
    "dt['a_fc_count_flag'] = 1* ((dt['a_fc_count'] == dt['a_fc_max']))  ; _=gc.collect()\n",
    "dt.loc[ dt.a_fc_count<=1,'a_fc_count_flag'] = -1\n",
    "\n",
    "del dt['a_fc_count'], dt['a_fc_max']\n",
    "dt['a_fc_count_flag'].value_counts()"
   ]
  },
  {
   "cell_type": "code",
   "execution_count": 26,
   "metadata": {},
   "outputs": [
    {
     "output_type": "execute_result",
     "data": {
      "text/plain": [
       " 1    74100800\n",
       " 0    41446934\n",
       "-1    10232733\n",
       "Name: a_user_fer_count_mode, dtype: int64"
      ]
     },
     "metadata": {},
     "execution_count": 26
    }
   ],
   "source": [
    "train['a_user_fer_count_mode'] = train.merge( dt, on='id', how='left' )['a_fc_count_flag'] ; _=gc.collect()\n",
    "del dt['a_fc_count_flag'] ; _=gc.collect()\n",
    "train['a_user_fer_count_mode'].value_counts()"
   ]
  },
  {
   "cell_type": "code",
   "execution_count": 27,
   "metadata": {},
   "outputs": [
    {
     "output_type": "execute_result",
     "data": {
      "text/plain": [
       "                             reply   retweet retweet_comment      like\n",
       "                              mean      mean            mean      mean\n",
       "tr a_user_fer_count_mode                                              \n",
       "0  -1                     0.022713  0.047402        0.004496  0.209543\n",
       "    0                     0.001158  0.004002        0.000341  0.016586\n",
       "    1                     0.038391  0.170392        0.010970  0.685652\n",
       "1  -1                     0.025234  0.059094        0.005179  0.257678\n",
       "    0                     0.001188  0.004073        0.000372  0.017244\n",
       "    1                     0.037998  0.159076        0.010649  0.675040"
      ],
      "text/html": "<div>\n<style scoped>\n    .dataframe tbody tr th:only-of-type {\n        vertical-align: middle;\n    }\n\n    .dataframe tbody tr th {\n        vertical-align: top;\n    }\n\n    .dataframe thead tr th {\n        text-align: left;\n    }\n\n    .dataframe thead tr:last-of-type th {\n        text-align: right;\n    }\n</style>\n<table border=\"1\" class=\"dataframe\">\n  <thead>\n    <tr>\n      <th></th>\n      <th></th>\n      <th>reply</th>\n      <th>retweet</th>\n      <th>retweet_comment</th>\n      <th>like</th>\n    </tr>\n    <tr>\n      <th></th>\n      <th></th>\n      <th>mean</th>\n      <th>mean</th>\n      <th>mean</th>\n      <th>mean</th>\n    </tr>\n    <tr>\n      <th>tr</th>\n      <th>a_user_fer_count_mode</th>\n      <th></th>\n      <th></th>\n      <th></th>\n      <th></th>\n    </tr>\n  </thead>\n  <tbody>\n    <tr>\n      <th rowspan=\"3\" valign=\"top\">0</th>\n      <th>-1</th>\n      <td>0.022713</td>\n      <td>0.047402</td>\n      <td>0.004496</td>\n      <td>0.209543</td>\n    </tr>\n    <tr>\n      <th>0</th>\n      <td>0.001158</td>\n      <td>0.004002</td>\n      <td>0.000341</td>\n      <td>0.016586</td>\n    </tr>\n    <tr>\n      <th>1</th>\n      <td>0.038391</td>\n      <td>0.170392</td>\n      <td>0.010970</td>\n      <td>0.685652</td>\n    </tr>\n    <tr>\n      <th rowspan=\"3\" valign=\"top\">1</th>\n      <th>-1</th>\n      <td>0.025234</td>\n      <td>0.059094</td>\n      <td>0.005179</td>\n      <td>0.257678</td>\n    </tr>\n    <tr>\n      <th>0</th>\n      <td>0.001188</td>\n      <td>0.004073</td>\n      <td>0.000372</td>\n      <td>0.017244</td>\n    </tr>\n    <tr>\n      <th>1</th>\n      <td>0.037998</td>\n      <td>0.159076</td>\n      <td>0.010649</td>\n      <td>0.675040</td>\n    </tr>\n  </tbody>\n</table>\n</div>"
     },
     "metadata": {},
     "execution_count": 27
    }
   ],
   "source": [
    "train.groupby(['tr','a_user_fer_count_mode'])[['reply','retweet','retweet_comment','like']].agg(['mean'])"
   ]
  },
  {
   "cell_type": "code",
   "execution_count": 28,
   "metadata": {},
   "outputs": [
    {
     "output_type": "stream",
     "name": "stdout",
     "text": [
      "CPU times: user 3min 37s, sys: 27.5 s, total: 4min 5s\nWall time: 4min 5s\n"
     ]
    },
    {
     "output_type": "execute_result",
     "data": {
      "text/plain": [
       " 1    161621635\n",
       " 0     52522505\n",
       "-1     37416794\n",
       "Name: a_fc_count_flag, dtype: int64"
      ]
     },
     "metadata": {},
     "execution_count": 28
    }
   ],
   "source": [
    "%%time\n",
    "dt['a_fc_count'] = dt.groupby(['tr','a_user_id','a_follower_count','a_following_count'])['id'].transform('count'); _=gc.collect()\n",
    "dt['a_fc_max']   = dt.groupby(['tr','a_user_id'])['a_fc_count'].transform('max'); _=gc.collect()\n",
    "dt['a_fc_count_flag'] = 1* ((dt['a_fc_count'] == dt['a_fc_max']))  ; _=gc.collect()\n",
    "dt.loc[ dt.a_fc_count<=1,'a_fc_count_flag'] = -1\n",
    "\n",
    "del dt['a_fc_count'], dt['a_fc_max']\n",
    "dt['a_fc_count_flag'].value_counts()"
   ]
  },
  {
   "cell_type": "code",
   "execution_count": 29,
   "metadata": {},
   "outputs": [
    {
     "output_type": "execute_result",
     "data": {
      "text/plain": [
       " 1    72344320\n",
       " 0    41734346\n",
       "-1    11701801\n",
       "Name: a_user_fering_count_mode, dtype: int64"
      ]
     },
     "metadata": {},
     "execution_count": 29
    }
   ],
   "source": [
    "train['a_user_fering_count_mode'] = train.merge( dt, on='id', how='left' )['a_fc_count_flag'] ; _=gc.collect()\n",
    "del dt['a_fc_count_flag'] ; _=gc.collect()\n",
    "train['a_user_fering_count_mode'].value_counts()"
   ]
  },
  {
   "cell_type": "code",
   "execution_count": 30,
   "metadata": {},
   "outputs": [
    {
     "output_type": "execute_result",
     "data": {
      "text/plain": [
       "                                reply   retweet retweet_comment      like\n",
       "                                 mean      mean            mean      mean\n",
       "tr a_user_fering_count_mode                                              \n",
       "0  -1                        0.020088  0.042321        0.003996  0.185588\n",
       "    0                        0.001062  0.003680        0.000310  0.015420\n",
       "    1                        0.039271  0.174453        0.011230  0.701993\n",
       "1  -1                        0.024167  0.056996        0.004983  0.247005\n",
       "    0                        0.001115  0.003833        0.000353  0.016352\n",
       "    1                        0.038695  0.162213        0.010851  0.688758"
      ],
      "text/html": "<div>\n<style scoped>\n    .dataframe tbody tr th:only-of-type {\n        vertical-align: middle;\n    }\n\n    .dataframe tbody tr th {\n        vertical-align: top;\n    }\n\n    .dataframe thead tr th {\n        text-align: left;\n    }\n\n    .dataframe thead tr:last-of-type th {\n        text-align: right;\n    }\n</style>\n<table border=\"1\" class=\"dataframe\">\n  <thead>\n    <tr>\n      <th></th>\n      <th></th>\n      <th>reply</th>\n      <th>retweet</th>\n      <th>retweet_comment</th>\n      <th>like</th>\n    </tr>\n    <tr>\n      <th></th>\n      <th></th>\n      <th>mean</th>\n      <th>mean</th>\n      <th>mean</th>\n      <th>mean</th>\n    </tr>\n    <tr>\n      <th>tr</th>\n      <th>a_user_fering_count_mode</th>\n      <th></th>\n      <th></th>\n      <th></th>\n      <th></th>\n    </tr>\n  </thead>\n  <tbody>\n    <tr>\n      <th rowspan=\"3\" valign=\"top\">0</th>\n      <th>-1</th>\n      <td>0.020088</td>\n      <td>0.042321</td>\n      <td>0.003996</td>\n      <td>0.185588</td>\n    </tr>\n    <tr>\n      <th>0</th>\n      <td>0.001062</td>\n      <td>0.003680</td>\n      <td>0.000310</td>\n      <td>0.015420</td>\n    </tr>\n    <tr>\n      <th>1</th>\n      <td>0.039271</td>\n      <td>0.174453</td>\n      <td>0.011230</td>\n      <td>0.701993</td>\n    </tr>\n    <tr>\n      <th rowspan=\"3\" valign=\"top\">1</th>\n      <th>-1</th>\n      <td>0.024167</td>\n      <td>0.056996</td>\n      <td>0.004983</td>\n      <td>0.247005</td>\n    </tr>\n    <tr>\n      <th>0</th>\n      <td>0.001115</td>\n      <td>0.003833</td>\n      <td>0.000353</td>\n      <td>0.016352</td>\n    </tr>\n    <tr>\n      <th>1</th>\n      <td>0.038695</td>\n      <td>0.162213</td>\n      <td>0.010851</td>\n      <td>0.688758</td>\n    </tr>\n  </tbody>\n</table>\n</div>"
     },
     "metadata": {},
     "execution_count": 30
    }
   ],
   "source": [
    "train.groupby(['tr','a_user_fering_count_mode'])[['reply','retweet','retweet_comment','like']].agg(['mean'])"
   ]
  },
  {
   "cell_type": "code",
   "execution_count": 31,
   "metadata": {},
   "outputs": [],
   "source": [
    "del dt; _=gc.collect()"
   ]
  },
  {
   "cell_type": "code",
   "execution_count": 32,
   "metadata": {},
   "outputs": [
    {
     "output_type": "execute_result",
     "data": {
      "text/plain": [
       "4      66679103\n",
       "3      20360928\n",
       "0      15238222\n",
       "7       7894164\n",
       "2       2000523\n",
       "11      1634665\n",
       "5       1141579\n",
       "9       1055293\n",
       "8       1053085\n",
       "1        789305\n",
       "33       723815\n",
       "22       698429\n",
       "38       644191\n",
       "6        609055\n",
       "18       514046\n",
       "14       431281\n",
       "35       418266\n",
       "10       364163\n",
       "16       324954\n",
       "31       288635\n",
       "26       268953\n",
       "12       240838\n",
       "21       217728\n",
       "49       200249\n",
       "29       155603\n",
       "27       133913\n",
       "25       104587\n",
       "56        94672\n",
       "19        94353\n",
       "28        79062\n",
       "48        77674\n",
       "45        70953\n",
       "43        68126\n",
       "30        62100\n",
       "15        61673\n",
       "50        58368\n",
       "59        53834\n",
       "51        44606\n",
       "74        42061\n",
       "24        40606\n",
       "32        40119\n",
       "52        39756\n",
       "37        37004\n",
       "40        36760\n",
       "23        35430\n",
       "42        35414\n",
       "47        33143\n",
       "53        32531\n",
       "87        27367\n",
       "20        25683\n",
       "77        23459\n",
       "70        22566\n",
       "69        18235\n",
       "61        18049\n",
       "90        16478\n",
       "57        16125\n",
       "41        15875\n",
       "76        14562\n",
       "46        13689\n",
       "63        13529\n",
       "79        13461\n",
       "62        11544\n",
       "65        10906\n",
       "34        10429\n",
       "44        10355\n",
       "58        10346\n",
       "73         9856\n",
       "39         9473\n",
       "72         9126\n",
       "67         8912\n",
       "68         8112\n",
       "81         7064\n",
       "84         6183\n",
       "92         6075\n",
       "78         5913\n",
       "86         5475\n",
       "17         5302\n",
       "98         4784\n",
       "66         4547\n",
       "64         4414\n",
       "88         3901\n",
       "82         3524\n",
       "13         3515\n",
       "99         3344\n",
       "83         3319\n",
       "95         3205\n",
       "93         2984\n",
       "120        2695\n",
       "97         2670\n",
       "75         2269\n",
       "89         2265\n",
       "85         2171\n",
       "55         1971\n",
       "91         1958\n",
       "94         1873\n",
       "96         1771\n",
       "54         1765\n",
       "100        1682\n",
       "60         1440\n",
       "118        1413\n",
       "104        1359\n",
       "116        1066\n",
       "108        1061\n",
       "114         992\n",
       "71          931\n",
       "121         836\n",
       "126         699\n",
       "141         691\n",
       "102         682\n",
       "128         605\n",
       "117         586\n",
       "119         577\n",
       "127         565\n",
       "101         547\n",
       "123         535\n",
       "131         491\n",
       "115         486\n",
       "125         451\n",
       "36          443\n",
       "106         440\n",
       "112         402\n",
       "133         350\n",
       "135         347\n",
       "103         336\n",
       "113         324\n",
       "110         318\n",
       "132         298\n",
       "105         287\n",
       "107         283\n",
       "111         276\n",
       "144         262\n",
       "80          260\n",
       "143         244\n",
       "140         118\n",
       "142         117\n",
       "122         101\n",
       "147          70\n",
       "129          63\n",
       "136          55\n",
       "138          53\n",
       "137          43\n",
       "153          37\n",
       "155          34\n",
       "145          31\n",
       "162          29\n",
       "130          29\n",
       "124          25\n",
       "152          24\n",
       "148          23\n",
       "151          21\n",
       "109          19\n",
       "134          16\n",
       "139          12\n",
       "149          10\n",
       "164           8\n",
       "158           8\n",
       "157           7\n",
       "150           5\n",
       "154           5\n",
       "161           4\n",
       "159           4\n",
       "160           3\n",
       "146           3\n",
       "168           2\n",
       "163           2\n",
       "165           2\n",
       "166           2\n",
       "167           2\n",
       "169           2\n",
       "156           1\n",
       "Name: a_count_combined, dtype: int64"
      ]
     },
     "metadata": {},
     "execution_count": 32
    }
   ],
   "source": [
    "train['a_count_combined'] = pd.factorize(\n",
    "    (1+train['a_user_fer_count_delta_time'])*3**0 +\n",
    "    (1+train['a_user_fing_count_delta_time'])*3**1 +\n",
    "    (1+train['a_user_fering_count_delta_time'])*3**2 +\n",
    "    (1+train['a_user_fing_count_mode'])*3**3 +\n",
    "    (1+train['a_user_fer_count_mode'])*3**4 +\n",
    "    (1+train['a_user_fering_count_mode'])*3**5 \n",
    ")[0]\n",
    "train['a_count_combined'].value_counts()"
   ]
  },
  {
   "cell_type": "code",
   "execution_count": 33,
   "metadata": {},
   "outputs": [
    {
     "output_type": "execute_result",
     "data": {
      "text/plain": [
       "                     reply   retweet retweet_comment      like\n",
       "                      mean      mean            mean      mean\n",
       "a_count_combined                                              \n",
       "0                 0.000127  0.000461        0.000034  0.001665\n",
       "1                 0.000363  0.001170        0.000077  0.005518\n",
       "2                 0.000046  0.000180        0.000015  0.000664\n",
       "3                 0.000116  0.000357        0.000027  0.001301\n",
       "4                 0.040770  0.183205        0.011665  0.735364\n",
       "5                 0.003396  0.013687        0.000915  0.049737\n",
       "6                 0.029276  0.109068        0.009193  0.473737\n",
       "7                 0.028324  0.057317        0.005479  0.257351\n",
       "8                 0.037854  0.127268        0.012772  0.542895\n",
       "9                 0.004761  0.015482        0.001237  0.056036\n",
       "10                0.000802  0.002696        0.000237  0.015627\n",
       "11                0.008089  0.023835        0.002100  0.088078\n",
       "12                0.002889  0.009066        0.000854  0.033069\n",
       "13                0.000620  0.004963        0.000310  0.011166\n",
       "14                0.033645  0.111319        0.010046  0.489665\n",
       "15                0.040618  0.131289        0.010255  0.470264\n",
       "16                0.000383  0.001146        0.000093  0.004628\n",
       "17                0.001730  0.004758        0.000216  0.010813\n",
       "18                0.000210  0.000689        0.000067  0.002374\n",
       "19                0.001817  0.005955        0.000615  0.018959\n",
       "20                0.000569  0.001898        0.000190  0.007876\n",
       "21                0.045329  0.142965        0.011309  0.524297\n",
       "22                0.001834  0.005397        0.000365  0.019192\n",
       "23                0.000579  0.003170        0.000183  0.009632\n",
       "24                0.007656  0.023928        0.001469  0.084016\n",
       "25                0.040205  0.128578        0.011087  0.488010\n",
       "26                0.000012  0.000067        0.000004  0.000329\n",
       "27                0.015944  0.052914        0.004185  0.250753\n",
       "28                0.005630  0.015095        0.001235  0.055208\n",
       "29                0.000728  0.002032        0.000153  0.008011\n",
       "30                0.003721  0.010882        0.001060  0.037083\n",
       "31                0.000325  0.000815        0.000064  0.002688\n",
       "32                0.030568  0.112919        0.010337  0.409564\n",
       "33                0.010399  0.026077        0.002241  0.097323\n",
       "34                0.001325  0.006025        0.000361  0.019159\n",
       "35                0.042408  0.143944        0.011432  0.565941\n",
       "36                0.015190  0.022785        0.000000  0.058228\n",
       "37                0.001670  0.005070        0.000455  0.017427\n",
       "38                0.035939  0.105683        0.008119  0.638723\n",
       "39                0.038260  0.125131        0.010350  0.418770\n",
       "40                0.010907  0.032906        0.002719  0.118430\n",
       "41                0.022516  0.048478        0.005134  0.292336\n",
       "42                0.003061  0.011872        0.001191  0.036431\n",
       "43                0.000368  0.000719        0.000016  0.003484\n",
       "44                0.001521  0.005323        0.000435  0.019229\n",
       "45                0.000321  0.001023        0.000137  0.003817\n",
       "46                0.002234  0.005106        0.000399  0.026805\n",
       "47                0.024563  0.088633        0.006558  0.408863\n",
       "48                0.000095  0.000163        0.000014  0.000653\n",
       "49                0.012322  0.040295        0.002532  0.137038\n",
       "50                0.007461  0.021045        0.001928  0.074450\n",
       "51                0.044382  0.128751        0.010598  0.453848\n",
       "52                0.000852  0.002315        0.000053  0.007531\n",
       "53                0.007332  0.024268        0.001721  0.083956\n",
       "54                0.011273  0.029178        0.002653  0.125332\n",
       "55                0.001718  0.007446        0.000573  0.022910\n",
       "56                0.047186  0.160104        0.013419  0.573698\n",
       "57                0.004463  0.014757        0.001296  0.050389\n",
       "58                0.031549  0.102644        0.008998  0.373139\n",
       "59                0.002172  0.005894        0.000620  0.021517\n",
       "60                0.004591  0.004591        0.000000  0.029839\n",
       "61                0.000000  0.000412        0.000000  0.000823\n",
       "62                0.036968  0.120854        0.010535  0.401092\n",
       "63                0.040752  0.148218        0.013610  0.524978\n",
       "64                0.001012  0.004299        0.000506  0.013404\n",
       "65                0.002754  0.007932        0.000331  0.027983\n",
       "66                0.000000  0.000231        0.000000  0.001851\n",
       "67                0.012191  0.030403        0.003161  0.130945\n",
       "68                0.036615  0.083345        0.007978  0.428836\n",
       "69                0.000058  0.000173        0.000058  0.000693\n",
       "70                0.002802  0.009242        0.000737  0.033084\n",
       "71                0.009950  0.011194        0.002488  0.064677\n",
       "72                0.002293  0.008086        0.000241  0.025223\n",
       "73                0.002035  0.008737        0.001077  0.028725\n",
       "74                0.000159  0.000345        0.000080  0.002149\n",
       "75                0.001499  0.007493        0.000000  0.025974\n",
       "76                0.003443  0.007871        0.000328  0.025990\n",
       "77                0.037098  0.109342        0.009462  0.407330\n",
       "78                0.000373  0.001305        0.000000  0.005593\n",
       "79                0.033411  0.115481        0.008165  0.396851\n",
       "80                0.000000  0.000000        0.000000  0.000000\n",
       "81                0.000000  0.000000        0.000000  0.000297\n",
       "82                0.032770  0.105068        0.009797  0.358108\n",
       "83                0.001051  0.004203        0.000000  0.012259\n",
       "84                0.006559  0.013317        0.001193  0.107931\n",
       "85                0.053706  0.156821        0.015038  0.599893\n",
       "86                0.024164  0.102850        0.006815  0.359356\n",
       "87                0.007191  0.026447        0.001788  0.181597\n",
       "88                0.029658  0.093769        0.008987  0.308568\n",
       "89                0.001581  0.008957        0.000527  0.026344\n",
       "90                0.002747  0.007158        0.000651  0.022486\n",
       "91                0.008971  0.022129        0.002990  0.151316\n",
       "92                0.000549  0.001281        0.000183  0.007501\n",
       "93                0.029228  0.109119        0.009743  0.358924\n",
       "94                0.046642  0.172886        0.014925  0.556592\n",
       "95                0.027115  0.086045        0.009038  0.338395\n",
       "96                0.047194  0.139031        0.012117  0.501913\n",
       "97                0.001230  0.003280        0.000820  0.011070\n",
       "98                0.000000  0.000000        0.000000  0.001107\n",
       "99                0.001012  0.004386        0.000000  0.010796\n",
       "100               0.008386  0.036338        0.002096  0.168414\n",
       "101               0.008439  0.035865        0.004219  0.092827\n",
       "102               0.020168  0.078992        0.010084  0.295798\n",
       "103               0.027682  0.079585        0.013841  0.280277\n",
       "104               0.001664  0.007488        0.000000  0.029118\n",
       "105               0.000000  0.007692        0.003846  0.003846\n",
       "106               0.002625  0.013123        0.000000  0.044619\n",
       "107               0.011905  0.047619        0.000000  0.099206\n",
       "108               0.001014  0.003043        0.001014  0.013185\n",
       "109               0.000000  0.000000        0.000000  0.000000\n",
       "110               0.028571  0.139286        0.010714  0.364286\n",
       "111               0.022901  0.000000        0.000000  0.053435\n",
       "112               0.002967  0.011869        0.002967  0.026706\n",
       "113               0.010676  0.024911        0.003559  0.074733\n",
       "114               0.000000  0.002155        0.000000  0.014009\n",
       "115               0.002242  0.011211        0.000000  0.058296\n",
       "116               0.001055  0.008439        0.000000  0.046414\n",
       "117               0.000000  0.000000        0.000000  0.000000\n",
       "118               0.043661  0.170445        0.014274  0.555835\n",
       "119               0.000000  0.017316        0.000000  0.056277\n",
       "120               0.011130  0.024829        0.004281  0.148116\n",
       "121               0.004292  0.005722        0.000000  0.021459\n",
       "122               0.022727  0.000000        0.000000  0.011364\n",
       "123               0.003992  0.009980        0.000000  0.071856\n",
       "124               0.000000  0.086957        0.043478  0.130435\n",
       "125               0.010101  0.010101        0.000000  0.088384\n",
       "126               0.009693  0.012924        0.000000  0.090468\n",
       "127               0.036735  0.102041        0.012245  0.455102\n",
       "128               0.000000  0.001757        0.000000  0.003515\n",
       "129               0.020408  0.061224        0.000000  0.489796\n",
       "130               0.000000  0.120000        0.000000  0.560000\n",
       "131               0.034483  0.071429        0.002463  0.268473\n",
       "132               0.007937  0.067460        0.007937  0.345238\n",
       "133               0.000000  0.000000        0.000000  0.005988\n",
       "134               0.000000  0.000000        0.000000  0.000000\n",
       "135               0.022293  0.079618        0.003185  0.334395\n",
       "136               0.000000  0.000000        0.000000  0.018868\n",
       "137               0.000000  0.024390        0.000000  0.219512\n",
       "138               0.022727  0.022727        0.000000  0.204545\n",
       "139               0.083333  0.083333        0.083333  0.166667\n",
       "140               0.000000  0.000000        0.000000  0.000000\n",
       "141               0.003215  0.011254        0.003215  0.069132\n",
       "142               0.000000  0.008696        0.000000  0.034783\n",
       "143               0.000000  0.009390        0.000000  0.042254\n",
       "144               0.041026  0.153846        0.030769  0.410256\n",
       "145               0.000000  0.032258        0.000000  0.129032\n",
       "146               0.000000  0.000000        0.000000  0.333333\n",
       "147               0.000000  0.000000        0.000000  0.098361\n",
       "148               0.000000  0.000000        0.000000  0.000000\n",
       "149               0.000000  0.111111        0.000000  0.222222\n",
       "150               0.000000  0.000000        0.000000  0.200000\n",
       "151               0.000000  0.000000        0.000000  0.157895\n",
       "152               0.000000  0.045455        0.000000  0.090909\n",
       "153               0.000000  0.062500        0.000000  0.468750\n",
       "154               0.250000  0.000000        0.000000  0.000000\n",
       "155               0.029412  0.000000        0.000000  0.029412\n",
       "156               0.000000  0.000000        0.000000  0.000000\n",
       "157               0.000000  0.200000        0.000000  0.600000\n",
       "158               0.000000  0.000000        0.000000  0.000000\n",
       "159               0.000000  0.000000        0.000000  0.750000\n",
       "160               0.000000  0.000000        0.000000  0.000000\n",
       "161               0.000000  0.000000        0.000000  0.000000\n",
       "162               0.000000  0.000000        0.000000  0.000000\n",
       "163               0.000000  0.000000        0.000000  0.500000\n",
       "164               0.000000  0.000000        0.000000  0.000000\n",
       "165               0.000000  0.500000        0.500000  0.500000\n",
       "166               0.000000  0.000000        0.000000  0.500000\n",
       "167               0.000000  0.500000        0.000000  0.500000\n",
       "168               1.000000  0.000000        0.000000  0.000000\n",
       "169               0.000000  0.000000        0.000000  0.000000"
      ],
      "text/html": "<div>\n<style scoped>\n    .dataframe tbody tr th:only-of-type {\n        vertical-align: middle;\n    }\n\n    .dataframe tbody tr th {\n        vertical-align: top;\n    }\n\n    .dataframe thead tr th {\n        text-align: left;\n    }\n\n    .dataframe thead tr:last-of-type th {\n        text-align: right;\n    }\n</style>\n<table border=\"1\" class=\"dataframe\">\n  <thead>\n    <tr>\n      <th></th>\n      <th>reply</th>\n      <th>retweet</th>\n      <th>retweet_comment</th>\n      <th>like</th>\n    </tr>\n    <tr>\n      <th></th>\n      <th>mean</th>\n      <th>mean</th>\n      <th>mean</th>\n      <th>mean</th>\n    </tr>\n    <tr>\n      <th>a_count_combined</th>\n      <th></th>\n      <th></th>\n      <th></th>\n      <th></th>\n    </tr>\n  </thead>\n  <tbody>\n    <tr>\n      <th>0</th>\n      <td>0.000127</td>\n      <td>0.000461</td>\n      <td>0.000034</td>\n      <td>0.001665</td>\n    </tr>\n    <tr>\n      <th>1</th>\n      <td>0.000363</td>\n      <td>0.001170</td>\n      <td>0.000077</td>\n      <td>0.005518</td>\n    </tr>\n    <tr>\n      <th>2</th>\n      <td>0.000046</td>\n      <td>0.000180</td>\n      <td>0.000015</td>\n      <td>0.000664</td>\n    </tr>\n    <tr>\n      <th>3</th>\n      <td>0.000116</td>\n      <td>0.000357</td>\n      <td>0.000027</td>\n      <td>0.001301</td>\n    </tr>\n    <tr>\n      <th>4</th>\n      <td>0.040770</td>\n      <td>0.183205</td>\n      <td>0.011665</td>\n      <td>0.735364</td>\n    </tr>\n    <tr>\n      <th>5</th>\n      <td>0.003396</td>\n      <td>0.013687</td>\n      <td>0.000915</td>\n      <td>0.049737</td>\n    </tr>\n    <tr>\n      <th>6</th>\n      <td>0.029276</td>\n      <td>0.109068</td>\n      <td>0.009193</td>\n      <td>0.473737</td>\n    </tr>\n    <tr>\n      <th>7</th>\n      <td>0.028324</td>\n      <td>0.057317</td>\n      <td>0.005479</td>\n      <td>0.257351</td>\n    </tr>\n    <tr>\n      <th>8</th>\n      <td>0.037854</td>\n      <td>0.127268</td>\n      <td>0.012772</td>\n      <td>0.542895</td>\n    </tr>\n    <tr>\n      <th>9</th>\n      <td>0.004761</td>\n      <td>0.015482</td>\n      <td>0.001237</td>\n      <td>0.056036</td>\n    </tr>\n    <tr>\n      <th>10</th>\n      <td>0.000802</td>\n      <td>0.002696</td>\n      <td>0.000237</td>\n      <td>0.015627</td>\n    </tr>\n    <tr>\n      <th>11</th>\n      <td>0.008089</td>\n      <td>0.023835</td>\n      <td>0.002100</td>\n      <td>0.088078</td>\n    </tr>\n    <tr>\n      <th>12</th>\n      <td>0.002889</td>\n      <td>0.009066</td>\n      <td>0.000854</td>\n      <td>0.033069</td>\n    </tr>\n    <tr>\n      <th>13</th>\n      <td>0.000620</td>\n      <td>0.004963</td>\n      <td>0.000310</td>\n      <td>0.011166</td>\n    </tr>\n    <tr>\n      <th>14</th>\n      <td>0.033645</td>\n      <td>0.111319</td>\n      <td>0.010046</td>\n      <td>0.489665</td>\n    </tr>\n    <tr>\n      <th>15</th>\n      <td>0.040618</td>\n      <td>0.131289</td>\n      <td>0.010255</td>\n      <td>0.470264</td>\n    </tr>\n    <tr>\n      <th>16</th>\n      <td>0.000383</td>\n      <td>0.001146</td>\n      <td>0.000093</td>\n      <td>0.004628</td>\n    </tr>\n    <tr>\n      <th>17</th>\n      <td>0.001730</td>\n      <td>0.004758</td>\n      <td>0.000216</td>\n      <td>0.010813</td>\n    </tr>\n    <tr>\n      <th>18</th>\n      <td>0.000210</td>\n      <td>0.000689</td>\n      <td>0.000067</td>\n      <td>0.002374</td>\n    </tr>\n    <tr>\n      <th>19</th>\n      <td>0.001817</td>\n      <td>0.005955</td>\n      <td>0.000615</td>\n      <td>0.018959</td>\n    </tr>\n    <tr>\n      <th>20</th>\n      <td>0.000569</td>\n      <td>0.001898</td>\n      <td>0.000190</td>\n      <td>0.007876</td>\n    </tr>\n    <tr>\n      <th>21</th>\n      <td>0.045329</td>\n      <td>0.142965</td>\n      <td>0.011309</td>\n      <td>0.524297</td>\n    </tr>\n    <tr>\n      <th>22</th>\n      <td>0.001834</td>\n      <td>0.005397</td>\n      <td>0.000365</td>\n      <td>0.019192</td>\n    </tr>\n    <tr>\n      <th>23</th>\n      <td>0.000579</td>\n      <td>0.003170</td>\n      <td>0.000183</td>\n      <td>0.009632</td>\n    </tr>\n    <tr>\n      <th>24</th>\n      <td>0.007656</td>\n      <td>0.023928</td>\n      <td>0.001469</td>\n      <td>0.084016</td>\n    </tr>\n    <tr>\n      <th>25</th>\n      <td>0.040205</td>\n      <td>0.128578</td>\n      <td>0.011087</td>\n      <td>0.488010</td>\n    </tr>\n    <tr>\n      <th>26</th>\n      <td>0.000012</td>\n      <td>0.000067</td>\n      <td>0.000004</td>\n      <td>0.000329</td>\n    </tr>\n    <tr>\n      <th>27</th>\n      <td>0.015944</td>\n      <td>0.052914</td>\n      <td>0.004185</td>\n      <td>0.250753</td>\n    </tr>\n    <tr>\n      <th>28</th>\n      <td>0.005630</td>\n      <td>0.015095</td>\n      <td>0.001235</td>\n      <td>0.055208</td>\n    </tr>\n    <tr>\n      <th>29</th>\n      <td>0.000728</td>\n      <td>0.002032</td>\n      <td>0.000153</td>\n      <td>0.008011</td>\n    </tr>\n    <tr>\n      <th>30</th>\n      <td>0.003721</td>\n      <td>0.010882</td>\n      <td>0.001060</td>\n      <td>0.037083</td>\n    </tr>\n    <tr>\n      <th>31</th>\n      <td>0.000325</td>\n      <td>0.000815</td>\n      <td>0.000064</td>\n      <td>0.002688</td>\n    </tr>\n    <tr>\n      <th>32</th>\n      <td>0.030568</td>\n      <td>0.112919</td>\n      <td>0.010337</td>\n      <td>0.409564</td>\n    </tr>\n    <tr>\n      <th>33</th>\n      <td>0.010399</td>\n      <td>0.026077</td>\n      <td>0.002241</td>\n      <td>0.097323</td>\n    </tr>\n    <tr>\n      <th>34</th>\n      <td>0.001325</td>\n      <td>0.006025</td>\n      <td>0.000361</td>\n      <td>0.019159</td>\n    </tr>\n    <tr>\n      <th>35</th>\n      <td>0.042408</td>\n      <td>0.143944</td>\n      <td>0.011432</td>\n      <td>0.565941</td>\n    </tr>\n    <tr>\n      <th>36</th>\n      <td>0.015190</td>\n      <td>0.022785</td>\n      <td>0.000000</td>\n      <td>0.058228</td>\n    </tr>\n    <tr>\n      <th>37</th>\n      <td>0.001670</td>\n      <td>0.005070</td>\n      <td>0.000455</td>\n      <td>0.017427</td>\n    </tr>\n    <tr>\n      <th>38</th>\n      <td>0.035939</td>\n      <td>0.105683</td>\n      <td>0.008119</td>\n      <td>0.638723</td>\n    </tr>\n    <tr>\n      <th>39</th>\n      <td>0.038260</td>\n      <td>0.125131</td>\n      <td>0.010350</td>\n      <td>0.418770</td>\n    </tr>\n    <tr>\n      <th>40</th>\n      <td>0.010907</td>\n      <td>0.032906</td>\n      <td>0.002719</td>\n      <td>0.118430</td>\n    </tr>\n    <tr>\n      <th>41</th>\n      <td>0.022516</td>\n      <td>0.048478</td>\n      <td>0.005134</td>\n      <td>0.292336</td>\n    </tr>\n    <tr>\n      <th>42</th>\n      <td>0.003061</td>\n      <td>0.011872</td>\n      <td>0.001191</td>\n      <td>0.036431</td>\n    </tr>\n    <tr>\n      <th>43</th>\n      <td>0.000368</td>\n      <td>0.000719</td>\n      <td>0.000016</td>\n      <td>0.003484</td>\n    </tr>\n    <tr>\n      <th>44</th>\n      <td>0.001521</td>\n      <td>0.005323</td>\n      <td>0.000435</td>\n      <td>0.019229</td>\n    </tr>\n    <tr>\n      <th>45</th>\n      <td>0.000321</td>\n      <td>0.001023</td>\n      <td>0.000137</td>\n      <td>0.003817</td>\n    </tr>\n    <tr>\n      <th>46</th>\n      <td>0.002234</td>\n      <td>0.005106</td>\n      <td>0.000399</td>\n      <td>0.026805</td>\n    </tr>\n    <tr>\n      <th>47</th>\n      <td>0.024563</td>\n      <td>0.088633</td>\n      <td>0.006558</td>\n      <td>0.408863</td>\n    </tr>\n    <tr>\n      <th>48</th>\n      <td>0.000095</td>\n      <td>0.000163</td>\n      <td>0.000014</td>\n      <td>0.000653</td>\n    </tr>\n    <tr>\n      <th>49</th>\n      <td>0.012322</td>\n      <td>0.040295</td>\n      <td>0.002532</td>\n      <td>0.137038</td>\n    </tr>\n    <tr>\n      <th>50</th>\n      <td>0.007461</td>\n      <td>0.021045</td>\n      <td>0.001928</td>\n      <td>0.074450</td>\n    </tr>\n    <tr>\n      <th>51</th>\n      <td>0.044382</td>\n      <td>0.128751</td>\n      <td>0.010598</td>\n      <td>0.453848</td>\n    </tr>\n    <tr>\n      <th>52</th>\n      <td>0.000852</td>\n      <td>0.002315</td>\n      <td>0.000053</td>\n      <td>0.007531</td>\n    </tr>\n    <tr>\n      <th>53</th>\n      <td>0.007332</td>\n      <td>0.024268</td>\n      <td>0.001721</td>\n      <td>0.083956</td>\n    </tr>\n    <tr>\n      <th>54</th>\n      <td>0.011273</td>\n      <td>0.029178</td>\n      <td>0.002653</td>\n      <td>0.125332</td>\n    </tr>\n    <tr>\n      <th>55</th>\n      <td>0.001718</td>\n      <td>0.007446</td>\n      <td>0.000573</td>\n      <td>0.022910</td>\n    </tr>\n    <tr>\n      <th>56</th>\n      <td>0.047186</td>\n      <td>0.160104</td>\n      <td>0.013419</td>\n      <td>0.573698</td>\n    </tr>\n    <tr>\n      <th>57</th>\n      <td>0.004463</td>\n      <td>0.014757</td>\n      <td>0.001296</td>\n      <td>0.050389</td>\n    </tr>\n    <tr>\n      <th>58</th>\n      <td>0.031549</td>\n      <td>0.102644</td>\n      <td>0.008998</td>\n      <td>0.373139</td>\n    </tr>\n    <tr>\n      <th>59</th>\n      <td>0.002172</td>\n      <td>0.005894</td>\n      <td>0.000620</td>\n      <td>0.021517</td>\n    </tr>\n    <tr>\n      <th>60</th>\n      <td>0.004591</td>\n      <td>0.004591</td>\n      <td>0.000000</td>\n      <td>0.029839</td>\n    </tr>\n    <tr>\n      <th>61</th>\n      <td>0.000000</td>\n      <td>0.000412</td>\n      <td>0.000000</td>\n      <td>0.000823</td>\n    </tr>\n    <tr>\n      <th>62</th>\n      <td>0.036968</td>\n      <td>0.120854</td>\n      <td>0.010535</td>\n      <td>0.401092</td>\n    </tr>\n    <tr>\n      <th>63</th>\n      <td>0.040752</td>\n      <td>0.148218</td>\n      <td>0.013610</td>\n      <td>0.524978</td>\n    </tr>\n    <tr>\n      <th>64</th>\n      <td>0.001012</td>\n      <td>0.004299</td>\n      <td>0.000506</td>\n      <td>0.013404</td>\n    </tr>\n    <tr>\n      <th>65</th>\n      <td>0.002754</td>\n      <td>0.007932</td>\n      <td>0.000331</td>\n      <td>0.027983</td>\n    </tr>\n    <tr>\n      <th>66</th>\n      <td>0.000000</td>\n      <td>0.000231</td>\n      <td>0.000000</td>\n      <td>0.001851</td>\n    </tr>\n    <tr>\n      <th>67</th>\n      <td>0.012191</td>\n      <td>0.030403</td>\n      <td>0.003161</td>\n      <td>0.130945</td>\n    </tr>\n    <tr>\n      <th>68</th>\n      <td>0.036615</td>\n      <td>0.083345</td>\n      <td>0.007978</td>\n      <td>0.428836</td>\n    </tr>\n    <tr>\n      <th>69</th>\n      <td>0.000058</td>\n      <td>0.000173</td>\n      <td>0.000058</td>\n      <td>0.000693</td>\n    </tr>\n    <tr>\n      <th>70</th>\n      <td>0.002802</td>\n      <td>0.009242</td>\n      <td>0.000737</td>\n      <td>0.033084</td>\n    </tr>\n    <tr>\n      <th>71</th>\n      <td>0.009950</td>\n      <td>0.011194</td>\n      <td>0.002488</td>\n      <td>0.064677</td>\n    </tr>\n    <tr>\n      <th>72</th>\n      <td>0.002293</td>\n      <td>0.008086</td>\n      <td>0.000241</td>\n      <td>0.025223</td>\n    </tr>\n    <tr>\n      <th>73</th>\n      <td>0.002035</td>\n      <td>0.008737</td>\n      <td>0.001077</td>\n      <td>0.028725</td>\n    </tr>\n    <tr>\n      <th>74</th>\n      <td>0.000159</td>\n      <td>0.000345</td>\n      <td>0.000080</td>\n      <td>0.002149</td>\n    </tr>\n    <tr>\n      <th>75</th>\n      <td>0.001499</td>\n      <td>0.007493</td>\n      <td>0.000000</td>\n      <td>0.025974</td>\n    </tr>\n    <tr>\n      <th>76</th>\n      <td>0.003443</td>\n      <td>0.007871</td>\n      <td>0.000328</td>\n      <td>0.025990</td>\n    </tr>\n    <tr>\n      <th>77</th>\n      <td>0.037098</td>\n      <td>0.109342</td>\n      <td>0.009462</td>\n      <td>0.407330</td>\n    </tr>\n    <tr>\n      <th>78</th>\n      <td>0.000373</td>\n      <td>0.001305</td>\n      <td>0.000000</td>\n      <td>0.005593</td>\n    </tr>\n    <tr>\n      <th>79</th>\n      <td>0.033411</td>\n      <td>0.115481</td>\n      <td>0.008165</td>\n      <td>0.396851</td>\n    </tr>\n    <tr>\n      <th>80</th>\n      <td>0.000000</td>\n      <td>0.000000</td>\n      <td>0.000000</td>\n      <td>0.000000</td>\n    </tr>\n    <tr>\n      <th>81</th>\n      <td>0.000000</td>\n      <td>0.000000</td>\n      <td>0.000000</td>\n      <td>0.000297</td>\n    </tr>\n    <tr>\n      <th>82</th>\n      <td>0.032770</td>\n      <td>0.105068</td>\n      <td>0.009797</td>\n      <td>0.358108</td>\n    </tr>\n    <tr>\n      <th>83</th>\n      <td>0.001051</td>\n      <td>0.004203</td>\n      <td>0.000000</td>\n      <td>0.012259</td>\n    </tr>\n    <tr>\n      <th>84</th>\n      <td>0.006559</td>\n      <td>0.013317</td>\n      <td>0.001193</td>\n      <td>0.107931</td>\n    </tr>\n    <tr>\n      <th>85</th>\n      <td>0.053706</td>\n      <td>0.156821</td>\n      <td>0.015038</td>\n      <td>0.599893</td>\n    </tr>\n    <tr>\n      <th>86</th>\n      <td>0.024164</td>\n      <td>0.102850</td>\n      <td>0.006815</td>\n      <td>0.359356</td>\n    </tr>\n    <tr>\n      <th>87</th>\n      <td>0.007191</td>\n      <td>0.026447</td>\n      <td>0.001788</td>\n      <td>0.181597</td>\n    </tr>\n    <tr>\n      <th>88</th>\n      <td>0.029658</td>\n      <td>0.093769</td>\n      <td>0.008987</td>\n      <td>0.308568</td>\n    </tr>\n    <tr>\n      <th>89</th>\n      <td>0.001581</td>\n      <td>0.008957</td>\n      <td>0.000527</td>\n      <td>0.026344</td>\n    </tr>\n    <tr>\n      <th>90</th>\n      <td>0.002747</td>\n      <td>0.007158</td>\n      <td>0.000651</td>\n      <td>0.022486</td>\n    </tr>\n    <tr>\n      <th>91</th>\n      <td>0.008971</td>\n      <td>0.022129</td>\n      <td>0.002990</td>\n      <td>0.151316</td>\n    </tr>\n    <tr>\n      <th>92</th>\n      <td>0.000549</td>\n      <td>0.001281</td>\n      <td>0.000183</td>\n      <td>0.007501</td>\n    </tr>\n    <tr>\n      <th>93</th>\n      <td>0.029228</td>\n      <td>0.109119</td>\n      <td>0.009743</td>\n      <td>0.358924</td>\n    </tr>\n    <tr>\n      <th>94</th>\n      <td>0.046642</td>\n      <td>0.172886</td>\n      <td>0.014925</td>\n      <td>0.556592</td>\n    </tr>\n    <tr>\n      <th>95</th>\n      <td>0.027115</td>\n      <td>0.086045</td>\n      <td>0.009038</td>\n      <td>0.338395</td>\n    </tr>\n    <tr>\n      <th>96</th>\n      <td>0.047194</td>\n      <td>0.139031</td>\n      <td>0.012117</td>\n      <td>0.501913</td>\n    </tr>\n    <tr>\n      <th>97</th>\n      <td>0.001230</td>\n      <td>0.003280</td>\n      <td>0.000820</td>\n      <td>0.011070</td>\n    </tr>\n    <tr>\n      <th>98</th>\n      <td>0.000000</td>\n      <td>0.000000</td>\n      <td>0.000000</td>\n      <td>0.001107</td>\n    </tr>\n    <tr>\n      <th>99</th>\n      <td>0.001012</td>\n      <td>0.004386</td>\n      <td>0.000000</td>\n      <td>0.010796</td>\n    </tr>\n    <tr>\n      <th>100</th>\n      <td>0.008386</td>\n      <td>0.036338</td>\n      <td>0.002096</td>\n      <td>0.168414</td>\n    </tr>\n    <tr>\n      <th>101</th>\n      <td>0.008439</td>\n      <td>0.035865</td>\n      <td>0.004219</td>\n      <td>0.092827</td>\n    </tr>\n    <tr>\n      <th>102</th>\n      <td>0.020168</td>\n      <td>0.078992</td>\n      <td>0.010084</td>\n      <td>0.295798</td>\n    </tr>\n    <tr>\n      <th>103</th>\n      <td>0.027682</td>\n      <td>0.079585</td>\n      <td>0.013841</td>\n      <td>0.280277</td>\n    </tr>\n    <tr>\n      <th>104</th>\n      <td>0.001664</td>\n      <td>0.007488</td>\n      <td>0.000000</td>\n      <td>0.029118</td>\n    </tr>\n    <tr>\n      <th>105</th>\n      <td>0.000000</td>\n      <td>0.007692</td>\n      <td>0.003846</td>\n      <td>0.003846</td>\n    </tr>\n    <tr>\n      <th>106</th>\n      <td>0.002625</td>\n      <td>0.013123</td>\n      <td>0.000000</td>\n      <td>0.044619</td>\n    </tr>\n    <tr>\n      <th>107</th>\n      <td>0.011905</td>\n      <td>0.047619</td>\n      <td>0.000000</td>\n      <td>0.099206</td>\n    </tr>\n    <tr>\n      <th>108</th>\n      <td>0.001014</td>\n      <td>0.003043</td>\n      <td>0.001014</td>\n      <td>0.013185</td>\n    </tr>\n    <tr>\n      <th>109</th>\n      <td>0.000000</td>\n      <td>0.000000</td>\n      <td>0.000000</td>\n      <td>0.000000</td>\n    </tr>\n    <tr>\n      <th>110</th>\n      <td>0.028571</td>\n      <td>0.139286</td>\n      <td>0.010714</td>\n      <td>0.364286</td>\n    </tr>\n    <tr>\n      <th>111</th>\n      <td>0.022901</td>\n      <td>0.000000</td>\n      <td>0.000000</td>\n      <td>0.053435</td>\n    </tr>\n    <tr>\n      <th>112</th>\n      <td>0.002967</td>\n      <td>0.011869</td>\n      <td>0.002967</td>\n      <td>0.026706</td>\n    </tr>\n    <tr>\n      <th>113</th>\n      <td>0.010676</td>\n      <td>0.024911</td>\n      <td>0.003559</td>\n      <td>0.074733</td>\n    </tr>\n    <tr>\n      <th>114</th>\n      <td>0.000000</td>\n      <td>0.002155</td>\n      <td>0.000000</td>\n      <td>0.014009</td>\n    </tr>\n    <tr>\n      <th>115</th>\n      <td>0.002242</td>\n      <td>0.011211</td>\n      <td>0.000000</td>\n      <td>0.058296</td>\n    </tr>\n    <tr>\n      <th>116</th>\n      <td>0.001055</td>\n      <td>0.008439</td>\n      <td>0.000000</td>\n      <td>0.046414</td>\n    </tr>\n    <tr>\n      <th>117</th>\n      <td>0.000000</td>\n      <td>0.000000</td>\n      <td>0.000000</td>\n      <td>0.000000</td>\n    </tr>\n    <tr>\n      <th>118</th>\n      <td>0.043661</td>\n      <td>0.170445</td>\n      <td>0.014274</td>\n      <td>0.555835</td>\n    </tr>\n    <tr>\n      <th>119</th>\n      <td>0.000000</td>\n      <td>0.017316</td>\n      <td>0.000000</td>\n      <td>0.056277</td>\n    </tr>\n    <tr>\n      <th>120</th>\n      <td>0.011130</td>\n      <td>0.024829</td>\n      <td>0.004281</td>\n      <td>0.148116</td>\n    </tr>\n    <tr>\n      <th>121</th>\n      <td>0.004292</td>\n      <td>0.005722</td>\n      <td>0.000000</td>\n      <td>0.021459</td>\n    </tr>\n    <tr>\n      <th>122</th>\n      <td>0.022727</td>\n      <td>0.000000</td>\n      <td>0.000000</td>\n      <td>0.011364</td>\n    </tr>\n    <tr>\n      <th>123</th>\n      <td>0.003992</td>\n      <td>0.009980</td>\n      <td>0.000000</td>\n      <td>0.071856</td>\n    </tr>\n    <tr>\n      <th>124</th>\n      <td>0.000000</td>\n      <td>0.086957</td>\n      <td>0.043478</td>\n      <td>0.130435</td>\n    </tr>\n    <tr>\n      <th>125</th>\n      <td>0.010101</td>\n      <td>0.010101</td>\n      <td>0.000000</td>\n      <td>0.088384</td>\n    </tr>\n    <tr>\n      <th>126</th>\n      <td>0.009693</td>\n      <td>0.012924</td>\n      <td>0.000000</td>\n      <td>0.090468</td>\n    </tr>\n    <tr>\n      <th>127</th>\n      <td>0.036735</td>\n      <td>0.102041</td>\n      <td>0.012245</td>\n      <td>0.455102</td>\n    </tr>\n    <tr>\n      <th>128</th>\n      <td>0.000000</td>\n      <td>0.001757</td>\n      <td>0.000000</td>\n      <td>0.003515</td>\n    </tr>\n    <tr>\n      <th>129</th>\n      <td>0.020408</td>\n      <td>0.061224</td>\n      <td>0.000000</td>\n      <td>0.489796</td>\n    </tr>\n    <tr>\n      <th>130</th>\n      <td>0.000000</td>\n      <td>0.120000</td>\n      <td>0.000000</td>\n      <td>0.560000</td>\n    </tr>\n    <tr>\n      <th>131</th>\n      <td>0.034483</td>\n      <td>0.071429</td>\n      <td>0.002463</td>\n      <td>0.268473</td>\n    </tr>\n    <tr>\n      <th>132</th>\n      <td>0.007937</td>\n      <td>0.067460</td>\n      <td>0.007937</td>\n      <td>0.345238</td>\n    </tr>\n    <tr>\n      <th>133</th>\n      <td>0.000000</td>\n      <td>0.000000</td>\n      <td>0.000000</td>\n      <td>0.005988</td>\n    </tr>\n    <tr>\n      <th>134</th>\n      <td>0.000000</td>\n      <td>0.000000</td>\n      <td>0.000000</td>\n      <td>0.000000</td>\n    </tr>\n    <tr>\n      <th>135</th>\n      <td>0.022293</td>\n      <td>0.079618</td>\n      <td>0.003185</td>\n      <td>0.334395</td>\n    </tr>\n    <tr>\n      <th>136</th>\n      <td>0.000000</td>\n      <td>0.000000</td>\n      <td>0.000000</td>\n      <td>0.018868</td>\n    </tr>\n    <tr>\n      <th>137</th>\n      <td>0.000000</td>\n      <td>0.024390</td>\n      <td>0.000000</td>\n      <td>0.219512</td>\n    </tr>\n    <tr>\n      <th>138</th>\n      <td>0.022727</td>\n      <td>0.022727</td>\n      <td>0.000000</td>\n      <td>0.204545</td>\n    </tr>\n    <tr>\n      <th>139</th>\n      <td>0.083333</td>\n      <td>0.083333</td>\n      <td>0.083333</td>\n      <td>0.166667</td>\n    </tr>\n    <tr>\n      <th>140</th>\n      <td>0.000000</td>\n      <td>0.000000</td>\n      <td>0.000000</td>\n      <td>0.000000</td>\n    </tr>\n    <tr>\n      <th>141</th>\n      <td>0.003215</td>\n      <td>0.011254</td>\n      <td>0.003215</td>\n      <td>0.069132</td>\n    </tr>\n    <tr>\n      <th>142</th>\n      <td>0.000000</td>\n      <td>0.008696</td>\n      <td>0.000000</td>\n      <td>0.034783</td>\n    </tr>\n    <tr>\n      <th>143</th>\n      <td>0.000000</td>\n      <td>0.009390</td>\n      <td>0.000000</td>\n      <td>0.042254</td>\n    </tr>\n    <tr>\n      <th>144</th>\n      <td>0.041026</td>\n      <td>0.153846</td>\n      <td>0.030769</td>\n      <td>0.410256</td>\n    </tr>\n    <tr>\n      <th>145</th>\n      <td>0.000000</td>\n      <td>0.032258</td>\n      <td>0.000000</td>\n      <td>0.129032</td>\n    </tr>\n    <tr>\n      <th>146</th>\n      <td>0.000000</td>\n      <td>0.000000</td>\n      <td>0.000000</td>\n      <td>0.333333</td>\n    </tr>\n    <tr>\n      <th>147</th>\n      <td>0.000000</td>\n      <td>0.000000</td>\n      <td>0.000000</td>\n      <td>0.098361</td>\n    </tr>\n    <tr>\n      <th>148</th>\n      <td>0.000000</td>\n      <td>0.000000</td>\n      <td>0.000000</td>\n      <td>0.000000</td>\n    </tr>\n    <tr>\n      <th>149</th>\n      <td>0.000000</td>\n      <td>0.111111</td>\n      <td>0.000000</td>\n      <td>0.222222</td>\n    </tr>\n    <tr>\n      <th>150</th>\n      <td>0.000000</td>\n      <td>0.000000</td>\n      <td>0.000000</td>\n      <td>0.200000</td>\n    </tr>\n    <tr>\n      <th>151</th>\n      <td>0.000000</td>\n      <td>0.000000</td>\n      <td>0.000000</td>\n      <td>0.157895</td>\n    </tr>\n    <tr>\n      <th>152</th>\n      <td>0.000000</td>\n      <td>0.045455</td>\n      <td>0.000000</td>\n      <td>0.090909</td>\n    </tr>\n    <tr>\n      <th>153</th>\n      <td>0.000000</td>\n      <td>0.062500</td>\n      <td>0.000000</td>\n      <td>0.468750</td>\n    </tr>\n    <tr>\n      <th>154</th>\n      <td>0.250000</td>\n      <td>0.000000</td>\n      <td>0.000000</td>\n      <td>0.000000</td>\n    </tr>\n    <tr>\n      <th>155</th>\n      <td>0.029412</td>\n      <td>0.000000</td>\n      <td>0.000000</td>\n      <td>0.029412</td>\n    </tr>\n    <tr>\n      <th>156</th>\n      <td>0.000000</td>\n      <td>0.000000</td>\n      <td>0.000000</td>\n      <td>0.000000</td>\n    </tr>\n    <tr>\n      <th>157</th>\n      <td>0.000000</td>\n      <td>0.200000</td>\n      <td>0.000000</td>\n      <td>0.600000</td>\n    </tr>\n    <tr>\n      <th>158</th>\n      <td>0.000000</td>\n      <td>0.000000</td>\n      <td>0.000000</td>\n      <td>0.000000</td>\n    </tr>\n    <tr>\n      <th>159</th>\n      <td>0.000000</td>\n      <td>0.000000</td>\n      <td>0.000000</td>\n      <td>0.750000</td>\n    </tr>\n    <tr>\n      <th>160</th>\n      <td>0.000000</td>\n      <td>0.000000</td>\n      <td>0.000000</td>\n      <td>0.000000</td>\n    </tr>\n    <tr>\n      <th>161</th>\n      <td>0.000000</td>\n      <td>0.000000</td>\n      <td>0.000000</td>\n      <td>0.000000</td>\n    </tr>\n    <tr>\n      <th>162</th>\n      <td>0.000000</td>\n      <td>0.000000</td>\n      <td>0.000000</td>\n      <td>0.000000</td>\n    </tr>\n    <tr>\n      <th>163</th>\n      <td>0.000000</td>\n      <td>0.000000</td>\n      <td>0.000000</td>\n      <td>0.500000</td>\n    </tr>\n    <tr>\n      <th>164</th>\n      <td>0.000000</td>\n      <td>0.000000</td>\n      <td>0.000000</td>\n      <td>0.000000</td>\n    </tr>\n    <tr>\n      <th>165</th>\n      <td>0.000000</td>\n      <td>0.500000</td>\n      <td>0.500000</td>\n      <td>0.500000</td>\n    </tr>\n    <tr>\n      <th>166</th>\n      <td>0.000000</td>\n      <td>0.000000</td>\n      <td>0.000000</td>\n      <td>0.500000</td>\n    </tr>\n    <tr>\n      <th>167</th>\n      <td>0.000000</td>\n      <td>0.500000</td>\n      <td>0.000000</td>\n      <td>0.500000</td>\n    </tr>\n    <tr>\n      <th>168</th>\n      <td>1.000000</td>\n      <td>0.000000</td>\n      <td>0.000000</td>\n      <td>0.000000</td>\n    </tr>\n    <tr>\n      <th>169</th>\n      <td>0.000000</td>\n      <td>0.000000</td>\n      <td>0.000000</td>\n      <td>0.000000</td>\n    </tr>\n  </tbody>\n</table>\n</div>"
     },
     "metadata": {},
     "execution_count": 33
    }
   ],
   "source": [
    "train.loc[ train.tr==0 ].groupby('a_count_combined')[['reply','retweet','retweet_comment','like']].agg(['mean'])"
   ]
  },
  {
   "cell_type": "code",
   "execution_count": 34,
   "metadata": {},
   "outputs": [
    {
     "output_type": "execute_result",
     "data": {
      "text/plain": [
       "   hashtags  tweet_id  media   links  domains  tweet_type  language  \\\n",
       "0         0     19329      5       0        0           2        54   \n",
       "1      2839   3268367      9  425779       12           2        54   \n",
       "2       594    736879      5  109298      542           2        54   \n",
       "3         0   3403570      9       0        0           2        54   \n",
       "4    732011   8323311      5  948558       12           2        54   \n",
       "\n",
       "    timestamp  a_user_id  a_follower_count  a_following_count  a_is_verified  \\\n",
       "0  1580947200      16906           9794149                 90              1   \n",
       "1  1580947200     233502           1661107                125              1   \n",
       "2  1580947200       5604          12029492                 14              1   \n",
       "3  1580947200      10859           4398172                825              1   \n",
       "4  1580947200      52763            246867                559              1   \n",
       "\n",
       "   a_account_creation  b_user_id  b_follower_count  b_following_count  \\\n",
       "0          1321282652   18916826               163                111   \n",
       "1          1257040330   19649316               134                165   \n",
       "2          1239741288   15045821               100                229   \n",
       "3          1236008126   15883237                 5                130   \n",
       "4          1219588461    4466763              1233                747   \n",
       "\n",
       "   b_is_verified  b_account_creation  b_follows_a  reply  retweet  \\\n",
       "0              0          1543074641            0      0        0   \n",
       "1              0          1351006912            0      0        0   \n",
       "2              0          1348592309            0      0        0   \n",
       "3              0          1404447043            0      0        0   \n",
       "4              0          1314638570            0      0        0   \n",
       "\n",
       "   retweet_comment  like        id  tr  len_hashtags  len_domains  len_links  \\\n",
       "0                0     0  31145094   0             0            0          0   \n",
       "1                0     0  38859618   0             3            1          1   \n",
       "2                0     0  96650689   0             1            1          1   \n",
       "3                0     0   7549091   0             0            0          0   \n",
       "4                0     0  43687561   0             1            1          1   \n",
       "\n",
       "   engage  a_user_fer_count_delta_time  a_user_fing_count_delta_time  \\\n",
       "0       0                            0                             1   \n",
       "1       0                           -1                             1   \n",
       "2       0                            0                             1   \n",
       "3       0                            0                             0   \n",
       "4       0                            0                             1   \n",
       "\n",
       "   a_user_fering_count_delta_time  a_user_fing_count_mode  \\\n",
       "0                               0                       1   \n",
       "1                              -1                       1   \n",
       "2                               0                       1   \n",
       "3                               0                       1   \n",
       "4                               0                       1   \n",
       "\n",
       "   a_user_fer_count_mode  a_user_fering_count_mode  a_count_combined  \n",
       "0                      0                         0                 0  \n",
       "1                      0                         0                 1  \n",
       "2                      0                         0                 0  \n",
       "3                      0                         0                 2  \n",
       "4                      0                         0                 0  "
      ],
      "text/html": "<div>\n<style scoped>\n    .dataframe tbody tr th:only-of-type {\n        vertical-align: middle;\n    }\n\n    .dataframe tbody tr th {\n        vertical-align: top;\n    }\n\n    .dataframe thead th {\n        text-align: right;\n    }\n</style>\n<table border=\"1\" class=\"dataframe\">\n  <thead>\n    <tr style=\"text-align: right;\">\n      <th></th>\n      <th>hashtags</th>\n      <th>tweet_id</th>\n      <th>media</th>\n      <th>links</th>\n      <th>domains</th>\n      <th>tweet_type</th>\n      <th>language</th>\n      <th>timestamp</th>\n      <th>a_user_id</th>\n      <th>a_follower_count</th>\n      <th>a_following_count</th>\n      <th>a_is_verified</th>\n      <th>a_account_creation</th>\n      <th>b_user_id</th>\n      <th>b_follower_count</th>\n      <th>b_following_count</th>\n      <th>b_is_verified</th>\n      <th>b_account_creation</th>\n      <th>b_follows_a</th>\n      <th>reply</th>\n      <th>retweet</th>\n      <th>retweet_comment</th>\n      <th>like</th>\n      <th>id</th>\n      <th>tr</th>\n      <th>len_hashtags</th>\n      <th>len_domains</th>\n      <th>len_links</th>\n      <th>engage</th>\n      <th>a_user_fer_count_delta_time</th>\n      <th>a_user_fing_count_delta_time</th>\n      <th>a_user_fering_count_delta_time</th>\n      <th>a_user_fing_count_mode</th>\n      <th>a_user_fer_count_mode</th>\n      <th>a_user_fering_count_mode</th>\n      <th>a_count_combined</th>\n    </tr>\n  </thead>\n  <tbody>\n    <tr>\n      <th>0</th>\n      <td>0</td>\n      <td>19329</td>\n      <td>5</td>\n      <td>0</td>\n      <td>0</td>\n      <td>2</td>\n      <td>54</td>\n      <td>1580947200</td>\n      <td>16906</td>\n      <td>9794149</td>\n      <td>90</td>\n      <td>1</td>\n      <td>1321282652</td>\n      <td>18916826</td>\n      <td>163</td>\n      <td>111</td>\n      <td>0</td>\n      <td>1543074641</td>\n      <td>0</td>\n      <td>0</td>\n      <td>0</td>\n      <td>0</td>\n      <td>0</td>\n      <td>31145094</td>\n      <td>0</td>\n      <td>0</td>\n      <td>0</td>\n      <td>0</td>\n      <td>0</td>\n      <td>0</td>\n      <td>1</td>\n      <td>0</td>\n      <td>1</td>\n      <td>0</td>\n      <td>0</td>\n      <td>0</td>\n    </tr>\n    <tr>\n      <th>1</th>\n      <td>2839</td>\n      <td>3268367</td>\n      <td>9</td>\n      <td>425779</td>\n      <td>12</td>\n      <td>2</td>\n      <td>54</td>\n      <td>1580947200</td>\n      <td>233502</td>\n      <td>1661107</td>\n      <td>125</td>\n      <td>1</td>\n      <td>1257040330</td>\n      <td>19649316</td>\n      <td>134</td>\n      <td>165</td>\n      <td>0</td>\n      <td>1351006912</td>\n      <td>0</td>\n      <td>0</td>\n      <td>0</td>\n      <td>0</td>\n      <td>0</td>\n      <td>38859618</td>\n      <td>0</td>\n      <td>3</td>\n      <td>1</td>\n      <td>1</td>\n      <td>0</td>\n      <td>-1</td>\n      <td>1</td>\n      <td>-1</td>\n      <td>1</td>\n      <td>0</td>\n      <td>0</td>\n      <td>1</td>\n    </tr>\n    <tr>\n      <th>2</th>\n      <td>594</td>\n      <td>736879</td>\n      <td>5</td>\n      <td>109298</td>\n      <td>542</td>\n      <td>2</td>\n      <td>54</td>\n      <td>1580947200</td>\n      <td>5604</td>\n      <td>12029492</td>\n      <td>14</td>\n      <td>1</td>\n      <td>1239741288</td>\n      <td>15045821</td>\n      <td>100</td>\n      <td>229</td>\n      <td>0</td>\n      <td>1348592309</td>\n      <td>0</td>\n      <td>0</td>\n      <td>0</td>\n      <td>0</td>\n      <td>0</td>\n      <td>96650689</td>\n      <td>0</td>\n      <td>1</td>\n      <td>1</td>\n      <td>1</td>\n      <td>0</td>\n      <td>0</td>\n      <td>1</td>\n      <td>0</td>\n      <td>1</td>\n      <td>0</td>\n      <td>0</td>\n      <td>0</td>\n    </tr>\n    <tr>\n      <th>3</th>\n      <td>0</td>\n      <td>3403570</td>\n      <td>9</td>\n      <td>0</td>\n      <td>0</td>\n      <td>2</td>\n      <td>54</td>\n      <td>1580947200</td>\n      <td>10859</td>\n      <td>4398172</td>\n      <td>825</td>\n      <td>1</td>\n      <td>1236008126</td>\n      <td>15883237</td>\n      <td>5</td>\n      <td>130</td>\n      <td>0</td>\n      <td>1404447043</td>\n      <td>0</td>\n      <td>0</td>\n      <td>0</td>\n      <td>0</td>\n      <td>0</td>\n      <td>7549091</td>\n      <td>0</td>\n      <td>0</td>\n      <td>0</td>\n      <td>0</td>\n      <td>0</td>\n      <td>0</td>\n      <td>0</td>\n      <td>0</td>\n      <td>1</td>\n      <td>0</td>\n      <td>0</td>\n      <td>2</td>\n    </tr>\n    <tr>\n      <th>4</th>\n      <td>732011</td>\n      <td>8323311</td>\n      <td>5</td>\n      <td>948558</td>\n      <td>12</td>\n      <td>2</td>\n      <td>54</td>\n      <td>1580947200</td>\n      <td>52763</td>\n      <td>246867</td>\n      <td>559</td>\n      <td>1</td>\n      <td>1219588461</td>\n      <td>4466763</td>\n      <td>1233</td>\n      <td>747</td>\n      <td>0</td>\n      <td>1314638570</td>\n      <td>0</td>\n      <td>0</td>\n      <td>0</td>\n      <td>0</td>\n      <td>0</td>\n      <td>43687561</td>\n      <td>0</td>\n      <td>1</td>\n      <td>1</td>\n      <td>1</td>\n      <td>0</td>\n      <td>0</td>\n      <td>1</td>\n      <td>0</td>\n      <td>1</td>\n      <td>0</td>\n      <td>0</td>\n      <td>0</td>\n    </tr>\n  </tbody>\n</table>\n</div>"
     },
     "metadata": {},
     "execution_count": 34
    }
   ],
   "source": [
    "train.head()"
   ]
  },
  {
   "cell_type": "code",
   "execution_count": 35,
   "metadata": {},
   "outputs": [
    {
     "output_type": "execute_result",
     "data": {
      "text/plain": [
       "                  id  a_count_combined  a_user_fer_count_delta_time  \\\n",
       "125780462  125780462                 4                            1   \n",
       "125780463  125780463                 4                            1   \n",
       "125780464  125780464                 7                           -1   \n",
       "125780465  125780465                 4                            1   \n",
       "125780466  125780466                 4                            1   \n",
       "\n",
       "           a_user_fing_count_delta_time  a_user_fering_count_delta_time  \\\n",
       "125780462                             1                               1   \n",
       "125780463                             1                               1   \n",
       "125780464                            -1                              -1   \n",
       "125780465                             1                               1   \n",
       "125780466                             1                               1   \n",
       "\n",
       "           a_user_fing_count_mode  a_user_fer_count_mode  \\\n",
       "125780462                       1                      1   \n",
       "125780463                       1                      1   \n",
       "125780464                      -1                     -1   \n",
       "125780465                       1                      1   \n",
       "125780466                       1                      1   \n",
       "\n",
       "           a_user_fering_count_mode  \n",
       "125780462                         1  \n",
       "125780463                         1  \n",
       "125780464                        -1  \n",
       "125780465                         1  \n",
       "125780466                         1  "
      ],
      "text/html": "<div>\n<style scoped>\n    .dataframe tbody tr th:only-of-type {\n        vertical-align: middle;\n    }\n\n    .dataframe tbody tr th {\n        vertical-align: top;\n    }\n\n    .dataframe thead th {\n        text-align: right;\n    }\n</style>\n<table border=\"1\" class=\"dataframe\">\n  <thead>\n    <tr style=\"text-align: right;\">\n      <th></th>\n      <th>id</th>\n      <th>a_count_combined</th>\n      <th>a_user_fer_count_delta_time</th>\n      <th>a_user_fing_count_delta_time</th>\n      <th>a_user_fering_count_delta_time</th>\n      <th>a_user_fing_count_mode</th>\n      <th>a_user_fer_count_mode</th>\n      <th>a_user_fering_count_mode</th>\n    </tr>\n  </thead>\n  <tbody>\n    <tr>\n      <th>125780462</th>\n      <td>125780462</td>\n      <td>4</td>\n      <td>1</td>\n      <td>1</td>\n      <td>1</td>\n      <td>1</td>\n      <td>1</td>\n      <td>1</td>\n    </tr>\n    <tr>\n      <th>125780463</th>\n      <td>125780463</td>\n      <td>4</td>\n      <td>1</td>\n      <td>1</td>\n      <td>1</td>\n      <td>1</td>\n      <td>1</td>\n      <td>1</td>\n    </tr>\n    <tr>\n      <th>125780464</th>\n      <td>125780464</td>\n      <td>7</td>\n      <td>-1</td>\n      <td>-1</td>\n      <td>-1</td>\n      <td>-1</td>\n      <td>-1</td>\n      <td>-1</td>\n    </tr>\n    <tr>\n      <th>125780465</th>\n      <td>125780465</td>\n      <td>4</td>\n      <td>1</td>\n      <td>1</td>\n      <td>1</td>\n      <td>1</td>\n      <td>1</td>\n      <td>1</td>\n    </tr>\n    <tr>\n      <th>125780466</th>\n      <td>125780466</td>\n      <td>4</td>\n      <td>1</td>\n      <td>1</td>\n      <td>1</td>\n      <td>1</td>\n      <td>1</td>\n      <td>1</td>\n    </tr>\n  </tbody>\n</table>\n</div>"
     },
     "metadata": {},
     "execution_count": 35
    }
   ],
   "source": [
    "dt = train[['id','a_count_combined','a_user_fer_count_delta_time','a_user_fing_count_delta_time','a_user_fering_count_delta_time','a_user_fing_count_mode','a_user_fer_count_mode','a_user_fering_count_mode']]\n",
    "dt = dt.sort_values( 'id' )\n",
    "dt = dt.reset_index( drop=True )\n",
    "save_memory( dt )\n",
    "dt.to_parquet( 'a_count_combined-final.parquet' )\n",
    "dt.tail(5)"
   ]
  },
  {
   "cell_type": "code",
   "execution_count": null,
   "metadata": {},
   "outputs": [],
   "source": []
  }
 ],
 "metadata": {
  "kernelspec": {
   "name": "python3",
   "display_name": "Python 3.6.3 64-bit",
   "metadata": {
    "interpreter": {
     "hash": "aee8b7b246df8f9039afb4144a1f6fd8d2ca17a180786b69acc140d282b71a49"
    }
   }
  },
  "language_info": {
   "codemirror_mode": {
    "name": "ipython",
    "version": 3
   },
   "file_extension": ".py",
   "mimetype": "text/x-python",
   "name": "python",
   "nbconvert_exporter": "python",
   "pygments_lexer": "ipython3",
   "version": "3.6.3-final"
  }
 },
 "nbformat": 4,
 "nbformat_minor": 4
}