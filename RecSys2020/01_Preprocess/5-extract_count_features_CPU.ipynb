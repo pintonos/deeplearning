{
 "cells": [
  {
   "cell_type": "markdown",
   "metadata": {},
   "source": [
    "Copyright (c) 2020, NVIDIA CORPORATION.\n",
    "Licensed under the Apache License, Version 2.0 (the \"License\");\n",
    "you may not use this file except in compliance with the License.\n",
    "You may obtain a copy of the License at\n",
    "    http://www.apache.org/licenses/LICENSE-2.0\n",
    "Unless required by applicable law or agreed to in writing, software\n",
    "distributed under the License is distributed on an \"AS IS\" BASIS,\n",
    "WITHOUT WARRANTIES OR CONDITIONS OF ANY KIND, either express or implied.\n",
    "See the License for the specific language governing permissions and\n",
    "limitations under the License."
   ]
  },
  {
   "cell_type": "code",
   "execution_count": 5,
   "metadata": {},
   "outputs": [],
   "source": [
    "import os, time\n",
    "start = time.time()"
   ]
  },
  {
   "cell_type": "code",
   "execution_count": 6,
   "metadata": {},
   "outputs": [],
   "source": [
    "import pandas as pd, numpy as np, gc\n",
    "from datetime import datetime\n",
    "import joblib\n",
    "\n",
    "import matplotlib.pyplot as plt\n",
    "pd.set_option('display.max_columns', 500)\n",
    "pd.set_option('display.max_rows', 500)"
   ]
  },
  {
   "cell_type": "code",
   "execution_count": 7,
   "metadata": {},
   "outputs": [],
   "source": [
    "from numba import jit, njit, prange\n",
    "from sklearn.metrics import precision_recall_curve, auc, log_loss\n",
    "\n",
    "def compute_prauc(gt, pred, nafill=True):\n",
    "    if nafill:\n",
    "        pred[ np.isnan(pred) ] = np.nanmean( pred )\n",
    "    prec, recall, thresh = precision_recall_curve(gt, pred)\n",
    "    prauc = auc(recall, prec)\n",
    "    return prauc\n",
    "\n",
    "@jit\n",
    "def fast_auc(y_true, y_prob):\n",
    "    y_true = np.asarray(y_true)\n",
    "    y_true = y_true[np.argsort(y_prob)]\n",
    "    nfalse = 0\n",
    "    auc = 0\n",
    "    n = len(y_true)\n",
    "    for i in range(n):\n",
    "        y_i = y_true[i]\n",
    "        nfalse += (1 - y_i)\n",
    "        auc += y_i * nfalse\n",
    "    auc /= (nfalse * (n - nfalse))\n",
    "    return auc\n",
    "\n",
    "@njit\n",
    "def numba_log_loss(y,x):\n",
    "    n = x.shape[0]\n",
    "    ll = 0.\n",
    "    for i in prange(n):\n",
    "        if y[i]<=0.:\n",
    "            ll += np.log(1-x[i] + 1e-15 )\n",
    "        else:\n",
    "            ll += np.log(x[i] + 1e-15)\n",
    "    return -ll / n\n",
    "\n",
    "def compute_rce(gt , pred, nafill=True, verbose=0):\n",
    "    if nafill:\n",
    "        pred[ np.isnan(pred) ] = np.nanmean( pred )\n",
    "        \n",
    "    cross_entropy = numba_log_loss( gt, pred  )\n",
    "    \n",
    "    yt = np.mean(gt>0)     \n",
    "    strawman_cross_entropy = -(yt*np.log(yt) + (1 - yt)*np.log(1 - yt))\n",
    "    \n",
    "    if verbose:\n",
    "        print( \"logloss: {0:.5f} / {1:.5f} = {2:.5f}\".format(cross_entropy, strawman_cross_entropy, cross_entropy/strawman_cross_entropy))\n",
    "        print( 'mean:    {0:.5f} / {1:.5f}'.format( np.nanmean( pred ) , yt  ) )\n",
    "    \n",
    "    return (1.0 - cross_entropy/strawman_cross_entropy)*100.0\n"
   ]
  },
  {
   "cell_type": "code",
   "execution_count": 8,
   "metadata": {},
   "outputs": [],
   "source": [
    "def save_memory( df ):\n",
    "    features = df.columns\n",
    "    for i in range( df.shape[1] ):\n",
    "        if df.dtypes[i] == 'uint8':\n",
    "            df[features[i]] = df[features[i]].astype( np.int8 )\n",
    "            gc.collect()\n",
    "        elif df.dtypes[i] == 'bool':\n",
    "            df[features[i]] = df[features[i]].astype( np.int8 )\n",
    "            gc.collect()\n",
    "        elif df.dtypes[i] == 'uint32':\n",
    "            df[features[i]] = df[features[i]].astype( np.int32 )\n",
    "            gc.collect()\n",
    "        elif df.dtypes[i] == 'int64':\n",
    "            df[features[i]] = df[features[i]].astype( np.int32 )\n",
    "            gc.collect()\n",
    "        elif df.dtypes[i] == 'float64':\n",
    "            df[features[i]] = df[features[i]].astype( np.float32 )\n",
    "            gc.collect()"
   ]
  },
  {
   "cell_type": "code",
   "execution_count": null,
   "metadata": {},
   "outputs": [],
   "source": []
  },
  {
   "cell_type": "markdown",
   "metadata": {},
   "source": [
    "# Load Train"
   ]
  },
  {
   "cell_type": "code",
   "execution_count": 9,
   "metadata": {},
   "outputs": [
    {
     "output_type": "execute_result",
     "data": {
      "text/plain": [
       "((106723416, 28), (9811488, 28), (9815713, 28))"
      ]
     },
     "metadata": {},
     "execution_count": 9
    }
   ],
   "source": [
    "train = pd.read_parquet( 'train.parquet' )\n",
    "test0 = pd.read_parquet( 'valid.parquet' )\n",
    "test1 = pd.read_parquet( 'test.parquet' )\n",
    "gc.collect()\n",
    "\n",
    "train['tr'] = 0\n",
    "test0['tr'] = 1\n",
    "test1['tr'] = 1\n",
    "\n",
    "train.shape, test0.shape, test1.shape"
   ]
  },
  {
   "cell_type": "code",
   "execution_count": 10,
   "metadata": {},
   "outputs": [
    {
     "output_type": "execute_result",
     "data": {
      "text/plain": [
       "(126350617, 28)"
      ]
     },
     "metadata": {},
     "execution_count": 10
    }
   ],
   "source": [
    "train = pd.concat( (train,test0,test1), sort=False )\n",
    "gc.collect()\n",
    "del test0,test1\n",
    "gc.collect()\n",
    "\n",
    "train.shape"
   ]
  },
  {
   "cell_type": "code",
   "execution_count": 11,
   "metadata": {},
   "outputs": [
    {
     "output_type": "stream",
     "name": "stdout",
     "text": [
      "CPU times: user 1min 30s, sys: 15 s, total: 1min 45s\nWall time: 1min 45s\n"
     ]
    },
    {
     "output_type": "execute_result",
     "data": {
      "text/plain": [
       "0"
      ]
     },
     "metadata": {},
     "execution_count": 11
    }
   ],
   "source": [
    "%%time\n",
    "train = train.sort_values('timestamp').reset_index(drop=True) #TIME ORDER\n",
    "gc.collect()"
   ]
  },
  {
   "cell_type": "code",
   "execution_count": 12,
   "metadata": {},
   "outputs": [
    {
     "output_type": "execute_result",
     "data": {
      "text/plain": [
       "0"
      ]
     },
     "metadata": {},
     "execution_count": 12
    }
   ],
   "source": [
    "train.loc[ train.reply>0, 'reply' ] = 1\n",
    "train.loc[ train.retweet>0, 'retweet' ] = 1\n",
    "train.loc[ train.retweet_comment>0, 'retweet_comment' ] = 1\n",
    "train.loc[ train.like>0, 'like' ] = 1\n",
    "\n",
    "train['engage'] = 0\n",
    "train.loc[ (train.reply>0)|(train.retweet>0)|(train.retweet_comment>0)|(train.like>0)  , 'engage'] = 1\n",
    "gc.collect()"
   ]
  },
  {
   "cell_type": "code",
   "execution_count": 13,
   "metadata": {},
   "outputs": [
    {
     "output_type": "execute_result",
     "data": {
      "text/plain": [
       "    timestamp  a_follower_count  a_following_count  a_is_verified  \\\n",
       "0  1580947200            438860                159           True   \n",
       "1  1580947200           2828662                217           True   \n",
       "2  1580947200           9794149                 90           True   \n",
       "3  1580947200           7230468                758           True   \n",
       "4  1580947200             53032                 12           True   \n",
       "\n",
       "   a_account_creation  b_follower_count  b_following_count  b_is_verified  \\\n",
       "0          1480270328                63                351          False   \n",
       "1          1244233304                37                 43          False   \n",
       "2          1321282652                 0                 36          False   \n",
       "3          1184948409               408                231          False   \n",
       "4          1530316237                 2                 68          False   \n",
       "\n",
       "   b_account_creation  b_follows_a  reply  retweet  retweet_comment  like  \\\n",
       "0          1505350202        False      0        0                0     0   \n",
       "1          1573587136        False      0        0                0     0   \n",
       "2          1574692024        False      0        0                0     0   \n",
       "3          1289164476        False      0        0                0     0   \n",
       "4          1541192342        False      0        0                0     0   \n",
       "\n",
       "         id  language  tweet_type  media  tweet_id  a_user_id  b_user_id  \\\n",
       "0  78208872        54           2     12  13853657   13488905    4009871   \n",
       "1  83895315        59           2      4  30382844    4768532   20049830   \n",
       "2   8177999        54           2      4  46335397   17612981   25428544   \n",
       "3  92868826         3           2     12  56738631   22760498   26051552   \n",
       "4   4824533        54           2      8  56380015   24605653     975650   \n",
       "\n",
       "   len_hashtags  len_domains  len_links  domains    links  hashtags  tr  \\\n",
       "0             1            1          1   266516  4141906    191970   0   \n",
       "1             0            1          1   103730  2712364         0   0   \n",
       "2             0            0          0        0        0         0   0   \n",
       "3             0            1          1   115975  2460396         0   0   \n",
       "4             0            0          0        0        0         0   0   \n",
       "\n",
       "   engage  \n",
       "0       0  \n",
       "1       0  \n",
       "2       0  \n",
       "3       0  \n",
       "4       0  "
      ],
      "text/html": "<div>\n<style scoped>\n    .dataframe tbody tr th:only-of-type {\n        vertical-align: middle;\n    }\n\n    .dataframe tbody tr th {\n        vertical-align: top;\n    }\n\n    .dataframe thead th {\n        text-align: right;\n    }\n</style>\n<table border=\"1\" class=\"dataframe\">\n  <thead>\n    <tr style=\"text-align: right;\">\n      <th></th>\n      <th>timestamp</th>\n      <th>a_follower_count</th>\n      <th>a_following_count</th>\n      <th>a_is_verified</th>\n      <th>a_account_creation</th>\n      <th>b_follower_count</th>\n      <th>b_following_count</th>\n      <th>b_is_verified</th>\n      <th>b_account_creation</th>\n      <th>b_follows_a</th>\n      <th>reply</th>\n      <th>retweet</th>\n      <th>retweet_comment</th>\n      <th>like</th>\n      <th>id</th>\n      <th>language</th>\n      <th>tweet_type</th>\n      <th>media</th>\n      <th>tweet_id</th>\n      <th>a_user_id</th>\n      <th>b_user_id</th>\n      <th>len_hashtags</th>\n      <th>len_domains</th>\n      <th>len_links</th>\n      <th>domains</th>\n      <th>links</th>\n      <th>hashtags</th>\n      <th>tr</th>\n      <th>engage</th>\n    </tr>\n  </thead>\n  <tbody>\n    <tr>\n      <th>0</th>\n      <td>1580947200</td>\n      <td>438860</td>\n      <td>159</td>\n      <td>True</td>\n      <td>1480270328</td>\n      <td>63</td>\n      <td>351</td>\n      <td>False</td>\n      <td>1505350202</td>\n      <td>False</td>\n      <td>0</td>\n      <td>0</td>\n      <td>0</td>\n      <td>0</td>\n      <td>78208872</td>\n      <td>54</td>\n      <td>2</td>\n      <td>12</td>\n      <td>13853657</td>\n      <td>13488905</td>\n      <td>4009871</td>\n      <td>1</td>\n      <td>1</td>\n      <td>1</td>\n      <td>266516</td>\n      <td>4141906</td>\n      <td>191970</td>\n      <td>0</td>\n      <td>0</td>\n    </tr>\n    <tr>\n      <th>1</th>\n      <td>1580947200</td>\n      <td>2828662</td>\n      <td>217</td>\n      <td>True</td>\n      <td>1244233304</td>\n      <td>37</td>\n      <td>43</td>\n      <td>False</td>\n      <td>1573587136</td>\n      <td>False</td>\n      <td>0</td>\n      <td>0</td>\n      <td>0</td>\n      <td>0</td>\n      <td>83895315</td>\n      <td>59</td>\n      <td>2</td>\n      <td>4</td>\n      <td>30382844</td>\n      <td>4768532</td>\n      <td>20049830</td>\n      <td>0</td>\n      <td>1</td>\n      <td>1</td>\n      <td>103730</td>\n      <td>2712364</td>\n      <td>0</td>\n      <td>0</td>\n      <td>0</td>\n    </tr>\n    <tr>\n      <th>2</th>\n      <td>1580947200</td>\n      <td>9794149</td>\n      <td>90</td>\n      <td>True</td>\n      <td>1321282652</td>\n      <td>0</td>\n      <td>36</td>\n      <td>False</td>\n      <td>1574692024</td>\n      <td>False</td>\n      <td>0</td>\n      <td>0</td>\n      <td>0</td>\n      <td>0</td>\n      <td>8177999</td>\n      <td>54</td>\n      <td>2</td>\n      <td>4</td>\n      <td>46335397</td>\n      <td>17612981</td>\n      <td>25428544</td>\n      <td>0</td>\n      <td>0</td>\n      <td>0</td>\n      <td>0</td>\n      <td>0</td>\n      <td>0</td>\n      <td>0</td>\n      <td>0</td>\n    </tr>\n    <tr>\n      <th>3</th>\n      <td>1580947200</td>\n      <td>7230468</td>\n      <td>758</td>\n      <td>True</td>\n      <td>1184948409</td>\n      <td>408</td>\n      <td>231</td>\n      <td>False</td>\n      <td>1289164476</td>\n      <td>False</td>\n      <td>0</td>\n      <td>0</td>\n      <td>0</td>\n      <td>0</td>\n      <td>92868826</td>\n      <td>3</td>\n      <td>2</td>\n      <td>12</td>\n      <td>56738631</td>\n      <td>22760498</td>\n      <td>26051552</td>\n      <td>0</td>\n      <td>1</td>\n      <td>1</td>\n      <td>115975</td>\n      <td>2460396</td>\n      <td>0</td>\n      <td>0</td>\n      <td>0</td>\n    </tr>\n    <tr>\n      <th>4</th>\n      <td>1580947200</td>\n      <td>53032</td>\n      <td>12</td>\n      <td>True</td>\n      <td>1530316237</td>\n      <td>2</td>\n      <td>68</td>\n      <td>False</td>\n      <td>1541192342</td>\n      <td>False</td>\n      <td>0</td>\n      <td>0</td>\n      <td>0</td>\n      <td>0</td>\n      <td>4824533</td>\n      <td>54</td>\n      <td>2</td>\n      <td>8</td>\n      <td>56380015</td>\n      <td>24605653</td>\n      <td>975650</td>\n      <td>0</td>\n      <td>0</td>\n      <td>0</td>\n      <td>0</td>\n      <td>0</td>\n      <td>0</td>\n      <td>0</td>\n      <td>0</td>\n    </tr>\n  </tbody>\n</table>\n</div>"
     },
     "metadata": {},
     "execution_count": 13
    }
   ],
   "source": [
    "train.head()"
   ]
  },
  {
   "cell_type": "code",
   "execution_count": 14,
   "metadata": {},
   "outputs": [
    {
     "output_type": "execute_result",
     "data": {
      "text/plain": [
       "0"
      ]
     },
     "metadata": {},
     "execution_count": 14
    }
   ],
   "source": [
    "save_memory(train)\n",
    "gc.collect()"
   ]
  },
  {
   "cell_type": "code",
   "execution_count": 15,
   "metadata": {},
   "outputs": [
    {
     "output_type": "execute_result",
     "data": {
      "text/plain": [
       "timestamp             int32\n",
       "a_follower_count      int32\n",
       "a_following_count     int32\n",
       "a_is_verified          int8\n",
       "a_account_creation    int32\n",
       "b_follower_count      int32\n",
       "b_following_count     int32\n",
       "b_is_verified          int8\n",
       "b_account_creation    int32\n",
       "b_follows_a            int8\n",
       "reply                 int32\n",
       "retweet               int32\n",
       "retweet_comment       int32\n",
       "like                  int32\n",
       "id                    int32\n",
       "language               int8\n",
       "tweet_type             int8\n",
       "media                  int8\n",
       "tweet_id              int32\n",
       "a_user_id             int32\n",
       "b_user_id             int32\n",
       "len_hashtags          int32\n",
       "len_domains           int32\n",
       "len_links             int32\n",
       "domains               int32\n",
       "links                 int32\n",
       "hashtags              int32\n",
       "tr                    int32\n",
       "engage                int32\n",
       "dtype: object"
      ]
     },
     "metadata": {},
     "execution_count": 15
    }
   ],
   "source": [
    "train.dtypes"
   ]
  },
  {
   "cell_type": "code",
   "execution_count": null,
   "metadata": {},
   "outputs": [],
   "source": []
  },
  {
   "cell_type": "code",
   "execution_count": 16,
   "metadata": {},
   "outputs": [
    {
     "output_type": "execute_result",
     "data": {
      "text/plain": [
       "   tr  a_user_id  a_follower_count  a_following_count   timestamp        id\n",
       "0   0   13488905            438860                159  1580947200  78208872\n",
       "1   0    4768532           2828662                217  1580947200  83895315\n",
       "2   0   17612981           9794149                 90  1580947200   8177999\n",
       "3   0   22760498           7230468                758  1580947200  92868826\n",
       "4   0   24605653             53032                 12  1580947200   4824533"
      ],
      "text/html": "<div>\n<style scoped>\n    .dataframe tbody tr th:only-of-type {\n        vertical-align: middle;\n    }\n\n    .dataframe tbody tr th {\n        vertical-align: top;\n    }\n\n    .dataframe thead th {\n        text-align: right;\n    }\n</style>\n<table border=\"1\" class=\"dataframe\">\n  <thead>\n    <tr style=\"text-align: right;\">\n      <th></th>\n      <th>tr</th>\n      <th>a_user_id</th>\n      <th>a_follower_count</th>\n      <th>a_following_count</th>\n      <th>timestamp</th>\n      <th>id</th>\n    </tr>\n  </thead>\n  <tbody>\n    <tr>\n      <th>0</th>\n      <td>0</td>\n      <td>13488905</td>\n      <td>438860</td>\n      <td>159</td>\n      <td>1580947200</td>\n      <td>78208872</td>\n    </tr>\n    <tr>\n      <th>1</th>\n      <td>0</td>\n      <td>4768532</td>\n      <td>2828662</td>\n      <td>217</td>\n      <td>1580947200</td>\n      <td>83895315</td>\n    </tr>\n    <tr>\n      <th>2</th>\n      <td>0</td>\n      <td>17612981</td>\n      <td>9794149</td>\n      <td>90</td>\n      <td>1580947200</td>\n      <td>8177999</td>\n    </tr>\n    <tr>\n      <th>3</th>\n      <td>0</td>\n      <td>22760498</td>\n      <td>7230468</td>\n      <td>758</td>\n      <td>1580947200</td>\n      <td>92868826</td>\n    </tr>\n    <tr>\n      <th>4</th>\n      <td>0</td>\n      <td>24605653</td>\n      <td>53032</td>\n      <td>12</td>\n      <td>1580947200</td>\n      <td>4824533</td>\n    </tr>\n  </tbody>\n</table>\n</div>"
     },
     "metadata": {},
     "execution_count": 16
    }
   ],
   "source": [
    "dt0 = train[['tr','a_user_id','a_follower_count','a_following_count','timestamp','id']].copy()\n",
    "dt1 = train[['tr','b_user_id','b_follower_count','b_following_count','timestamp','id']].copy()\n",
    "dt1.columns = ['tr','a_user_id','a_follower_count','a_following_count','timestamp','id']\n",
    "dt1['id'] = -1\n",
    "dt = pd.concat( (dt0,dt1), sort=False )\n",
    "del dt0,dt1; _=gc.collect()\n",
    "dt.head()"
   ]
  },
  {
   "cell_type": "code",
   "execution_count": 17,
   "metadata": {},
   "outputs": [
    {
     "output_type": "stream",
     "name": "stdout",
     "text": [
      "CPU times: user 5min 55s, sys: 46 s, total: 6min 41s\nWall time: 6min 41s\n"
     ]
    },
    {
     "output_type": "execute_result",
     "data": {
      "text/plain": [
       " 1    168330593\n",
       " 0     54991842\n",
       "-1     29378799\n",
       "Name: a_fc_dif_flag, dtype: int64"
      ]
     },
     "metadata": {},
     "execution_count": 17
    }
   ],
   "source": [
    "%%time\n",
    "dt['a_fc_max'] = dt.groupby(['tr','a_user_id','a_follower_count'])['timestamp'].transform('max'); _=gc.collect()\n",
    "dt['a_fc_min'] = dt.groupby(['tr','a_user_id','a_follower_count'])['timestamp'].transform('min'); _=gc.collect()\n",
    "\n",
    "dt['a_fc_dif'] = dt['a_fc_max'] - dt['a_fc_min']; _=gc.collect()\n",
    "\n",
    "dt['a_fc_dif_max'] = dt.groupby(['tr','a_user_id'])['a_fc_dif'].transform('max'); _=gc.collect()\n",
    "\n",
    "dt['a_fc_dif_flag'] = 1* ((dt['a_fc_dif'] == dt['a_fc_dif_max']) )  ; _=gc.collect()\n",
    "dt.loc[ dt.a_fc_dif==0 ,'a_fc_dif_flag'] = -1\n",
    "\n",
    "del dt['a_fc_max'],dt['a_fc_min'],dt['a_fc_dif'],dt['a_fc_dif_max'] ; _=gc.collect()\n",
    "dt['a_fc_dif_flag'].value_counts()"
   ]
  },
  {
   "cell_type": "code",
   "execution_count": 18,
   "metadata": {},
   "outputs": [
    {
     "output_type": "execute_result",
     "data": {
      "text/plain": [
       " 1    71960799\n",
       " 0    41783581\n",
       "-1    12606237\n",
       "Name: a_user_fer_count_delta_time, dtype: int64"
      ]
     },
     "metadata": {},
     "execution_count": 18
    }
   ],
   "source": [
    "train['a_user_fer_count_delta_time'] = train.merge( dt, on='id', how='left' )['a_fc_dif_flag'] ; _=gc.collect()\n",
    "\n",
    "del dt['a_fc_dif_flag'] ; _=gc.collect()\n",
    "\n",
    "train['a_user_fer_count_delta_time'].value_counts()"
   ]
  },
  {
   "cell_type": "code",
   "execution_count": 19,
   "metadata": {},
   "outputs": [
    {
     "output_type": "execute_result",
     "data": {
      "text/plain": [
       "                                   reply   retweet retweet_comment      like\n",
       "                                    mean      mean            mean      mean\n",
       "tr a_user_fer_count_delta_time                                              \n",
       "0  -1                           0.024673  0.106663        0.006928  0.431959\n",
       "    0                           0.024845  0.107117        0.006964  0.434257\n",
       "    1                           0.024677  0.105458        0.006942  0.424089\n",
       "1  -1                           0.000000  0.000000        0.000000  0.000000\n",
       "    0                           0.000000  0.000000        0.000000  0.000000\n",
       "    1                           0.000000  0.000000        0.000000  0.000000"
      ],
      "text/html": "<div>\n<style scoped>\n    .dataframe tbody tr th:only-of-type {\n        vertical-align: middle;\n    }\n\n    .dataframe tbody tr th {\n        vertical-align: top;\n    }\n\n    .dataframe thead tr th {\n        text-align: left;\n    }\n\n    .dataframe thead tr:last-of-type th {\n        text-align: right;\n    }\n</style>\n<table border=\"1\" class=\"dataframe\">\n  <thead>\n    <tr>\n      <th></th>\n      <th></th>\n      <th>reply</th>\n      <th>retweet</th>\n      <th>retweet_comment</th>\n      <th>like</th>\n    </tr>\n    <tr>\n      <th></th>\n      <th></th>\n      <th>mean</th>\n      <th>mean</th>\n      <th>mean</th>\n      <th>mean</th>\n    </tr>\n    <tr>\n      <th>tr</th>\n      <th>a_user_fer_count_delta_time</th>\n      <th></th>\n      <th></th>\n      <th></th>\n      <th></th>\n    </tr>\n  </thead>\n  <tbody>\n    <tr>\n      <th rowspan=\"3\" valign=\"top\">0</th>\n      <th>-1</th>\n      <td>0.024673</td>\n      <td>0.106663</td>\n      <td>0.006928</td>\n      <td>0.431959</td>\n    </tr>\n    <tr>\n      <th>0</th>\n      <td>0.024845</td>\n      <td>0.107117</td>\n      <td>0.006964</td>\n      <td>0.434257</td>\n    </tr>\n    <tr>\n      <th>1</th>\n      <td>0.024677</td>\n      <td>0.105458</td>\n      <td>0.006942</td>\n      <td>0.424089</td>\n    </tr>\n    <tr>\n      <th rowspan=\"3\" valign=\"top\">1</th>\n      <th>-1</th>\n      <td>0.000000</td>\n      <td>0.000000</td>\n      <td>0.000000</td>\n      <td>0.000000</td>\n    </tr>\n    <tr>\n      <th>0</th>\n      <td>0.000000</td>\n      <td>0.000000</td>\n      <td>0.000000</td>\n      <td>0.000000</td>\n    </tr>\n    <tr>\n      <th>1</th>\n      <td>0.000000</td>\n      <td>0.000000</td>\n      <td>0.000000</td>\n      <td>0.000000</td>\n    </tr>\n  </tbody>\n</table>\n</div>"
     },
     "metadata": {},
     "execution_count": 19
    }
   ],
   "source": [
    "train.groupby(['tr','a_user_fer_count_delta_time'])[['reply','retweet','retweet_comment','like']].agg(['mean'])"
   ]
  },
  {
   "cell_type": "code",
   "execution_count": 20,
   "metadata": {},
   "outputs": [
    {
     "output_type": "stream",
     "name": "stdout",
     "text": [
      "CPU times: user 5min 49s, sys: 44.2 s, total: 6min 33s\nWall time: 6min 33s\n"
     ]
    },
    {
     "output_type": "execute_result",
     "data": {
      "text/plain": [
       " 1    182423773\n",
       " 0     40959468\n",
       "-1     29317993\n",
       "Name: a_fc_dif_flag, dtype: int64"
      ]
     },
     "metadata": {},
     "execution_count": 20
    }
   ],
   "source": [
    "%%time\n",
    "dt['a_fc_max'] = dt.groupby(['tr','a_user_id','a_following_count'])['timestamp'].transform('max'); _=gc.collect()\n",
    "dt['a_fc_min'] = dt.groupby(['tr','a_user_id','a_following_count'])['timestamp'].transform('min'); _=gc.collect()\n",
    "\n",
    "dt['a_fc_dif'] = dt['a_fc_max'] - dt['a_fc_min']; _=gc.collect()\n",
    "\n",
    "dt['a_fc_dif_max'] = dt.groupby(['tr','a_user_id'])['a_fc_dif'].transform('max'); _=gc.collect()\n",
    "\n",
    "dt['a_fc_dif_flag'] = 1* ((dt['a_fc_dif'] == dt['a_fc_dif_max']) )  ; _=gc.collect()\n",
    "dt.loc[ dt.a_fc_dif==0 ,'a_fc_dif_flag'] = -1\n",
    "\n",
    "del dt['a_fc_max'],dt['a_fc_min'],dt['a_fc_dif'],dt['a_fc_dif_max'] ; _=gc.collect()\n",
    "dt['a_fc_dif_flag'].value_counts()"
   ]
  },
  {
   "cell_type": "code",
   "execution_count": 21,
   "metadata": {},
   "outputs": [
    {
     "output_type": "execute_result",
     "data": {
      "text/plain": [
       " 1    89384386\n",
       " 0    26810151\n",
       "-1    10156080\n",
       "Name: a_user_fing_count_delta_time, dtype: int64"
      ]
     },
     "metadata": {},
     "execution_count": 21
    }
   ],
   "source": [
    "train['a_user_fing_count_delta_time'] = train.merge( dt, on='id', how='left' )['a_fc_dif_flag'] ; _=gc.collect()\n",
    "\n",
    "del dt['a_fc_dif_flag'] ; _=gc.collect()\n",
    "\n",
    "train['a_user_fing_count_delta_time'].value_counts()"
   ]
  },
  {
   "cell_type": "code",
   "execution_count": 22,
   "metadata": {},
   "outputs": [
    {
     "output_type": "execute_result",
     "data": {
      "text/plain": [
       "                                    reply   retweet retweet_comment      like\n",
       "                                     mean      mean            mean      mean\n",
       "tr a_user_fing_count_delta_time                                              \n",
       "0  -1                            0.024624  0.106455        0.006939  0.431908\n",
       "    0                            0.024741  0.106891        0.006938  0.435143\n",
       "    1                            0.024742  0.105861        0.006953  0.425745\n",
       "1  -1                            0.000000  0.000000        0.000000  0.000000\n",
       "    0                            0.000000  0.000000        0.000000  0.000000\n",
       "    1                            0.000000  0.000000        0.000000  0.000000"
      ],
      "text/html": "<div>\n<style scoped>\n    .dataframe tbody tr th:only-of-type {\n        vertical-align: middle;\n    }\n\n    .dataframe tbody tr th {\n        vertical-align: top;\n    }\n\n    .dataframe thead tr th {\n        text-align: left;\n    }\n\n    .dataframe thead tr:last-of-type th {\n        text-align: right;\n    }\n</style>\n<table border=\"1\" class=\"dataframe\">\n  <thead>\n    <tr>\n      <th></th>\n      <th></th>\n      <th>reply</th>\n      <th>retweet</th>\n      <th>retweet_comment</th>\n      <th>like</th>\n    </tr>\n    <tr>\n      <th></th>\n      <th></th>\n      <th>mean</th>\n      <th>mean</th>\n      <th>mean</th>\n      <th>mean</th>\n    </tr>\n    <tr>\n      <th>tr</th>\n      <th>a_user_fing_count_delta_time</th>\n      <th></th>\n      <th></th>\n      <th></th>\n      <th></th>\n    </tr>\n  </thead>\n  <tbody>\n    <tr>\n      <th rowspan=\"3\" valign=\"top\">0</th>\n      <th>-1</th>\n      <td>0.024624</td>\n      <td>0.106455</td>\n      <td>0.006939</td>\n      <td>0.431908</td>\n    </tr>\n    <tr>\n      <th>0</th>\n      <td>0.024741</td>\n      <td>0.106891</td>\n      <td>0.006938</td>\n      <td>0.435143</td>\n    </tr>\n    <tr>\n      <th>1</th>\n      <td>0.024742</td>\n      <td>0.105861</td>\n      <td>0.006953</td>\n      <td>0.425745</td>\n    </tr>\n    <tr>\n      <th rowspan=\"3\" valign=\"top\">1</th>\n      <th>-1</th>\n      <td>0.000000</td>\n      <td>0.000000</td>\n      <td>0.000000</td>\n      <td>0.000000</td>\n    </tr>\n    <tr>\n      <th>0</th>\n      <td>0.000000</td>\n      <td>0.000000</td>\n      <td>0.000000</td>\n      <td>0.000000</td>\n    </tr>\n    <tr>\n      <th>1</th>\n      <td>0.000000</td>\n      <td>0.000000</td>\n      <td>0.000000</td>\n      <td>0.000000</td>\n    </tr>\n  </tbody>\n</table>\n</div>"
     },
     "metadata": {},
     "execution_count": 22
    }
   ],
   "source": [
    "train.groupby(['tr','a_user_fing_count_delta_time'])[['reply','retweet','retweet_comment','like']].agg(['mean'])"
   ]
  },
  {
   "cell_type": "code",
   "execution_count": 23,
   "metadata": {},
   "outputs": [
    {
     "output_type": "stream",
     "name": "stdout",
     "text": [
      "CPU times: user 6min 28s, sys: 48.8 s, total: 7min 16s\nWall time: 7min 17s\n"
     ]
    },
    {
     "output_type": "execute_result",
     "data": {
      "text/plain": [
       " 1    155319323\n",
       " 0     57334326\n",
       "-1     40047585\n",
       "Name: a_fc_dif_flag, dtype: int64"
      ]
     },
     "metadata": {},
     "execution_count": 23
    }
   ],
   "source": [
    "%%time\n",
    "dt['a_fc_max'] = dt.groupby(['tr','a_user_id','a_follower_count','a_following_count'])['timestamp'].transform('max'); _=gc.collect()\n",
    "dt['a_fc_min'] = dt.groupby(['tr','a_user_id','a_follower_count','a_following_count'])['timestamp'].transform('min'); _=gc.collect()\n",
    "\n",
    "dt['a_fc_dif'] = dt['a_fc_max'] - dt['a_fc_min']; _=gc.collect()\n",
    "\n",
    "dt['a_fc_dif_max'] = dt.groupby(['tr','a_user_id'])['a_fc_dif'].transform('max'); _=gc.collect()\n",
    "\n",
    "dt['a_fc_dif_flag'] = 1* ((dt['a_fc_dif'] == dt['a_fc_dif_max']) )  ; _=gc.collect()\n",
    "dt.loc[ dt.a_fc_dif==0 ,'a_fc_dif_flag'] = -1\n",
    "\n",
    "del dt['a_fc_max'],dt['a_fc_min'],dt['a_fc_dif'],dt['a_fc_dif_max'] ; _=gc.collect()\n",
    "dt['a_fc_dif_flag'].value_counts()"
   ]
  },
  {
   "cell_type": "code",
   "execution_count": 24,
   "metadata": {},
   "outputs": [
    {
     "output_type": "execute_result",
     "data": {
      "text/plain": [
       " 1    70226253\n",
       " 0    41983233\n",
       "-1    14141131\n",
       "Name: a_user_fering_count_delta_time, dtype: int64"
      ]
     },
     "metadata": {},
     "execution_count": 24
    }
   ],
   "source": [
    "train['a_user_fering_count_delta_time'] = train.merge( dt, on='id', how='left' )['a_fc_dif_flag'] ; _=gc.collect()\n",
    "\n",
    "del dt['a_fc_dif_flag'] ; _=gc.collect()\n",
    "\n",
    "train['a_user_fering_count_delta_time'].value_counts()"
   ]
  },
  {
   "cell_type": "code",
   "execution_count": 25,
   "metadata": {},
   "outputs": [
    {
     "output_type": "execute_result",
     "data": {
      "text/plain": [
       "                                      reply   retweet retweet_comment  \\\n",
       "                                       mean      mean            mean   \n",
       "tr a_user_fering_count_delta_time                                       \n",
       "0  -1                              0.024678  0.106771        0.006938   \n",
       "    0                              0.024842  0.107138        0.006971   \n",
       "    1                              0.024677  0.105393        0.006937   \n",
       "1  -1                              0.000000  0.000000        0.000000   \n",
       "    0                              0.000000  0.000000        0.000000   \n",
       "    1                              0.000000  0.000000        0.000000   \n",
       "\n",
       "                                       like  \n",
       "                                       mean  \n",
       "tr a_user_fering_count_delta_time            \n",
       "0  -1                              0.432342  \n",
       "    0                              0.434270  \n",
       "    1                              0.423803  \n",
       "1  -1                              0.000000  \n",
       "    0                              0.000000  \n",
       "    1                              0.000000  "
      ],
      "text/html": "<div>\n<style scoped>\n    .dataframe tbody tr th:only-of-type {\n        vertical-align: middle;\n    }\n\n    .dataframe tbody tr th {\n        vertical-align: top;\n    }\n\n    .dataframe thead tr th {\n        text-align: left;\n    }\n\n    .dataframe thead tr:last-of-type th {\n        text-align: right;\n    }\n</style>\n<table border=\"1\" class=\"dataframe\">\n  <thead>\n    <tr>\n      <th></th>\n      <th></th>\n      <th>reply</th>\n      <th>retweet</th>\n      <th>retweet_comment</th>\n      <th>like</th>\n    </tr>\n    <tr>\n      <th></th>\n      <th></th>\n      <th>mean</th>\n      <th>mean</th>\n      <th>mean</th>\n      <th>mean</th>\n    </tr>\n    <tr>\n      <th>tr</th>\n      <th>a_user_fering_count_delta_time</th>\n      <th></th>\n      <th></th>\n      <th></th>\n      <th></th>\n    </tr>\n  </thead>\n  <tbody>\n    <tr>\n      <th rowspan=\"3\" valign=\"top\">0</th>\n      <th>-1</th>\n      <td>0.024678</td>\n      <td>0.106771</td>\n      <td>0.006938</td>\n      <td>0.432342</td>\n    </tr>\n    <tr>\n      <th>0</th>\n      <td>0.024842</td>\n      <td>0.107138</td>\n      <td>0.006971</td>\n      <td>0.434270</td>\n    </tr>\n    <tr>\n      <th>1</th>\n      <td>0.024677</td>\n      <td>0.105393</td>\n      <td>0.006937</td>\n      <td>0.423803</td>\n    </tr>\n    <tr>\n      <th rowspan=\"3\" valign=\"top\">1</th>\n      <th>-1</th>\n      <td>0.000000</td>\n      <td>0.000000</td>\n      <td>0.000000</td>\n      <td>0.000000</td>\n    </tr>\n    <tr>\n      <th>0</th>\n      <td>0.000000</td>\n      <td>0.000000</td>\n      <td>0.000000</td>\n      <td>0.000000</td>\n    </tr>\n    <tr>\n      <th>1</th>\n      <td>0.000000</td>\n      <td>0.000000</td>\n      <td>0.000000</td>\n      <td>0.000000</td>\n    </tr>\n  </tbody>\n</table>\n</div>"
     },
     "metadata": {},
     "execution_count": 25
    }
   ],
   "source": [
    "train.groupby(['tr','a_user_fering_count_delta_time'])[['reply','retweet','retweet_comment','like']].agg(['mean'])"
   ]
  },
  {
   "cell_type": "code",
   "execution_count": 26,
   "metadata": {},
   "outputs": [
    {
     "output_type": "stream",
     "name": "stdout",
     "text": [
      "CPU times: user 3min 42s, sys: 26.5 s, total: 4min 9s\nWall time: 4min 9s\n"
     ]
    },
    {
     "output_type": "execute_result",
     "data": {
      "text/plain": [
       " 1    189320859\n",
       " 0     35481218\n",
       "-1     27899157\n",
       "Name: a_fc_count_flag, dtype: int64"
      ]
     },
     "metadata": {},
     "execution_count": 26
    }
   ],
   "source": [
    "%%time\n",
    "dt['a_fc_count'] = dt.groupby(['tr','a_user_id','a_following_count'])['id'].transform('count'); _=gc.collect()\n",
    "dt['a_fc_max']   = dt.groupby(['tr','a_user_id'])['a_fc_count'].transform('max'); _=gc.collect()\n",
    "dt['a_fc_count_flag'] = 1* ((dt['a_fc_count'] == dt['a_fc_max']))  ; _=gc.collect()\n",
    "dt.loc[ dt.a_fc_count<=1,'a_fc_count_flag'] = -1\n",
    "\n",
    "del dt['a_fc_count'], dt['a_fc_max']\n",
    "dt['a_fc_count_flag'].value_counts()"
   ]
  },
  {
   "cell_type": "code",
   "execution_count": 27,
   "metadata": {},
   "outputs": [
    {
     "output_type": "execute_result",
     "data": {
      "text/plain": [
       " 1    92456564\n",
       " 0    25205378\n",
       "-1     8688675\n",
       "Name: a_user_fing_count_mode, dtype: int64"
      ]
     },
     "metadata": {},
     "execution_count": 27
    }
   ],
   "source": [
    "train['a_user_fing_count_mode'] = train.merge( dt, on='id', how='left' )['a_fc_count_flag'] ; _=gc.collect()\n",
    "del dt['a_fc_count_flag'] ; _=gc.collect()\n",
    "train['a_user_fing_count_mode'].value_counts()"
   ]
  },
  {
   "cell_type": "code",
   "execution_count": 28,
   "metadata": {},
   "outputs": [
    {
     "output_type": "execute_result",
     "data": {
      "text/plain": [
       "                              reply   retweet retweet_comment      like\n",
       "                               mean      mean            mean      mean\n",
       "tr a_user_fing_count_mode                                              \n",
       "0  -1                      0.024709  0.106580        0.006947  0.431366\n",
       "    0                      0.024723  0.106605        0.006942  0.433759\n",
       "    1                      0.024739  0.105961        0.006951  0.426445\n",
       "1  -1                      0.000000  0.000000        0.000000  0.000000\n",
       "    0                      0.000000  0.000000        0.000000  0.000000\n",
       "    1                      0.000000  0.000000        0.000000  0.000000"
      ],
      "text/html": "<div>\n<style scoped>\n    .dataframe tbody tr th:only-of-type {\n        vertical-align: middle;\n    }\n\n    .dataframe tbody tr th {\n        vertical-align: top;\n    }\n\n    .dataframe thead tr th {\n        text-align: left;\n    }\n\n    .dataframe thead tr:last-of-type th {\n        text-align: right;\n    }\n</style>\n<table border=\"1\" class=\"dataframe\">\n  <thead>\n    <tr>\n      <th></th>\n      <th></th>\n      <th>reply</th>\n      <th>retweet</th>\n      <th>retweet_comment</th>\n      <th>like</th>\n    </tr>\n    <tr>\n      <th></th>\n      <th></th>\n      <th>mean</th>\n      <th>mean</th>\n      <th>mean</th>\n      <th>mean</th>\n    </tr>\n    <tr>\n      <th>tr</th>\n      <th>a_user_fing_count_mode</th>\n      <th></th>\n      <th></th>\n      <th></th>\n      <th></th>\n    </tr>\n  </thead>\n  <tbody>\n    <tr>\n      <th rowspan=\"3\" valign=\"top\">0</th>\n      <th>-1</th>\n      <td>0.024709</td>\n      <td>0.106580</td>\n      <td>0.006947</td>\n      <td>0.431366</td>\n    </tr>\n    <tr>\n      <th>0</th>\n      <td>0.024723</td>\n      <td>0.106605</td>\n      <td>0.006942</td>\n      <td>0.433759</td>\n    </tr>\n    <tr>\n      <th>1</th>\n      <td>0.024739</td>\n      <td>0.105961</td>\n      <td>0.006951</td>\n      <td>0.426445</td>\n    </tr>\n    <tr>\n      <th rowspan=\"3\" valign=\"top\">1</th>\n      <th>-1</th>\n      <td>0.000000</td>\n      <td>0.000000</td>\n      <td>0.000000</td>\n      <td>0.000000</td>\n    </tr>\n    <tr>\n      <th>0</th>\n      <td>0.000000</td>\n      <td>0.000000</td>\n      <td>0.000000</td>\n      <td>0.000000</td>\n    </tr>\n    <tr>\n      <th>1</th>\n      <td>0.000000</td>\n      <td>0.000000</td>\n      <td>0.000000</td>\n      <td>0.000000</td>\n    </tr>\n  </tbody>\n</table>\n</div>"
     },
     "metadata": {},
     "execution_count": 28
    }
   ],
   "source": [
    "train.groupby(['tr','a_user_fing_count_mode'])[['reply','retweet','retweet_comment','like']].agg(['mean'])"
   ]
  },
  {
   "cell_type": "code",
   "execution_count": 29,
   "metadata": {},
   "outputs": [
    {
     "output_type": "stream",
     "name": "stdout",
     "text": [
      "CPU times: user 3min 45s, sys: 26.3 s, total: 4min 11s\nWall time: 4min 11s\n"
     ]
    },
    {
     "output_type": "execute_result",
     "data": {
      "text/plain": [
       " 1    174484263\n",
       " 0     51461287\n",
       "-1     26755684\n",
       "Name: a_fc_count_flag, dtype: int64"
      ]
     },
     "metadata": {},
     "execution_count": 29
    }
   ],
   "source": [
    "%%time\n",
    "dt['a_fc_count'] = dt.groupby(['tr','a_user_id','a_follower_count'])['id'].transform('count'); _=gc.collect()\n",
    "dt['a_fc_max']   = dt.groupby(['tr','a_user_id'])['a_fc_count'].transform('max'); _=gc.collect()\n",
    "dt['a_fc_count_flag'] = 1* ((dt['a_fc_count'] == dt['a_fc_max']))  ; _=gc.collect()\n",
    "dt.loc[ dt.a_fc_count<=1,'a_fc_count_flag'] = -1\n",
    "\n",
    "del dt['a_fc_count'], dt['a_fc_max']\n",
    "dt['a_fc_count_flag'].value_counts()"
   ]
  },
  {
   "cell_type": "code",
   "execution_count": 30,
   "metadata": {},
   "outputs": [
    {
     "output_type": "execute_result",
     "data": {
      "text/plain": [
       " 1    74842482\n",
       " 0    41649512\n",
       "-1     9858623\n",
       "Name: a_user_fer_count_mode, dtype: int64"
      ]
     },
     "metadata": {},
     "execution_count": 30
    }
   ],
   "source": [
    "train['a_user_fer_count_mode'] = train.merge( dt, on='id', how='left' )['a_fc_count_flag'] ; _=gc.collect()\n",
    "del dt['a_fc_count_flag'] ; _=gc.collect()\n",
    "train['a_user_fer_count_mode'].value_counts()"
   ]
  },
  {
   "cell_type": "code",
   "execution_count": 31,
   "metadata": {},
   "outputs": [
    {
     "output_type": "execute_result",
     "data": {
      "text/plain": [
       "                             reply   retweet retweet_comment      like\n",
       "                              mean      mean            mean      mean\n",
       "tr a_user_fer_count_mode                                              \n",
       "0  -1                     0.024733  0.106725        0.006915  0.431278\n",
       "    0                     0.024847  0.107024        0.006962  0.433781\n",
       "    1                     0.024669  0.105551        0.006944  0.424737\n",
       "1  -1                     0.000000  0.000000        0.000000  0.000000\n",
       "    0                     0.000000  0.000000        0.000000  0.000000\n",
       "    1                     0.000000  0.000000        0.000000  0.000000"
      ],
      "text/html": "<div>\n<style scoped>\n    .dataframe tbody tr th:only-of-type {\n        vertical-align: middle;\n    }\n\n    .dataframe tbody tr th {\n        vertical-align: top;\n    }\n\n    .dataframe thead tr th {\n        text-align: left;\n    }\n\n    .dataframe thead tr:last-of-type th {\n        text-align: right;\n    }\n</style>\n<table border=\"1\" class=\"dataframe\">\n  <thead>\n    <tr>\n      <th></th>\n      <th></th>\n      <th>reply</th>\n      <th>retweet</th>\n      <th>retweet_comment</th>\n      <th>like</th>\n    </tr>\n    <tr>\n      <th></th>\n      <th></th>\n      <th>mean</th>\n      <th>mean</th>\n      <th>mean</th>\n      <th>mean</th>\n    </tr>\n    <tr>\n      <th>tr</th>\n      <th>a_user_fer_count_mode</th>\n      <th></th>\n      <th></th>\n      <th></th>\n      <th></th>\n    </tr>\n  </thead>\n  <tbody>\n    <tr>\n      <th rowspan=\"3\" valign=\"top\">0</th>\n      <th>-1</th>\n      <td>0.024733</td>\n      <td>0.106725</td>\n      <td>0.006915</td>\n      <td>0.431278</td>\n    </tr>\n    <tr>\n      <th>0</th>\n      <td>0.024847</td>\n      <td>0.107024</td>\n      <td>0.006962</td>\n      <td>0.433781</td>\n    </tr>\n    <tr>\n      <th>1</th>\n      <td>0.024669</td>\n      <td>0.105551</td>\n      <td>0.006944</td>\n      <td>0.424737</td>\n    </tr>\n    <tr>\n      <th rowspan=\"3\" valign=\"top\">1</th>\n      <th>-1</th>\n      <td>0.000000</td>\n      <td>0.000000</td>\n      <td>0.000000</td>\n      <td>0.000000</td>\n    </tr>\n    <tr>\n      <th>0</th>\n      <td>0.000000</td>\n      <td>0.000000</td>\n      <td>0.000000</td>\n      <td>0.000000</td>\n    </tr>\n    <tr>\n      <th>1</th>\n      <td>0.000000</td>\n      <td>0.000000</td>\n      <td>0.000000</td>\n      <td>0.000000</td>\n    </tr>\n  </tbody>\n</table>\n</div>"
     },
     "metadata": {},
     "execution_count": 31
    }
   ],
   "source": [
    "train.groupby(['tr','a_user_fer_count_mode'])[['reply','retweet','retweet_comment','like']].agg(['mean'])"
   ]
  },
  {
   "cell_type": "code",
   "execution_count": 32,
   "metadata": {},
   "outputs": [
    {
     "output_type": "stream",
     "name": "stdout",
     "text": [
      "CPU times: user 3min 58s, sys: 28.7 s, total: 4min 27s\nWall time: 4min 27s\n"
     ]
    },
    {
     "output_type": "execute_result",
     "data": {
      "text/plain": [
       " 1    162510206\n",
       " 0     52931747\n",
       "-1     37259281\n",
       "Name: a_fc_count_flag, dtype: int64"
      ]
     },
     "metadata": {},
     "execution_count": 32
    }
   ],
   "source": [
    "%%time\n",
    "dt['a_fc_count'] = dt.groupby(['tr','a_user_id','a_follower_count','a_following_count'])['id'].transform('count'); _=gc.collect()\n",
    "dt['a_fc_max']   = dt.groupby(['tr','a_user_id'])['a_fc_count'].transform('max'); _=gc.collect()\n",
    "dt['a_fc_count_flag'] = 1* ((dt['a_fc_count'] == dt['a_fc_max']))  ; _=gc.collect()\n",
    "dt.loc[ dt.a_fc_count<=1,'a_fc_count_flag'] = -1\n",
    "\n",
    "del dt['a_fc_count'], dt['a_fc_max']\n",
    "dt['a_fc_count_flag'].value_counts()"
   ]
  },
  {
   "cell_type": "code",
   "execution_count": 33,
   "metadata": {},
   "outputs": [
    {
     "output_type": "execute_result",
     "data": {
      "text/plain": [
       " 1    73102990\n",
       " 0    41947310\n",
       "-1    11300317\n",
       "Name: a_user_fering_count_mode, dtype: int64"
      ]
     },
     "metadata": {},
     "execution_count": 33
    }
   ],
   "source": [
    "train['a_user_fering_count_mode'] = train.merge( dt, on='id', how='left' )['a_fc_count_flag'] ; _=gc.collect()\n",
    "del dt['a_fc_count_flag'] ; _=gc.collect()\n",
    "train['a_user_fering_count_mode'].value_counts()"
   ]
  },
  {
   "cell_type": "code",
   "execution_count": 34,
   "metadata": {},
   "outputs": [
    {
     "output_type": "execute_result",
     "data": {
      "text/plain": [
       "                                reply   retweet retweet_comment      like\n",
       "                                 mean      mean            mean      mean\n",
       "tr a_user_fering_count_mode                                              \n",
       "0  -1                        0.024733  0.106831        0.006933  0.431824\n",
       "    0                        0.024840  0.107031        0.006967  0.433806\n",
       "    1                        0.024671  0.105504        0.006940  0.424478\n",
       "1  -1                        0.000000  0.000000        0.000000  0.000000\n",
       "    0                        0.000000  0.000000        0.000000  0.000000\n",
       "    1                        0.000000  0.000000        0.000000  0.000000"
      ],
      "text/html": "<div>\n<style scoped>\n    .dataframe tbody tr th:only-of-type {\n        vertical-align: middle;\n    }\n\n    .dataframe tbody tr th {\n        vertical-align: top;\n    }\n\n    .dataframe thead tr th {\n        text-align: left;\n    }\n\n    .dataframe thead tr:last-of-type th {\n        text-align: right;\n    }\n</style>\n<table border=\"1\" class=\"dataframe\">\n  <thead>\n    <tr>\n      <th></th>\n      <th></th>\n      <th>reply</th>\n      <th>retweet</th>\n      <th>retweet_comment</th>\n      <th>like</th>\n    </tr>\n    <tr>\n      <th></th>\n      <th></th>\n      <th>mean</th>\n      <th>mean</th>\n      <th>mean</th>\n      <th>mean</th>\n    </tr>\n    <tr>\n      <th>tr</th>\n      <th>a_user_fering_count_mode</th>\n      <th></th>\n      <th></th>\n      <th></th>\n      <th></th>\n    </tr>\n  </thead>\n  <tbody>\n    <tr>\n      <th rowspan=\"3\" valign=\"top\">0</th>\n      <th>-1</th>\n      <td>0.024733</td>\n      <td>0.106831</td>\n      <td>0.006933</td>\n      <td>0.431824</td>\n    </tr>\n    <tr>\n      <th>0</th>\n      <td>0.024840</td>\n      <td>0.107031</td>\n      <td>0.006967</td>\n      <td>0.433806</td>\n    </tr>\n    <tr>\n      <th>1</th>\n      <td>0.024671</td>\n      <td>0.105504</td>\n      <td>0.006940</td>\n      <td>0.424478</td>\n    </tr>\n    <tr>\n      <th rowspan=\"3\" valign=\"top\">1</th>\n      <th>-1</th>\n      <td>0.000000</td>\n      <td>0.000000</td>\n      <td>0.000000</td>\n      <td>0.000000</td>\n    </tr>\n    <tr>\n      <th>0</th>\n      <td>0.000000</td>\n      <td>0.000000</td>\n      <td>0.000000</td>\n      <td>0.000000</td>\n    </tr>\n    <tr>\n      <th>1</th>\n      <td>0.000000</td>\n      <td>0.000000</td>\n      <td>0.000000</td>\n      <td>0.000000</td>\n    </tr>\n  </tbody>\n</table>\n</div>"
     },
     "metadata": {},
     "execution_count": 34
    }
   ],
   "source": [
    "train.groupby(['tr','a_user_fering_count_mode'])[['reply','retweet','retweet_comment','like']].agg(['mean'])"
   ]
  },
  {
   "cell_type": "code",
   "execution_count": 35,
   "metadata": {},
   "outputs": [],
   "source": [
    "del dt; _=gc.collect()"
   ]
  },
  {
   "cell_type": "code",
   "execution_count": 36,
   "metadata": {},
   "outputs": [
    {
     "output_type": "execute_result",
     "data": {
      "text/plain": [
       "3      66991766\n",
       "0      20387443\n",
       "1      15273172\n",
       "15      7602051\n",
       "9       2033543\n",
       "16      1561398\n",
       "4       1191337\n",
       "6       1088480\n",
       "5       1062254\n",
       "31       924708\n",
       "2        822177\n",
       "35       703491\n",
       "14       699061\n",
       "10       629797\n",
       "23       510132\n",
       "13       444927\n",
       "36       419450\n",
       "12       398809\n",
       "8        309550\n",
       "29       287107\n",
       "25       280533\n",
       "11       242631\n",
       "34       218248\n",
       "53       201779\n",
       "20       185429\n",
       "32       157232\n",
       "27       104155\n",
       "59        95363\n",
       "28        92965\n",
       "7         80155\n",
       "50        77484\n",
       "46        70525\n",
       "42        67542\n",
       "17        62926\n",
       "19        59986\n",
       "52        56691\n",
       "61        53284\n",
       "75        45573\n",
       "54        44418\n",
       "21        40930\n",
       "24        40587\n",
       "55        40223\n",
       "40        36739\n",
       "44        36577\n",
       "39        35814\n",
       "41        34691\n",
       "57        32732\n",
       "48        31839\n",
       "89        28205\n",
       "22        26392\n",
       "79        23569\n",
       "45        22445\n",
       "72        22333\n",
       "71        20863\n",
       "63        18500\n",
       "51        16562\n",
       "49        16330\n",
       "92        16267\n",
       "78        14362\n",
       "81        13903\n",
       "64        13504\n",
       "65        11793\n",
       "69        10684\n",
       "60        10538\n",
       "67        10501\n",
       "47        10130\n",
       "26        10010\n",
       "43         9640\n",
       "76         9630\n",
       "86         9208\n",
       "73         9049\n",
       "70         7988\n",
       "83         7636\n",
       "94         6049\n",
       "80         5907\n",
       "88         5647\n",
       "100        5403\n",
       "38         5264\n",
       "68         5201\n",
       "66         4392\n",
       "33         4187\n",
       "90         3952\n",
       "120        3618\n",
       "84         3484\n",
       "18         3312\n",
       "85         3271\n",
       "97         3219\n",
       "95         3009\n",
       "99         2741\n",
       "93         2421\n",
       "77         2260\n",
       "91         2241\n",
       "87         2208\n",
       "56         2149\n",
       "101        2052\n",
       "58         1954\n",
       "96         1868\n",
       "98         1759\n",
       "105        1554\n",
       "118        1425\n",
       "62         1409\n",
       "74         1387\n",
       "108        1369\n",
       "116        1280\n",
       "114        1113\n",
       "121        1084\n",
       "126        1027\n",
       "129         891\n",
       "123         746\n",
       "117         732\n",
       "128         694\n",
       "103         685\n",
       "115         672\n",
       "127         575\n",
       "102         559\n",
       "119         545\n",
       "144         510\n",
       "132         503\n",
       "106         496\n",
       "125         496\n",
       "37          451\n",
       "112         445\n",
       "135         422\n",
       "137         362\n",
       "30          331\n",
       "104         330\n",
       "110         322\n",
       "113         298\n",
       "134         288\n",
       "107         279\n",
       "82          277\n",
       "111         271\n",
       "145         252\n",
       "142         167\n",
       "143         142\n",
       "122         111\n",
       "148          96\n",
       "157          67\n",
       "131          63\n",
       "138          58\n",
       "140          54\n",
       "133          53\n",
       "149          52\n",
       "139          51\n",
       "154          39\n",
       "146          31\n",
       "124          31\n",
       "130          29\n",
       "152          28\n",
       "153          24\n",
       "109          23\n",
       "136          16\n",
       "141          12\n",
       "151          10\n",
       "162           8\n",
       "159           8\n",
       "164           8\n",
       "158           7\n",
       "150           5\n",
       "155           5\n",
       "160           4\n",
       "161           3\n",
       "147           3\n",
       "168           2\n",
       "166           2\n",
       "167           2\n",
       "169           2\n",
       "165           2\n",
       "163           2\n",
       "170           2\n",
       "156           1\n",
       "Name: a_count_combined, dtype: int64"
      ]
     },
     "metadata": {},
     "execution_count": 36
    }
   ],
   "source": [
    "train['a_count_combined'] = pd.factorize(\n",
    "    (1+train['a_user_fer_count_delta_time'])*3**0 +\n",
    "    (1+train['a_user_fing_count_delta_time'])*3**1 +\n",
    "    (1+train['a_user_fering_count_delta_time'])*3**2 +\n",
    "    (1+train['a_user_fing_count_mode'])*3**3 +\n",
    "    (1+train['a_user_fer_count_mode'])*3**4 +\n",
    "    (1+train['a_user_fering_count_mode'])*3**5 \n",
    ")[0]\n",
    "train['a_count_combined'].value_counts()"
   ]
  },
  {
   "cell_type": "code",
   "execution_count": 37,
   "metadata": {},
   "outputs": [
    {
     "output_type": "execute_result",
     "data": {
      "text/plain": [
       "                     reply   retweet retweet_comment      like\n",
       "                      mean      mean            mean      mean\n",
       "a_count_combined                                              \n",
       "0                 0.024772  0.106890        0.006934  0.435416\n",
       "1                 0.025008  0.107590        0.007014  0.432782\n",
       "2                 0.024938  0.107650        0.007095  0.434224\n",
       "3                 0.024689  0.105501        0.006936  0.424183\n",
       "4                 0.024608  0.107427        0.007053  0.432707\n",
       "5                 0.024364  0.101566        0.006976  0.410747\n",
       "6                 0.024497  0.106961        0.006882  0.433673\n",
       "7                 0.024353  0.107623        0.006657  0.434342\n",
       "8                 0.025312  0.105458        0.007182  0.428473\n",
       "9                 0.024789  0.106566        0.006891  0.435839\n",
       "10                0.024322  0.102757        0.006840  0.413302\n",
       "11                0.024553  0.105542        0.007068  0.433844\n",
       "12                0.024465  0.107217        0.006791  0.433888\n",
       "13                0.024346  0.102235        0.006868  0.413262\n",
       "14                0.024413  0.107795        0.007277  0.434361\n",
       "15                0.024719  0.106495        0.006937  0.430798\n",
       "16                0.024882  0.106881        0.006801  0.431550\n",
       "17                0.024180  0.104485        0.006525  0.423908\n",
       "18                0.026693  0.105105        0.008008  0.426760\n",
       "19                0.024692  0.106444        0.006685  0.427564\n",
       "20                0.025064  0.107757        0.007110  0.425906\n",
       "21                0.024057  0.102147        0.006770  0.416368\n",
       "22                0.023621  0.108487        0.007068  0.425357\n",
       "23                0.024560  0.108680        0.006915  0.435976\n",
       "24                0.024450  0.107224        0.007081  0.430009\n",
       "25                0.024626  0.106908        0.006870  0.436165\n",
       "26                0.026755  0.105397        0.008223  0.413134\n",
       "27                0.025250  0.106192        0.006728  0.422391\n",
       "28                0.024630  0.107375        0.006986  0.434506\n",
       "29                0.024973  0.107135        0.007017  0.437205\n",
       "30                0.022727  0.110390        0.006494  0.405844\n",
       "31                0.024023  0.104760        0.006921  0.434809\n",
       "32                0.024350  0.104779        0.006681  0.437217\n",
       "33                0.021203  0.110522        0.007156  0.437583\n",
       "34                0.024398  0.106083        0.007219  0.424157\n",
       "35                0.024463  0.107014        0.007012  0.433140\n",
       "36                0.024864  0.105916        0.007125  0.424822\n",
       "37                0.031175  0.139089        0.009592  0.446043\n",
       "38                0.025724  0.108301        0.006701  0.442067\n",
       "39                0.025272  0.107693        0.006813  0.433442\n",
       "40                0.025642  0.106630        0.006832  0.430674\n",
       "41                0.025824  0.107971        0.007218  0.433442\n",
       "42                0.024932  0.109782        0.006997  0.432435\n",
       "43                0.022643  0.101254        0.006735  0.437065\n",
       "44                0.023706  0.107869        0.006429  0.434135\n",
       "45                0.026269  0.106583        0.006836  0.436992\n",
       "46                0.024351  0.110176        0.007480  0.438503\n",
       "47                0.023789  0.108934        0.006781  0.421959\n",
       "48                0.024352  0.110511        0.007701  0.430754\n",
       "49                0.024985  0.111764        0.007215  0.435300\n",
       "50                0.024783  0.107632        0.006744  0.438295\n",
       "51                0.025492  0.105423        0.007254  0.441727\n",
       "52                0.026248  0.109339        0.007575  0.430834\n",
       "53                0.024782  0.107599        0.007137  0.434580\n",
       "54                0.024517  0.104670        0.007229  0.424496\n",
       "55                0.025824  0.106188        0.006864  0.427354\n",
       "56                0.019220  0.113125        0.006041  0.430533\n",
       "57                0.024509  0.105710        0.007095  0.429357\n",
       "58                0.025143  0.111429        0.006286  0.444000\n",
       "59                0.023711  0.104924        0.006779  0.420256\n",
       "60                0.024326  0.101046        0.007265  0.431040\n",
       "61                0.024071  0.106763        0.006652  0.437909\n",
       "62                0.031226  0.095963        0.009139  0.412034\n",
       "63                0.025792  0.109474        0.007050  0.445693\n",
       "64                0.024624  0.102012        0.006463  0.410095\n",
       "65                0.022553  0.109476        0.009486  0.427161\n",
       "66                0.025977  0.101135        0.006810  0.434300\n",
       "67                0.024651  0.108727        0.008474  0.426984\n",
       "68                0.027486  0.104689        0.008286  0.428052\n",
       "69                0.024624  0.098620        0.007586  0.433155\n",
       "70                0.027062  0.105527        0.007016  0.423110\n",
       "71                0.023944  0.109725        0.006087  0.433217\n",
       "72                0.025000  0.110686        0.007647  0.427647\n",
       "73                0.025595  0.106088        0.007057  0.430451\n",
       "74                0.024329  0.112416        0.008389  0.430369\n",
       "75                0.023985  0.103386        0.007154  0.435323\n",
       "76                0.025054  0.101050        0.005965  0.434741\n",
       "77                0.025781  0.109073        0.007933  0.439762\n",
       "78                0.025482  0.103579        0.006268  0.435758\n",
       "79                0.025218  0.104898        0.005788  0.423869\n",
       "80                0.025909  0.105126        0.005592  0.426281\n",
       "81                0.025196  0.106266        0.007444  0.424902\n",
       "82                0.019455  0.093385        0.003891  0.381323\n",
       "83                0.022370  0.108534        0.007042  0.431234\n",
       "84                0.024240  0.100034        0.006487  0.425401\n",
       "85                0.021994  0.107840        0.006385  0.452643\n",
       "86                0.022013  0.108149        0.006563  0.424938\n",
       "87                0.023709  0.097998        0.003688  0.427292\n",
       "88                0.024412  0.107353        0.007353  0.426765\n",
       "89                0.024795  0.107836        0.007096  0.434932\n",
       "90                0.024427  0.099791        0.008043  0.434614\n",
       "91                0.022408  0.105784        0.008338  0.429911\n",
       "92                0.024982  0.108376        0.007720  0.432848\n",
       "93                0.026601  0.103448        0.006897  0.438424\n",
       "94                0.024422  0.106317        0.006427  0.457400\n",
       "95                0.021454  0.098530        0.006754  0.421136\n",
       "96                0.022222  0.104127        0.003810  0.412063\n",
       "97                0.023939  0.110990        0.005078  0.415306\n",
       "98                0.032688  0.092061        0.007338  0.422282\n",
       "99                0.021557  0.102994        0.006387  0.413573\n",
       "100               0.023419  0.107923        0.005660  0.443989\n",
       "101               0.021191  0.109966        0.009737  0.449599\n",
       "102               0.028807  0.106996        0.004115  0.460905\n",
       "103               0.023217  0.116086        0.006633  0.456053\n",
       "104               0.017361  0.104167        0.010417  0.416667\n",
       "105               0.029007  0.113125        0.005076  0.437999\n",
       "106               0.022883  0.121281        0.009153  0.469108\n",
       "107               0.019920  0.079681        0.011952  0.446215\n",
       "108               0.023328  0.111975        0.010886  0.432348\n",
       "109               0.086957  0.043478        0.000000  0.347826\n",
       "110               0.017422  0.101045        0.003484  0.470383\n",
       "111               0.021390  0.090909        0.000000  0.475936\n",
       "112               0.020566  0.100257        0.007712  0.380463\n",
       "113               0.039427  0.118280        0.003584  0.419355\n",
       "114               0.028791  0.110365        0.003839  0.458733\n",
       "115               0.018836  0.107877        0.008562  0.517123\n",
       "116               0.022302  0.107047        0.006244  0.428189\n",
       "117               0.036390  0.106259        0.005822  0.448326\n",
       "118               0.029813  0.104770        0.009370  0.417376\n",
       "119               0.028889  0.108889        0.006667  0.446667\n",
       "120               0.024617  0.103127        0.006986  0.437791\n",
       "121               0.011274  0.109357        0.001127  0.436302\n",
       "122               0.058824  0.117647        0.000000  0.441176\n",
       "123               0.019549  0.097744        0.004511  0.406015\n",
       "124               0.000000  0.172414        0.000000  0.482759\n",
       "125               0.011547  0.108545        0.004619  0.434180\n",
       "126               0.026869  0.122664        0.005841  0.450935\n",
       "127               0.032922  0.115226        0.008230  0.473251\n",
       "128               0.024730  0.106646        0.004637  0.443586\n",
       "129               0.027466  0.104869        0.004994  0.385768\n",
       "130               0.040000  0.080000        0.000000  0.480000\n",
       "131               0.000000  0.039216        0.000000  0.392157\n",
       "132               0.022005  0.124694        0.012225  0.396088\n",
       "133               0.000000  0.039216        0.000000  0.411765\n",
       "134               0.008000  0.088000        0.008000  0.468000\n",
       "135               0.010076  0.088161        0.002519  0.458438\n",
       "136               0.071429  0.000000        0.000000  0.571429\n",
       "137               0.033846  0.092308        0.003077  0.403077\n",
       "138               0.000000  0.071429        0.000000  0.392857\n",
       "139               0.061224  0.040816        0.000000  0.469388\n",
       "140               0.000000  0.111111        0.022222  0.488889\n",
       "141               0.000000  0.083333        0.000000  0.416667\n",
       "142               0.040000  0.133333        0.000000  0.493333\n",
       "143               0.022059  0.132353        0.007353  0.455882\n",
       "144               0.019002  0.121140        0.004751  0.453682\n",
       "145               0.014851  0.113861        0.019802  0.445545\n",
       "146               0.000000  0.096774        0.000000  0.451613\n",
       "147               0.000000  0.000000        0.000000  0.666667\n",
       "148               0.000000  0.086957        0.000000  0.463768\n",
       "149               0.020833  0.083333        0.000000  0.562500\n",
       "150               0.000000  0.400000        0.200000  0.600000\n",
       "151               0.000000  0.000000        0.000000  0.666667\n",
       "152               0.038462  0.038462        0.000000  0.538462\n",
       "153               0.000000  0.181818        0.000000  0.681818\n",
       "154               0.000000  0.121212        0.000000  0.454545\n",
       "155               0.000000  0.000000        0.000000  0.500000\n",
       "156               0.000000  0.000000        0.000000  0.000000\n",
       "157               0.000000  0.063492        0.000000  0.380952\n",
       "158               0.200000  0.200000        0.000000  0.200000\n",
       "159               0.000000  0.000000        0.000000  0.500000\n",
       "160               0.000000  0.000000        0.000000  0.500000\n",
       "161               0.000000  0.333333        0.000000  0.333333\n",
       "162               0.000000  0.000000        0.000000  1.000000\n",
       "163               0.000000  0.000000        0.000000  0.500000\n",
       "164               0.000000  0.166667        0.000000  0.500000\n",
       "165               0.000000  0.000000        0.000000  0.000000\n",
       "166               0.000000  0.000000        0.000000  0.500000\n",
       "167               0.000000  0.500000        0.000000  0.500000\n",
       "168               0.000000  0.000000        0.000000  0.500000\n",
       "169               0.000000  0.000000        0.000000  1.000000\n",
       "170               0.000000  0.500000        0.000000  0.500000"
      ],
      "text/html": "<div>\n<style scoped>\n    .dataframe tbody tr th:only-of-type {\n        vertical-align: middle;\n    }\n\n    .dataframe tbody tr th {\n        vertical-align: top;\n    }\n\n    .dataframe thead tr th {\n        text-align: left;\n    }\n\n    .dataframe thead tr:last-of-type th {\n        text-align: right;\n    }\n</style>\n<table border=\"1\" class=\"dataframe\">\n  <thead>\n    <tr>\n      <th></th>\n      <th>reply</th>\n      <th>retweet</th>\n      <th>retweet_comment</th>\n      <th>like</th>\n    </tr>\n    <tr>\n      <th></th>\n      <th>mean</th>\n      <th>mean</th>\n      <th>mean</th>\n      <th>mean</th>\n    </tr>\n    <tr>\n      <th>a_count_combined</th>\n      <th></th>\n      <th></th>\n      <th></th>\n      <th></th>\n    </tr>\n  </thead>\n  <tbody>\n    <tr>\n      <th>0</th>\n      <td>0.024772</td>\n      <td>0.106890</td>\n      <td>0.006934</td>\n      <td>0.435416</td>\n    </tr>\n    <tr>\n      <th>1</th>\n      <td>0.025008</td>\n      <td>0.107590</td>\n      <td>0.007014</td>\n      <td>0.432782</td>\n    </tr>\n    <tr>\n      <th>2</th>\n      <td>0.024938</td>\n      <td>0.107650</td>\n      <td>0.007095</td>\n      <td>0.434224</td>\n    </tr>\n    <tr>\n      <th>3</th>\n      <td>0.024689</td>\n      <td>0.105501</td>\n      <td>0.006936</td>\n      <td>0.424183</td>\n    </tr>\n    <tr>\n      <th>4</th>\n      <td>0.024608</td>\n      <td>0.107427</td>\n      <td>0.007053</td>\n      <td>0.432707</td>\n    </tr>\n    <tr>\n      <th>5</th>\n      <td>0.024364</td>\n      <td>0.101566</td>\n      <td>0.006976</td>\n      <td>0.410747</td>\n    </tr>\n    <tr>\n      <th>6</th>\n      <td>0.024497</td>\n      <td>0.106961</td>\n      <td>0.006882</td>\n      <td>0.433673</td>\n    </tr>\n    <tr>\n      <th>7</th>\n      <td>0.024353</td>\n      <td>0.107623</td>\n      <td>0.006657</td>\n      <td>0.434342</td>\n    </tr>\n    <tr>\n      <th>8</th>\n      <td>0.025312</td>\n      <td>0.105458</td>\n      <td>0.007182</td>\n      <td>0.428473</td>\n    </tr>\n    <tr>\n      <th>9</th>\n      <td>0.024789</td>\n      <td>0.106566</td>\n      <td>0.006891</td>\n      <td>0.435839</td>\n    </tr>\n    <tr>\n      <th>10</th>\n      <td>0.024322</td>\n      <td>0.102757</td>\n      <td>0.006840</td>\n      <td>0.413302</td>\n    </tr>\n    <tr>\n      <th>11</th>\n      <td>0.024553</td>\n      <td>0.105542</td>\n      <td>0.007068</td>\n      <td>0.433844</td>\n    </tr>\n    <tr>\n      <th>12</th>\n      <td>0.024465</td>\n      <td>0.107217</td>\n      <td>0.006791</td>\n      <td>0.433888</td>\n    </tr>\n    <tr>\n      <th>13</th>\n      <td>0.024346</td>\n      <td>0.102235</td>\n      <td>0.006868</td>\n      <td>0.413262</td>\n    </tr>\n    <tr>\n      <th>14</th>\n      <td>0.024413</td>\n      <td>0.107795</td>\n      <td>0.007277</td>\n      <td>0.434361</td>\n    </tr>\n    <tr>\n      <th>15</th>\n      <td>0.024719</td>\n      <td>0.106495</td>\n      <td>0.006937</td>\n      <td>0.430798</td>\n    </tr>\n    <tr>\n      <th>16</th>\n      <td>0.024882</td>\n      <td>0.106881</td>\n      <td>0.006801</td>\n      <td>0.431550</td>\n    </tr>\n    <tr>\n      <th>17</th>\n      <td>0.024180</td>\n      <td>0.104485</td>\n      <td>0.006525</td>\n      <td>0.423908</td>\n    </tr>\n    <tr>\n      <th>18</th>\n      <td>0.026693</td>\n      <td>0.105105</td>\n      <td>0.008008</td>\n      <td>0.426760</td>\n    </tr>\n    <tr>\n      <th>19</th>\n      <td>0.024692</td>\n      <td>0.106444</td>\n      <td>0.006685</td>\n      <td>0.427564</td>\n    </tr>\n    <tr>\n      <th>20</th>\n      <td>0.025064</td>\n      <td>0.107757</td>\n      <td>0.007110</td>\n      <td>0.425906</td>\n    </tr>\n    <tr>\n      <th>21</th>\n      <td>0.024057</td>\n      <td>0.102147</td>\n      <td>0.006770</td>\n      <td>0.416368</td>\n    </tr>\n    <tr>\n      <th>22</th>\n      <td>0.023621</td>\n      <td>0.108487</td>\n      <td>0.007068</td>\n      <td>0.425357</td>\n    </tr>\n    <tr>\n      <th>23</th>\n      <td>0.024560</td>\n      <td>0.108680</td>\n      <td>0.006915</td>\n      <td>0.435976</td>\n    </tr>\n    <tr>\n      <th>24</th>\n      <td>0.024450</td>\n      <td>0.107224</td>\n      <td>0.007081</td>\n      <td>0.430009</td>\n    </tr>\n    <tr>\n      <th>25</th>\n      <td>0.024626</td>\n      <td>0.106908</td>\n      <td>0.006870</td>\n      <td>0.436165</td>\n    </tr>\n    <tr>\n      <th>26</th>\n      <td>0.026755</td>\n      <td>0.105397</td>\n      <td>0.008223</td>\n      <td>0.413134</td>\n    </tr>\n    <tr>\n      <th>27</th>\n      <td>0.025250</td>\n      <td>0.106192</td>\n      <td>0.006728</td>\n      <td>0.422391</td>\n    </tr>\n    <tr>\n      <th>28</th>\n      <td>0.024630</td>\n      <td>0.107375</td>\n      <td>0.006986</td>\n      <td>0.434506</td>\n    </tr>\n    <tr>\n      <th>29</th>\n      <td>0.024973</td>\n      <td>0.107135</td>\n      <td>0.007017</td>\n      <td>0.437205</td>\n    </tr>\n    <tr>\n      <th>30</th>\n      <td>0.022727</td>\n      <td>0.110390</td>\n      <td>0.006494</td>\n      <td>0.405844</td>\n    </tr>\n    <tr>\n      <th>31</th>\n      <td>0.024023</td>\n      <td>0.104760</td>\n      <td>0.006921</td>\n      <td>0.434809</td>\n    </tr>\n    <tr>\n      <th>32</th>\n      <td>0.024350</td>\n      <td>0.104779</td>\n      <td>0.006681</td>\n      <td>0.437217</td>\n    </tr>\n    <tr>\n      <th>33</th>\n      <td>0.021203</td>\n      <td>0.110522</td>\n      <td>0.007156</td>\n      <td>0.437583</td>\n    </tr>\n    <tr>\n      <th>34</th>\n      <td>0.024398</td>\n      <td>0.106083</td>\n      <td>0.007219</td>\n      <td>0.424157</td>\n    </tr>\n    <tr>\n      <th>35</th>\n      <td>0.024463</td>\n      <td>0.107014</td>\n      <td>0.007012</td>\n      <td>0.433140</td>\n    </tr>\n    <tr>\n      <th>36</th>\n      <td>0.024864</td>\n      <td>0.105916</td>\n      <td>0.007125</td>\n      <td>0.424822</td>\n    </tr>\n    <tr>\n      <th>37</th>\n      <td>0.031175</td>\n      <td>0.139089</td>\n      <td>0.009592</td>\n      <td>0.446043</td>\n    </tr>\n    <tr>\n      <th>38</th>\n      <td>0.025724</td>\n      <td>0.108301</td>\n      <td>0.006701</td>\n      <td>0.442067</td>\n    </tr>\n    <tr>\n      <th>39</th>\n      <td>0.025272</td>\n      <td>0.107693</td>\n      <td>0.006813</td>\n      <td>0.433442</td>\n    </tr>\n    <tr>\n      <th>40</th>\n      <td>0.025642</td>\n      <td>0.106630</td>\n      <td>0.006832</td>\n      <td>0.430674</td>\n    </tr>\n    <tr>\n      <th>41</th>\n      <td>0.025824</td>\n      <td>0.107971</td>\n      <td>0.007218</td>\n      <td>0.433442</td>\n    </tr>\n    <tr>\n      <th>42</th>\n      <td>0.024932</td>\n      <td>0.109782</td>\n      <td>0.006997</td>\n      <td>0.432435</td>\n    </tr>\n    <tr>\n      <th>43</th>\n      <td>0.022643</td>\n      <td>0.101254</td>\n      <td>0.006735</td>\n      <td>0.437065</td>\n    </tr>\n    <tr>\n      <th>44</th>\n      <td>0.023706</td>\n      <td>0.107869</td>\n      <td>0.006429</td>\n      <td>0.434135</td>\n    </tr>\n    <tr>\n      <th>45</th>\n      <td>0.026269</td>\n      <td>0.106583</td>\n      <td>0.006836</td>\n      <td>0.436992</td>\n    </tr>\n    <tr>\n      <th>46</th>\n      <td>0.024351</td>\n      <td>0.110176</td>\n      <td>0.007480</td>\n      <td>0.438503</td>\n    </tr>\n    <tr>\n      <th>47</th>\n      <td>0.023789</td>\n      <td>0.108934</td>\n      <td>0.006781</td>\n      <td>0.421959</td>\n    </tr>\n    <tr>\n      <th>48</th>\n      <td>0.024352</td>\n      <td>0.110511</td>\n      <td>0.007701</td>\n      <td>0.430754</td>\n    </tr>\n    <tr>\n      <th>49</th>\n      <td>0.024985</td>\n      <td>0.111764</td>\n      <td>0.007215</td>\n      <td>0.435300</td>\n    </tr>\n    <tr>\n      <th>50</th>\n      <td>0.024783</td>\n      <td>0.107632</td>\n      <td>0.006744</td>\n      <td>0.438295</td>\n    </tr>\n    <tr>\n      <th>51</th>\n      <td>0.025492</td>\n      <td>0.105423</td>\n      <td>0.007254</td>\n      <td>0.441727</td>\n    </tr>\n    <tr>\n      <th>52</th>\n      <td>0.026248</td>\n      <td>0.109339</td>\n      <td>0.007575</td>\n      <td>0.430834</td>\n    </tr>\n    <tr>\n      <th>53</th>\n      <td>0.024782</td>\n      <td>0.107599</td>\n      <td>0.007137</td>\n      <td>0.434580</td>\n    </tr>\n    <tr>\n      <th>54</th>\n      <td>0.024517</td>\n      <td>0.104670</td>\n      <td>0.007229</td>\n      <td>0.424496</td>\n    </tr>\n    <tr>\n      <th>55</th>\n      <td>0.025824</td>\n      <td>0.106188</td>\n      <td>0.006864</td>\n      <td>0.427354</td>\n    </tr>\n    <tr>\n      <th>56</th>\n      <td>0.019220</td>\n      <td>0.113125</td>\n      <td>0.006041</td>\n      <td>0.430533</td>\n    </tr>\n    <tr>\n      <th>57</th>\n      <td>0.024509</td>\n      <td>0.105710</td>\n      <td>0.007095</td>\n      <td>0.429357</td>\n    </tr>\n    <tr>\n      <th>58</th>\n      <td>0.025143</td>\n      <td>0.111429</td>\n      <td>0.006286</td>\n      <td>0.444000</td>\n    </tr>\n    <tr>\n      <th>59</th>\n      <td>0.023711</td>\n      <td>0.104924</td>\n      <td>0.006779</td>\n      <td>0.420256</td>\n    </tr>\n    <tr>\n      <th>60</th>\n      <td>0.024326</td>\n      <td>0.101046</td>\n      <td>0.007265</td>\n      <td>0.431040</td>\n    </tr>\n    <tr>\n      <th>61</th>\n      <td>0.024071</td>\n      <td>0.106763</td>\n      <td>0.006652</td>\n      <td>0.437909</td>\n    </tr>\n    <tr>\n      <th>62</th>\n      <td>0.031226</td>\n      <td>0.095963</td>\n      <td>0.009139</td>\n      <td>0.412034</td>\n    </tr>\n    <tr>\n      <th>63</th>\n      <td>0.025792</td>\n      <td>0.109474</td>\n      <td>0.007050</td>\n      <td>0.445693</td>\n    </tr>\n    <tr>\n      <th>64</th>\n      <td>0.024624</td>\n      <td>0.102012</td>\n      <td>0.006463</td>\n      <td>0.410095</td>\n    </tr>\n    <tr>\n      <th>65</th>\n      <td>0.022553</td>\n      <td>0.109476</td>\n      <td>0.009486</td>\n      <td>0.427161</td>\n    </tr>\n    <tr>\n      <th>66</th>\n      <td>0.025977</td>\n      <td>0.101135</td>\n      <td>0.006810</td>\n      <td>0.434300</td>\n    </tr>\n    <tr>\n      <th>67</th>\n      <td>0.024651</td>\n      <td>0.108727</td>\n      <td>0.008474</td>\n      <td>0.426984</td>\n    </tr>\n    <tr>\n      <th>68</th>\n      <td>0.027486</td>\n      <td>0.104689</td>\n      <td>0.008286</td>\n      <td>0.428052</td>\n    </tr>\n    <tr>\n      <th>69</th>\n      <td>0.024624</td>\n      <td>0.098620</td>\n      <td>0.007586</td>\n      <td>0.433155</td>\n    </tr>\n    <tr>\n      <th>70</th>\n      <td>0.027062</td>\n      <td>0.105527</td>\n      <td>0.007016</td>\n      <td>0.423110</td>\n    </tr>\n    <tr>\n      <th>71</th>\n      <td>0.023944</td>\n      <td>0.109725</td>\n      <td>0.006087</td>\n      <td>0.433217</td>\n    </tr>\n    <tr>\n      <th>72</th>\n      <td>0.025000</td>\n      <td>0.110686</td>\n      <td>0.007647</td>\n      <td>0.427647</td>\n    </tr>\n    <tr>\n      <th>73</th>\n      <td>0.025595</td>\n      <td>0.106088</td>\n      <td>0.007057</td>\n      <td>0.430451</td>\n    </tr>\n    <tr>\n      <th>74</th>\n      <td>0.024329</td>\n      <td>0.112416</td>\n      <td>0.008389</td>\n      <td>0.430369</td>\n    </tr>\n    <tr>\n      <th>75</th>\n      <td>0.023985</td>\n      <td>0.103386</td>\n      <td>0.007154</td>\n      <td>0.435323</td>\n    </tr>\n    <tr>\n      <th>76</th>\n      <td>0.025054</td>\n      <td>0.101050</td>\n      <td>0.005965</td>\n      <td>0.434741</td>\n    </tr>\n    <tr>\n      <th>77</th>\n      <td>0.025781</td>\n      <td>0.109073</td>\n      <td>0.007933</td>\n      <td>0.439762</td>\n    </tr>\n    <tr>\n      <th>78</th>\n      <td>0.025482</td>\n      <td>0.103579</td>\n      <td>0.006268</td>\n      <td>0.435758</td>\n    </tr>\n    <tr>\n      <th>79</th>\n      <td>0.025218</td>\n      <td>0.104898</td>\n      <td>0.005788</td>\n      <td>0.423869</td>\n    </tr>\n    <tr>\n      <th>80</th>\n      <td>0.025909</td>\n      <td>0.105126</td>\n      <td>0.005592</td>\n      <td>0.426281</td>\n    </tr>\n    <tr>\n      <th>81</th>\n      <td>0.025196</td>\n      <td>0.106266</td>\n      <td>0.007444</td>\n      <td>0.424902</td>\n    </tr>\n    <tr>\n      <th>82</th>\n      <td>0.019455</td>\n      <td>0.093385</td>\n      <td>0.003891</td>\n      <td>0.381323</td>\n    </tr>\n    <tr>\n      <th>83</th>\n      <td>0.022370</td>\n      <td>0.108534</td>\n      <td>0.007042</td>\n      <td>0.431234</td>\n    </tr>\n    <tr>\n      <th>84</th>\n      <td>0.024240</td>\n      <td>0.100034</td>\n      <td>0.006487</td>\n      <td>0.425401</td>\n    </tr>\n    <tr>\n      <th>85</th>\n      <td>0.021994</td>\n      <td>0.107840</td>\n      <td>0.006385</td>\n      <td>0.452643</td>\n    </tr>\n    <tr>\n      <th>86</th>\n      <td>0.022013</td>\n      <td>0.108149</td>\n      <td>0.006563</td>\n      <td>0.424938</td>\n    </tr>\n    <tr>\n      <th>87</th>\n      <td>0.023709</td>\n      <td>0.097998</td>\n      <td>0.003688</td>\n      <td>0.427292</td>\n    </tr>\n    <tr>\n      <th>88</th>\n      <td>0.024412</td>\n      <td>0.107353</td>\n      <td>0.007353</td>\n      <td>0.426765</td>\n    </tr>\n    <tr>\n      <th>89</th>\n      <td>0.024795</td>\n      <td>0.107836</td>\n      <td>0.007096</td>\n      <td>0.434932</td>\n    </tr>\n    <tr>\n      <th>90</th>\n      <td>0.024427</td>\n      <td>0.099791</td>\n      <td>0.008043</td>\n      <td>0.434614</td>\n    </tr>\n    <tr>\n      <th>91</th>\n      <td>0.022408</td>\n      <td>0.105784</td>\n      <td>0.008338</td>\n      <td>0.429911</td>\n    </tr>\n    <tr>\n      <th>92</th>\n      <td>0.024982</td>\n      <td>0.108376</td>\n      <td>0.007720</td>\n      <td>0.432848</td>\n    </tr>\n    <tr>\n      <th>93</th>\n      <td>0.026601</td>\n      <td>0.103448</td>\n      <td>0.006897</td>\n      <td>0.438424</td>\n    </tr>\n    <tr>\n      <th>94</th>\n      <td>0.024422</td>\n      <td>0.106317</td>\n      <td>0.006427</td>\n      <td>0.457400</td>\n    </tr>\n    <tr>\n      <th>95</th>\n      <td>0.021454</td>\n      <td>0.098530</td>\n      <td>0.006754</td>\n      <td>0.421136</td>\n    </tr>\n    <tr>\n      <th>96</th>\n      <td>0.022222</td>\n      <td>0.104127</td>\n      <td>0.003810</td>\n      <td>0.412063</td>\n    </tr>\n    <tr>\n      <th>97</th>\n      <td>0.023939</td>\n      <td>0.110990</td>\n      <td>0.005078</td>\n      <td>0.415306</td>\n    </tr>\n    <tr>\n      <th>98</th>\n      <td>0.032688</td>\n      <td>0.092061</td>\n      <td>0.007338</td>\n      <td>0.422282</td>\n    </tr>\n    <tr>\n      <th>99</th>\n      <td>0.021557</td>\n      <td>0.102994</td>\n      <td>0.006387</td>\n      <td>0.413573</td>\n    </tr>\n    <tr>\n      <th>100</th>\n      <td>0.023419</td>\n      <td>0.107923</td>\n      <td>0.005660</td>\n      <td>0.443989</td>\n    </tr>\n    <tr>\n      <th>101</th>\n      <td>0.021191</td>\n      <td>0.109966</td>\n      <td>0.009737</td>\n      <td>0.449599</td>\n    </tr>\n    <tr>\n      <th>102</th>\n      <td>0.028807</td>\n      <td>0.106996</td>\n      <td>0.004115</td>\n      <td>0.460905</td>\n    </tr>\n    <tr>\n      <th>103</th>\n      <td>0.023217</td>\n      <td>0.116086</td>\n      <td>0.006633</td>\n      <td>0.456053</td>\n    </tr>\n    <tr>\n      <th>104</th>\n      <td>0.017361</td>\n      <td>0.104167</td>\n      <td>0.010417</td>\n      <td>0.416667</td>\n    </tr>\n    <tr>\n      <th>105</th>\n      <td>0.029007</td>\n      <td>0.113125</td>\n      <td>0.005076</td>\n      <td>0.437999</td>\n    </tr>\n    <tr>\n      <th>106</th>\n      <td>0.022883</td>\n      <td>0.121281</td>\n      <td>0.009153</td>\n      <td>0.469108</td>\n    </tr>\n    <tr>\n      <th>107</th>\n      <td>0.019920</td>\n      <td>0.079681</td>\n      <td>0.011952</td>\n      <td>0.446215</td>\n    </tr>\n    <tr>\n      <th>108</th>\n      <td>0.023328</td>\n      <td>0.111975</td>\n      <td>0.010886</td>\n      <td>0.432348</td>\n    </tr>\n    <tr>\n      <th>109</th>\n      <td>0.086957</td>\n      <td>0.043478</td>\n      <td>0.000000</td>\n      <td>0.347826</td>\n    </tr>\n    <tr>\n      <th>110</th>\n      <td>0.017422</td>\n      <td>0.101045</td>\n      <td>0.003484</td>\n      <td>0.470383</td>\n    </tr>\n    <tr>\n      <th>111</th>\n      <td>0.021390</td>\n      <td>0.090909</td>\n      <td>0.000000</td>\n      <td>0.475936</td>\n    </tr>\n    <tr>\n      <th>112</th>\n      <td>0.020566</td>\n      <td>0.100257</td>\n      <td>0.007712</td>\n      <td>0.380463</td>\n    </tr>\n    <tr>\n      <th>113</th>\n      <td>0.039427</td>\n      <td>0.118280</td>\n      <td>0.003584</td>\n      <td>0.419355</td>\n    </tr>\n    <tr>\n      <th>114</th>\n      <td>0.028791</td>\n      <td>0.110365</td>\n      <td>0.003839</td>\n      <td>0.458733</td>\n    </tr>\n    <tr>\n      <th>115</th>\n      <td>0.018836</td>\n      <td>0.107877</td>\n      <td>0.008562</td>\n      <td>0.517123</td>\n    </tr>\n    <tr>\n      <th>116</th>\n      <td>0.022302</td>\n      <td>0.107047</td>\n      <td>0.006244</td>\n      <td>0.428189</td>\n    </tr>\n    <tr>\n      <th>117</th>\n      <td>0.036390</td>\n      <td>0.106259</td>\n      <td>0.005822</td>\n      <td>0.448326</td>\n    </tr>\n    <tr>\n      <th>118</th>\n      <td>0.029813</td>\n      <td>0.104770</td>\n      <td>0.009370</td>\n      <td>0.417376</td>\n    </tr>\n    <tr>\n      <th>119</th>\n      <td>0.028889</td>\n      <td>0.108889</td>\n      <td>0.006667</td>\n      <td>0.446667</td>\n    </tr>\n    <tr>\n      <th>120</th>\n      <td>0.024617</td>\n      <td>0.103127</td>\n      <td>0.006986</td>\n      <td>0.437791</td>\n    </tr>\n    <tr>\n      <th>121</th>\n      <td>0.011274</td>\n      <td>0.109357</td>\n      <td>0.001127</td>\n      <td>0.436302</td>\n    </tr>\n    <tr>\n      <th>122</th>\n      <td>0.058824</td>\n      <td>0.117647</td>\n      <td>0.000000</td>\n      <td>0.441176</td>\n    </tr>\n    <tr>\n      <th>123</th>\n      <td>0.019549</td>\n      <td>0.097744</td>\n      <td>0.004511</td>\n      <td>0.406015</td>\n    </tr>\n    <tr>\n      <th>124</th>\n      <td>0.000000</td>\n      <td>0.172414</td>\n      <td>0.000000</td>\n      <td>0.482759</td>\n    </tr>\n    <tr>\n      <th>125</th>\n      <td>0.011547</td>\n      <td>0.108545</td>\n      <td>0.004619</td>\n      <td>0.434180</td>\n    </tr>\n    <tr>\n      <th>126</th>\n      <td>0.026869</td>\n      <td>0.122664</td>\n      <td>0.005841</td>\n      <td>0.450935</td>\n    </tr>\n    <tr>\n      <th>127</th>\n      <td>0.032922</td>\n      <td>0.115226</td>\n      <td>0.008230</td>\n      <td>0.473251</td>\n    </tr>\n    <tr>\n      <th>128</th>\n      <td>0.024730</td>\n      <td>0.106646</td>\n      <td>0.004637</td>\n      <td>0.443586</td>\n    </tr>\n    <tr>\n      <th>129</th>\n      <td>0.027466</td>\n      <td>0.104869</td>\n      <td>0.004994</td>\n      <td>0.385768</td>\n    </tr>\n    <tr>\n      <th>130</th>\n      <td>0.040000</td>\n      <td>0.080000</td>\n      <td>0.000000</td>\n      <td>0.480000</td>\n    </tr>\n    <tr>\n      <th>131</th>\n      <td>0.000000</td>\n      <td>0.039216</td>\n      <td>0.000000</td>\n      <td>0.392157</td>\n    </tr>\n    <tr>\n      <th>132</th>\n      <td>0.022005</td>\n      <td>0.124694</td>\n      <td>0.012225</td>\n      <td>0.396088</td>\n    </tr>\n    <tr>\n      <th>133</th>\n      <td>0.000000</td>\n      <td>0.039216</td>\n      <td>0.000000</td>\n      <td>0.411765</td>\n    </tr>\n    <tr>\n      <th>134</th>\n      <td>0.008000</td>\n      <td>0.088000</td>\n      <td>0.008000</td>\n      <td>0.468000</td>\n    </tr>\n    <tr>\n      <th>135</th>\n      <td>0.010076</td>\n      <td>0.088161</td>\n      <td>0.002519</td>\n      <td>0.458438</td>\n    </tr>\n    <tr>\n      <th>136</th>\n      <td>0.071429</td>\n      <td>0.000000</td>\n      <td>0.000000</td>\n      <td>0.571429</td>\n    </tr>\n    <tr>\n      <th>137</th>\n      <td>0.033846</td>\n      <td>0.092308</td>\n      <td>0.003077</td>\n      <td>0.403077</td>\n    </tr>\n    <tr>\n      <th>138</th>\n      <td>0.000000</td>\n      <td>0.071429</td>\n      <td>0.000000</td>\n      <td>0.392857</td>\n    </tr>\n    <tr>\n      <th>139</th>\n      <td>0.061224</td>\n      <td>0.040816</td>\n      <td>0.000000</td>\n      <td>0.469388</td>\n    </tr>\n    <tr>\n      <th>140</th>\n      <td>0.000000</td>\n      <td>0.111111</td>\n      <td>0.022222</td>\n      <td>0.488889</td>\n    </tr>\n    <tr>\n      <th>141</th>\n      <td>0.000000</td>\n      <td>0.083333</td>\n      <td>0.000000</td>\n      <td>0.416667</td>\n    </tr>\n    <tr>\n      <th>142</th>\n      <td>0.040000</td>\n      <td>0.133333</td>\n      <td>0.000000</td>\n      <td>0.493333</td>\n    </tr>\n    <tr>\n      <th>143</th>\n      <td>0.022059</td>\n      <td>0.132353</td>\n      <td>0.007353</td>\n      <td>0.455882</td>\n    </tr>\n    <tr>\n      <th>144</th>\n      <td>0.019002</td>\n      <td>0.121140</td>\n      <td>0.004751</td>\n      <td>0.453682</td>\n    </tr>\n    <tr>\n      <th>145</th>\n      <td>0.014851</td>\n      <td>0.113861</td>\n      <td>0.019802</td>\n      <td>0.445545</td>\n    </tr>\n    <tr>\n      <th>146</th>\n      <td>0.000000</td>\n      <td>0.096774</td>\n      <td>0.000000</td>\n      <td>0.451613</td>\n    </tr>\n    <tr>\n      <th>147</th>\n      <td>0.000000</td>\n      <td>0.000000</td>\n      <td>0.000000</td>\n      <td>0.666667</td>\n    </tr>\n    <tr>\n      <th>148</th>\n      <td>0.000000</td>\n      <td>0.086957</td>\n      <td>0.000000</td>\n      <td>0.463768</td>\n    </tr>\n    <tr>\n      <th>149</th>\n      <td>0.020833</td>\n      <td>0.083333</td>\n      <td>0.000000</td>\n      <td>0.562500</td>\n    </tr>\n    <tr>\n      <th>150</th>\n      <td>0.000000</td>\n      <td>0.400000</td>\n      <td>0.200000</td>\n      <td>0.600000</td>\n    </tr>\n    <tr>\n      <th>151</th>\n      <td>0.000000</td>\n      <td>0.000000</td>\n      <td>0.000000</td>\n      <td>0.666667</td>\n    </tr>\n    <tr>\n      <th>152</th>\n      <td>0.038462</td>\n      <td>0.038462</td>\n      <td>0.000000</td>\n      <td>0.538462</td>\n    </tr>\n    <tr>\n      <th>153</th>\n      <td>0.000000</td>\n      <td>0.181818</td>\n      <td>0.000000</td>\n      <td>0.681818</td>\n    </tr>\n    <tr>\n      <th>154</th>\n      <td>0.000000</td>\n      <td>0.121212</td>\n      <td>0.000000</td>\n      <td>0.454545</td>\n    </tr>\n    <tr>\n      <th>155</th>\n      <td>0.000000</td>\n      <td>0.000000</td>\n      <td>0.000000</td>\n      <td>0.500000</td>\n    </tr>\n    <tr>\n      <th>156</th>\n      <td>0.000000</td>\n      <td>0.000000</td>\n      <td>0.000000</td>\n      <td>0.000000</td>\n    </tr>\n    <tr>\n      <th>157</th>\n      <td>0.000000</td>\n      <td>0.063492</td>\n      <td>0.000000</td>\n      <td>0.380952</td>\n    </tr>\n    <tr>\n      <th>158</th>\n      <td>0.200000</td>\n      <td>0.200000</td>\n      <td>0.000000</td>\n      <td>0.200000</td>\n    </tr>\n    <tr>\n      <th>159</th>\n      <td>0.000000</td>\n      <td>0.000000</td>\n      <td>0.000000</td>\n      <td>0.500000</td>\n    </tr>\n    <tr>\n      <th>160</th>\n      <td>0.000000</td>\n      <td>0.000000</td>\n      <td>0.000000</td>\n      <td>0.500000</td>\n    </tr>\n    <tr>\n      <th>161</th>\n      <td>0.000000</td>\n      <td>0.333333</td>\n      <td>0.000000</td>\n      <td>0.333333</td>\n    </tr>\n    <tr>\n      <th>162</th>\n      <td>0.000000</td>\n      <td>0.000000</td>\n      <td>0.000000</td>\n      <td>1.000000</td>\n    </tr>\n    <tr>\n      <th>163</th>\n      <td>0.000000</td>\n      <td>0.000000</td>\n      <td>0.000000</td>\n      <td>0.500000</td>\n    </tr>\n    <tr>\n      <th>164</th>\n      <td>0.000000</td>\n      <td>0.166667</td>\n      <td>0.000000</td>\n      <td>0.500000</td>\n    </tr>\n    <tr>\n      <th>165</th>\n      <td>0.000000</td>\n      <td>0.000000</td>\n      <td>0.000000</td>\n      <td>0.000000</td>\n    </tr>\n    <tr>\n      <th>166</th>\n      <td>0.000000</td>\n      <td>0.000000</td>\n      <td>0.000000</td>\n      <td>0.500000</td>\n    </tr>\n    <tr>\n      <th>167</th>\n      <td>0.000000</td>\n      <td>0.500000</td>\n      <td>0.000000</td>\n      <td>0.500000</td>\n    </tr>\n    <tr>\n      <th>168</th>\n      <td>0.000000</td>\n      <td>0.000000</td>\n      <td>0.000000</td>\n      <td>0.500000</td>\n    </tr>\n    <tr>\n      <th>169</th>\n      <td>0.000000</td>\n      <td>0.000000</td>\n      <td>0.000000</td>\n      <td>1.000000</td>\n    </tr>\n    <tr>\n      <th>170</th>\n      <td>0.000000</td>\n      <td>0.500000</td>\n      <td>0.000000</td>\n      <td>0.500000</td>\n    </tr>\n  </tbody>\n</table>\n</div>"
     },
     "metadata": {},
     "execution_count": 37
    }
   ],
   "source": [
    "train.loc[ train.tr==0 ].groupby('a_count_combined')[['reply','retweet','retweet_comment','like']].agg(['mean'])"
   ]
  },
  {
   "cell_type": "code",
   "execution_count": 38,
   "metadata": {},
   "outputs": [
    {
     "output_type": "execute_result",
     "data": {
      "text/plain": [
       "    timestamp  a_follower_count  a_following_count  a_is_verified  \\\n",
       "0  1580947200            438860                159              1   \n",
       "1  1580947200           2828662                217              1   \n",
       "2  1580947200           9794149                 90              1   \n",
       "3  1580947200           7230468                758              1   \n",
       "4  1580947200             53032                 12              1   \n",
       "\n",
       "   a_account_creation  b_follower_count  b_following_count  b_is_verified  \\\n",
       "0          1480270328                63                351              0   \n",
       "1          1244233304                37                 43              0   \n",
       "2          1321282652                 0                 36              0   \n",
       "3          1184948409               408                231              0   \n",
       "4          1530316237                 2                 68              0   \n",
       "\n",
       "   b_account_creation  b_follows_a  reply  retweet  retweet_comment  like  \\\n",
       "0          1505350202            0      0        0                0     0   \n",
       "1          1573587136            0      0        0                0     0   \n",
       "2          1574692024            0      0        0                0     0   \n",
       "3          1289164476            0      0        0                0     0   \n",
       "4          1541192342            0      0        0                0     0   \n",
       "\n",
       "         id  language  tweet_type  media  tweet_id  a_user_id  b_user_id  \\\n",
       "0  78208872        54           2     12  13853657   13488905    4009871   \n",
       "1  83895315        59           2      4  30382844    4768532   20049830   \n",
       "2   8177999        54           2      4  46335397   17612981   25428544   \n",
       "3  92868826         3           2     12  56738631   22760498   26051552   \n",
       "4   4824533        54           2      8  56380015   24605653     975650   \n",
       "\n",
       "   len_hashtags  len_domains  len_links  domains    links  hashtags  tr  \\\n",
       "0             1            1          1   266516  4141906    191970   0   \n",
       "1             0            1          1   103730  2712364         0   0   \n",
       "2             0            0          0        0        0         0   0   \n",
       "3             0            1          1   115975  2460396         0   0   \n",
       "4             0            0          0        0        0         0   0   \n",
       "\n",
       "   engage  a_user_fer_count_delta_time  a_user_fing_count_delta_time  \\\n",
       "0       0                            0                             0   \n",
       "1       0                            0                             1   \n",
       "2       0                            0                             1   \n",
       "3       0                            0                             1   \n",
       "4       0                           -1                             1   \n",
       "\n",
       "   a_user_fering_count_delta_time  a_user_fing_count_mode  \\\n",
       "0                               0                       0   \n",
       "1                               0                       1   \n",
       "2                               0                       1   \n",
       "3                               0                       1   \n",
       "4                              -1                       1   \n",
       "\n",
       "   a_user_fer_count_mode  a_user_fering_count_mode  a_count_combined  \n",
       "0                      0                         0                 0  \n",
       "1                      0                         0                 1  \n",
       "2                      0                         0                 1  \n",
       "3                      0                         0                 1  \n",
       "4                      0                         0                 2  "
      ],
      "text/html": "<div>\n<style scoped>\n    .dataframe tbody tr th:only-of-type {\n        vertical-align: middle;\n    }\n\n    .dataframe tbody tr th {\n        vertical-align: top;\n    }\n\n    .dataframe thead th {\n        text-align: right;\n    }\n</style>\n<table border=\"1\" class=\"dataframe\">\n  <thead>\n    <tr style=\"text-align: right;\">\n      <th></th>\n      <th>timestamp</th>\n      <th>a_follower_count</th>\n      <th>a_following_count</th>\n      <th>a_is_verified</th>\n      <th>a_account_creation</th>\n      <th>b_follower_count</th>\n      <th>b_following_count</th>\n      <th>b_is_verified</th>\n      <th>b_account_creation</th>\n      <th>b_follows_a</th>\n      <th>reply</th>\n      <th>retweet</th>\n      <th>retweet_comment</th>\n      <th>like</th>\n      <th>id</th>\n      <th>language</th>\n      <th>tweet_type</th>\n      <th>media</th>\n      <th>tweet_id</th>\n      <th>a_user_id</th>\n      <th>b_user_id</th>\n      <th>len_hashtags</th>\n      <th>len_domains</th>\n      <th>len_links</th>\n      <th>domains</th>\n      <th>links</th>\n      <th>hashtags</th>\n      <th>tr</th>\n      <th>engage</th>\n      <th>a_user_fer_count_delta_time</th>\n      <th>a_user_fing_count_delta_time</th>\n      <th>a_user_fering_count_delta_time</th>\n      <th>a_user_fing_count_mode</th>\n      <th>a_user_fer_count_mode</th>\n      <th>a_user_fering_count_mode</th>\n      <th>a_count_combined</th>\n    </tr>\n  </thead>\n  <tbody>\n    <tr>\n      <th>0</th>\n      <td>1580947200</td>\n      <td>438860</td>\n      <td>159</td>\n      <td>1</td>\n      <td>1480270328</td>\n      <td>63</td>\n      <td>351</td>\n      <td>0</td>\n      <td>1505350202</td>\n      <td>0</td>\n      <td>0</td>\n      <td>0</td>\n      <td>0</td>\n      <td>0</td>\n      <td>78208872</td>\n      <td>54</td>\n      <td>2</td>\n      <td>12</td>\n      <td>13853657</td>\n      <td>13488905</td>\n      <td>4009871</td>\n      <td>1</td>\n      <td>1</td>\n      <td>1</td>\n      <td>266516</td>\n      <td>4141906</td>\n      <td>191970</td>\n      <td>0</td>\n      <td>0</td>\n      <td>0</td>\n      <td>0</td>\n      <td>0</td>\n      <td>0</td>\n      <td>0</td>\n      <td>0</td>\n      <td>0</td>\n    </tr>\n    <tr>\n      <th>1</th>\n      <td>1580947200</td>\n      <td>2828662</td>\n      <td>217</td>\n      <td>1</td>\n      <td>1244233304</td>\n      <td>37</td>\n      <td>43</td>\n      <td>0</td>\n      <td>1573587136</td>\n      <td>0</td>\n      <td>0</td>\n      <td>0</td>\n      <td>0</td>\n      <td>0</td>\n      <td>83895315</td>\n      <td>59</td>\n      <td>2</td>\n      <td>4</td>\n      <td>30382844</td>\n      <td>4768532</td>\n      <td>20049830</td>\n      <td>0</td>\n      <td>1</td>\n      <td>1</td>\n      <td>103730</td>\n      <td>2712364</td>\n      <td>0</td>\n      <td>0</td>\n      <td>0</td>\n      <td>0</td>\n      <td>1</td>\n      <td>0</td>\n      <td>1</td>\n      <td>0</td>\n      <td>0</td>\n      <td>1</td>\n    </tr>\n    <tr>\n      <th>2</th>\n      <td>1580947200</td>\n      <td>9794149</td>\n      <td>90</td>\n      <td>1</td>\n      <td>1321282652</td>\n      <td>0</td>\n      <td>36</td>\n      <td>0</td>\n      <td>1574692024</td>\n      <td>0</td>\n      <td>0</td>\n      <td>0</td>\n      <td>0</td>\n      <td>0</td>\n      <td>8177999</td>\n      <td>54</td>\n      <td>2</td>\n      <td>4</td>\n      <td>46335397</td>\n      <td>17612981</td>\n      <td>25428544</td>\n      <td>0</td>\n      <td>0</td>\n      <td>0</td>\n      <td>0</td>\n      <td>0</td>\n      <td>0</td>\n      <td>0</td>\n      <td>0</td>\n      <td>0</td>\n      <td>1</td>\n      <td>0</td>\n      <td>1</td>\n      <td>0</td>\n      <td>0</td>\n      <td>1</td>\n    </tr>\n    <tr>\n      <th>3</th>\n      <td>1580947200</td>\n      <td>7230468</td>\n      <td>758</td>\n      <td>1</td>\n      <td>1184948409</td>\n      <td>408</td>\n      <td>231</td>\n      <td>0</td>\n      <td>1289164476</td>\n      <td>0</td>\n      <td>0</td>\n      <td>0</td>\n      <td>0</td>\n      <td>0</td>\n      <td>92868826</td>\n      <td>3</td>\n      <td>2</td>\n      <td>12</td>\n      <td>56738631</td>\n      <td>22760498</td>\n      <td>26051552</td>\n      <td>0</td>\n      <td>1</td>\n      <td>1</td>\n      <td>115975</td>\n      <td>2460396</td>\n      <td>0</td>\n      <td>0</td>\n      <td>0</td>\n      <td>0</td>\n      <td>1</td>\n      <td>0</td>\n      <td>1</td>\n      <td>0</td>\n      <td>0</td>\n      <td>1</td>\n    </tr>\n    <tr>\n      <th>4</th>\n      <td>1580947200</td>\n      <td>53032</td>\n      <td>12</td>\n      <td>1</td>\n      <td>1530316237</td>\n      <td>2</td>\n      <td>68</td>\n      <td>0</td>\n      <td>1541192342</td>\n      <td>0</td>\n      <td>0</td>\n      <td>0</td>\n      <td>0</td>\n      <td>0</td>\n      <td>4824533</td>\n      <td>54</td>\n      <td>2</td>\n      <td>8</td>\n      <td>56380015</td>\n      <td>24605653</td>\n      <td>975650</td>\n      <td>0</td>\n      <td>0</td>\n      <td>0</td>\n      <td>0</td>\n      <td>0</td>\n      <td>0</td>\n      <td>0</td>\n      <td>0</td>\n      <td>-1</td>\n      <td>1</td>\n      <td>-1</td>\n      <td>1</td>\n      <td>0</td>\n      <td>0</td>\n      <td>2</td>\n    </tr>\n  </tbody>\n</table>\n</div>"
     },
     "metadata": {},
     "execution_count": 38
    }
   ],
   "source": [
    "train.head()"
   ]
  },
  {
   "cell_type": "code",
   "execution_count": 39,
   "metadata": {},
   "outputs": [
    {
     "output_type": "execute_result",
     "data": {
      "text/plain": [
       "                  id  a_count_combined  a_user_fer_count_delta_time  \\\n",
       "126350612  125780463                 3                            1   \n",
       "126350613  125780464                 1                            0   \n",
       "126350614  125780465                 3                            1   \n",
       "126350615  125780466                 3                            1   \n",
       "126350616  125780467                 0                            0   \n",
       "\n",
       "           a_user_fing_count_delta_time  a_user_fering_count_delta_time  \\\n",
       "126350612                             1                               1   \n",
       "126350613                             1                               0   \n",
       "126350614                             1                               1   \n",
       "126350615                             1                               1   \n",
       "126350616                             0                               0   \n",
       "\n",
       "           a_user_fing_count_mode  a_user_fer_count_mode  \\\n",
       "126350612                       1                      1   \n",
       "126350613                       1                      0   \n",
       "126350614                       1                      1   \n",
       "126350615                       1                      1   \n",
       "126350616                       0                      0   \n",
       "\n",
       "           a_user_fering_count_mode  \n",
       "126350612                         1  \n",
       "126350613                         0  \n",
       "126350614                         1  \n",
       "126350615                         1  \n",
       "126350616                         0  "
      ],
      "text/html": "<div>\n<style scoped>\n    .dataframe tbody tr th:only-of-type {\n        vertical-align: middle;\n    }\n\n    .dataframe tbody tr th {\n        vertical-align: top;\n    }\n\n    .dataframe thead th {\n        text-align: right;\n    }\n</style>\n<table border=\"1\" class=\"dataframe\">\n  <thead>\n    <tr style=\"text-align: right;\">\n      <th></th>\n      <th>id</th>\n      <th>a_count_combined</th>\n      <th>a_user_fer_count_delta_time</th>\n      <th>a_user_fing_count_delta_time</th>\n      <th>a_user_fering_count_delta_time</th>\n      <th>a_user_fing_count_mode</th>\n      <th>a_user_fer_count_mode</th>\n      <th>a_user_fering_count_mode</th>\n    </tr>\n  </thead>\n  <tbody>\n    <tr>\n      <th>126350612</th>\n      <td>125780463</td>\n      <td>3</td>\n      <td>1</td>\n      <td>1</td>\n      <td>1</td>\n      <td>1</td>\n      <td>1</td>\n      <td>1</td>\n    </tr>\n    <tr>\n      <th>126350613</th>\n      <td>125780464</td>\n      <td>1</td>\n      <td>0</td>\n      <td>1</td>\n      <td>0</td>\n      <td>1</td>\n      <td>0</td>\n      <td>0</td>\n    </tr>\n    <tr>\n      <th>126350614</th>\n      <td>125780465</td>\n      <td>3</td>\n      <td>1</td>\n      <td>1</td>\n      <td>1</td>\n      <td>1</td>\n      <td>1</td>\n      <td>1</td>\n    </tr>\n    <tr>\n      <th>126350615</th>\n      <td>125780466</td>\n      <td>3</td>\n      <td>1</td>\n      <td>1</td>\n      <td>1</td>\n      <td>1</td>\n      <td>1</td>\n      <td>1</td>\n    </tr>\n    <tr>\n      <th>126350616</th>\n      <td>125780467</td>\n      <td>0</td>\n      <td>0</td>\n      <td>0</td>\n      <td>0</td>\n      <td>0</td>\n      <td>0</td>\n      <td>0</td>\n    </tr>\n  </tbody>\n</table>\n</div>"
     },
     "metadata": {},
     "execution_count": 39
    }
   ],
   "source": [
    "dt = train[['id','a_count_combined','a_user_fer_count_delta_time','a_user_fing_count_delta_time','a_user_fering_count_delta_time','a_user_fing_count_mode','a_user_fer_count_mode','a_user_fering_count_mode']]\n",
    "dt = dt.sort_values( 'id' )\n",
    "dt = dt.reset_index( drop=True )\n",
    "save_memory( dt )\n",
    "dt.to_parquet( 'a_count_combined-final.parquet' )\n",
    "dt.tail(5)"
   ]
  },
  {
   "cell_type": "code",
   "execution_count": null,
   "metadata": {},
   "outputs": [],
   "source": []
  }
 ],
 "metadata": {
  "kernelspec": {
   "name": "Python 3.6.3 64-bit",
   "display_name": "Python 3.6.3 64-bit",
   "metadata": {
    "interpreter": {
     "hash": "aee8b7b246df8f9039afb4144a1f6fd8d2ca17a180786b69acc140d282b71a49"
    }
   }
  },
  "language_info": {
   "codemirror_mode": {
    "name": "ipython",
    "version": 3
   },
   "file_extension": ".py",
   "mimetype": "text/x-python",
   "name": "python",
   "nbconvert_exporter": "python",
   "pygments_lexer": "ipython3",
   "version": "3.6.3-final"
  }
 },
 "nbformat": 4,
 "nbformat_minor": 4
}