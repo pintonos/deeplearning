{
 "cells": [
  {
   "cell_type": "markdown",
   "metadata": {},
   "source": [
    "Copyright (c) 2020, NVIDIA CORPORATION.\n",
    "Licensed under the Apache License, Version 2.0 (the \"License\");\n",
    "you may not use this file except in compliance with the License.\n",
    "You may obtain a copy of the License at\n",
    "    http://www.apache.org/licenses/LICENSE-2.0\n",
    "Unless required by applicable law or agreed to in writing, software\n",
    "distributed under the License is distributed on an \"AS IS\" BASIS,\n",
    "WITHOUT WARRANTIES OR CONDITIONS OF ANY KIND, either express or implied.\n",
    "See the License for the specific language governing permissions and\n",
    "limitations under the License."
   ]
  },
  {
   "cell_type": "code",
   "execution_count": 2,
   "metadata": {},
   "outputs": [],
   "source": [
    "import matplotlib.pyplot as plt\n",
    "%matplotlib inline  \n",
    "\n",
    "import pandas as pd\n",
    "import numpy as np\n",
    "import gc\n",
    "from tqdm.notebook import tqdm\n",
    "\n",
    "from transformers import *\n",
    "tokenizer = BertTokenizer.from_pretrained('bert-base-multilingual-cased', do_lower_case=False)"
   ]
  },
  {
   "cell_type": "code",
   "execution_count": 3,
   "metadata": {},
   "outputs": [
    {
     "output_type": "stream",
     "name": "stdout",
     "text": [
      "CPU times: user 7min 49s, sys: 38.4 s, total: 8min 27s\nWall time: 10min 20s\n"
     ]
    },
    {
     "output_type": "execute_result",
     "data": {
      "text/plain": [
       "                                         text_tokens  id\n",
       "0  101\\t1894\\t47271\\t11369\\t82791\\t39675\\t34065\\t...   0\n",
       "1  101\\t17607\\t11382\\t14444\\t10499\\t17025\\t10854\\...   1\n",
       "2  101\\t21333\\t34755\\t20338\\t19554\\t90582\\t42588\\...   2\n",
       "3  101\\t1910\\t11588\\t37311\\t89744\\t111791\\t15221\\...   3\n",
       "4  101\\t56898\\t137\\t38329\\t25285\\t13264\\t11447\\t5...   4"
      ],
      "text/html": "<div>\n<style scoped>\n    .dataframe tbody tr th:only-of-type {\n        vertical-align: middle;\n    }\n\n    .dataframe tbody tr th {\n        vertical-align: top;\n    }\n\n    .dataframe thead th {\n        text-align: right;\n    }\n</style>\n<table border=\"1\" class=\"dataframe\">\n  <thead>\n    <tr style=\"text-align: right;\">\n      <th></th>\n      <th>text_tokens</th>\n      <th>id</th>\n    </tr>\n  </thead>\n  <tbody>\n    <tr>\n      <th>0</th>\n      <td>101\\t1894\\t47271\\t11369\\t82791\\t39675\\t34065\\t...</td>\n      <td>0</td>\n    </tr>\n    <tr>\n      <th>1</th>\n      <td>101\\t17607\\t11382\\t14444\\t10499\\t17025\\t10854\\...</td>\n      <td>1</td>\n    </tr>\n    <tr>\n      <th>2</th>\n      <td>101\\t21333\\t34755\\t20338\\t19554\\t90582\\t42588\\...</td>\n      <td>2</td>\n    </tr>\n    <tr>\n      <th>3</th>\n      <td>101\\t1910\\t11588\\t37311\\t89744\\t111791\\t15221\\...</td>\n      <td>3</td>\n    </tr>\n    <tr>\n      <th>4</th>\n      <td>101\\t56898\\t137\\t38329\\t25285\\t13264\\t11447\\t5...</td>\n      <td>4</td>\n    </tr>\n  </tbody>\n</table>\n</div>"
     },
     "metadata": {},
     "execution_count": 3
    }
   ],
   "source": [
    "%%time\n",
    "df = pd.read_csv('/home/pinto/training.tsv', sep='\\x01', header=None, usecols=[0] )\n",
    "df.columns = ['text_tokens']\n",
    "df['id']   = np.arange( df.shape[0] )\n",
    "df['id']   = df['id'].astype(np.uint32)\n",
    "gc.collect()\n",
    "df.head()"
   ]
  },
  {
   "cell_type": "code",
   "execution_count": 4,
   "metadata": {},
   "outputs": [
    {
     "output_type": "display_data",
     "data": {
      "text/plain": "HBox(children=(HTML(value=''), FloatProgress(value=0.0, max=106254462.0), HTML(value='')))",
      "application/vnd.jupyter.widget-view+json": {
       "version_major": 2,
       "version_minor": 0,
       "model_id": "44436b6820a941fc911ee016ccc9b7a2"
      }
     },
     "metadata": {}
    },
    {
     "output_type": "stream",
     "name": "stdout",
     "text": [
      "\n",
      "CPU times: user 2h 34min 24s, sys: 1min 21s, total: 2h 35min 45s\n",
      "Wall time: 2h 34min 53s\n"
     ]
    },
    {
     "output_type": "execute_result",
     "data": {
      "text/plain": [
       "15"
      ]
     },
     "metadata": {},
     "execution_count": 4
    }
   ],
   "source": [
    "%%time\n",
    "df['tweet'] = [ tokenizer.decode( [ int(n) for n in t.split('\\t') ] ) for t in tqdm(df.text_tokens.values) ] \n",
    "gc.collect()"
   ]
  },
  {
   "cell_type": "code",
   "execution_count": 5,
   "metadata": {},
   "outputs": [
    {
     "output_type": "stream",
     "name": "stdout",
     "text": [
      "CPU times: user 3min 28s, sys: 14.5 s, total: 3min 42s\nWall time: 3min 42s\n"
     ]
    },
    {
     "output_type": "execute_result",
     "data": {
      "text/plain": [
       "                                         text_tokens  id  \\\n",
       "0  101\\t1894\\t47271\\t11369\\t82791\\t39675\\t34065\\t...   0   \n",
       "1  101\\t17607\\t11382\\t14444\\t10499\\t17025\\t10854\\...   1   \n",
       "2  101\\t21333\\t34755\\t20338\\t19554\\t90582\\t42588\\...   2   \n",
       "3  101\\t1910\\t11588\\t37311\\t89744\\t111791\\t15221\\...   3   \n",
       "4  101\\t56898\\t137\\t38329\\t25285\\t13264\\t11447\\t5...   4   \n",
       "\n",
       "                                               tweet  \n",
       "0  [CLS] 【 ALL JAPAN SINGLES TOP 20 】.. 〜 今 週 の１ ...  \n",
       "1  [CLS] Aonde eu deixo currículo pra isso? Hehe ...  \n",
       "2  [CLS] Bagaimanapun kondisi anda saat ini, berb...  \n",
       "3  [CLS] おはようございます 。 毎 日 twitterに 流 れてくる 各 国 のファン...  \n",
       "4  [CLS] RT @PiyushGoyal : Take a look at the bea...  "
      ],
      "text/html": "<div>\n<style scoped>\n    .dataframe tbody tr th:only-of-type {\n        vertical-align: middle;\n    }\n\n    .dataframe tbody tr th {\n        vertical-align: top;\n    }\n\n    .dataframe thead th {\n        text-align: right;\n    }\n</style>\n<table border=\"1\" class=\"dataframe\">\n  <thead>\n    <tr style=\"text-align: right;\">\n      <th></th>\n      <th>text_tokens</th>\n      <th>id</th>\n      <th>tweet</th>\n    </tr>\n  </thead>\n  <tbody>\n    <tr>\n      <th>0</th>\n      <td>101\\t1894\\t47271\\t11369\\t82791\\t39675\\t34065\\t...</td>\n      <td>0</td>\n      <td>[CLS] 【 ALL JAPAN SINGLES TOP 20 】.. 〜 今 週 の１ ...</td>\n    </tr>\n    <tr>\n      <th>1</th>\n      <td>101\\t17607\\t11382\\t14444\\t10499\\t17025\\t10854\\...</td>\n      <td>1</td>\n      <td>[CLS] Aonde eu deixo currículo pra isso? Hehe ...</td>\n    </tr>\n    <tr>\n      <th>2</th>\n      <td>101\\t21333\\t34755\\t20338\\t19554\\t90582\\t42588\\...</td>\n      <td>2</td>\n      <td>[CLS] Bagaimanapun kondisi anda saat ini, berb...</td>\n    </tr>\n    <tr>\n      <th>3</th>\n      <td>101\\t1910\\t11588\\t37311\\t89744\\t111791\\t15221\\...</td>\n      <td>3</td>\n      <td>[CLS] おはようございます 。 毎 日 twitterに 流 れてくる 各 国 のファン...</td>\n    </tr>\n    <tr>\n      <th>4</th>\n      <td>101\\t56898\\t137\\t38329\\t25285\\t13264\\t11447\\t5...</td>\n      <td>4</td>\n      <td>[CLS] RT @PiyushGoyal : Take a look at the bea...</td>\n    </tr>\n  </tbody>\n</table>\n</div>"
     },
     "metadata": {},
     "execution_count": 5
    }
   ],
   "source": [
    "%%time\n",
    "\n",
    "df['tweet'] = df['tweet'].apply( lambda x: x.replace('https : / / t. co / ', 'https://t.co/') )\n",
    "df['tweet'] = df['tweet'].apply( lambda x: x.replace('@ ', '@') )\n",
    "df.head()"
   ]
  },
  {
   "cell_type": "code",
   "execution_count": 6,
   "metadata": {},
   "outputs": [
    {
     "output_type": "stream",
     "name": "stdout",
     "text": [
      "106254462\n"
     ]
    }
   ],
   "source": [
    "df_size=df.shape[0]\n",
    "print(df_size)"
   ]
  },
  {
   "cell_type": "code",
   "execution_count": 7,
   "metadata": {},
   "outputs": [],
   "source": [
    "df.to_parquet( 'train-tweet-1.parquet' )"
   ]
  },
  {
   "cell_type": "code",
   "execution_count": 8,
   "metadata": {},
   "outputs": [
    {
     "output_type": "execute_result",
     "data": {
      "text/plain": [
       "18"
      ]
     },
     "metadata": {},
     "execution_count": 8
    }
   ],
   "source": [
    "gc.collect()\n",
    "#del df"
   ]
  },
  {
   "cell_type": "code",
   "execution_count": 9,
   "metadata": {},
   "outputs": [
    {
     "output_type": "stream",
     "name": "stdout",
     "text": [
      "CPU times: user 44 s, sys: 2.15 s, total: 46.2 s\nWall time: 1min\n"
     ]
    },
    {
     "output_type": "execute_result",
     "data": {
      "text/plain": [
       "                                         text_tokens         id\n",
       "0  101\\t10117\\t140\\t119\\t142\\t119\\t152\\t119\\t1010...  106254462\n",
       "1  101\\t10105\\t10817\\t10124\\t59232\\t18121\\t15629\\...  106254463\n",
       "2  101\\t48561\\t10116\\t67737\\t18554\\t36371\\t10989\\...  106254464\n",
       "3  101\\t100055\\t69940\\t10414\\t159\\t11305\\t11166\\t...  106254465\n",
       "4  101\\t62154\\t32221\\t71843\\t10143\\t10237\\t15507\\...  106254466"
      ],
      "text/html": "<div>\n<style scoped>\n    .dataframe tbody tr th:only-of-type {\n        vertical-align: middle;\n    }\n\n    .dataframe tbody tr th {\n        vertical-align: top;\n    }\n\n    .dataframe thead th {\n        text-align: right;\n    }\n</style>\n<table border=\"1\" class=\"dataframe\">\n  <thead>\n    <tr style=\"text-align: right;\">\n      <th></th>\n      <th>text_tokens</th>\n      <th>id</th>\n    </tr>\n  </thead>\n  <tbody>\n    <tr>\n      <th>0</th>\n      <td>101\\t10117\\t140\\t119\\t142\\t119\\t152\\t119\\t1010...</td>\n      <td>106254462</td>\n    </tr>\n    <tr>\n      <th>1</th>\n      <td>101\\t10105\\t10817\\t10124\\t59232\\t18121\\t15629\\...</td>\n      <td>106254463</td>\n    </tr>\n    <tr>\n      <th>2</th>\n      <td>101\\t48561\\t10116\\t67737\\t18554\\t36371\\t10989\\...</td>\n      <td>106254464</td>\n    </tr>\n    <tr>\n      <th>3</th>\n      <td>101\\t100055\\t69940\\t10414\\t159\\t11305\\t11166\\t...</td>\n      <td>106254465</td>\n    </tr>\n    <tr>\n      <th>4</th>\n      <td>101\\t62154\\t32221\\t71843\\t10143\\t10237\\t15507\\...</td>\n      <td>106254466</td>\n    </tr>\n  </tbody>\n</table>\n</div>"
     },
     "metadata": {},
     "execution_count": 9
    }
   ],
   "source": [
    "%%time\n",
    "dv = pd.read_csv('/home/pinto/val.tsv', sep='\\x01', header=None, usecols=[0] )\n",
    "dv.columns = ['text_tokens']\n",
    "dv['id']   = np.arange( df_size , df_size+dv.shape[0] ) \n",
    "dv['id']   = dv['id'].astype(np.uint32)\n",
    "gc.collect()\n",
    "dv.head()"
   ]
  },
  {
   "cell_type": "code",
   "execution_count": 10,
   "metadata": {},
   "outputs": [
    {
     "output_type": "display_data",
     "data": {
      "text/plain": "HBox(children=(HTML(value=''), FloatProgress(value=0.0, max=9760684.0), HTML(value='')))",
      "application/vnd.jupyter.widget-view+json": {
       "version_major": 2,
       "version_minor": 0,
       "model_id": "bb36fa1fc14b4b0d8428e63a7e1958f2"
      }
     },
     "metadata": {}
    },
    {
     "output_type": "stream",
     "name": "stdout",
     "text": [
      "\n",
      "CPU times: user 14min 20s, sys: 6.24 s, total: 14min 26s\n",
      "Wall time: 14min 20s\n"
     ]
    },
    {
     "output_type": "execute_result",
     "data": {
      "text/plain": [
       "15"
      ]
     },
     "metadata": {},
     "execution_count": 10
    }
   ],
   "source": [
    "%%time\n",
    "dv['tweet'] = [ tokenizer.decode( [ int(n) for n in t.split('\\t') ] ) for t in tqdm(dv.text_tokens.values) ] \n",
    "gc.collect()"
   ]
  },
  {
   "cell_type": "code",
   "execution_count": 11,
   "metadata": {},
   "outputs": [
    {
     "output_type": "stream",
     "name": "stdout",
     "text": [
      "CPU times: user 21.3 s, sys: 596 ms, total: 21.9 s\nWall time: 21.9 s\n"
     ]
    },
    {
     "output_type": "execute_result",
     "data": {
      "text/plain": [
       "                                         text_tokens         id  \\\n",
       "0  101\\t10117\\t140\\t119\\t142\\t119\\t152\\t119\\t1010...  106254462   \n",
       "1  101\\t10105\\t10817\\t10124\\t59232\\t18121\\t15629\\...  106254463   \n",
       "2  101\\t48561\\t10116\\t67737\\t18554\\t36371\\t10989\\...  106254464   \n",
       "3  101\\t100055\\t69940\\t10414\\t159\\t11305\\t11166\\t...  106254465   \n",
       "4  101\\t62154\\t32221\\t71843\\t10143\\t10237\\t15507\\...  106254466   \n",
       "\n",
       "                                               tweet  \n",
       "0  [CLS] The C. E. O. of Acronym, the tech consul...  \n",
       "1         [CLS] the man is literally barking.. [SEP]  \n",
       "2  [CLS] Usai juara dunia enam tahun lalu, timnas...  \n",
       "3  [CLS] Här hör ni V75 - podden med Niclas och E...  \n",
       "4  [CLS] Bursa trfr dah ditutup, lo ngapain @juve...  "
      ],
      "text/html": "<div>\n<style scoped>\n    .dataframe tbody tr th:only-of-type {\n        vertical-align: middle;\n    }\n\n    .dataframe tbody tr th {\n        vertical-align: top;\n    }\n\n    .dataframe thead th {\n        text-align: right;\n    }\n</style>\n<table border=\"1\" class=\"dataframe\">\n  <thead>\n    <tr style=\"text-align: right;\">\n      <th></th>\n      <th>text_tokens</th>\n      <th>id</th>\n      <th>tweet</th>\n    </tr>\n  </thead>\n  <tbody>\n    <tr>\n      <th>0</th>\n      <td>101\\t10117\\t140\\t119\\t142\\t119\\t152\\t119\\t1010...</td>\n      <td>106254462</td>\n      <td>[CLS] The C. E. O. of Acronym, the tech consul...</td>\n    </tr>\n    <tr>\n      <th>1</th>\n      <td>101\\t10105\\t10817\\t10124\\t59232\\t18121\\t15629\\...</td>\n      <td>106254463</td>\n      <td>[CLS] the man is literally barking.. [SEP]</td>\n    </tr>\n    <tr>\n      <th>2</th>\n      <td>101\\t48561\\t10116\\t67737\\t18554\\t36371\\t10989\\...</td>\n      <td>106254464</td>\n      <td>[CLS] Usai juara dunia enam tahun lalu, timnas...</td>\n    </tr>\n    <tr>\n      <th>3</th>\n      <td>101\\t100055\\t69940\\t10414\\t159\\t11305\\t11166\\t...</td>\n      <td>106254465</td>\n      <td>[CLS] Här hör ni V75 - podden med Niclas och E...</td>\n    </tr>\n    <tr>\n      <th>4</th>\n      <td>101\\t62154\\t32221\\t71843\\t10143\\t10237\\t15507\\...</td>\n      <td>106254466</td>\n      <td>[CLS] Bursa trfr dah ditutup, lo ngapain @juve...</td>\n    </tr>\n  </tbody>\n</table>\n</div>"
     },
     "metadata": {},
     "execution_count": 11
    }
   ],
   "source": [
    "%%time\n",
    "dv['tweet'] = dv['tweet'].apply( lambda x: x.replace('https : / / t. co / ', 'https://t.co/') )\n",
    "dv['tweet'] = dv['tweet'].apply( lambda x: x.replace('@ ', '@') )\n",
    "dv.head()"
   ]
  },
  {
   "cell_type": "code",
   "execution_count": 12,
   "metadata": {},
   "outputs": [],
   "source": [
    "dv.to_parquet( 'valid-tweet-1.parquet' )"
   ]
  },
  {
   "cell_type": "code",
   "execution_count": 13,
   "metadata": {},
   "outputs": [
    {
     "output_type": "stream",
     "name": "stdout",
     "text": [
      "CPU times: user 43.7 s, sys: 2.92 s, total: 46.6 s\nWall time: 1min 5s\n"
     ]
    },
    {
     "output_type": "execute_result",
     "data": {
      "text/plain": [
       "                                         text_tokens         id\n",
       "0  101\\t3100\\t5477\\t3028\\t4348\\t1924\\t111806\\t186...  116015146\n",
       "1  101\\t56898\\t137\\t36110\\t10400\\t168\\t64062\\t131...  116015147\n",
       "2  101\\t10117\\t23672\\t12610\\t86532\\t11205\\t90138\\...  116015148\n",
       "3  101\\t13690\\t14372\\t119\\t119\\t19281\\t25444\\t984...  116015149\n",
       "4  101\\t56898\\t137\\t171\\t64791\\t168\\t11499\\t10330...  116015150"
      ],
      "text/html": "<div>\n<style scoped>\n    .dataframe tbody tr th:only-of-type {\n        vertical-align: middle;\n    }\n\n    .dataframe tbody tr th {\n        vertical-align: top;\n    }\n\n    .dataframe thead th {\n        text-align: right;\n    }\n</style>\n<table border=\"1\" class=\"dataframe\">\n  <thead>\n    <tr style=\"text-align: right;\">\n      <th></th>\n      <th>text_tokens</th>\n      <th>id</th>\n    </tr>\n  </thead>\n  <tbody>\n    <tr>\n      <th>0</th>\n      <td>101\\t3100\\t5477\\t3028\\t4348\\t1924\\t111806\\t186...</td>\n      <td>116015146</td>\n    </tr>\n    <tr>\n      <th>1</th>\n      <td>101\\t56898\\t137\\t36110\\t10400\\t168\\t64062\\t131...</td>\n      <td>116015147</td>\n    </tr>\n    <tr>\n      <th>2</th>\n      <td>101\\t10117\\t23672\\t12610\\t86532\\t11205\\t90138\\...</td>\n      <td>116015148</td>\n    </tr>\n    <tr>\n      <th>3</th>\n      <td>101\\t13690\\t14372\\t119\\t119\\t19281\\t25444\\t984...</td>\n      <td>116015149</td>\n    </tr>\n    <tr>\n      <th>4</th>\n      <td>101\\t56898\\t137\\t171\\t64791\\t168\\t11499\\t10330...</td>\n      <td>116015150</td>\n    </tr>\n  </tbody>\n</table>\n</div>"
     },
     "metadata": {},
     "execution_count": 13
    }
   ],
   "source": [
    "%%time\n",
    "dt = pd.read_csv('/home/pinto/test.tsv', sep='\\x01', header=None, usecols=[0] )\n",
    "dt.columns = ['text_tokens']\n",
    "dt['id']   = np.arange( df_size+dv.shape[0], df_size+dv.shape[0]+dt.shape[0] )\n",
    "dt['id']   = dt['id'].astype(np.uint32)\n",
    "gc.collect()\n",
    "dt.head()"
   ]
  },
  {
   "cell_type": "code",
   "execution_count": 14,
   "metadata": {},
   "outputs": [
    {
     "output_type": "display_data",
     "data": {
      "text/plain": "HBox(children=(HTML(value=''), FloatProgress(value=0.0, max=9765321.0), HTML(value='')))",
      "application/vnd.jupyter.widget-view+json": {
       "version_major": 2,
       "version_minor": 0,
       "model_id": "bac0515fe1614a5eb3f62950bfb1cfd5"
      }
     },
     "metadata": {}
    },
    {
     "output_type": "stream",
     "name": "stdout",
     "text": [
      "\n",
      "CPU times: user 14min 13s, sys: 6.31 s, total: 14min 19s\n",
      "Wall time: 14min 15s\n"
     ]
    },
    {
     "output_type": "execute_result",
     "data": {
      "text/plain": [
       "15"
      ]
     },
     "metadata": {},
     "execution_count": 14
    }
   ],
   "source": [
    "%%time\n",
    "dt['tweet'] = [ tokenizer.decode( [ int(n) for n in t.split('\\t') ] ) for t in tqdm(dt.text_tokens.values) ] \n",
    "gc.collect()"
   ]
  },
  {
   "cell_type": "code",
   "execution_count": 15,
   "metadata": {},
   "outputs": [
    {
     "output_type": "stream",
     "name": "stdout",
     "text": [
      "CPU times: user 20.8 s, sys: 724 ms, total: 21.5 s\nWall time: 21.5 s\n"
     ]
    },
    {
     "output_type": "execute_result",
     "data": {
      "text/plain": [
       "                                         text_tokens         id  \\\n",
       "0  101\\t3100\\t5477\\t3028\\t4348\\t1924\\t111806\\t186...  116015146   \n",
       "1  101\\t56898\\t137\\t36110\\t10400\\t168\\t64062\\t131...  116015147   \n",
       "2  101\\t10117\\t23672\\t12610\\t86532\\t11205\\t90138\\...  116015148   \n",
       "3  101\\t13690\\t14372\\t119\\t119\\t19281\\t25444\\t984...  116015149   \n",
       "4  101\\t56898\\t137\\t171\\t64791\\t168\\t11499\\t10330...  116015150   \n",
       "\n",
       "                                               tweet  \n",
       "0  [CLS] 埼 玉 土 日 じゃん ！. 行 けないこともないか... ？ [UNK]. え...  \n",
       "1  [CLS] RT @meanie _ ark : いいね ・ RTでそれぞれポイントになるみ...  \n",
       "2  [CLS] The Evolution Of Adidas Predators ( via ...  \n",
       "3  [CLS] Special edition.. Democratic Kampuchea. ...  \n",
       "4  [CLS] RT @click _ burgundy : ＃ 一 日 一 描 ＃ ミンサガ ...  "
      ],
      "text/html": "<div>\n<style scoped>\n    .dataframe tbody tr th:only-of-type {\n        vertical-align: middle;\n    }\n\n    .dataframe tbody tr th {\n        vertical-align: top;\n    }\n\n    .dataframe thead th {\n        text-align: right;\n    }\n</style>\n<table border=\"1\" class=\"dataframe\">\n  <thead>\n    <tr style=\"text-align: right;\">\n      <th></th>\n      <th>text_tokens</th>\n      <th>id</th>\n      <th>tweet</th>\n    </tr>\n  </thead>\n  <tbody>\n    <tr>\n      <th>0</th>\n      <td>101\\t3100\\t5477\\t3028\\t4348\\t1924\\t111806\\t186...</td>\n      <td>116015146</td>\n      <td>[CLS] 埼 玉 土 日 じゃん ！. 行 けないこともないか... ？ [UNK]. え...</td>\n    </tr>\n    <tr>\n      <th>1</th>\n      <td>101\\t56898\\t137\\t36110\\t10400\\t168\\t64062\\t131...</td>\n      <td>116015147</td>\n      <td>[CLS] RT @meanie _ ark : いいね ・ RTでそれぞれポイントになるみ...</td>\n    </tr>\n    <tr>\n      <th>2</th>\n      <td>101\\t10117\\t23672\\t12610\\t86532\\t11205\\t90138\\...</td>\n      <td>116015148</td>\n      <td>[CLS] The Evolution Of Adidas Predators ( via ...</td>\n    </tr>\n    <tr>\n      <th>3</th>\n      <td>101\\t13690\\t14372\\t119\\t119\\t19281\\t25444\\t984...</td>\n      <td>116015149</td>\n      <td>[CLS] Special edition.. Democratic Kampuchea. ...</td>\n    </tr>\n    <tr>\n      <th>4</th>\n      <td>101\\t56898\\t137\\t171\\t64791\\t168\\t11499\\t10330...</td>\n      <td>116015150</td>\n      <td>[CLS] RT @click _ burgundy : ＃ 一 日 一 描 ＃ ミンサガ ...</td>\n    </tr>\n  </tbody>\n</table>\n</div>"
     },
     "metadata": {},
     "execution_count": 15
    }
   ],
   "source": [
    "%%time\n",
    "dt['tweet'] = dt['tweet'].apply( lambda x: x.replace('https : / / t. co / ', 'https://t.co/') )\n",
    "dt['tweet'] = dt['tweet'].apply( lambda x: x.replace('@ ', '@') )\n",
    "\n",
    "dt.head()"
   ]
  },
  {
   "cell_type": "code",
   "execution_count": 16,
   "metadata": {},
   "outputs": [],
   "source": [
    "dt.to_parquet( 'test-tweet-1.parquet' )"
   ]
  }
 ],
 "metadata": {
  "kernelspec": {
   "name": "python3",
   "display_name": "Python 3.6.3 64-bit",
   "metadata": {
    "interpreter": {
     "hash": "aee8b7b246df8f9039afb4144a1f6fd8d2ca17a180786b69acc140d282b71a49"
    }
   }
  },
  "language_info": {
   "codemirror_mode": {
    "name": "ipython",
    "version": 3
   },
   "file_extension": ".py",
   "mimetype": "text/x-python",
   "name": "python",
   "nbconvert_exporter": "python",
   "pygments_lexer": "ipython3",
   "version": "3.6.3-final"
  }
 },
 "nbformat": 4,
 "nbformat_minor": 4
}