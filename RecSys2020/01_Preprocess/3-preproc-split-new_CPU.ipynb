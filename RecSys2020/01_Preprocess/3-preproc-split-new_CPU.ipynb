{
 "cells": [
  {
   "cell_type": "markdown",
   "metadata": {},
   "source": [
    "Copyright (c) 2020, NVIDIA CORPORATION.\n",
    "Licensed under the Apache License, Version 2.0 (the \"License\");\n",
    "you may not use this file except in compliance with the License.\n",
    "You may obtain a copy of the License at\n",
    "    http://www.apache.org/licenses/LICENSE-2.0\n",
    "Unless required by applicable law or agreed to in writing, software\n",
    "distributed under the License is distributed on an \"AS IS\" BASIS,\n",
    "WITHOUT WARRANTIES OR CONDITIONS OF ANY KIND, either express or implied.\n",
    "See the License for the specific language governing permissions and\n",
    "limitations under the License."
   ]
  },
  {
   "cell_type": "code",
   "execution_count": 1,
   "metadata": {},
   "outputs": [],
   "source": [
    "import matplotlib.pyplot as plt\n",
    "%matplotlib inline  \n",
    "\n",
    "import pandas as pd\n",
    "import numpy as np\n",
    "import gc\n",
    "from tqdm.notebook import tqdm\n",
    "\n",
    "from transformers import *\n",
    "tokenizer = BertTokenizer.from_pretrained('bert-base-multilingual-cased', do_lower_case=False)"
   ]
  },
  {
   "cell_type": "code",
   "execution_count": 2,
   "metadata": {},
   "outputs": [
    {
     "output_type": "stream",
     "name": "stdout",
     "text": [
      "CPU times: user 7min 56s, sys: 50.5 s, total: 8min 47s\nWall time: 15min 2s\n"
     ]
    },
    {
     "output_type": "execute_result",
     "data": {
      "text/plain": [
       "                                         text_tokens  id\n",
       "0  101\\t1894\\t47271\\t11369\\t82791\\t39675\\t34065\\t...   0\n",
       "1  101\\t17607\\t11382\\t14444\\t10499\\t17025\\t10854\\...   1\n",
       "2  101\\t21333\\t34755\\t20338\\t19554\\t90582\\t42588\\...   2\n",
       "3  101\\t1910\\t11588\\t37311\\t89744\\t111791\\t15221\\...   3\n",
       "4  101\\t56898\\t137\\t38329\\t25285\\t13264\\t11447\\t5...   4"
      ],
      "text/html": "<div>\n<style scoped>\n    .dataframe tbody tr th:only-of-type {\n        vertical-align: middle;\n    }\n\n    .dataframe tbody tr th {\n        vertical-align: top;\n    }\n\n    .dataframe thead th {\n        text-align: right;\n    }\n</style>\n<table border=\"1\" class=\"dataframe\">\n  <thead>\n    <tr style=\"text-align: right;\">\n      <th></th>\n      <th>text_tokens</th>\n      <th>id</th>\n    </tr>\n  </thead>\n  <tbody>\n    <tr>\n      <th>0</th>\n      <td>101\\t1894\\t47271\\t11369\\t82791\\t39675\\t34065\\t...</td>\n      <td>0</td>\n    </tr>\n    <tr>\n      <th>1</th>\n      <td>101\\t17607\\t11382\\t14444\\t10499\\t17025\\t10854\\...</td>\n      <td>1</td>\n    </tr>\n    <tr>\n      <th>2</th>\n      <td>101\\t21333\\t34755\\t20338\\t19554\\t90582\\t42588\\...</td>\n      <td>2</td>\n    </tr>\n    <tr>\n      <th>3</th>\n      <td>101\\t1910\\t11588\\t37311\\t89744\\t111791\\t15221\\...</td>\n      <td>3</td>\n    </tr>\n    <tr>\n      <th>4</th>\n      <td>101\\t56898\\t137\\t38329\\t25285\\t13264\\t11447\\t5...</td>\n      <td>4</td>\n    </tr>\n  </tbody>\n</table>\n</div>"
     },
     "metadata": {},
     "execution_count": 2
    }
   ],
   "source": [
    "%%time\n",
    "df = pd.read_csv('/home/pinto/training.tsv', sep='\\x01', header=None, usecols=[0] )\n",
    "df.columns = ['text_tokens']\n",
    "df['id']   = np.arange( df.shape[0] )\n",
    "df['id']   = df['id'].astype(np.uint32)\n",
    "gc.collect()\n",
    "df.head()"
   ]
  },
  {
   "cell_type": "code",
   "execution_count": 3,
   "metadata": {},
   "outputs": [
    {
     "output_type": "display_data",
     "data": {
      "text/plain": "HBox(children=(HTML(value=''), FloatProgress(value=0.0, max=106254462.0), HTML(value='')))",
      "application/vnd.jupyter.widget-view+json": {
       "version_major": 2,
       "version_minor": 0,
       "model_id": "781530c793604d7683ff184b5c461496"
      }
     },
     "metadata": {}
    },
    {
     "output_type": "stream",
     "name": "stdout",
     "text": [
      "\n",
      "CPU times: user 2h 32min 33s, sys: 1min 23s, total: 2h 33min 57s\n",
      "Wall time: 2h 32min 59s\n"
     ]
    },
    {
     "output_type": "execute_result",
     "data": {
      "text/plain": [
       "15"
      ]
     },
     "metadata": {},
     "execution_count": 3
    }
   ],
   "source": [
    "%%time\n",
    "df['tweet'] = [ tokenizer.decode( [ int(n) for n in t.split('\\t') ] ) for t in tqdm(df.text_tokens.values) ] \n",
    "gc.collect()"
   ]
  },
  {
   "cell_type": "code",
   "execution_count": 4,
   "metadata": {},
   "outputs": [
    {
     "output_type": "stream",
     "name": "stdout",
     "text": [
      "CPU times: user 3min 27s, sys: 14.4 s, total: 3min 41s\nWall time: 3min 41s\n"
     ]
    },
    {
     "output_type": "execute_result",
     "data": {
      "text/plain": [
       "                                         text_tokens  id  \\\n",
       "0  101\\t1894\\t47271\\t11369\\t82791\\t39675\\t34065\\t...   0   \n",
       "1  101\\t17607\\t11382\\t14444\\t10499\\t17025\\t10854\\...   1   \n",
       "2  101\\t21333\\t34755\\t20338\\t19554\\t90582\\t42588\\...   2   \n",
       "3  101\\t1910\\t11588\\t37311\\t89744\\t111791\\t15221\\...   3   \n",
       "4  101\\t56898\\t137\\t38329\\t25285\\t13264\\t11447\\t5...   4   \n",
       "\n",
       "                                               tweet  \n",
       "0  [CLS] 【 ALL JAPAN SINGLES TOP 20 】.. 〜 今 週 の１ ...  \n",
       "1  [CLS] Aonde eu deixo currículo pra isso? Hehe ...  \n",
       "2  [CLS] Bagaimanapun kondisi anda saat ini, berb...  \n",
       "3  [CLS] おはようございます 。 毎 日 twitterに 流 れてくる 各 国 のファン...  \n",
       "4  [CLS] RT @PiyushGoyal : Take a look at the bea...  "
      ],
      "text/html": "<div>\n<style scoped>\n    .dataframe tbody tr th:only-of-type {\n        vertical-align: middle;\n    }\n\n    .dataframe tbody tr th {\n        vertical-align: top;\n    }\n\n    .dataframe thead th {\n        text-align: right;\n    }\n</style>\n<table border=\"1\" class=\"dataframe\">\n  <thead>\n    <tr style=\"text-align: right;\">\n      <th></th>\n      <th>text_tokens</th>\n      <th>id</th>\n      <th>tweet</th>\n    </tr>\n  </thead>\n  <tbody>\n    <tr>\n      <th>0</th>\n      <td>101\\t1894\\t47271\\t11369\\t82791\\t39675\\t34065\\t...</td>\n      <td>0</td>\n      <td>[CLS] 【 ALL JAPAN SINGLES TOP 20 】.. 〜 今 週 の１ ...</td>\n    </tr>\n    <tr>\n      <th>1</th>\n      <td>101\\t17607\\t11382\\t14444\\t10499\\t17025\\t10854\\...</td>\n      <td>1</td>\n      <td>[CLS] Aonde eu deixo currículo pra isso? Hehe ...</td>\n    </tr>\n    <tr>\n      <th>2</th>\n      <td>101\\t21333\\t34755\\t20338\\t19554\\t90582\\t42588\\...</td>\n      <td>2</td>\n      <td>[CLS] Bagaimanapun kondisi anda saat ini, berb...</td>\n    </tr>\n    <tr>\n      <th>3</th>\n      <td>101\\t1910\\t11588\\t37311\\t89744\\t111791\\t15221\\...</td>\n      <td>3</td>\n      <td>[CLS] おはようございます 。 毎 日 twitterに 流 れてくる 各 国 のファン...</td>\n    </tr>\n    <tr>\n      <th>4</th>\n      <td>101\\t56898\\t137\\t38329\\t25285\\t13264\\t11447\\t5...</td>\n      <td>4</td>\n      <td>[CLS] RT @PiyushGoyal : Take a look at the bea...</td>\n    </tr>\n  </tbody>\n</table>\n</div>"
     },
     "metadata": {},
     "execution_count": 4
    }
   ],
   "source": [
    "%%time\n",
    "\n",
    "df['tweet'] = df['tweet'].apply( lambda x: x.replace('https : / / t. co / ', 'https://t.co/') )\n",
    "df['tweet'] = df['tweet'].apply( lambda x: x.replace('@ ', '@') )\n",
    "df.head()"
   ]
  },
  {
   "cell_type": "code",
   "execution_count": 5,
   "metadata": {},
   "outputs": [
    {
     "output_type": "stream",
     "name": "stdout",
     "text": [
      "106254462\n"
     ]
    }
   ],
   "source": [
    "df_size=df.shape[0]\n",
    "print(df_size)"
   ]
  },
  {
   "cell_type": "code",
   "execution_count": 6,
   "metadata": {},
   "outputs": [],
   "source": [
    "df.to_parquet( 'train-tweet-1.parquet' )"
   ]
  },
  {
   "cell_type": "code",
   "execution_count": 7,
   "metadata": {},
   "outputs": [
    {
     "output_type": "execute_result",
     "data": {
      "text/plain": [
       "18"
      ]
     },
     "metadata": {},
     "execution_count": 7
    }
   ],
   "source": [
    "gc.collect()\n",
    "#del df"
   ]
  },
  {
   "cell_type": "code",
   "execution_count": 8,
   "metadata": {},
   "outputs": [
    {
     "output_type": "stream",
     "name": "stdout",
     "text": [
      "CPU times: user 44.8 s, sys: 2.36 s, total: 47.1 s\nWall time: 1min 5s\n"
     ]
    },
    {
     "output_type": "execute_result",
     "data": {
      "text/plain": [
       "                                         text_tokens         id\n",
       "0  101\\t10117\\t140\\t119\\t142\\t119\\t152\\t119\\t1010...  106254462\n",
       "1  101\\t10105\\t10817\\t10124\\t59232\\t18121\\t15629\\...  106254463\n",
       "2  101\\t48561\\t10116\\t67737\\t18554\\t36371\\t10989\\...  106254464\n",
       "3  101\\t100055\\t69940\\t10414\\t159\\t11305\\t11166\\t...  106254465\n",
       "4  101\\t62154\\t32221\\t71843\\t10143\\t10237\\t15507\\...  106254466"
      ],
      "text/html": "<div>\n<style scoped>\n    .dataframe tbody tr th:only-of-type {\n        vertical-align: middle;\n    }\n\n    .dataframe tbody tr th {\n        vertical-align: top;\n    }\n\n    .dataframe thead th {\n        text-align: right;\n    }\n</style>\n<table border=\"1\" class=\"dataframe\">\n  <thead>\n    <tr style=\"text-align: right;\">\n      <th></th>\n      <th>text_tokens</th>\n      <th>id</th>\n    </tr>\n  </thead>\n  <tbody>\n    <tr>\n      <th>0</th>\n      <td>101\\t10117\\t140\\t119\\t142\\t119\\t152\\t119\\t1010...</td>\n      <td>106254462</td>\n    </tr>\n    <tr>\n      <th>1</th>\n      <td>101\\t10105\\t10817\\t10124\\t59232\\t18121\\t15629\\...</td>\n      <td>106254463</td>\n    </tr>\n    <tr>\n      <th>2</th>\n      <td>101\\t48561\\t10116\\t67737\\t18554\\t36371\\t10989\\...</td>\n      <td>106254464</td>\n    </tr>\n    <tr>\n      <th>3</th>\n      <td>101\\t100055\\t69940\\t10414\\t159\\t11305\\t11166\\t...</td>\n      <td>106254465</td>\n    </tr>\n    <tr>\n      <th>4</th>\n      <td>101\\t62154\\t32221\\t71843\\t10143\\t10237\\t15507\\...</td>\n      <td>106254466</td>\n    </tr>\n  </tbody>\n</table>\n</div>"
     },
     "metadata": {},
     "execution_count": 8
    }
   ],
   "source": [
    "%%time\n",
    "dv = pd.read_csv('/home/pinto/val.tsv', sep='\\x01', header=None, usecols=[0] )\n",
    "dv.columns = ['text_tokens']\n",
    "dv['id']   = np.arange( df_size , df_size+dv.shape[0] ) \n",
    "dv['id']   = dv['id'].astype(np.uint32)\n",
    "gc.collect()\n",
    "dv.head()"
   ]
  },
  {
   "cell_type": "code",
   "execution_count": 10,
   "metadata": {},
   "outputs": [
    {
     "output_type": "display_data",
     "data": {
      "text/plain": "HBox(children=(HTML(value=''), FloatProgress(value=0.0, max=9760684.0), HTML(value='')))",
      "application/vnd.jupyter.widget-view+json": {
       "version_major": 2,
       "version_minor": 0,
       "model_id": "15aebd74d3bc481481bc67a3d017bf9f"
      }
     },
     "metadata": {}
    },
    {
     "output_type": "stream",
     "name": "stdout",
     "text": [
      "\n",
      "CPU times: user 14min 5s, sys: 7.05 s, total: 14min 12s\n",
      "Wall time: 14min 7s\n"
     ]
    },
    {
     "output_type": "execute_result",
     "data": {
      "text/plain": [
       "15"
      ]
     },
     "metadata": {},
     "execution_count": 10
    }
   ],
   "source": [
    "%%time\n",
    "dv['tweet'] = [ tokenizer.decode( [ int(n) for n in t.split('\\t') ] ) for t in tqdm(dv.text_tokens.values) ] \n",
    "gc.collect()"
   ]
  },
  {
   "cell_type": "code",
   "execution_count": 14,
   "metadata": {},
   "outputs": [
    {
     "output_type": "stream",
     "name": "stdout",
     "text": [
      "CPU times: user 18 s, sys: 340 ms, total: 18.4 s\nWall time: 18.4 s\n"
     ]
    },
    {
     "output_type": "execute_result",
     "data": {
      "text/plain": [
       "                                         text_tokens         id  \\\n",
       "0  101\\t10117\\t140\\t119\\t142\\t119\\t152\\t119\\t1010...  106254462   \n",
       "1  101\\t10105\\t10817\\t10124\\t59232\\t18121\\t15629\\...  106254463   \n",
       "2  101\\t48561\\t10116\\t67737\\t18554\\t36371\\t10989\\...  106254464   \n",
       "3  101\\t100055\\t69940\\t10414\\t159\\t11305\\t11166\\t...  106254465   \n",
       "4  101\\t62154\\t32221\\t71843\\t10143\\t10237\\t15507\\...  106254466   \n",
       "\n",
       "                                               tweet  \n",
       "0  [CLS] The C. E. O. of Acronym, the tech consul...  \n",
       "1         [CLS] the man is literally barking.. [SEP]  \n",
       "2  [CLS] Usai juara dunia enam tahun lalu, timnas...  \n",
       "3  [CLS] Här hör ni V75 - podden med Niclas och E...  \n",
       "4  [CLS] Bursa trfr dah ditutup, lo ngapain @juve...  "
      ],
      "text/html": "<div>\n<style scoped>\n    .dataframe tbody tr th:only-of-type {\n        vertical-align: middle;\n    }\n\n    .dataframe tbody tr th {\n        vertical-align: top;\n    }\n\n    .dataframe thead th {\n        text-align: right;\n    }\n</style>\n<table border=\"1\" class=\"dataframe\">\n  <thead>\n    <tr style=\"text-align: right;\">\n      <th></th>\n      <th>text_tokens</th>\n      <th>id</th>\n      <th>tweet</th>\n    </tr>\n  </thead>\n  <tbody>\n    <tr>\n      <th>0</th>\n      <td>101\\t10117\\t140\\t119\\t142\\t119\\t152\\t119\\t1010...</td>\n      <td>106254462</td>\n      <td>[CLS] The C. E. O. of Acronym, the tech consul...</td>\n    </tr>\n    <tr>\n      <th>1</th>\n      <td>101\\t10105\\t10817\\t10124\\t59232\\t18121\\t15629\\...</td>\n      <td>106254463</td>\n      <td>[CLS] the man is literally barking.. [SEP]</td>\n    </tr>\n    <tr>\n      <th>2</th>\n      <td>101\\t48561\\t10116\\t67737\\t18554\\t36371\\t10989\\...</td>\n      <td>106254464</td>\n      <td>[CLS] Usai juara dunia enam tahun lalu, timnas...</td>\n    </tr>\n    <tr>\n      <th>3</th>\n      <td>101\\t100055\\t69940\\t10414\\t159\\t11305\\t11166\\t...</td>\n      <td>106254465</td>\n      <td>[CLS] Här hör ni V75 - podden med Niclas och E...</td>\n    </tr>\n    <tr>\n      <th>4</th>\n      <td>101\\t62154\\t32221\\t71843\\t10143\\t10237\\t15507\\...</td>\n      <td>106254466</td>\n      <td>[CLS] Bursa trfr dah ditutup, lo ngapain @juve...</td>\n    </tr>\n  </tbody>\n</table>\n</div>"
     },
     "metadata": {},
     "execution_count": 14
    }
   ],
   "source": [
    "%%time\n",
    "dv['tweet'] = dv['tweet'].apply( lambda x: x.replace('https : / / t. co / ', 'https://t.co/') )\n",
    "dv['tweet'] = dv['tweet'].apply( lambda x: x.replace('@ ', '@') )\n",
    "dv.head()"
   ]
  },
  {
   "cell_type": "code",
   "execution_count": 15,
   "metadata": {},
   "outputs": [],
   "source": [
    "dv.to_parquet( 'valid-tweet-1.parquet' )"
   ]
  },
  {
   "cell_type": "code",
   "execution_count": null,
   "metadata": {},
   "outputs": [],
   "source": [
    "%%time\n",
    "dt = pd.read_csv('/home/pinto/test.tsv', sep='\\x01', header=None, usecols=[0] )\n",
    "dt.columns = ['text_tokens']\n",
    "dt['id']   = np.arange( df_size+dv.shape[0], df_size+dv.shape[0]+dt.shape[0] )\n",
    "dt['id']   = dt['id'].astype(np.uint32)\n",
    "gc.collect()\n",
    "dt.head()"
   ]
  },
  {
   "cell_type": "code",
   "execution_count": 11,
   "metadata": {},
   "outputs": [
    {
     "output_type": "display_data",
     "data": {
      "text/plain": "HBox(children=(HTML(value=''), FloatProgress(value=0.0, max=9765321.0), HTML(value='')))",
      "application/vnd.jupyter.widget-view+json": {
       "version_major": 2,
       "version_minor": 0,
       "model_id": "0611d33b31ee4a0da16ed666a75cb2ec"
      }
     },
     "metadata": {}
    },
    {
     "output_type": "error",
     "ename": "KeyboardInterrupt",
     "evalue": "",
     "traceback": [
      "\u001b[0;31m---------------------------------------------------------------------------\u001b[0m",
      "\u001b[0;31mKeyboardInterrupt\u001b[0m                         Traceback (most recent call last)",
      "\u001b[0;32m<timed exec>\u001b[0m in \u001b[0;36m<module>\u001b[0;34m\u001b[0m\n",
      "\u001b[0;32m<timed exec>\u001b[0m in \u001b[0;36m<listcomp>\u001b[0;34m(.0)\u001b[0m\n",
      "\u001b[0;32m/usr/local/lib/python3.6/site-packages/transformers/tokenization_utils.py\u001b[0m in \u001b[0;36mdecode\u001b[0;34m(self, token_ids, skip_special_tokens, clean_up_tokenization_spaces, spaces_between_special_tokens)\u001b[0m\n\u001b[1;32m    775\u001b[0m             \u001b[0;34m:\u001b[0m\u001b[0mobj\u001b[0m\u001b[0;34m:\u001b[0m\u001b[0;31m`\u001b[0m\u001b[0mstr\u001b[0m\u001b[0;31m`\u001b[0m\u001b[0;34m:\u001b[0m \u001b[0mThe\u001b[0m \u001b[0mdecoded\u001b[0m \u001b[0msentence\u001b[0m\u001b[0;34m.\u001b[0m\u001b[0;34m\u001b[0m\u001b[0m\n\u001b[1;32m    776\u001b[0m         \"\"\"\n\u001b[0;32m--> 777\u001b[0;31m         \u001b[0mfiltered_tokens\u001b[0m \u001b[0;34m=\u001b[0m \u001b[0mself\u001b[0m\u001b[0;34m.\u001b[0m\u001b[0mconvert_ids_to_tokens\u001b[0m\u001b[0;34m(\u001b[0m\u001b[0mtoken_ids\u001b[0m\u001b[0;34m,\u001b[0m \u001b[0mskip_special_tokens\u001b[0m\u001b[0;34m=\u001b[0m\u001b[0mskip_special_tokens\u001b[0m\u001b[0;34m)\u001b[0m\u001b[0;34m\u001b[0m\u001b[0m\n\u001b[0m\u001b[1;32m    778\u001b[0m \u001b[0;34m\u001b[0m\u001b[0m\n\u001b[1;32m    779\u001b[0m         \u001b[0;31m# To avoid mixing byte-level and unicode for byte-level BPT\u001b[0m\u001b[0;34m\u001b[0m\u001b[0;34m\u001b[0m\u001b[0m\n",
      "\u001b[0;32m/usr/local/lib/python3.6/site-packages/transformers/tokenization_utils.py\u001b[0m in \u001b[0;36mconvert_ids_to_tokens\u001b[0;34m(self, ids, skip_special_tokens)\u001b[0m\n\u001b[1;32m    721\u001b[0m         \u001b[0mtokens\u001b[0m \u001b[0;34m=\u001b[0m \u001b[0;34m[\u001b[0m\u001b[0;34m]\u001b[0m\u001b[0;34m\u001b[0m\u001b[0m\n\u001b[1;32m    722\u001b[0m         \u001b[0;32mfor\u001b[0m \u001b[0mindex\u001b[0m \u001b[0;32min\u001b[0m \u001b[0mids\u001b[0m\u001b[0;34m:\u001b[0m\u001b[0;34m\u001b[0m\u001b[0m\n\u001b[0;32m--> 723\u001b[0;31m             \u001b[0mindex\u001b[0m \u001b[0;34m=\u001b[0m \u001b[0mint\u001b[0m\u001b[0;34m(\u001b[0m\u001b[0mindex\u001b[0m\u001b[0;34m)\u001b[0m\u001b[0;34m\u001b[0m\u001b[0m\n\u001b[0m\u001b[1;32m    724\u001b[0m             \u001b[0;32mif\u001b[0m \u001b[0mskip_special_tokens\u001b[0m \u001b[0;32mand\u001b[0m \u001b[0mindex\u001b[0m \u001b[0;32min\u001b[0m \u001b[0mself\u001b[0m\u001b[0;34m.\u001b[0m\u001b[0mall_special_ids\u001b[0m\u001b[0;34m:\u001b[0m\u001b[0;34m\u001b[0m\u001b[0m\n\u001b[1;32m    725\u001b[0m                 \u001b[0;32mcontinue\u001b[0m\u001b[0;34m\u001b[0m\u001b[0m\n",
      "\u001b[0;31mKeyboardInterrupt\u001b[0m: "
     ]
    }
   ],
   "source": [
    "%%time\n",
    "dt['tweet'] = [ tokenizer.decode( [ int(n) for n in t.split('\\t') ] ) for t in tqdm(dt.text_tokens.values) ] \n",
    "gc.collect()"
   ]
  },
  {
   "cell_type": "code",
   "execution_count": 13,
   "metadata": {},
   "outputs": [
    {
     "name": "stdout",
     "output_type": "stream",
     "text": [
      "CPU times: user 21 s, sys: 276 ms, total: 21.2 s\n",
      "Wall time: 21.2 s\n"
     ]
    },
    {
     "data": {
      "text/html": [
       "<div>\n",
       "<style scoped>\n",
       "    .dataframe tbody tr th:only-of-type {\n",
       "        vertical-align: middle;\n",
       "    }\n",
       "\n",
       "    .dataframe tbody tr th {\n",
       "        vertical-align: top;\n",
       "    }\n",
       "\n",
       "    .dataframe thead th {\n",
       "        text-align: right;\n",
       "    }\n",
       "</style>\n",
       "<table border=\"1\" class=\"dataframe\">\n",
       "  <thead>\n",
       "    <tr style=\"text-align: right;\">\n",
       "      <th></th>\n",
       "      <th>text_tokens</th>\n",
       "      <th>id</th>\n",
       "      <th>tweet</th>\n",
       "    </tr>\n",
       "  </thead>\n",
       "  <tbody>\n",
       "    <tr>\n",
       "      <th>0</th>\n",
       "      <td>101\\t3100\\t5477\\t3028\\t4348\\t1924\\t111806\\t186...</td>\n",
       "      <td>163202922</td>\n",
       "      <td>[CLS] 埼 玉 土 日 じゃん ！. 行 けないこともないか... ？ [UNK]. え...</td>\n",
       "    </tr>\n",
       "    <tr>\n",
       "      <th>1</th>\n",
       "      <td>101\\t56898\\t137\\t36110\\t10400\\t168\\t64062\\t131...</td>\n",
       "      <td>163202923</td>\n",
       "      <td>[CLS] RT @meanie _ ark : いいね ・ RTでそれぞれポイントになるみ...</td>\n",
       "    </tr>\n",
       "    <tr>\n",
       "      <th>2</th>\n",
       "      <td>101\\t56898\\t137\\t179\\t36816\\t10775\\t40546\\t513...</td>\n",
       "      <td>163202924</td>\n",
       "      <td>[CLS] RT @kwonjiyongbabe : this vip be hanging...</td>\n",
       "    </tr>\n",
       "    <tr>\n",
       "      <th>3</th>\n",
       "      <td>101\\t56898\\t137\\t22038\\t40663\\t12892\\t45389\\t1...</td>\n",
       "      <td>163202925</td>\n",
       "      <td>[CLS] RT @massudessu13 : 너무좋아 [UNK].. # 박유천 ht...</td>\n",
       "    </tr>\n",
       "    <tr>\n",
       "      <th>4</th>\n",
       "      <td>101\\t56898\\t137\\t11699\\t10174\\t10738\\t37816\\t1...</td>\n",
       "      <td>163202926</td>\n",
       "      <td>[CLS] RT @AtkArena : Welcome to our new CS : G...</td>\n",
       "    </tr>\n",
       "  </tbody>\n",
       "</table>\n",
       "</div>"
      ],
      "text/plain": [
       "                                         text_tokens         id  \\\n",
       "0  101\\t3100\\t5477\\t3028\\t4348\\t1924\\t111806\\t186...  163202922   \n",
       "1  101\\t56898\\t137\\t36110\\t10400\\t168\\t64062\\t131...  163202923   \n",
       "2  101\\t56898\\t137\\t179\\t36816\\t10775\\t40546\\t513...  163202924   \n",
       "3  101\\t56898\\t137\\t22038\\t40663\\t12892\\t45389\\t1...  163202925   \n",
       "4  101\\t56898\\t137\\t11699\\t10174\\t10738\\t37816\\t1...  163202926   \n",
       "\n",
       "                                               tweet  \n",
       "0  [CLS] 埼 玉 土 日 じゃん ！. 行 けないこともないか... ？ [UNK]. え...  \n",
       "1  [CLS] RT @meanie _ ark : いいね ・ RTでそれぞれポイントになるみ...  \n",
       "2  [CLS] RT @kwonjiyongbabe : this vip be hanging...  \n",
       "3  [CLS] RT @massudessu13 : 너무좋아 [UNK].. # 박유천 ht...  \n",
       "4  [CLS] RT @AtkArena : Welcome to our new CS : G...  "
      ]
     },
     "execution_count": 13,
     "metadata": {},
     "output_type": "execute_result"
    }
   ],
   "source": [
    "%%time\n",
    "dt['tweet'] = dt['tweet'].apply( lambda x: x.replace('https : / / t. co / ', 'https://t.co/') )\n",
    "dt['tweet'] = dt['tweet'].apply( lambda x: x.replace('@ ', '@') )\n",
    "\n",
    "dt.head()"
   ]
  },
  {
   "cell_type": "code",
   "execution_count": 14,
   "metadata": {},
   "outputs": [],
   "source": [
    "dt.to_parquet( 'test-tweet-1.parquet' )"
   ]
  }
 ],
 "metadata": {
  "kernelspec": {
   "name": "Python 3.6.3 64-bit",
   "display_name": "Python 3.6.3 64-bit",
   "metadata": {
    "interpreter": {
     "hash": "aee8b7b246df8f9039afb4144a1f6fd8d2ca17a180786b69acc140d282b71a49"
    }
   }
  },
  "language_info": {
   "codemirror_mode": {
    "name": "ipython",
    "version": 3
   },
   "file_extension": ".py",
   "mimetype": "text/x-python",
   "name": "python",
   "nbconvert_exporter": "python",
   "pygments_lexer": "ipython3",
   "version": "3.6.3-final"
  }
 },
 "nbformat": 4,
 "nbformat_minor": 4
}